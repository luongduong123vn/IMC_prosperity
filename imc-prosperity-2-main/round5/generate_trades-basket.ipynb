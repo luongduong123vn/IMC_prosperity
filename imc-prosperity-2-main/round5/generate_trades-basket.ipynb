{
 "cells": [
  {
   "cell_type": "code",
   "execution_count": 67,
   "id": "5d71a92e",
   "metadata": {
    "ExecuteTime": {
     "end_time": "2024-04-24T23:10:48.542891Z",
     "start_time": "2024-04-24T23:10:48.536993Z"
    }
   },
   "outputs": [],
   "source": [
    "import pandas as pd \n",
    "import io \n",
    "import json\n",
    "pd.options.display.max_rows = 200"
   ]
  },
  {
   "cell_type": "markdown",
   "id": "ff8a7ed4",
   "metadata": {},
   "source": [
    "# helpers"
   ]
  },
  {
   "cell_type": "code",
   "execution_count": 68,
   "id": "17b7baaa",
   "metadata": {
    "ExecuteTime": {
     "end_time": "2024-04-24T23:10:48.965439Z",
     "start_time": "2024-04-24T23:10:48.959227Z"
    }
   },
   "outputs": [],
   "source": [
    "def _process_data_(file):\n",
    "    with open(file, 'r') as file:\n",
    "        log_content = file.read()\n",
    "    sections = log_content.split('Sandbox logs:')[1].split('Activities log:')\n",
    "    sandbox_log =  sections[0].strip()\n",
    "    activities_log = sections[1].split('Trade History:')[0]\n",
    "    # sandbox_log_list = [json.loads(line) for line in sandbox_log.split('\\n')]\n",
    "    trade_history =  json.loads(sections[1].split('Trade History:')[1])\n",
    "    # sandbox_log_df = pd.DataFrame(sandbox_log_list)\n",
    "    market_data_df = pd.read_csv(io.StringIO(activities_log), sep=\";\", header=0)\n",
    "    trade_history_df = pd.json_normalize(trade_history)\n",
    "    return market_data_df, trade_history_df"
   ]
  },
  {
   "cell_type": "code",
   "execution_count": 69,
   "id": "bb365730",
   "metadata": {
    "ExecuteTime": {
     "end_time": "2024-04-24T23:10:49.106350Z",
     "start_time": "2024-04-24T23:10:49.094208Z"
    }
   },
   "outputs": [],
   "source": [
    "def get_prev_returns(df, col, its):\n",
    "    prev_col = f\"{col}_prev_{its}_its\"\n",
    "    df[prev_col] = df[col].shift(its)\n",
    "    df[f\"{col}_returns_from_{its}_its_ago\"] = (df[col] - df[prev_col]) / df[prev_col]\n",
    "    df.drop(columns=[prev_col], inplace=True)\n",
    "    return df\n",
    "\n",
    "def get_future_returns(df, col, its):\n",
    "    future_col = f\"{col}_future_{its}_its\"\n",
    "    df[future_col] = df[col].shift(-its)\n",
    "    df[f\"{col}_returns_in_{its}_its\"] = (df[future_col] - df[col]) / df[col]\n",
    "    df.drop(columns=[future_col], inplace=True)\n",
    "    return df\n",
    "\n",
    "def get_centered_returns(df, col, its):\n",
    "    future_col = f\"{col}_future_{its}_its\"\n",
    "    df[future_col] = df[col].shift(-its)\n",
    "    prev_col = f\"{col}_prev_{its}_its\"\n",
    "    df[prev_col] = df[col].shift(its)\n",
    "    df[f\"{col}_returns_centered_with_{its}_its\"] = (df[future_col] - df[prev_col])/df[prev_col]\n",
    "    df.drop(columns=[prev_col], inplace=True)\n",
    "    df.drop(columns=[future_col], inplace=True)\n",
    "    return df"
   ]
  },
  {
   "cell_type": "markdown",
   "id": "1a4a440c",
   "metadata": {
    "ExecuteTime": {
     "end_time": "2024-04-24T23:11:40.998902Z",
     "start_time": "2024-04-24T23:11:40.995499Z"
    }
   },
   "source": [
    "# dp"
   ]
  },
  {
   "cell_type": "code",
   "execution_count": 79,
   "id": "c67b56f4",
   "metadata": {
    "ExecuteTime": {
     "end_time": "2024-04-24T23:24:03.813533Z",
     "start_time": "2024-04-24T23:24:03.707486Z"
    }
   },
   "outputs": [],
   "source": [
    "day = 3\n",
    "df = pd.read_csv(f\"2023_data_logs/r{day}.csv\", sep=';')\n",
    "df_gear = df[df['product'] == 'DIVING_GEAR']\n",
    "df_pred = df_gear[['day','timestamp', 'mid_price']].copy()\n",
    "df_pred = get_future_returns(df_pred, 'mid_price', 20).reset_index(drop=True)"
   ]
  },
  {
   "cell_type": "code",
   "execution_count": 83,
   "id": "836b9b03",
   "metadata": {
    "ExecuteTime": {
     "end_time": "2024-04-24T23:27:05.804662Z",
     "start_time": "2024-04-24T23:27:05.800459Z"
    }
   },
   "outputs": [],
   "source": [
    "import numpy as np\n",
    "gear_past_price = df_pred['mid_price'].to_numpy()\n",
    "spread =[10] * len(gear_past_price)"
   ]
  },
  {
   "cell_type": "code",
   "execution_count": null,
   "id": "139744fd",
   "metadata": {
    "ExecuteTime": {
     "end_time": "2024-04-24T23:27:42.189440Z",
     "start_time": "2024-04-24T23:27:42.006071Z"
    }
   },
   "outputs": [],
   "source": [
    "import math\n",
    "def optimal_trading_dp(prices, spread, volume_pct):\n",
    "    n = len(prices)\n",
    "    price_level_cnt = math.ceil(1/volume_pct)\n",
    "    left_over_pct = 1 - (price_level_cnt - 1) * volume_pct\n",
    "\n",
    "    dp = [[float('-inf')] * (price_level_cnt * 2 + 1) for _ in range(n)]  # From -3 to 3, 7 positions\n",
    "    action = [[''] * (price_level_cnt * 2 + 1) for _ in range(n)]  # To store actions\n",
    "\n",
    "    # Initialize the starting position (no stock held)\n",
    "    dp[0][price_level_cnt] = 0  # Start with no position, Cash is 0\n",
    "    action[0][price_level_cnt] = ''  # No action at start\n",
    "\n",
    "    def position(j):\n",
    "        if j > price_level_cnt:\n",
    "            position = min((j - price_level_cnt) * volume_pct, 1)\n",
    "        elif j < price_level_cnt:\n",
    "            position = max((j - price_level_cnt) * volume_pct, -1)\n",
    "        else:\n",
    "            position = 0\n",
    "        return position\n",
    "    \n",
    "    def position_list(list):\n",
    "        return np.array([position(x) for x in list])\n",
    "\n",
    "    for i in range(1, n):\n",
    "        for j in range(0, price_level_cnt * 2 + 1):\n",
    "            # Calculate PnL for holding, buying, or selling\n",
    "            hold = dp[i-1][j] if dp[i-1][j] != float('-inf') else float('-inf')\n",
    "            if j == price_level_cnt * 2:\n",
    "                buy = dp[i-1][j-1] - left_over_pct*prices[i-1] -  left_over_pct*spread if j > 0 else float('-inf')\n",
    "            elif j == 1:\n",
    "                buy = dp[i-1][j-1] - left_over_pct*prices[i-1] -  left_over_pct*spread if j > 0 else float('-inf')\n",
    "            else:\n",
    "                buy = dp[i-1][j-1] - volume_pct*prices[i-1] - volume_pct*spread if j > 0 else float('-inf')\n",
    "\n",
    "            if j ==  0:\n",
    "                sell = dp[i-1][j+1] + left_over_pct*prices[i-1] - left_over_pct*spread if j < price_level_cnt * 2 else float('-inf')\n",
    "            elif j == price_level_cnt * 2 - 1:\n",
    "                sell = dp[i-1][j+1] + left_over_pct*prices[i-1] - left_over_pct*spread if j < price_level_cnt * 2 else float('-inf')\n",
    "            else:\n",
    "                sell = dp[i-1][j+1] + volume_pct*prices[i-1] - volume_pct*spread if j < price_level_cnt * 2 else float('-inf')\n",
    "                \n",
    "            # Choose the action with the highest PnL\n",
    "\n",
    "            hold_pnl = hold + (j - price_level_cnt) * position(j) * prices[i]\n",
    "            buy_pnl = buy + (j - price_level_cnt) * position(j) * prices[i]\n",
    "            sell_pnl = sell + (j - price_level_cnt) * position(j) * prices[i]\n",
    "            \n",
    "            # print(hold_pnl, buy_pnl, sell_pnl)\n",
    "            best_action = max(hold_pnl, buy_pnl, sell_pnl)\n",
    "            if best_action == hold_pnl:\n",
    "                dp[i][j] = hold\n",
    "            elif best_action == buy_pnl:\n",
    "                dp[i][j] = buy\n",
    "            else:\n",
    "                dp[i][j] = sell\n",
    "\n",
    "            if best_action == hold_pnl:\n",
    "                action[i][j] = 'h'\n",
    "            elif best_action == buy_pnl:\n",
    "                action[i][j] = 'b'\n",
    "            else:\n",
    "                action[i][j] = 's'\n",
    "    # Backtrack to find the sequence of actions\n",
    "    trades_list = []\n",
    "    # Start from the position with maximum PnL at time n-1\n",
    "\n",
    "    pnl = np.array(dp[n-1]) + (position_list(np.arange(0,price_level_cnt*2+1)) * prices[n-1])\n",
    "    current_position = np.argmax(pnl)\n",
    "    for i in range(n-1, -1, -1):\n",
    "        trades_list.append(action[i][current_position])\n",
    "        if action[i][current_position] == 'b':\n",
    "            current_position -= 1\n",
    "        elif action[i][current_position] == 's':\n",
    "            current_position += 1\n",
    "\n",
    "    trades_list.reverse()\n",
    "    trades_list.append('h')\n",
    "    return dp, trades_list, pnl[np.argmax(pnl)]  # Return the actions and the maximum PnL"
   ]
  },
  {
   "cell_type": "code",
   "execution_count": 100,
   "id": "2596f6b1",
   "metadata": {
    "ExecuteTime": {
     "end_time": "2024-04-24T23:47:26.913886Z",
     "start_time": "2024-04-24T23:47:26.739063Z"
    }
   },
   "outputs": [
    {
     "name": "stdout",
     "output_type": "stream",
     "text": [
      "Max PnL: 7635.0\n"
     ]
    }
   ],
   "source": [
    "# Example usage\n",
    "dp, trades, max_pnl = optimal_trading_dp(gear_past_price, 22.5, 1/2)\n",
    "# print(trades)\n",
    "print(\"Max PnL:\", max_pnl)"
   ]
  },
  {
   "cell_type": "code",
   "execution_count": 101,
   "id": "0b5170de",
   "metadata": {
    "ExecuteTime": {
     "end_time": "2024-04-24T23:47:29.079146Z",
     "start_time": "2024-04-24T23:47:29.071580Z"
    }
   },
   "outputs": [
    {
     "data": {
      "text/plain": [
       "'bbhhhhhhhhhhhhhhhhhhhhhhhhhhhhhhhhhhhhhhhhhhhhhhhhhhhhhhhhhhhhhhhshhhhhhhshhsshhhhhhhhhhhhhhhhhhhhhhhhhhhhhhhhhhhhhhhhhhhhhhhhhhhhhhhhhhhhhhhhhhhhhhhhhhhhhhhhhhhhhhhhhhhhhhhhhhhhhhhhhhhhhhhhhhhhhhhhhhhhhhhhhhhhhhhhhhhhhhhhhhhhhhhhhhhhhhhhhhhhhhhhhhhhhhhhhhhhbbhhhhhhhhhhhhhhhhhhhhhhhhbhbhhhhhhhhhhhhhhhhhhhhhhhhhhshhhhhhhhhhhhhhhhhhsshhhhhhhhhshhhhhhhhhhhhhhhhhhhhhhhhhhhhhhhhhhhhhhhhhhhhhhhhhhhhhhhhhhhhhhhhhhhhhhhhhbbbbhhhhhhhhhhhhhhhhhhhhhhhhhhhhhhhhhhhhhshhshhsshhhhhhhhhhhhhhhhhhhhhhhhhhhhhhhhhhhhhhhhhhhhhhhhhhhhhhhhhhhhhhhhhhhhhhhhhhhhhhhhhhhhhhhhhhhhhhhhhhhhhhhhhhhhhbbhbbhhhhhhhhhhhhhhhhhhhhhhhhhhhhhhhhhhssshhhhhhshhhhhhhhhhhhhhhhhhhhhhhhhhhhhhhhhhhhhhhhhhhhhhhhhhhhhhhhhhhhhhhhhhhhhbhhbbhhhhhhhhhhhssshhhhhhhhhhhhhhhhhhhhhhhhhhhhhhhhhhhhhhhhhhhhhhhhhhhhhhhhhhhhhhhhhhhhhhhhhhhhhhhhhhhhhhhhhhhhhhhhhhhhhhhhhhhhhhhhhhhhhhhhhhhhhhhhhhhhhhhhhhhhhhhhhhhhhhhhhhhhhhhhhhhhhhhhhhhhhhhhhhhhhhhbbbhbhhhhhhhhhhhhhhhhhhhhhhhhhhhhhhhhhhhhhhhhhhhhhhhhhhhhhhhhhhhhhhhhhhhhhhhhhhhhhhhhhhhhhhhhhhhhhhhhhhhhhhhhhshshhhhhhsshhhhhhhhhhhhhhhhhhhhhhhhhhhhhhhhhhhhhhhhhhhhhhhhhhhhhhhhhhhhhhhhhhhhhhhhhhhhhhhhhhhhhhhhhhhhhhhhhhhhhhhbbbbhhhhhhhhhhhhhhhhhhhhhhhhhhhhhhhhhhhhhhhhhhhhhhhhhhhhhhhhhhhhhhhhsshshhhhshhhhhhhhhhhhhhhhhhhhhhhhhhhhhhhhhhhhhhhhhhhhhhhhhhhhhhhhhhhhhhhhhhhhhhhhhhhhhhhhhhhhhhhhhhhhhhhhhhhhhhhhhhhhhhhhhhhhhhhhhhhhhhhhhhhhhhhhhhhhhhhhhhhhhhhhhhhhhhhhhhhhhhhhhhhhhhhhhhhhhhhhhhhhhhhhhhhhhhhhhhhhhhhhhhhhhhhhhhhhhhhhhhhhhhhhhhhhhhhhhhhhhhhhhhhhhhhhhhhhhhhhhhhhhhhhhhhhhhhhhhhhhhhhhhhhhhhhhhhhhhhbbbbhhhhhhhhhhhhhhhhhhhhhhhhhhhhhhhhhhhhhhhhhhhhhhhhhhhhhhhhhshshhhhhhhhhhhhhhhhhhhhhhhhhhhhhhshhhshhhhhhhhhhhhhhhhhhhhhhhhhhhhhhhhhhbbbbhhhhhhhhhhhhhhhhhhhhhhhhhhhhhhhhhhhhhhhhhsshhhhhhhhhhhhhhhhhhhhhhhhhbhhhhhhhhbhhhhhhhhhhhhhhhhhhhhhhhhhhhhhhhhhhhhhhhhhhhhhhhhhhhhhhhhhhhhhhhhhhhhhhhhhhhhhhhhhhhhhhhhhhhhhhhhhhhhhhhhhhhhhhhhhhhhhhhhhhhhhhhhhhhhhhhhhhhhhhhhhhhhhhhhhhhhhhhhhhhhhhhhhhhhhhhhhhhhhhhhhhhhhhhhhhhhhhhhhhhhhhhhhhhhhhhhhhhhhhhhhhhhhhhhhhhhhhhhhhhhhhhhhhhhhhhhhhhhhhhhhhhhhhhhhshhsshhhhhhhhhhhhhhbbhbhhhhhhhhhhhhhhhhhhhhhhhhhhhhhhhhhhhhhhhhhhhhhhhhhhhhhhhhhhhhhhhhhhhhhhhhhhhhhhhhhhhhhhhhhhhhhhhhhhhhhhhhhhhhhhhhhhhhhhhhhhhhhhhhhhhhhhhhhhhhhhhhhhshhhhhhhhhhhhhhhhhhhhhbhhhhhhhhhhhhhhhhhhhhhhhhhhhhhhhhhhhhhhhhhhhhhhhhhhhhhhhhhhhsshhhhhhhhhhhhhhhhhhbbhhhhhhhhhhhhhhhhhhhhhhhhhhhhhhhhhhhhhhhhhshhhhhhssshhhhhhhhhhhhhhhhhhhhhhhhhhhhhhhhhhhhhhhhhhhhhhhhhhhhhhhhhhhhhhhhhhhhhhhhhhhhhhhhhhhhhhhhhhhhhhhhhhhhhhhhhhhhhhhhhhhhhhhhhhhhhhhhhhhhhhhhhhhhbhhbbbhhhhhhhhhhhhhhhhhhhhhhhhhhhhhhhhhhhhhhhhhhhhhhhhhhhhhhhhhhhhhhhhhhhhhhhhhhhhhhhhhhhhhhhhhhhhhhhhhhhhhhhhhhhhhhhhhhhhhhhhhhhhhhhhhhhhhhhhhhhhhhhhhhhhhhhhshsshshhhhhhhhhhhbhhbbhhhhhsshhhhhhhhhhhhhhhhhhhshhhhhhhhhhhhhhhhhhhhhhhhbbbbhhhhhhhhhhhhhhhhhhhhhhhhhhhhhhhhhhhhhhhhhhhhhhhhhhhhhhhhhhhhhhhhhhhhhhhhhhhhhhhhhhshshhhhhhhhhsshhhhhhhhhhhhhhhhhhhhhhhhhhhhhhhhhhhhhhhhhhhhhhhhhhhhhhhhhhhhhhhhhhhhhhhhhhhhhhhhhhhhhhhhhhhhhhhhhhhhhhhhhhhhhhhhhhhhhhhhhhhhhhhhhhhhhhbhbbhhbhhhhhhhhhhhhhhhhhhhhhhhhhhhhhhhhhhhhhhhhhhhhhhhhhhhhhhshshhsshhhhhhhhhhhhhhhhhhhhhhbhhhhhhhhhhhhhhbbhhhhhhhhhhhhbhhhhhhhhhhhhhhhhhhhhhhhhhhhhhhhhhhhhhhhhhhhhhhhhhhhhhhhhhhhhhhhhhhhhshhhhhhbhhhhhhhhhhhhhhhhhhhhhhhhhhhhhhhhhhhhhhhhhhhhhhhhhhhhhhhhhhhhhhhhhhhhhhhhhhhhhhhhhhhhhhhhhhhhhhhhhhhhhhhhhhhhhhhhhhhhhhhhhhhhhhhhhhhhhhhhhhhhhhhhhhhhhhsshshhshhhhhhhhhhhhhhhhhhhhhhhhhhhhhhhhhhhhhhhhhhhhhhhhhhhhhhhhhhhhhhhhhhhhhhhhhhhhbhhhhhhhhhhhhhhhbhhhhhhbbhhhhhhhhhhhhhhhhhhsssshhhhhhhhhhhhhhhhhhhhhhhhhhhhhhhhhhhhhhhhhhhhhhhhhhhhhhhbbbbhhhhhhhhhhhhhhhhhhhhhhhhhhhhhhhhhhhhhhhhhhhhhhhhhhhhhhhhhhhhhhhhhhhhhhhhhhhhhhhhhhhhhsshhhhsshhhhhhhhhhhhhhhhhhhhhhhhhhhhhhhhhhhhhhhhhhhhhhhhhhhhhhhhhhhhhhhhhhhhhhhhhhhhhhhhhhhhhhhhhhhhhhhhhhhhhhhhhhhhhbbhbbhhhhhhhhhhhhhhhhhhhhhhhhhhhhhhhhhhhhhhhhhhhhhhhhhhhhhhhhhhhhhhhhhhhhhhhhhhhhhhhhhhhhhhhhhhhhhhhhhhhhhhhhhhhhhhshhhhhhhhhhhhhhhhhhbhhhhhhhhhhhhhhhhhhhhhhhhhhhhhhhhhhhhhhhhhhhhhhhhhhhshshhhhhhhshhhshhhhhhhhhhhhhhhhhhhhhhhhhhhhhhhhhhhhhhhhhhhhhhhhhhhhhhhhhhhhhhhhhhhhhhhhhhhhhhhhhhhhhhhhhhhhhhhbhhhhhhhhhbhbbhhhhhhhhhhhhhhhhhhhhhhhhhhhhhhhhhhhhhhhhhhhhhhhhhhhhhhhhhhhhhhhhhhhhhhhhhhhhhhhhhhhhhhhhhhhhhhhhhhhhhshhhssshhhhhhhhhhhhhhhhhhhhhhhhhhhhhhhhhhhhhhhhhhhhhhhhhhhhhhhbbbbhhhhhhhhhhhhhhhhssshhshhhhhhhhhhhhhhhhhhhhhhhhhhhhhhhhhhhhhhhhhhhhhhhhhhhhhhhhhhhhhhbbbhbhhhhhhhhhhhhhhhhhhhhhhhhhhhhhhhhssshshhhhhhhhhhhhhhhhhhhhhhhhhhhhhhhhhhhhhhhhhhhhhhhhhhhhhhhhhhhhhhhhhhhhhhhhhhhhhhhhhhhhhhhhbbbhhhhhhhhhhhhhhhhhhhhhssshhhhhhhhhhhhhhhhhhhhhhhhhhhhhhhhhhhhhhhhhhhhhhhhhhhhhhhhhhhbbbbhhhhhhhhhhhsshsshhhhhhhhhhhhhhhhhhhhhhhhhhhhhhbhhhhhhhhbbhbhhhhhhhhhhhhhhhhhhhhhhhhhhhhhshhhhhshhhsshhhhhhhhhhhhhhhhhhhhhhhhhhhhhhhhhhhhhhhhhhhhhhhhhhhhhhhhhhhhhhhhhhhhhhhhhhhhhhhhhhhhhhhbbhhbhhbhhhhhhhhhhhhhsssshhhhhhhhhhhhhhhhhhhhhhhhhhhhhhhhhhhhhhhhhhhhhhhhhhhhhhhhhhhhhhhhhhhhhhhhhhhhhhhhhhhhhhhhhhhhhhhhhhhhhhhhhhhhhhhhhhhhhhhhhhhhhhhhhhhhhhhhhhhhhhhhhhhhhhhhhhhhhhhhhhhhhhhbhhhhhhhhhhhhhbbbhhhhhhhhhhhhhhhhhhhhhhhhhhhhhhhhhhhhhhhhhhhhhhhhhhhhhhhhhhhhhhsssshhhhhhhhhhhhhhhhhhhhhhhhhhhhhhhhhhhhhhhhhhhhhhhhhhhhhhhhhhhhhhhhhhhhhhbbbbhhhhhhhhhhhhhhhhhhhhhsshhhhhhhhhhhhhhhhhhhhhhhhhhhhshhhhhhhhhhbbbhhhhhhhhhhhhhhhhhhhhhhhhhhhhhhhhhhhhhhhhhhhhhhhhhhshhhsshhhhhhshhhhhhhhhhhhhhhhhhhhhhhbbhhhhhhhhhhhhhhhhhhhhhshhhshhhhhhhhhhhhhhhhhhhhhhhhhhhhhhhhhhhhhhhhhhhhhhhhhhhhhhhhhhhhhhhhhhhhhhhhhhhhhhhhhhhhhhhhhhhhhhhhhhhhhhhhhhhhhhhhhhhhhhhhhhhhhhhhhhhhhhhhhhhhhhhhhhhhhhhhhhhhhhhhhhhhhhhhhhhbbbhhhhhhhhhhhhhhhhhhhhhhhhhhhhhhhhhhhhhhssshhhhhhhhhhhhhhhhhhhhhhhhhhhhhhhhhhhhhhhhhhhhhhhhhhhhhhhhhhhhhhhhhhhhhhhhhhhhhhhhhhhhhhhhhhhhhhhbbbhhhhhhhhbhhhhhhhhhhhhhhhhhhhhhhhhhhhhhhhhhhhhhhhhhhhhhhhhhhhhhhhhhhhhhhhhhhhhhhhhhhhhhhhhhhhhhhhhhhhhhhhhhhhhhhhhhhhhhhhhhhhhhhhhhhhhhhhhhhhhhhhhhhhhhhhhhhhhhhhhhhhhhhhhhhhhhhhhhhhhhhhhhhhhhhhhhhhhhhhhhhhhhhhhhhhhhhhhhhhhhhhhhhhhhhhhhhhhhhhhhhhhhhhhhhhhhhhhhhhhhhhhhhhhhhhhhhhhhhhhhhhhhhhhhhhhhhhhhhhhhhhhhhhhhhhhhhhhhhhhhhhhhhhhhhhhhhhhhhhhhhhhhhhhhhhhhhhhhhhhhhhhhhhhhhhhhhhhhhhhhhhhhhhhhhhhhhhhhhhhhhhhhhhhhhhhhhhhhhhhhhhhhhhhhhhhhhhhhhhhhhhhhhhhhhhhhhhhhhhhhhhhhhhhhhhhhhhhhhhhhhhhhhhhhhhhhhhhhhhhhhhhhhhhhhhhhhhhhhhhhhhhhhhhhhhhhhhhhhhhhhhhhhhhhhhhhhhhhhhhhhhhhhhhhhhhhhhhhhhhhhhhhhhhhhhhhhhhhhhhhhhhhhhhhhhhhhhhhhhhhhhhhhhhhhhhhhhhhhhhhhhhhhhhhhhhhhhhhhhhhhhhhhhhhhhhhhhhhhhhhhhhhhhhhhhhhhhhhhhhhhhhhhhhhhhhhhhhhhhhhhhhhhhhhhhhhhhhhhhhhhhhhhhhsshhsshhhhhhhhhhhhhhhhhhhhhhhhhhhhhhhhhhhhhhhhhhhhhhhhhhhhhhhhhhhhhhhhhbhhhhhhhhhhhhhshhhhhhhhhhhhhhhhhhhhhhhhhhhhhhbhhhhhhhhhbbbhhhhhhhhhhhhhhhhhhhhhhhhhhhhhhhhhhhhhhhhhhhhhhhhhhhhhhhhhshsshshhhhhhhhhhhhhhhhhhhhhhhhhhhhhhhhhhhhhhhhhhhhhhhhhhhhhhhhhhhhhhhhhhhhhhhhhhhhhhhhhhhhhhhhhhhhhhhhhbbbhhhhhhhhhhhhhhhhhhhhhhhshsshhhhhhhhhhhhhhhhhhhhhbhbbhhbhhhhhhhhhhhhhhhhhhhhhhhhhhhhhhhhhhhhhhhhhhhhhhhhhhhhhhhhhhhhhhhhhhhhhhhhhsssshhhhhhhhhhhhhhhhhhhhhhhhhhhhhhhbbhbbhhhhhhhhhhhhhhhhhhhshhssshhhhhhhhhhhhhhhhhhhhhhhhhhhhhhhhhhhhhhhhhhhhhhhhhhhhhhhhhbbbbhhhhhhhhhhhhhhhhhhhhhhhhhhhhhhhhhhhhhhhhhsshhhhhhhhhhhhhhhhhhhhhhhhhhhhhhhhhhhhhhhhhhsshhhhhhhhhhhhhhhhhhhhhhhhhhhhhhhhhhhhhhhhhhhhhhhhhhhhhhhhhhhhhhhhhhhhhhhhhhhhhhhhhhhhhhhhhhhhhhhhhhhhhhhhhhhhhhhhhhhhhhhhhhhhhhhhhhhhhhhhhhhhhbhhhhhhhhhhhhhhhhhhhhhhhhhhhhshhhhhhhhhhhhbbhhhhhhhhhhhhhhhhhhhhhhhhhhhhhhhhhhhhhhhhhhsshhhhhhhhhhhhhhhhhhhhhhhhhhhhhhhhhhhhhhhhhhhhhhhhhhhbbbbhhhhhhhhhhhhhhhhhhhhhhhhhhhhhhhhhhhhhhsshhhhhhhhhhshhhhhhhhhhhhbhbhbhhhhhhhhhhhhhhhhhhhhhhhhhhhhhhhhhhhhhhhhhhsssshhhhhhhhhhhhhbbhhhhhhhhhhhhhhhhhhhhhhhhhhhhhhhhhhhhhhhhhhhhhsshhhhhhhhhhhhhhhhhhhhhhhhhhhhhhhhhhhhhbhhhhhhhhhhhhshhhhhhhhhhhhhhhhhhhhhhhhhhhhhhhhhhhhhhhhhhhhhhhhhhhhhhhhhhhhhhhhhhhbbbbhhhhhhhhhhhhhhhhhhhhhhhhhhhhhhhhhhhhhhhhhhhhhhhhhhhhhhhhhhhhhhhhhhhhhhhhhhhssshhhhhshhhhhhhhhhhhhhhhhbbbbhhhhhhhhhhhhhhhhhhhhhhhhhhhhhhhhhhhhhhhhhhhhhhhhhhhhhhhhhhhhhhhhhhhhhhhhhsssshhhhhhhhhhhhhhhhhhhhhhhhhhhhhhhhhhhhhhhhhhhhhhhbbbhhhhhhhhhhhhhhhhhhhhhhhhhhhhbhhhhhhhhhhhhhhhhhhhhhhhhhhhhhhhhhhhhhhhhhhhhhhhhsssshhhhhhhhhhhhhhhhhhhhhhhhhhhhhhhhhhhhhhhhhhhhhhhhhhhhhhhhhhhhhhhhhhhhhhhhhhhhhhhhhhhhhhhhhhhhhhhhhhhhhhhhhhhhhhhhhhhhhhhhhhhhhhhhhhhhhhhhhhhhhhhhhhhhhhhhhhhhhhhhhhhhhhhhhhhhhhhhhhhbbbhhhhhhhhhhbhhhhhhhhhhhhhhhhhhhhhhhhhhhhhhhhhhhhhhhhhhhhhhhhhhhhhhhhhhhhhhhhhhhhhhhhhhshsshhhhhhhhhhhbhbhhhhhhhhhhbhhhhhhhhhhhhhhhhhhshhhhhhhhhhhhhhhhhhhhhhhhhhhhhhhhhhhhhhhhhhhhhhhhhhsshhhhhhhhhshhhhhhhhhhhhhhhhhhhhhhhhhhhhhhhhhhhhhhhhhhhhhhhhhhhhhhhhhhhhhhhhhhhhhhhhhhhhhhhhhhhhhhhhhhhhhhhhhhhhhhhhhhhhhhhhhhhhhhbhhhhhhhhhhhhhhshhhhhhhhhhhhhhhhhhhhhhhhhhhhhhhhhhhhhhhhhhhhhhhhhhhhhhhhhhhhhhhhhhhhhhhhhhhhhhhhhhhhhhhhhhhhhhhhhhhhhhhhhhhhhhhhhhhhhhhhhhhhhhhhhhhhhhhhhhhhhhbhhhhhhhhhhhhhhhhhhhhhhhhhhhhhhhhhhhhhhhhhhhhhhhbbbhhhhhhhhhhhhhhhhhhhhhhhhhhhhhhhhhhhshssshhhhhhhhhhhhhhhhhhhhhhhhhhhhbhhhbbhhhhhhhbhhhhhhhhhhhhhhhhhhhhhhhhhhhhhhhhhhhhhhhhhhhhhhhhhhhhhhhhhhhhhhhhhhhhhhhhhhhhhhhhhhhhhhhhhhhhhhhhhhhhhhhhhhhhhhhhhhhhshshhhhhhhhhbhhhbhhhhhhhhhhhhhhhhhhhhhhhhhhhhhhhhhhhhhhhhhhhhhhhhhhhhhhhhhhhhhhhhhhhhhhhhhhhhhhhhhhhhhhhhhhhhhhhhhhhhhhhhhhhhhhhhhhhhhhhhhhhhhshhhhhhhhhshhshhhhhhhhhshhhhhhhhhhhhhhhhhhhhhhhhhbbhbbhhhhhhhhhhhhhhhhhhhhhhhhhhhhhhhhhssshhshhhhhhhhhhhhhhhhhhhhhhhhhhhhhhhhhhhhhhhhhhhhhhhhhhhhhhhhhbbhbhbhhhhhhhhhhhhhhhhhhhhhhhhhhssshhhhhhhhhhhhhhhhhhhshhhhhhhhhhhhhhhhhhhhhhhhhhhhhhhhhhhhhhhbhhhhbhhhhhhhhhhhhhhhhhhhhhhhhhhhhhhhhhhhhhhhhhhhhhhhhhhhhhhhhhhhhhhhhhshshhhhhhhhhhhhhhhhhhhhhhhbhhhhhhhhhhhhhshhhhhhhhhhhhhhhhhhhhhhhhhhhhhhhhhhhhhhhhhhhhhhhhhhhhhhhhhhhhhhhhhhhhhhhhhhhbbhhbbhhhhhhhhhhhhhhhhhhhhhhhhhhhhhhhhhhhhhhhhhhhhhhhhhhhhhhhhshhhhhhhhshhhhhhhhsshhhhhhhhhhhhhhhhhhhhhhhhhhhhhhhhhhhhhhhhhhhhhhhhhhhhhhhhhhhhhhhhhhhhhhhhhhhhhhhhhhhhhhhhhhhhhhhhhhhhhhhhhhhhhbhhbbbhhhhhhhhhhhhhhhhhhhhhhhhhhhhhhhhhhhhhhhhhhhhhhhhhhhhhhhhhhhhhhhhhhhhhhhhhhhhhhhhhhhhhhhhhhhhhhhhhhhhhhhhhhhhhhhhhhhhhhhhhhhhhhhhhhhhhhhhhhhhhhhhhhhhhhhhhhhhhhhhhhhhhhhhhhhhhhhhhhhhhhhhhhhhhhhhhhhhhhhhhhhhhhhhhhhhhhhhhhhhhhhhhhhhhhhhhhhhhhhhhhhhhhhhhhhhhhhhhhhhhhhhhhhhhhhhhhhhhhshhssshhhhhhhhhhhhhhhhhhhhhhhhhhhhhhhhhhhhhhhhhhhhhhhhhhhhhhhhhhhhhhhhhhhhhhhhhhhhhhhhhhhhhhhhhhhhhhhhhhhhhhhhhhhhhhhhhhhhhhhhhhhhhhhhhhhhhhhhhhhhhbhhhhhhhhhhhhhhshhhhhhhhhhhhhhhhhhbbhhhhhhhhhhhhhhhhhhhhhhhhhhhhhhhhhhhhhhhhhhhhhsshhhhhhhhhhhhhhhhhhhhhhhhhhhhhhhhhhhhhhhhhhhhhhhhhhhhhhhhhhhhhhhhhhhhhhhhhhhhhhhhh'"
      ]
     },
     "execution_count": 101,
     "metadata": {},
     "output_type": "execute_result"
    }
   ],
   "source": [
    "''.join(trades)"
   ]
  },
  {
   "cell_type": "code",
   "execution_count": null,
   "id": "678145b5",
   "metadata": {},
   "outputs": [],
   "source": []
  }
 ],
 "metadata": {
  "kernelspec": {
   "display_name": "Python 3 (ipykernel)",
   "language": "python",
   "name": "python3"
  },
  "language_info": {
   "codemirror_mode": {
    "name": "ipython",
    "version": 3
   },
   "file_extension": ".py",
   "mimetype": "text/x-python",
   "name": "python",
   "nbconvert_exporter": "python",
   "pygments_lexer": "ipython3",
   "version": "3.11.8"
  },
  "toc": {
   "base_numbering": 1,
   "nav_menu": {},
   "number_sections": true,
   "sideBar": true,
   "skip_h1_title": false,
   "title_cell": "Table of Contents",
   "title_sidebar": "Contents",
   "toc_cell": false,
   "toc_position": {},
   "toc_section_display": true,
   "toc_window_display": false
  }
 },
 "nbformat": 4,
 "nbformat_minor": 5
}
