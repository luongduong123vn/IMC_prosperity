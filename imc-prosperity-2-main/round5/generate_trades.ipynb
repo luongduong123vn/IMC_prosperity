{
 "cells": [
  {
   "cell_type": "code",
   "execution_count": 1,
   "id": "5d71a92e",
   "metadata": {
    "ExecuteTime": {
     "end_time": "2024-04-24T22:33:32.538909Z",
     "start_time": "2024-04-24T22:33:32.522004Z"
    }
   },
   "outputs": [],
   "source": [
    "import pandas as pd \n",
    "import io \n",
    "import json\n",
    "pd.options.display.max_rows = 200"
   ]
  },
  {
   "cell_type": "markdown",
   "id": "ff8a7ed4",
   "metadata": {},
   "source": [
    "# helpers"
   ]
  },
  {
   "cell_type": "code",
   "execution_count": 2,
   "id": "17b7baaa",
   "metadata": {
    "ExecuteTime": {
     "end_time": "2024-04-24T22:33:33.193164Z",
     "start_time": "2024-04-24T22:33:33.176163Z"
    }
   },
   "outputs": [],
   "source": [
    "def _process_data_(file):\n",
    "    with open(file, 'r') as file:\n",
    "        log_content = file.read()\n",
    "    sections = log_content.split('Sandbox logs:')[1].split('Activities log:')\n",
    "    sandbox_log =  sections[0].strip()\n",
    "    activities_log = sections[1].split('Trade History:')[0]\n",
    "    # sandbox_log_list = [json.loads(line) for line in sandbox_log.split('\\n')]\n",
    "    trade_history =  json.loads(sections[1].split('Trade History:')[1])\n",
    "    # sandbox_log_df = pd.DataFrame(sandbox_log_list)\n",
    "    market_data_df = pd.read_csv(io.StringIO(activities_log), sep=\";\", header=0)\n",
    "    trade_history_df = pd.json_normalize(trade_history)\n",
    "    return market_data_df, trade_history_df"
   ]
  },
  {
   "cell_type": "code",
   "execution_count": 3,
   "id": "bb365730",
   "metadata": {
    "ExecuteTime": {
     "end_time": "2024-04-24T22:33:33.346674Z",
     "start_time": "2024-04-24T22:33:33.308747Z"
    }
   },
   "outputs": [],
   "source": [
    "def get_prev_returns(df, col, its):\n",
    "    prev_col = f\"{col}_prev_{its}_its\"\n",
    "    df[prev_col] = df[col].shift(its)\n",
    "    df[f\"{col}_returns_from_{its}_its_ago\"] = (df[col] - df[prev_col]) / df[prev_col]\n",
    "    df.drop(columns=[prev_col], inplace=True)\n",
    "    return df\n",
    "\n",
    "def get_future_returns(df, col, its):\n",
    "    future_col = f\"{col}_future_{its}_its\"\n",
    "    df[future_col] = df[col].shift(-its)\n",
    "    df[f\"{col}_returns_in_{its}_its\"] = (df[future_col] - df[col]) / df[col]\n",
    "    df.drop(columns=[future_col], inplace=True)\n",
    "    return df\n",
    "\n",
    "def get_centered_returns(df, col, its):\n",
    "    future_col = f\"{col}_future_{its}_its\"\n",
    "    df[future_col] = df[col].shift(-its)\n",
    "    prev_col = f\"{col}_prev_{its}_its\"\n",
    "    df[prev_col] = df[col].shift(its)\n",
    "    df[f\"{col}_returns_centered_with_{its}_its\"] = (df[future_col] - df[prev_col])/df[prev_col]\n",
    "    df.drop(columns=[prev_col], inplace=True)\n",
    "    df.drop(columns=[future_col], inplace=True)\n",
    "    return df"
   ]
  },
  {
   "cell_type": "markdown",
   "id": "400407b3",
   "metadata": {},
   "source": [
    "# process 23 data"
   ]
  },
  {
   "cell_type": "code",
   "execution_count": 85,
   "id": "ad2a8293",
   "metadata": {
    "ExecuteTime": {
     "end_time": "2024-04-24T22:33:34.108060Z",
     "start_time": "2024-04-24T22:33:34.099360Z"
    }
   },
   "outputs": [],
   "source": [
    "day = 3"
   ]
  },
  {
   "cell_type": "code",
   "execution_count": 86,
   "id": "c7113feb",
   "metadata": {
    "ExecuteTime": {
     "end_time": "2024-04-24T22:33:34.974798Z",
     "start_time": "2024-04-24T22:33:34.824285Z"
    }
   },
   "outputs": [],
   "source": [
    "df = pd.read_csv(f\"2023_data_logs/r{day}.csv\", sep=';')"
   ]
  },
  {
   "cell_type": "code",
   "execution_count": 87,
   "id": "708a0d1e",
   "metadata": {
    "ExecuteTime": {
     "end_time": "2024-04-24T22:33:35.414535Z",
     "start_time": "2024-04-24T22:33:35.383804Z"
    }
   },
   "outputs": [],
   "source": [
    "df_diving = df[df['product'] == 'DIVING_GEAR']"
   ]
  },
  {
   "cell_type": "code",
   "execution_count": 88,
   "id": "4da16ff2",
   "metadata": {
    "ExecuteTime": {
     "end_time": "2024-04-24T22:33:35.794703Z",
     "start_time": "2024-04-24T22:33:35.783550Z"
    }
   },
   "outputs": [
    {
     "data": {
      "text/plain": [
       "Index(['day', 'timestamp', 'product', 'bid_price_1', 'bid_volume_1',\n",
       "       'bid_price_2', 'bid_volume_2', 'bid_price_3', 'bid_volume_3',\n",
       "       'ask_price_1', 'ask_volume_1', 'ask_price_2', 'ask_volume_2',\n",
       "       'ask_price_3', 'ask_volume_3', 'mid_price', 'profit_and_loss'],\n",
       "      dtype='object')"
      ]
     },
     "execution_count": 88,
     "metadata": {},
     "output_type": "execute_result"
    }
   ],
   "source": [
    "df_diving.columns"
   ]
  },
  {
   "cell_type": "code",
   "execution_count": 89,
   "id": "06f218ec",
   "metadata": {
    "ExecuteTime": {
     "end_time": "2024-04-24T22:33:37.473610Z",
     "start_time": "2024-04-24T22:33:37.460923Z"
    },
    "scrolled": false
   },
   "outputs": [],
   "source": [
    "df_pred = df_diving[['day','timestamp', 'mid_price']].copy()"
   ]
  },
  {
   "cell_type": "code",
   "execution_count": 90,
   "id": "cfe2a85e",
   "metadata": {
    "ExecuteTime": {
     "end_time": "2024-04-24T22:33:37.689790Z",
     "start_time": "2024-04-24T22:33:37.661882Z"
    }
   },
   "outputs": [],
   "source": [
    "df_pred = get_future_returns(df_pred, 'mid_price', 1).reset_index(drop=True)\n",
    "df_pred = get_future_returns(df_pred, 'mid_price', 2).reset_index(drop=True)"
   ]
  },
  {
   "cell_type": "code",
   "execution_count": 91,
   "id": "57bc2af5",
   "metadata": {
    "ExecuteTime": {
     "end_time": "2024-04-24T22:33:37.844740Z",
     "start_time": "2024-04-24T22:33:37.835756Z"
    }
   },
   "outputs": [],
   "source": [
    "df_pred['ROSES_pred_returns_in_1_its'] = df_pred['mid_price_returns_in_1_its']* 3.07"
   ]
  },
  {
   "cell_type": "code",
   "execution_count": 92,
   "id": "8b0a20be",
   "metadata": {
    "ExecuteTime": {
     "end_time": "2024-04-24T22:33:38.025827Z",
     "start_time": "2024-04-24T22:33:37.999149Z"
    }
   },
   "outputs": [
    {
     "data": {
      "text/plain": [
       "count    9999.000000\n",
       "mean        0.000152\n",
       "std         0.000115\n",
       "min         0.000000\n",
       "25%         0.000061\n",
       "50%         0.000123\n",
       "75%         0.000215\n",
       "max         0.000844\n",
       "Name: ROSES_pred_returns_in_1_its, dtype: float64"
      ]
     },
     "execution_count": 92,
     "metadata": {},
     "output_type": "execute_result"
    }
   ],
   "source": [
    "df_pred['ROSES_pred_returns_in_1_its'].abs().describe()"
   ]
  },
  {
   "cell_type": "code",
   "execution_count": 93,
   "id": "3cb22336",
   "metadata": {
    "ExecuteTime": {
     "end_time": "2024-04-24T22:33:38.181658Z",
     "start_time": "2024-04-24T22:33:38.173393Z"
    }
   },
   "outputs": [
    {
     "data": {
      "text/plain": [
       "Index(['day', 'timestamp', 'mid_price', 'mid_price_returns_in_1_its',\n",
       "       'mid_price_returns_in_2_its', 'ROSES_pred_returns_in_1_its'],\n",
       "      dtype='object')"
      ]
     },
     "execution_count": 93,
     "metadata": {},
     "output_type": "execute_result"
    }
   ],
   "source": [
    "df_pred.columns"
   ]
  },
  {
   "cell_type": "code",
   "execution_count": 94,
   "id": "22ae4009",
   "metadata": {
    "ExecuteTime": {
     "end_time": "2024-04-24T22:33:38.404299Z",
     "start_time": "2024-04-24T22:33:38.341291Z"
    }
   },
   "outputs": [],
   "source": [
    "df_pred[['ROSES_pred_returns_in_1_its']].to_csv('roses_pred_returns_r5.csv', index=False)"
   ]
  },
  {
   "cell_type": "code",
   "execution_count": 95,
   "id": "2d217440",
   "metadata": {
    "ExecuteTime": {
     "end_time": "2024-04-24T22:33:38.539997Z",
     "start_time": "2024-04-24T22:33:38.516529Z"
    }
   },
   "outputs": [
    {
     "data": {
      "text/html": [
       "<div>\n",
       "<style scoped>\n",
       "    .dataframe tbody tr th:only-of-type {\n",
       "        vertical-align: middle;\n",
       "    }\n",
       "\n",
       "    .dataframe tbody tr th {\n",
       "        vertical-align: top;\n",
       "    }\n",
       "\n",
       "    .dataframe thead th {\n",
       "        text-align: right;\n",
       "    }\n",
       "</style>\n",
       "<table border=\"1\" class=\"dataframe\">\n",
       "  <thead>\n",
       "    <tr style=\"text-align: right;\">\n",
       "      <th></th>\n",
       "      <th>day</th>\n",
       "      <th>timestamp</th>\n",
       "      <th>mid_price</th>\n",
       "      <th>mid_price_returns_in_1_its</th>\n",
       "      <th>mid_price_returns_in_2_its</th>\n",
       "      <th>ROSES_pred_returns_in_1_its</th>\n",
       "    </tr>\n",
       "  </thead>\n",
       "  <tbody>\n",
       "    <tr>\n",
       "      <th>0</th>\n",
       "      <td>3</td>\n",
       "      <td>0</td>\n",
       "      <td>100188.5</td>\n",
       "      <td>0.000000</td>\n",
       "      <td>0.000065</td>\n",
       "      <td>0.000000</td>\n",
       "    </tr>\n",
       "    <tr>\n",
       "      <th>1</th>\n",
       "      <td>3</td>\n",
       "      <td>100</td>\n",
       "      <td>100188.5</td>\n",
       "      <td>0.000065</td>\n",
       "      <td>0.000170</td>\n",
       "      <td>0.000199</td>\n",
       "    </tr>\n",
       "    <tr>\n",
       "      <th>2</th>\n",
       "      <td>3</td>\n",
       "      <td>200</td>\n",
       "      <td>100195.0</td>\n",
       "      <td>0.000105</td>\n",
       "      <td>0.000175</td>\n",
       "      <td>0.000322</td>\n",
       "    </tr>\n",
       "    <tr>\n",
       "      <th>3</th>\n",
       "      <td>3</td>\n",
       "      <td>300</td>\n",
       "      <td>100205.5</td>\n",
       "      <td>0.000070</td>\n",
       "      <td>0.000065</td>\n",
       "      <td>0.000214</td>\n",
       "    </tr>\n",
       "    <tr>\n",
       "      <th>4</th>\n",
       "      <td>3</td>\n",
       "      <td>400</td>\n",
       "      <td>100212.5</td>\n",
       "      <td>-0.000005</td>\n",
       "      <td>-0.000025</td>\n",
       "      <td>-0.000015</td>\n",
       "    </tr>\n",
       "    <tr>\n",
       "      <th>...</th>\n",
       "      <td>...</td>\n",
       "      <td>...</td>\n",
       "      <td>...</td>\n",
       "      <td>...</td>\n",
       "      <td>...</td>\n",
       "      <td>...</td>\n",
       "    </tr>\n",
       "    <tr>\n",
       "      <th>9995</th>\n",
       "      <td>3</td>\n",
       "      <td>999500</td>\n",
       "      <td>100276.0</td>\n",
       "      <td>0.000050</td>\n",
       "      <td>0.000135</td>\n",
       "      <td>0.000153</td>\n",
       "    </tr>\n",
       "    <tr>\n",
       "      <th>9996</th>\n",
       "      <td>3</td>\n",
       "      <td>999600</td>\n",
       "      <td>100281.0</td>\n",
       "      <td>0.000085</td>\n",
       "      <td>0.000160</td>\n",
       "      <td>0.000260</td>\n",
       "    </tr>\n",
       "    <tr>\n",
       "      <th>9997</th>\n",
       "      <td>3</td>\n",
       "      <td>999700</td>\n",
       "      <td>100289.5</td>\n",
       "      <td>0.000075</td>\n",
       "      <td>0.000070</td>\n",
       "      <td>0.000230</td>\n",
       "    </tr>\n",
       "    <tr>\n",
       "      <th>9998</th>\n",
       "      <td>3</td>\n",
       "      <td>999800</td>\n",
       "      <td>100297.0</td>\n",
       "      <td>-0.000005</td>\n",
       "      <td>NaN</td>\n",
       "      <td>-0.000015</td>\n",
       "    </tr>\n",
       "    <tr>\n",
       "      <th>9999</th>\n",
       "      <td>3</td>\n",
       "      <td>999900</td>\n",
       "      <td>100296.5</td>\n",
       "      <td>NaN</td>\n",
       "      <td>NaN</td>\n",
       "      <td>NaN</td>\n",
       "    </tr>\n",
       "  </tbody>\n",
       "</table>\n",
       "<p>10000 rows × 6 columns</p>\n",
       "</div>"
      ],
      "text/plain": [
       "      day  timestamp  mid_price  mid_price_returns_in_1_its  \\\n",
       "0       3          0   100188.5                    0.000000   \n",
       "1       3        100   100188.5                    0.000065   \n",
       "2       3        200   100195.0                    0.000105   \n",
       "3       3        300   100205.5                    0.000070   \n",
       "4       3        400   100212.5                   -0.000005   \n",
       "...   ...        ...        ...                         ...   \n",
       "9995    3     999500   100276.0                    0.000050   \n",
       "9996    3     999600   100281.0                    0.000085   \n",
       "9997    3     999700   100289.5                    0.000075   \n",
       "9998    3     999800   100297.0                   -0.000005   \n",
       "9999    3     999900   100296.5                         NaN   \n",
       "\n",
       "      mid_price_returns_in_2_its  ROSES_pred_returns_in_1_its  \n",
       "0                       0.000065                     0.000000  \n",
       "1                       0.000170                     0.000199  \n",
       "2                       0.000175                     0.000322  \n",
       "3                       0.000065                     0.000214  \n",
       "4                      -0.000025                    -0.000015  \n",
       "...                          ...                          ...  \n",
       "9995                    0.000135                     0.000153  \n",
       "9996                    0.000160                     0.000260  \n",
       "9997                    0.000070                     0.000230  \n",
       "9998                         NaN                    -0.000015  \n",
       "9999                         NaN                          NaN  \n",
       "\n",
       "[10000 rows x 6 columns]"
      ]
     },
     "execution_count": 95,
     "metadata": {},
     "output_type": "execute_result"
    }
   ],
   "source": [
    "df_pred"
   ]
  },
  {
   "cell_type": "code",
   "execution_count": 96,
   "id": "50c50e3b",
   "metadata": {
    "ExecuteTime": {
     "end_time": "2024-04-24T22:33:38.709593Z",
     "start_time": "2024-04-24T22:33:38.692122Z"
    }
   },
   "outputs": [],
   "source": [
    "pred_returns_list = df_pred['ROSES_pred_returns_in_1_its'].tolist()"
   ]
  },
  {
   "cell_type": "code",
   "execution_count": 97,
   "id": "b893c742",
   "metadata": {
    "ExecuteTime": {
     "end_time": "2024-04-24T22:33:38.874854Z",
     "start_time": "2024-04-24T22:33:38.859444Z"
    }
   },
   "outputs": [],
   "source": [
    "import numpy as np\n",
    "roses_pred_price = [14411.5]\n",
    "for i in pred_returns_list:\n",
    "    roses_pred_price.append(roses_pred_price[-1] * (1 + i))\n",
    "rose_pred_returns_price = np.diff(roses_pred_price)\n",
    "df_pred['ROSES_pred_returns_in_1_its_price'] = np.round( 2 * rose_pred_returns_price)/2"
   ]
  },
  {
   "cell_type": "code",
   "execution_count": 98,
   "id": "76ba8412",
   "metadata": {
    "ExecuteTime": {
     "end_time": "2024-04-24T22:33:39.045941Z",
     "start_time": "2024-04-24T22:33:39.039251Z"
    }
   },
   "outputs": [],
   "source": [
    "pred_returns_pct_list = df_pred['ROSES_pred_returns_in_1_its'].tolist()\n",
    "pred_returns_price_list = df_pred['ROSES_pred_returns_in_1_its_price'].tolist()"
   ]
  },
  {
   "cell_type": "code",
   "execution_count": 99,
   "id": "8e462100",
   "metadata": {
    "ExecuteTime": {
     "end_time": "2024-04-24T22:33:39.271342Z",
     "start_time": "2024-04-24T22:33:39.219646Z"
    }
   },
   "outputs": [],
   "source": [
    "pred_returns_price_agg = []\n",
    "sign = 0\n",
    "sum_return = 0\n",
    "for i in range(len(pred_returns_price_list)-1, -1 ,-1):\n",
    "    if np.sign(pred_returns_price_list[i]) != sign:\n",
    "        sum_return = 0\n",
    "    sum_return += pred_returns_price_list[i]\n",
    "    pred_returns_price_agg.append(sum_return)\n",
    "    sign = np.sign(pred_returns_price_list[i])\n",
    "pred_returns_price_agg = pred_returns_price_agg[::-1]\n",
    "df_pred['pred_returns_price_agg'] = pred_returns_price_agg"
   ]
  },
  {
   "cell_type": "code",
   "execution_count": 100,
   "id": "b04d2a8c",
   "metadata": {
    "ExecuteTime": {
     "end_time": "2024-04-24T22:33:39.465384Z",
     "start_time": "2024-04-24T22:33:39.405304Z"
    }
   },
   "outputs": [],
   "source": [
    "pred_returns_pct_agg = []\n",
    "sign = 0\n",
    "prod_return = 1\n",
    "for i in range(len(pred_returns_pct_list)-1, -1 ,-1):\n",
    "    if np.sign(pred_returns_pct_list[i]) != sign:\n",
    "        prod_return = 1\n",
    "    prod_return *= 1 + pred_returns_pct_list[i]\n",
    "    pred_returns_pct_agg.append(prod_return - 1)\n",
    "    sign = np.sign(pred_returns_pct_list[i])\n",
    "pred_returns_pct_agg = pred_returns_pct_agg[::-1]\n",
    "df_pred['pred_returns_pct_agg'] = pred_returns_pct_agg"
   ]
  },
  {
   "cell_type": "code",
   "execution_count": 101,
   "id": "92a46686",
   "metadata": {
    "ExecuteTime": {
     "end_time": "2024-04-24T22:33:39.627318Z",
     "start_time": "2024-04-24T22:33:39.584786Z"
    }
   },
   "outputs": [
    {
     "data": {
      "text/html": [
       "<div>\n",
       "<style scoped>\n",
       "    .dataframe tbody tr th:only-of-type {\n",
       "        vertical-align: middle;\n",
       "    }\n",
       "\n",
       "    .dataframe tbody tr th {\n",
       "        vertical-align: top;\n",
       "    }\n",
       "\n",
       "    .dataframe thead th {\n",
       "        text-align: right;\n",
       "    }\n",
       "</style>\n",
       "<table border=\"1\" class=\"dataframe\">\n",
       "  <thead>\n",
       "    <tr style=\"text-align: right;\">\n",
       "      <th></th>\n",
       "      <th>day</th>\n",
       "      <th>timestamp</th>\n",
       "      <th>mid_price</th>\n",
       "      <th>mid_price_returns_in_1_its</th>\n",
       "      <th>mid_price_returns_in_2_its</th>\n",
       "      <th>ROSES_pred_returns_in_1_its</th>\n",
       "      <th>ROSES_pred_returns_in_1_its_price</th>\n",
       "      <th>pred_returns_price_agg</th>\n",
       "      <th>pred_returns_pct_agg</th>\n",
       "    </tr>\n",
       "  </thead>\n",
       "  <tbody>\n",
       "    <tr>\n",
       "      <th>0</th>\n",
       "      <td>3</td>\n",
       "      <td>0</td>\n",
       "      <td>100188.5</td>\n",
       "      <td>0.000000</td>\n",
       "      <td>0.000065</td>\n",
       "      <td>0.000000</td>\n",
       "      <td>0.0</td>\n",
       "      <td>0.0</td>\n",
       "      <td>0.000000</td>\n",
       "    </tr>\n",
       "    <tr>\n",
       "      <th>1</th>\n",
       "      <td>3</td>\n",
       "      <td>100</td>\n",
       "      <td>100188.5</td>\n",
       "      <td>0.000065</td>\n",
       "      <td>0.000170</td>\n",
       "      <td>0.000199</td>\n",
       "      <td>3.0</td>\n",
       "      <td>10.5</td>\n",
       "      <td>0.000736</td>\n",
       "    </tr>\n",
       "    <tr>\n",
       "      <th>2</th>\n",
       "      <td>3</td>\n",
       "      <td>200</td>\n",
       "      <td>100195.0</td>\n",
       "      <td>0.000105</td>\n",
       "      <td>0.000175</td>\n",
       "      <td>0.000322</td>\n",
       "      <td>4.5</td>\n",
       "      <td>7.5</td>\n",
       "      <td>0.000536</td>\n",
       "    </tr>\n",
       "    <tr>\n",
       "      <th>3</th>\n",
       "      <td>3</td>\n",
       "      <td>300</td>\n",
       "      <td>100205.5</td>\n",
       "      <td>0.000070</td>\n",
       "      <td>0.000065</td>\n",
       "      <td>0.000214</td>\n",
       "      <td>3.0</td>\n",
       "      <td>3.0</td>\n",
       "      <td>0.000214</td>\n",
       "    </tr>\n",
       "    <tr>\n",
       "      <th>4</th>\n",
       "      <td>3</td>\n",
       "      <td>400</td>\n",
       "      <td>100212.5</td>\n",
       "      <td>-0.000005</td>\n",
       "      <td>-0.000025</td>\n",
       "      <td>-0.000015</td>\n",
       "      <td>-0.0</td>\n",
       "      <td>0.0</td>\n",
       "      <td>-0.000168</td>\n",
       "    </tr>\n",
       "    <tr>\n",
       "      <th>5</th>\n",
       "      <td>3</td>\n",
       "      <td>500</td>\n",
       "      <td>100212.0</td>\n",
       "      <td>-0.000020</td>\n",
       "      <td>-0.000050</td>\n",
       "      <td>-0.000061</td>\n",
       "      <td>-1.0</td>\n",
       "      <td>-2.5</td>\n",
       "      <td>-0.000153</td>\n",
       "    </tr>\n",
       "    <tr>\n",
       "      <th>6</th>\n",
       "      <td>3</td>\n",
       "      <td>600</td>\n",
       "      <td>100210.0</td>\n",
       "      <td>-0.000030</td>\n",
       "      <td>0.000035</td>\n",
       "      <td>-0.000092</td>\n",
       "      <td>-1.5</td>\n",
       "      <td>-1.5</td>\n",
       "      <td>-0.000092</td>\n",
       "    </tr>\n",
       "    <tr>\n",
       "      <th>7</th>\n",
       "      <td>3</td>\n",
       "      <td>700</td>\n",
       "      <td>100207.0</td>\n",
       "      <td>0.000065</td>\n",
       "      <td>0.000100</td>\n",
       "      <td>0.000199</td>\n",
       "      <td>3.0</td>\n",
       "      <td>7.5</td>\n",
       "      <td>0.000521</td>\n",
       "    </tr>\n",
       "    <tr>\n",
       "      <th>8</th>\n",
       "      <td>3</td>\n",
       "      <td>800</td>\n",
       "      <td>100213.5</td>\n",
       "      <td>0.000035</td>\n",
       "      <td>0.000105</td>\n",
       "      <td>0.000107</td>\n",
       "      <td>1.5</td>\n",
       "      <td>4.5</td>\n",
       "      <td>0.000322</td>\n",
       "    </tr>\n",
       "    <tr>\n",
       "      <th>9</th>\n",
       "      <td>3</td>\n",
       "      <td>900</td>\n",
       "      <td>100217.0</td>\n",
       "      <td>0.000070</td>\n",
       "      <td>0.000055</td>\n",
       "      <td>0.000214</td>\n",
       "      <td>3.0</td>\n",
       "      <td>3.0</td>\n",
       "      <td>0.000214</td>\n",
       "    </tr>\n",
       "    <tr>\n",
       "      <th>10</th>\n",
       "      <td>3</td>\n",
       "      <td>1000</td>\n",
       "      <td>100224.0</td>\n",
       "      <td>-0.000015</td>\n",
       "      <td>-0.000025</td>\n",
       "      <td>-0.000046</td>\n",
       "      <td>-0.5</td>\n",
       "      <td>-1.0</td>\n",
       "      <td>-0.000077</td>\n",
       "    </tr>\n",
       "    <tr>\n",
       "      <th>11</th>\n",
       "      <td>3</td>\n",
       "      <td>1100</td>\n",
       "      <td>100222.5</td>\n",
       "      <td>-0.000010</td>\n",
       "      <td>-0.000005</td>\n",
       "      <td>-0.000031</td>\n",
       "      <td>-0.5</td>\n",
       "      <td>-0.5</td>\n",
       "      <td>-0.000031</td>\n",
       "    </tr>\n",
       "    <tr>\n",
       "      <th>12</th>\n",
       "      <td>3</td>\n",
       "      <td>1200</td>\n",
       "      <td>100221.5</td>\n",
       "      <td>0.000005</td>\n",
       "      <td>0.000015</td>\n",
       "      <td>0.000015</td>\n",
       "      <td>0.0</td>\n",
       "      <td>0.0</td>\n",
       "      <td>0.000046</td>\n",
       "    </tr>\n",
       "    <tr>\n",
       "      <th>13</th>\n",
       "      <td>3</td>\n",
       "      <td>1300</td>\n",
       "      <td>100222.0</td>\n",
       "      <td>0.000010</td>\n",
       "      <td>0.000005</td>\n",
       "      <td>0.000031</td>\n",
       "      <td>0.5</td>\n",
       "      <td>0.5</td>\n",
       "      <td>0.000031</td>\n",
       "    </tr>\n",
       "    <tr>\n",
       "      <th>14</th>\n",
       "      <td>3</td>\n",
       "      <td>1400</td>\n",
       "      <td>100223.0</td>\n",
       "      <td>-0.000005</td>\n",
       "      <td>0.000090</td>\n",
       "      <td>-0.000015</td>\n",
       "      <td>-0.0</td>\n",
       "      <td>0.0</td>\n",
       "      <td>-0.000015</td>\n",
       "    </tr>\n",
       "    <tr>\n",
       "      <th>15</th>\n",
       "      <td>3</td>\n",
       "      <td>1500</td>\n",
       "      <td>100222.5</td>\n",
       "      <td>0.000095</td>\n",
       "      <td>0.000115</td>\n",
       "      <td>0.000291</td>\n",
       "      <td>4.0</td>\n",
       "      <td>5.0</td>\n",
       "      <td>0.000352</td>\n",
       "    </tr>\n",
       "    <tr>\n",
       "      <th>16</th>\n",
       "      <td>3</td>\n",
       "      <td>1600</td>\n",
       "      <td>100232.0</td>\n",
       "      <td>0.000020</td>\n",
       "      <td>-0.000140</td>\n",
       "      <td>0.000061</td>\n",
       "      <td>1.0</td>\n",
       "      <td>1.0</td>\n",
       "      <td>0.000061</td>\n",
       "    </tr>\n",
       "    <tr>\n",
       "      <th>17</th>\n",
       "      <td>3</td>\n",
       "      <td>1700</td>\n",
       "      <td>100234.0</td>\n",
       "      <td>-0.000160</td>\n",
       "      <td>-0.000190</td>\n",
       "      <td>-0.000490</td>\n",
       "      <td>-7.0</td>\n",
       "      <td>-8.5</td>\n",
       "      <td>-0.000582</td>\n",
       "    </tr>\n",
       "    <tr>\n",
       "      <th>18</th>\n",
       "      <td>3</td>\n",
       "      <td>1800</td>\n",
       "      <td>100218.0</td>\n",
       "      <td>-0.000030</td>\n",
       "      <td>-0.000010</td>\n",
       "      <td>-0.000092</td>\n",
       "      <td>-1.5</td>\n",
       "      <td>-1.5</td>\n",
       "      <td>-0.000092</td>\n",
       "    </tr>\n",
       "    <tr>\n",
       "      <th>19</th>\n",
       "      <td>3</td>\n",
       "      <td>1900</td>\n",
       "      <td>100215.0</td>\n",
       "      <td>0.000020</td>\n",
       "      <td>0.000040</td>\n",
       "      <td>0.000061</td>\n",
       "      <td>1.0</td>\n",
       "      <td>2.5</td>\n",
       "      <td>0.000153</td>\n",
       "    </tr>\n",
       "    <tr>\n",
       "      <th>20</th>\n",
       "      <td>3</td>\n",
       "      <td>2000</td>\n",
       "      <td>100217.0</td>\n",
       "      <td>0.000020</td>\n",
       "      <td>0.000030</td>\n",
       "      <td>0.000061</td>\n",
       "      <td>1.0</td>\n",
       "      <td>1.5</td>\n",
       "      <td>0.000092</td>\n",
       "    </tr>\n",
       "    <tr>\n",
       "      <th>21</th>\n",
       "      <td>3</td>\n",
       "      <td>2100</td>\n",
       "      <td>100219.0</td>\n",
       "      <td>0.000010</td>\n",
       "      <td>0.000005</td>\n",
       "      <td>0.000031</td>\n",
       "      <td>0.5</td>\n",
       "      <td>0.5</td>\n",
       "      <td>0.000031</td>\n",
       "    </tr>\n",
       "    <tr>\n",
       "      <th>22</th>\n",
       "      <td>3</td>\n",
       "      <td>2200</td>\n",
       "      <td>100220.0</td>\n",
       "      <td>-0.000005</td>\n",
       "      <td>0.000100</td>\n",
       "      <td>-0.000015</td>\n",
       "      <td>-0.0</td>\n",
       "      <td>0.0</td>\n",
       "      <td>-0.000015</td>\n",
       "    </tr>\n",
       "    <tr>\n",
       "      <th>23</th>\n",
       "      <td>3</td>\n",
       "      <td>2300</td>\n",
       "      <td>100219.5</td>\n",
       "      <td>0.000105</td>\n",
       "      <td>0.000060</td>\n",
       "      <td>0.000322</td>\n",
       "      <td>4.5</td>\n",
       "      <td>4.5</td>\n",
       "      <td>0.000322</td>\n",
       "    </tr>\n",
       "    <tr>\n",
       "      <th>24</th>\n",
       "      <td>3</td>\n",
       "      <td>2400</td>\n",
       "      <td>100230.0</td>\n",
       "      <td>-0.000045</td>\n",
       "      <td>0.000010</td>\n",
       "      <td>-0.000138</td>\n",
       "      <td>-2.0</td>\n",
       "      <td>-2.0</td>\n",
       "      <td>-0.000138</td>\n",
       "    </tr>\n",
       "    <tr>\n",
       "      <th>25</th>\n",
       "      <td>3</td>\n",
       "      <td>2500</td>\n",
       "      <td>100225.5</td>\n",
       "      <td>0.000055</td>\n",
       "      <td>0.000125</td>\n",
       "      <td>0.000168</td>\n",
       "      <td>2.5</td>\n",
       "      <td>15.0</td>\n",
       "      <td>0.001042</td>\n",
       "    </tr>\n",
       "    <tr>\n",
       "      <th>26</th>\n",
       "      <td>3</td>\n",
       "      <td>2600</td>\n",
       "      <td>100231.0</td>\n",
       "      <td>0.000070</td>\n",
       "      <td>0.000135</td>\n",
       "      <td>0.000214</td>\n",
       "      <td>3.0</td>\n",
       "      <td>12.5</td>\n",
       "      <td>0.000873</td>\n",
       "    </tr>\n",
       "    <tr>\n",
       "      <th>27</th>\n",
       "      <td>3</td>\n",
       "      <td>2700</td>\n",
       "      <td>100238.0</td>\n",
       "      <td>0.000065</td>\n",
       "      <td>0.000214</td>\n",
       "      <td>0.000199</td>\n",
       "      <td>3.0</td>\n",
       "      <td>9.5</td>\n",
       "      <td>0.000659</td>\n",
       "    </tr>\n",
       "    <tr>\n",
       "      <th>28</th>\n",
       "      <td>3</td>\n",
       "      <td>2800</td>\n",
       "      <td>100244.5</td>\n",
       "      <td>0.000150</td>\n",
       "      <td>0.000100</td>\n",
       "      <td>0.000459</td>\n",
       "      <td>6.5</td>\n",
       "      <td>6.5</td>\n",
       "      <td>0.000459</td>\n",
       "    </tr>\n",
       "    <tr>\n",
       "      <th>29</th>\n",
       "      <td>3</td>\n",
       "      <td>2900</td>\n",
       "      <td>100259.5</td>\n",
       "      <td>-0.000050</td>\n",
       "      <td>-0.000080</td>\n",
       "      <td>-0.000153</td>\n",
       "      <td>-2.0</td>\n",
       "      <td>-3.5</td>\n",
       "      <td>-0.000245</td>\n",
       "    </tr>\n",
       "  </tbody>\n",
       "</table>\n",
       "</div>"
      ],
      "text/plain": [
       "    day  timestamp  mid_price  mid_price_returns_in_1_its  \\\n",
       "0     3          0   100188.5                    0.000000   \n",
       "1     3        100   100188.5                    0.000065   \n",
       "2     3        200   100195.0                    0.000105   \n",
       "3     3        300   100205.5                    0.000070   \n",
       "4     3        400   100212.5                   -0.000005   \n",
       "5     3        500   100212.0                   -0.000020   \n",
       "6     3        600   100210.0                   -0.000030   \n",
       "7     3        700   100207.0                    0.000065   \n",
       "8     3        800   100213.5                    0.000035   \n",
       "9     3        900   100217.0                    0.000070   \n",
       "10    3       1000   100224.0                   -0.000015   \n",
       "11    3       1100   100222.5                   -0.000010   \n",
       "12    3       1200   100221.5                    0.000005   \n",
       "13    3       1300   100222.0                    0.000010   \n",
       "14    3       1400   100223.0                   -0.000005   \n",
       "15    3       1500   100222.5                    0.000095   \n",
       "16    3       1600   100232.0                    0.000020   \n",
       "17    3       1700   100234.0                   -0.000160   \n",
       "18    3       1800   100218.0                   -0.000030   \n",
       "19    3       1900   100215.0                    0.000020   \n",
       "20    3       2000   100217.0                    0.000020   \n",
       "21    3       2100   100219.0                    0.000010   \n",
       "22    3       2200   100220.0                   -0.000005   \n",
       "23    3       2300   100219.5                    0.000105   \n",
       "24    3       2400   100230.0                   -0.000045   \n",
       "25    3       2500   100225.5                    0.000055   \n",
       "26    3       2600   100231.0                    0.000070   \n",
       "27    3       2700   100238.0                    0.000065   \n",
       "28    3       2800   100244.5                    0.000150   \n",
       "29    3       2900   100259.5                   -0.000050   \n",
       "\n",
       "    mid_price_returns_in_2_its  ROSES_pred_returns_in_1_its  \\\n",
       "0                     0.000065                     0.000000   \n",
       "1                     0.000170                     0.000199   \n",
       "2                     0.000175                     0.000322   \n",
       "3                     0.000065                     0.000214   \n",
       "4                    -0.000025                    -0.000015   \n",
       "5                    -0.000050                    -0.000061   \n",
       "6                     0.000035                    -0.000092   \n",
       "7                     0.000100                     0.000199   \n",
       "8                     0.000105                     0.000107   \n",
       "9                     0.000055                     0.000214   \n",
       "10                   -0.000025                    -0.000046   \n",
       "11                   -0.000005                    -0.000031   \n",
       "12                    0.000015                     0.000015   \n",
       "13                    0.000005                     0.000031   \n",
       "14                    0.000090                    -0.000015   \n",
       "15                    0.000115                     0.000291   \n",
       "16                   -0.000140                     0.000061   \n",
       "17                   -0.000190                    -0.000490   \n",
       "18                   -0.000010                    -0.000092   \n",
       "19                    0.000040                     0.000061   \n",
       "20                    0.000030                     0.000061   \n",
       "21                    0.000005                     0.000031   \n",
       "22                    0.000100                    -0.000015   \n",
       "23                    0.000060                     0.000322   \n",
       "24                    0.000010                    -0.000138   \n",
       "25                    0.000125                     0.000168   \n",
       "26                    0.000135                     0.000214   \n",
       "27                    0.000214                     0.000199   \n",
       "28                    0.000100                     0.000459   \n",
       "29                   -0.000080                    -0.000153   \n",
       "\n",
       "    ROSES_pred_returns_in_1_its_price  pred_returns_price_agg  \\\n",
       "0                                 0.0                     0.0   \n",
       "1                                 3.0                    10.5   \n",
       "2                                 4.5                     7.5   \n",
       "3                                 3.0                     3.0   \n",
       "4                                -0.0                     0.0   \n",
       "5                                -1.0                    -2.5   \n",
       "6                                -1.5                    -1.5   \n",
       "7                                 3.0                     7.5   \n",
       "8                                 1.5                     4.5   \n",
       "9                                 3.0                     3.0   \n",
       "10                               -0.5                    -1.0   \n",
       "11                               -0.5                    -0.5   \n",
       "12                                0.0                     0.0   \n",
       "13                                0.5                     0.5   \n",
       "14                               -0.0                     0.0   \n",
       "15                                4.0                     5.0   \n",
       "16                                1.0                     1.0   \n",
       "17                               -7.0                    -8.5   \n",
       "18                               -1.5                    -1.5   \n",
       "19                                1.0                     2.5   \n",
       "20                                1.0                     1.5   \n",
       "21                                0.5                     0.5   \n",
       "22                               -0.0                     0.0   \n",
       "23                                4.5                     4.5   \n",
       "24                               -2.0                    -2.0   \n",
       "25                                2.5                    15.0   \n",
       "26                                3.0                    12.5   \n",
       "27                                3.0                     9.5   \n",
       "28                                6.5                     6.5   \n",
       "29                               -2.0                    -3.5   \n",
       "\n",
       "    pred_returns_pct_agg  \n",
       "0               0.000000  \n",
       "1               0.000736  \n",
       "2               0.000536  \n",
       "3               0.000214  \n",
       "4              -0.000168  \n",
       "5              -0.000153  \n",
       "6              -0.000092  \n",
       "7               0.000521  \n",
       "8               0.000322  \n",
       "9               0.000214  \n",
       "10             -0.000077  \n",
       "11             -0.000031  \n",
       "12              0.000046  \n",
       "13              0.000031  \n",
       "14             -0.000015  \n",
       "15              0.000352  \n",
       "16              0.000061  \n",
       "17             -0.000582  \n",
       "18             -0.000092  \n",
       "19              0.000153  \n",
       "20              0.000092  \n",
       "21              0.000031  \n",
       "22             -0.000015  \n",
       "23              0.000322  \n",
       "24             -0.000138  \n",
       "25              0.001042  \n",
       "26              0.000873  \n",
       "27              0.000659  \n",
       "28              0.000459  \n",
       "29             -0.000245  "
      ]
     },
     "execution_count": 101,
     "metadata": {},
     "output_type": "execute_result"
    }
   ],
   "source": [
    "df_pred.head(30)"
   ]
  },
  {
   "cell_type": "code",
   "execution_count": 102,
   "id": "5e84192e",
   "metadata": {
    "ExecuteTime": {
     "end_time": "2024-04-24T22:33:39.785040Z",
     "start_time": "2024-04-24T22:33:39.775894Z"
    }
   },
   "outputs": [],
   "source": [
    "trades_list = []\n",
    "for ret in pred_returns_price_agg:\n",
    "    if ret > 0.5 and ret <= 1.5:\n",
    "        trades_list.append('b')\n",
    "    elif ret > 1.5:\n",
    "        trades_list.append(\"B\")\n",
    "    elif ret < -0.5 and ret >= -1.5: \n",
    "        trades_list.append('s')\n",
    "    elif ret < -1.5:\n",
    "        trades_list.append(\"S\")\n",
    "    else:\n",
    "        trades_list.append('h')"
   ]
  },
  {
   "cell_type": "code",
   "execution_count": 103,
   "id": "16c35612",
   "metadata": {
    "ExecuteTime": {
     "end_time": "2024-04-24T22:33:40.138126Z",
     "start_time": "2024-04-24T22:33:40.133063Z"
    }
   },
   "outputs": [],
   "source": [
    "trades_string = ''.join(trades_list)"
   ]
  },
  {
   "cell_type": "code",
   "execution_count": 104,
   "id": "62812c09",
   "metadata": {
    "ExecuteTime": {
     "end_time": "2024-04-24T22:33:40.539371Z",
     "start_time": "2024-04-24T22:33:40.533026Z"
    }
   },
   "outputs": [
    {
     "data": {
      "text/plain": [
       "'hBBBhSsBBBshhhhBbSsBbhhBSBBBBSsBBBShBBBBBhbShBBSSSSShBBhSbhBBShBBhSBbhBBBhhbSSSbSSsBSShhBSSBBBBBsbhSSSSSBhSShSSShBSshSBhShSBhBSBBSSshsBBSSSSSSShhSSSbsBBbhhShBSshBbSShhBhhSSSBBSSshSsBhSSsBSBhBSSShhshbSBSShshSSSSbSSShSBbsBBSSBSBBSBshBSshSshhhSSSSBBhSsBBBBShhSShBBhhShBsBBSSshBshBSSsshhSBsbhBBSsbhBSSBSBSBBBsBBhBBBhbSSbShSSSbShbshBBBBBbSbSShBBBBBSShBhSSSSSBhShBBSSBSShBBShShSBBshBSSshBSSSSSSSbhshhSSBSSshSSSSSSBShBSSSSSSsBBBBBhSSBBBhBhShhbSSBsBBBBhBBBShBBBBShBbSBbSsBBSSshhShSShhhbhsBhBSBSSSSSSSsbSBSBhSBhSBsBBSSbSBSBBSSBShBBhSBBBSBbsbhSSBbhSSshhbSSSSShsBSSBBSSBShSSBbhhSsBBSbSSBBSBhBBBhSSSSBBBBSBhSShBhBBBSSBBSBBbsBBBSSshSBSBSShBBSBSSSBSShBShhSSsbSSBBShshBSSSSBBShSSsBBhBsBSSBSbSBShSBSSSSBSShhhsBSSsBBhBBBSBhBBBSSSSBhhShBBbhSShSshBSSBSBBBbSbShhBBhBbSbsBSsBSbsBBSBBsBBShBSSSSBBBbSSBBBBBShBSSsBSshSSbhSSBshSSBSSBshbSSSSBsbSShSBSSSSSBhSSbSBbSsBBBSBSBBsbSsbbhbSSbSSSBBBSSSSBSShsBBbhShSSSBSBSshBSbSSSSShBbsBShsBbhBhSBSsbshBBSsBbSbSBBBSBBbhBShbshBBhSSSSSBshbSsbSBSBBBhhBSSBBbSSSsBBhbSBBSSBBBsbShSBSBBBBShBbSSSbhBBhBSSsBBBbhSsBbshSSSSSsshhhSShhBhSBhBBBSSbSshSShSsbSsBBhhbhSSBSBbhshBBBbsBBhSSbSBBSShShBbSBBSbSSBBSSBsbSBBhBBBSSSSSSBhBbShBBBsBhBhhbshbSSsBhhSbsBshBbShhSSBbsBSBsBSshhBBshhBhBhSSBBBBBBbSBShSBBSSSSSSSSShShBbhBBShBSbSSShhSBBBhbSSShSsBsBbSsBsbSsBSSsbShBBBSBhShSSSSSBhBbhBBsBSsbhSSShBbsbSBBSSBhhbsbSSBBBbhSbShBBBSSSsBBhBbSbshSsBBSSSsBBSbshBSShSsBSBBhbSSSSBBBShSSBBBBsBSBBSSBsBBhhSSSBSSbhSSSSSSSSBSBSSSSSSBhhhBhBSBSSSBBBBSSsBShShSBBsBhsbSBBSSSBbhshSSSSSSSBBshBSbSbhhsBSSbhShhhBSBBsBSSShBshhbSSSBBShhbShSBBBBBshhBSbSbSSsbhBBSSShSSSSBBhhSsBbhBBSSBBShBbSBSBhSSBBbsBSBSSSBhhbSBhbSSSbSBBBBBSSshshBhsBShBbSSSSBhbSsBhsBSSSsBSbSShhSSBBSBshSSSsbsBBBBhhSSSBSBBhsBBSSsBBshBShBBbShsbbhBBBBhBSSSSSSSsBBbSBBshBbhbSSshhSsBBhhbsBSSBBBhBBbhsBBBshhSSSsBBBBBBSbSBBBBhSBbhSShBhSBBbhbhBSBBBSSSBbsBbshSSSSSBBBShBBBBSSBsbhBSBBBbSbbSSshhSBBhBbSSSshShBSBBBBhhhSsBbbSSBBBBBBBhBBSBbSsBbhsBBbSSBbSBBSsBBBBsbSBBSSbSBBBBhBSSSShhhSsBBBbsBSSsBBbsBBbsBBsBbhBsBBbSsbsBBSSBBhBBbSBBsbSSSBBBBsBhSBbShbhBSBhSSSSSBBSbsBBBBbhSBBBShBhShSSbSBSshSSshShhhBhsBBbhBbhhBbSSBBBBBBhhSSBSsBbSSSsBbsBSsBBSSBBBBBBBShhhBBBBBSSSSSShsBBBSBbSbSSbsBbshhhSSBSBSBhBbhsBBBhhhSbShSshShBBBBBBhBBhSBBbhbhhSBhhhSBBsBbsBbsbSBSShSBBSSSSShSBBShSSSBhBBBBsBBhhSBShSsBBBBBSSSBBSShSBBBbSSSShBSBBBBBSsbhBBBSSSBBBhShSSSBSSshSSsBsBSSSBBBBBsBbhBBSBBSSshBBSSSBBBBBSBSBBBBBhSBBBhBSSBhSsBbSSShSSSSSSBBBShBSSSSShhSBhBshSSSSSBBBSBbShhhSSBbShBhSSSbhbSSSSsBBbhbhBSBbSSbSShhhShBhSSSBBBBBSSBbSSsBSSSShhBSSSBSBbSBbSSSSSSbSShBSSBSsBSShBShsbhShBBhShBBBSBBbhbSBSBbSShBhhSBSSbSSSSbSBBBBBssBSSSSBBSSSBBhBBSBBbhBBBBBSSsbhshhBBhhSSBBSSBBSSSBhhSBsBhBBhsBBSBSBBhSSBShhSSSsBhsBBBBBBBBBBSSBBSSBhhBBBBSSBBBSBSBbSbSBhSSSSShSSSBbSBBBBBBBhShSSBssBBSBSBSssBBhBSbSSSBhhSSShhhhhhBSBBSSSSSSBBBhhshBBhSsBbhBbSBBBSshBBBshhbSBhBBSBBhBSBhSSBSBBSSBBhBBBbSBBhhBBhBSSSsBSSBSBBSsBBBhbSSSSBBhhhBhSSSSSSShBbSShBBhSBbSSsBBsBBSShbSbSBSsBhSBsBBSBBBSBBbhSSBSSBBBBShSSbShBshBSBBbSBsBSSBSSSsBbhSBBBsbSSSBSSSBSSSSBBbSBhBSSSSSbSSSSShhhBSBhSBShbSSBBsBhSBSsBbSSBBBhhSBBBBBSsBbSsBShBBShbhSSshhBBBbsBSBBsBsBSBBSSSbhSSSSSSSsBSsBhSbSsbSBhhBBhSSsBBSsbShBsBBBbhSsBSBSBBBBBBBBshSSshSBBBsBBBBBBBshBBBsBBSSSSSBBBbhBhBbSsBhBhBhhBSSsBBBBBBhBSSShBSSBBSBBSsBBhBBBbSSSSSBsBSBBbhhhBBshSBBhSSSSSSSbhBSBBbSShBBhShhsBBSbSShBBhBBbSSSBSBShhSSsBBShhBbSBBSBBBShshhbSBsbhBBsBsbhSSSSsBSBBSBBhBBBSBBBBBBbhSSBBbSBBhSBSbbSSbSBbSBSbSSsBBBShSBhhSSbhhBhsBSSSSSSbShBBshBBbSbSBbSBSBSSSSbSBhBBShsBhSSSSBSBBhsBBBsbhsBSSSSBBbShBSBBBSBBBBBBBhBBSBBBBBBbhSSSSBSSSBBbhBBbhShshhSBBSSBSBBBSSSSSSSsBBhSBSSSShBBShSSShbsBhBshBSBShBBBhsshhBSSBBshbSSBBSsbShBSBBBSBBBbShhBBhBBBBSBSSSsBhBBSsBBBBSShSSSshBBBBBBbbshSBBbSSSSBBhBSSBBhbhSSShhBShSSsBBSBSSSSBBSBbSSSSShhhSBSSSShSBsBSSbSShBBBBBshSsBbSSSBSSBhSSSshbSSBBBBSsBSSShSSSbSSSSBBSSBBBbhBBBbhBBSSSBSSSSbhBBhhSBBBBSBSSSBsbSBShShBBBBSSSsBhshSBBSBSbsBBhbSShbsBBSBBhhhbSbsBshBBhbShBBShsbSBSBhhhBBBhSSSSBSsBBSsBSBShSsBBSBBShBBBSsBSbhSBBBBBSshSSBBBhSSbhBBBhhhbSBbShBBsBbSbSSSBBsBBShBbSSSBShhBSbhSBBbSSSSSbhhBhBSSShSSShSBbhBhBBBbhBSBSBSshbSsBbSBBSSSShBSBhSsbSshhbSSBhhShSSSSSSBSShSBBhbSSSsbSbShBBSBBhBShBBBshBhBSSbSBBBSsBsbShBSbhSShbhBbShBbSShBBhhBBBBsBBBsBBShSSSSbhhhbSSBBBbSSSBBSBBsBhhBBBSSBBSBSBhBbSSSSSShsbsBbSSSBhSSsBBhBSSSSBsBSBBSBBBSSShShSSSBBbsBSsBSSSBBBBhBBSBBBBBBBhhBBBSSBBSSShBhbSSBbSBBBshBSSsBSSSSBBBBbSSSBSBSSSSSshBBBSSShBhshSSSSbSSSbSBSBBBhSBhSBhSBBbhBbshBhSBBbSShBBBBBhhShSBSBSSbhhSSBhBSSSBBSBbShhsBBBBBhSSSsbhhBBhhSBSShhBhbsBShhsBBBBBBShsshhShBBSSbSBBbSbShSSSSsBBBBhBShSSBSbsBbSBBBBBBSSSSSBSSBbSShBBbSSSsBSsBhSSSBhBBSSBBhBSSSsbSsBSSbSBSBbSshbSBSSSShBhBBBBBBBhBBhSBbSSBhBSSSSbSBShSShSBSShSSSSShhhsBSsBhSSSshBShBBSSBBhsBhhBhhhBhBBhBsBSBBBBBSsBhhbSsBBBSSSBBShBSBSSSbShhSSsbSSSBBbShBBhSBhSBBsBhssbShSSbSshSSBSsbSSSShhBBshSbSBBBShSBSSSSSsBshSSBBSBSSBBBBBhBBhSBhSBBhhShSSBhSSBhhSSBSSShhhhBShBBBSSBBSsBBSSSSSSBbsBSbSBBSbSSSshhSSBhBSSBBshbSSSBSSSSSsbsBhSshBBshhhSSBBhsbSBSBBSSshBhBBBBBbSSSBSsBbsBSSSBhBSShSSBBhSSSSSSSshBbhShBBsBBBSSSBSSSBBBShShBBSSSSSsBBBhBSBBBBBBBSsBsBSSSBbSSSBbSBBhBBhsbhSSSBSBSSsBhBBbSBhshBBBBBBBbhSSSBShSSBBBSshBBBSSSBSSBSSBBSSSSSBSSSBhBSShhsBSSSsBhSBsbSSBhBBBSShBsBSSSSBhBbSBBBBhbSSsBSBBhsBsBbSSSSShhsBBShSShBBShssBBSBBSBBBSSSSSShSBBSSBBsBBhSSShhSBShBBBBBBBSbhsBBBBSSSShShhhbsBshhBhSBBhBSBsBhSbhshBhSSSSSSSBhBhhhSSbsbhSSSSShBBbSSBhSSBBbhhBBBSBBBbShBBSSBhbSBhSSbbSsbSBBhShBhSBBBBBSSSSShSSBhhBSbSshSSsBSSBSSSSBBsBsBBBhbSSBbhSSShBBBBSBsbSBSBSSSSSSBSShBhSSSSSSBBBSbsbhSBSSSSShBBsBSSSBBBSBSBsshhBBSBSBSshBBhbsBSSsBhSSBshsbhSSSSbhBBbSBBBhSSSsBBSSBBBSSBBshhhSBSSBhBBBBBBSbSSSSBhbSBBBSBhSShSBBBBBShBBshBBBShshhShSSSBBBSsBhBBSshShsBhShhSSShbSSbshBBSSSShBbSSSShbhShSSSbSSsBBSBSBbSSSBBSSShsBBbSSsBbhBbSBBSBBBBshBsBhBSSsBBBSsBhSBSBBhSBBBBbShBBhSShBhSBBBbhBBShSshBBBSBBSSBBBBBBSBBBSSBBSSBBSSBBSBBBBBBbSBhBBBhSBBhSBBBBSSSBBSBBshBSBBbhBBBBSBBBSBSSShhbhBbSBbhhBhBSBBSBSShbsBBSShBBBBShShSBhSSBBBSSBsBBSSBSssBSBBSSBBSSBbshhBBBSshBBSssBBSSBBbShBBBShbShBbshBhSbSSBBBBBBBbSBBBBBSBBSSSSSBsbSBSSBsBBSBSSbSSBSSBBBSSSSBBBSBBBhBhBhShSBSSBBBsBsBBBSBBSBBbSSSSSSBBBbShhsBBhBSsBBBBhhBBBhhBBbshBBBBbhhBBBBsBSSBBSsBBSsBBBBbShSSBbsBhSShBsBBBhSBSBBhSSBSSSBbSshBSShbsBhSshhBBhBBSSBBBSBhBBBBbSbhbSBbhsBBBbsBBsBBBhhSsBBSsBbSShBbsbshBhBBSshhBBhSsBSSBbshshBBBBbhBBBBhsBSsBSSBBhbhSSSBBBBBBBBhbhsBBBsBBshBhBhSBSSBBhBBbSSBhBSBSBBBSSsBBBSsBBSBBBhBBBBBBhBBSSBBsBBSBbhhbhsBBhBBSSshBsBBSBBSShShSSsBBBBSBBBhSBShhhSBShhSBhBBSShBhBhShBBsBBsBBBBSSSsbSSsbsBBbsBBBbSshBbSbSsBhSSBhhSShSBBSShhShSSBbShBBBBsBSSBSBSsBShbSSSBSSSSBSSSSbShBBSSBBSBBBBhBsBBBbShhbSSSShSBSShBBSSsbSSBbSSSShShBBBhBbSSSShBBBBBBBBSSBBBBhsBBsBBSbSsBBBBhSbsBhhSbshsBBBsbSSbSBhBSssBBbshBSbSSShBShSSSSBbShhSSSSSSSSbSBshSshsbSSSBBhbSsBhhsBbShBhshhSsbSSSSSSBSSBSSShSBsbSSSBhhBSsBSbsBBhSSSSShBBBBSSbSBBSSSSBhBSBShBBBhSBSSSSSSsBBSSSsbSSSBSShSshSSBhSBBBShBbsBSbsshBSSBBBBBSsBhhSsBSbSBBBBShSbhbshSSShBBSBSBhShBhbhBBBBBbhSBShBSBSSSSSSshBBShsBSBBSsbSSSbSSSSBBBSSBbSBBBBBBBBhhhsBBhhBBhSBSBBSSShSShSSSShSbsBsBBSSBSbSSSSBbhBBBbSSSBhBSShSSShbSBhSSSsBSSShsBBBBBhSBBbSBBbSSSBhBSSBBBhSBsBBBBBhBBSShBBBhSSSShBBBbsBBbSBBhSBSSSSSBBhSSssbhhhSBBbhBBBSSSSShhshSSSsBSBbsBBShSshhSsBBBBSsBBhSBBbSBBsbsbSSsbhSSSSSBBSShSBBSsBhSSBSSBBSSBhBBSSBsbSBSSBBhBSBBBSShShshhShhSBshBBSBBsBbSBBBSSSBSSSBbbSSSSSSBhhShBBshBShBSBSBBSBBshhShBhBSSSSBBsBSSSSShBBBhBBShBSBBbhsbSShBSBBssbSSBSSShBSshSBBBBBBSsBShBBhhbShSSSShBbSSSBBBBBshBSShBShSBbhSSSSbSBSBBSSShBBsBssBSSBhhhSBBhBBBBSBBShBBsBbhBBBSBBBbSShSSSssBBhBSSSBBBSShSShsBSBSBhBSSBsBSShBsBhBShBBsBSBBBBBsBSSBBhSSsBBSBBBBBSSSSSSsBbSSSSSsBBBBBBBBhSSBBhSShSBSBBSSSSBBBbsBBBsbSSBhhShsBBSShhSSbhhshSShhbhbShSBhbsbhSSSBBSShSbSSBBBSBBBBSSsBBSSBbsbSBBbShSSSBSBSBBBhBbSSBBhhSSBSsbSbsbSSBBhsBSBBBssBSSShSBBSSshSSSBBBBBBBBBSBSbhBBbhBBbSSSBBBsBBSSsBBbhBSSSbbhbhBSsBBbhShSBbhsBhSBBBbSsBBBBBhBBBBSSSSSBBSSShSShBhbSbshSSSShshBBBBBBbshBShhhhBBBBBBSSBbsBSSBBBBsBShhBSSSBhBSSSBSBBSBbhhBsBBbsBBshhBBSBBbhBSSSSBBBBshSSSBbSSSSBBBhhSSSSshsBsBBsBbSSSSbShSSSshBBShSsBBBBSSBBBhhhhBbSSbShSShhBBBBBSBBhSBhhhbsBhhBbshBSbhSsBBSSSSShsBBhSSSsBBsBbbhSShbSSSSSBSShBhhBhBBhSBBBSSbhhshhSBSSShSSSSsBBBSSSBBhShBBshSSsBSbhSSSsBBhhSSSSSSshhSSBSBBBShSSBhBSShhBsBBSSSSSsBSsBBSbSBBBBhhbShBSSBbhbhBSBSSBsBSSSBBBhSSbshhbSBBhbSshSSssBBSSSBSSSSsBBhBbhbSBBSSBBBBBBSSSBBShSBBBSBBbSSsBBBhSBbSSSBhhBSBhbSbShBBBSBhhBBShBBBBBSshhSBBhBBBBBSBbSShSSSBSShhSbSBBBhhSBBShSBhBBsBBBSSSSsBBBSBBSSSSSBBSSBhhBSSBSSBSsBBSBBBhSbSBSSBBbSBbhhBbhbhhhBBSSSbshBBBBbSshSSSSSSBSBBBshhBBBhSSShbsBBSBhSShhbSBBSSBBsshBsbSShsBBBSBSBBBBBSSBbbSShBSBbSSbSSSSBSSSShhhhhBShhBSSbhBSBbSSSShSbsbShSBhBBhSSsBBBhhBBSSSShbSBhBBSSshSSSBBBShbShSBBbSBSBBBhSBbSSBsBBBBBBSSShSShshBbshShBBBBbhSSsBBhSSSSBsbbSSShBSSSBBBBbSshhBBSbhSBhSBBSSShbhhBBbhhSShBSSBsBhSSSSBSSShBBsBbSBsBbssBSSBhBShhSBhSbSBBBshSsBBBSBSSSSbhhSSBBhhBBbhsbhBbsBBSBSBSBBSSSBBhSbhBBBBhhBhSSSSSSSShhhSBSsbSBBBBSBSSSBhShBShShBhSBShBSBBBSbSsBhhhSSsbhBBShBBBSSsBBBSBBbhSSShBhBSsBSSShSSSSBBBBBSbhbbSSSsbSBBSBbSSbShsBSBSBBSSSSSBSsBBSBBBSBBBSBbsbhSSSBBBBBshSBbSSSbSSSBSSSBhbhhBBshBBBbsBSBBBShhSSSsBBsBhsBBBBbsBbSsbSSSBBbShBBBBBBbhhBBbhBBBSBBBSSSBBBBhSBSBbhBBBbSSBSBBbShhhbsBBsBBbSSSbhhBBsBBBBbhSBBSbSSBhhBBBSBBShShBbhhSBSSSSbSSSSShBSSshhBhhhSSSSShBSBBhhBBbSsBBBBBSSsBBSSBSsBBBBhhBsBsBBSSsBSShhSBBShSSShbhSsbsBhhBsBBbShhbhhhSSSShSBBbsbsBhhSSbShBBSShbSBhBhhSBbSBsBbhhBhbSBhSSBhBBBBSSShhShhhhShBSSsBSBsBBSsBhSbSbhSBBBhSShSSSShBBBSBSSbSSSSSshBSshBBBSBBBSBBBBhSSSSSSsBBBBBBSSShBBhBhBSBBSSShbhBBbhBSBSsBBBsbSSBhBhSBBBBshSSSSshSSSSShBBBSShhSbhSSBBSBsBShBhBBBBShSSSBBBhSShSSBSSBBBSSBsBbSSSBBbSbShhBbShSSSBSshBSBBSsBSSSShSBBbSSSBhBShSSSSSBhSBBBBBhShSSBSSsBSSBSBhsBBBhSSSsBBhBhBBSBSSSSSsBSBBBBBBSSBBBhhSSBBhBBShSBbshBBSSSSbSBBSShhSBSSbSBhBhSSbShbSSShBSSSsBBBBSSSBhSbSSShhhSSSSSSshSSSSSShhBBhhshSShbSSBsBBhsBshSBsBSSSShBShBSShSsBSBhSbhBBhBBBbhSBBhSSShsshBShSBBBBBBShSBbhBhhsBhBShSBSSBBhSBBSShSSBBBBbhBSSBBhhSSSSbSSsBBhSShBBBSBBbhBBBBSBbbhhbSShbhSBhhBBBSSBBBBhBSSBSBSbhSSbbhSSSSBsBhBSSShSSBBSBSBBBBBBBSSBhhBBShShBhshhhBhSSSBBShBSsBBBSBBBSSSbSBBBsbSBSBBSBBBBBBsBBBBhSBhSBbSsBSSShsBBBSBBhhhShhBbhhBBBBBSBBhSSBSBhhBBBBSsBhSSssBhSSBSSSsbhSSShShSsbSsBsshhSbhBSBhshhSBbSBhBBBBhSBShSSSBSSSsBShssBSSSSsbShhSSBBSSSSSbhBhBSBBhbSShBSBSbSBShhhbhhBshbSshhssBbSShBBbSShSSbSshSBBBhhBhhSSBbhsBSSbSBShhSSBhSBbShSSBhBBBBBBSbSBBBBSBSBSsBBShbhShSBBBSSBBhSSsBBSBBBBSSSSSSSSSshhhSShBhhbhSSSShSSBbSsBhsBBSSsbSBBBhBBSSSSShBBBSSBbhSSBSBSBSSSSSBBSBBBhh'"
      ]
     },
     "execution_count": 104,
     "metadata": {},
     "output_type": "execute_result"
    }
   ],
   "source": [
    "trades_string"
   ]
  },
  {
   "cell_type": "code",
   "execution_count": 64,
   "id": "c67b56f4",
   "metadata": {
    "ExecuteTime": {
     "end_time": "2024-04-24T22:33:40.877627Z",
     "start_time": "2024-04-24T22:33:40.771423Z"
    }
   },
   "outputs": [
    {
     "data": {
      "text/html": [
       "<div>\n",
       "<style scoped>\n",
       "    .dataframe tbody tr th:only-of-type {\n",
       "        vertical-align: middle;\n",
       "    }\n",
       "\n",
       "    .dataframe tbody tr th {\n",
       "        vertical-align: top;\n",
       "    }\n",
       "\n",
       "    .dataframe thead th {\n",
       "        text-align: right;\n",
       "    }\n",
       "</style>\n",
       "<table border=\"1\" class=\"dataframe\">\n",
       "  <thead>\n",
       "    <tr style=\"text-align: right;\">\n",
       "      <th></th>\n",
       "      <th>day</th>\n",
       "      <th>timestamp</th>\n",
       "      <th>mid_price</th>\n",
       "      <th>mid_price_returns_in_1_its</th>\n",
       "    </tr>\n",
       "  </thead>\n",
       "  <tbody>\n",
       "    <tr>\n",
       "      <th>9995</th>\n",
       "      <td>2</td>\n",
       "      <td>999500</td>\n",
       "      <td>7910.0</td>\n",
       "      <td>0.000063</td>\n",
       "    </tr>\n",
       "    <tr>\n",
       "      <th>9996</th>\n",
       "      <td>2</td>\n",
       "      <td>999600</td>\n",
       "      <td>7910.5</td>\n",
       "      <td>0.000126</td>\n",
       "    </tr>\n",
       "    <tr>\n",
       "      <th>9997</th>\n",
       "      <td>2</td>\n",
       "      <td>999700</td>\n",
       "      <td>7911.5</td>\n",
       "      <td>0.000126</td>\n",
       "    </tr>\n",
       "    <tr>\n",
       "      <th>9998</th>\n",
       "      <td>2</td>\n",
       "      <td>999800</td>\n",
       "      <td>7912.5</td>\n",
       "      <td>-0.000126</td>\n",
       "    </tr>\n",
       "    <tr>\n",
       "      <th>9999</th>\n",
       "      <td>2</td>\n",
       "      <td>999900</td>\n",
       "      <td>7911.5</td>\n",
       "      <td>NaN</td>\n",
       "    </tr>\n",
       "  </tbody>\n",
       "</table>\n",
       "</div>"
      ],
      "text/plain": [
       "      day  timestamp  mid_price  mid_price_returns_in_1_its\n",
       "9995    2     999500     7910.0                    0.000063\n",
       "9996    2     999600     7910.5                    0.000126\n",
       "9997    2     999700     7911.5                    0.000126\n",
       "9998    2     999800     7912.5                   -0.000126\n",
       "9999    2     999900     7911.5                         NaN"
      ]
     },
     "execution_count": 64,
     "metadata": {},
     "output_type": "execute_result"
    }
   ],
   "source": [
    "day = 2\n",
    "df = pd.read_csv(f\"2023_data_logs/r{day}.csv\", sep=';')\n",
    "df_coconut = df[df['product'] == 'COCONUTS']\n",
    "df_pred_coconut = df_coconut[['day','timestamp', 'mid_price']].copy()\n",
    "df_pred_coconut = get_future_returns(df_pred_coconut, 'mid_price', 1).reset_index(drop=True)\n",
    "df_pred_coconut.tail()"
   ]
  },
  {
   "cell_type": "code",
   "execution_count": 52,
   "id": "315c8221",
   "metadata": {
    "ExecuteTime": {
     "end_time": "2024-04-24T22:33:41.405170Z",
     "start_time": "2024-04-24T22:33:41.253436Z"
    }
   },
   "outputs": [
    {
     "ename": "FileNotFoundError",
     "evalue": "[Errno 2] No such file or directory: './2024_data_logs/results_round4.log'",
     "output_type": "error",
     "traceback": [
      "\u001b[0;31m---------------------------------------------------------------------------\u001b[0m",
      "\u001b[0;31mFileNotFoundError\u001b[0m                         Traceback (most recent call last)",
      "Cell \u001b[0;32mIn[107], line 1\u001b[0m\n\u001b[0;32m----> 1\u001b[0m df_r4, _ \u001b[38;5;241m=\u001b[39m \u001b[43m_process_data_\u001b[49m\u001b[43m(\u001b[49m\u001b[38;5;124;43m\"\u001b[39;49m\u001b[38;5;124;43m./2024_data_logs/results_round4.log\u001b[39;49m\u001b[38;5;124;43m\"\u001b[39;49m\u001b[43m)\u001b[49m\n\u001b[1;32m      2\u001b[0m df_r4_coconuts \u001b[38;5;241m=\u001b[39m df_r4[df_r4[\u001b[38;5;124m'\u001b[39m\u001b[38;5;124mproduct\u001b[39m\u001b[38;5;124m'\u001b[39m] \u001b[38;5;241m==\u001b[39m \u001b[38;5;124m'\u001b[39m\u001b[38;5;124mCOCONUT\u001b[39m\u001b[38;5;124m'\u001b[39m]\u001b[38;5;241m.\u001b[39mcopy()\u001b[38;5;241m.\u001b[39mreset_index(drop\u001b[38;5;241m=\u001b[39m\u001b[38;5;28;01mTrue\u001b[39;00m)\n\u001b[1;32m      3\u001b[0m \u001b[38;5;66;03m# Calculate the count of bid and ask prices with the price difference to the mid price\u001b[39;00m\n\u001b[1;32m      4\u001b[0m \u001b[38;5;66;03m# df_r4_coconuts['mid_price'] = (df_r4_coconuts['bid_price_1'] + df_r4_coconuts['ask_price_1']) / 2\u001b[39;00m\n\u001b[1;32m      5\u001b[0m \n\u001b[1;32m      6\u001b[0m \u001b[38;5;66;03m# Initialize dictionaries to store the sum of volumes for each unique price difference\u001b[39;00m\n",
      "Cell \u001b[0;32mIn[83], line 2\u001b[0m, in \u001b[0;36m_process_data_\u001b[0;34m(file)\u001b[0m\n\u001b[1;32m      1\u001b[0m \u001b[38;5;28;01mdef\u001b[39;00m \u001b[38;5;21m_process_data_\u001b[39m(file):\n\u001b[0;32m----> 2\u001b[0m     \u001b[38;5;28;01mwith\u001b[39;00m \u001b[38;5;28;43mopen\u001b[39;49m\u001b[43m(\u001b[49m\u001b[43mfile\u001b[49m\u001b[43m,\u001b[49m\u001b[43m \u001b[49m\u001b[38;5;124;43m'\u001b[39;49m\u001b[38;5;124;43mr\u001b[39;49m\u001b[38;5;124;43m'\u001b[39;49m\u001b[43m)\u001b[49m \u001b[38;5;28;01mas\u001b[39;00m file:\n\u001b[1;32m      3\u001b[0m         log_content \u001b[38;5;241m=\u001b[39m file\u001b[38;5;241m.\u001b[39mread()\n\u001b[1;32m      4\u001b[0m     sections \u001b[38;5;241m=\u001b[39m log_content\u001b[38;5;241m.\u001b[39msplit(\u001b[38;5;124m'\u001b[39m\u001b[38;5;124mSandbox logs:\u001b[39m\u001b[38;5;124m'\u001b[39m)[\u001b[38;5;241m1\u001b[39m]\u001b[38;5;241m.\u001b[39msplit(\u001b[38;5;124m'\u001b[39m\u001b[38;5;124mActivities log:\u001b[39m\u001b[38;5;124m'\u001b[39m)\n",
      "File \u001b[0;32m~/opt/anaconda3/envs/unborked/lib/python3.11/site-packages/IPython/core/interactiveshell.py:324\u001b[0m, in \u001b[0;36m_modified_open\u001b[0;34m(file, *args, **kwargs)\u001b[0m\n\u001b[1;32m    317\u001b[0m \u001b[38;5;28;01mif\u001b[39;00m file \u001b[38;5;129;01min\u001b[39;00m {\u001b[38;5;241m0\u001b[39m, \u001b[38;5;241m1\u001b[39m, \u001b[38;5;241m2\u001b[39m}:\n\u001b[1;32m    318\u001b[0m     \u001b[38;5;28;01mraise\u001b[39;00m \u001b[38;5;167;01mValueError\u001b[39;00m(\n\u001b[1;32m    319\u001b[0m         \u001b[38;5;124mf\u001b[39m\u001b[38;5;124m\"\u001b[39m\u001b[38;5;124mIPython won\u001b[39m\u001b[38;5;124m'\u001b[39m\u001b[38;5;124mt let you open fd=\u001b[39m\u001b[38;5;132;01m{\u001b[39;00mfile\u001b[38;5;132;01m}\u001b[39;00m\u001b[38;5;124m by default \u001b[39m\u001b[38;5;124m\"\u001b[39m\n\u001b[1;32m    320\u001b[0m         \u001b[38;5;124m\"\u001b[39m\u001b[38;5;124mas it is likely to crash IPython. If you know what you are doing, \u001b[39m\u001b[38;5;124m\"\u001b[39m\n\u001b[1;32m    321\u001b[0m         \u001b[38;5;124m\"\u001b[39m\u001b[38;5;124myou can use builtins\u001b[39m\u001b[38;5;124m'\u001b[39m\u001b[38;5;124m open.\u001b[39m\u001b[38;5;124m\"\u001b[39m\n\u001b[1;32m    322\u001b[0m     )\n\u001b[0;32m--> 324\u001b[0m \u001b[38;5;28;01mreturn\u001b[39;00m \u001b[43mio_open\u001b[49m\u001b[43m(\u001b[49m\u001b[43mfile\u001b[49m\u001b[43m,\u001b[49m\u001b[43m \u001b[49m\u001b[38;5;241;43m*\u001b[39;49m\u001b[43margs\u001b[49m\u001b[43m,\u001b[49m\u001b[43m \u001b[49m\u001b[38;5;241;43m*\u001b[39;49m\u001b[38;5;241;43m*\u001b[39;49m\u001b[43mkwargs\u001b[49m\u001b[43m)\u001b[49m\n",
      "\u001b[0;31mFileNotFoundError\u001b[0m: [Errno 2] No such file or directory: './2024_data_logs/results_round4.log'"
     ]
    }
   ],
   "source": [
    "df_r4, _ = _process_data_(\"./2024_data_logs/results_round4.log\")\n",
    "df_r4_coconut = df_r4[df_r4['product'] == 'COCONUT'].copy().reset_index(drop=True)\n",
    "# Calculate the count of bid and ask prices with the price difference to the mid price\n",
    "# df_r4_coconuts['mid_price'] = (df_r4_coconuts['bid_price_1'] + df_r4_coconuts['ask_price_1']) / 2\n",
    "\n",
    "# Initialize dictionaries to store the sum of volumes for each unique price difference\n",
    "bid_price_diff_volumes = {}\n",
    "ask_price_diff_volumes = {}\n",
    "\n",
    "# Iterate through each row to calculate differences and sum volumes for unique differences\n",
    "for index, row in df_r4_coconut.iterrows():\n",
    "    bid_prices = [row['bid_price_1'], row['bid_price_2'], row['bid_price_3']]\n",
    "    ask_prices = [row['ask_price_1'], row['ask_price_2'], row['ask_price_3']]\n",
    "    bid_volumes = [row['bid_volume_1'], row['bid_volume_2'], row['bid_volume_3']]\n",
    "    ask_volumes = [row['ask_volume_1'], row['ask_volume_2'], row['ask_volume_3']]\n",
    "    \n",
    "    # Process bid prices and volumes\n",
    "    for i in range(3):\n",
    "        if pd.notna(bid_prices[i]) and pd.notna(bid_volumes[i]):\n",
    "            bid_diff = abs(bid_prices[i] - row['mid_price'])\n",
    "            if bid_diff in bid_price_diff_volumes:\n",
    "                bid_price_diff_volumes[bid_diff] += bid_volumes[i]\n",
    "            else:\n",
    "                bid_price_diff_volumes[bid_diff] = bid_volumes[i]\n",
    "    \n",
    "    # Process ask prices and volumes\n",
    "    for i in range(3):\n",
    "        if pd.notna(ask_prices[i]) and pd.notna(ask_volumes[i]):\n",
    "            ask_diff = abs(ask_prices[i] - row['mid_price'])\n",
    "            if ask_diff in ask_price_diff_volumes:\n",
    "                ask_price_diff_volumes[ask_diff] += ask_volumes[i]\n",
    "            else:\n",
    "                ask_price_diff_volumes[ask_diff] = ask_volumes[i]\n",
    "\n",
    "# Display the dictionaries containing the sum of volumes for each unique price difference\n",
    "print(\"Bid Price Difference Volumes:\", bid_price_diff_volumes)\n",
    "print(\"Ask Price Difference Volumes:\", ask_price_diff_volumes)\n"
   ]
  },
  {
   "cell_type": "code",
   "execution_count": 53,
   "id": "c8edb152",
   "metadata": {},
   "outputs": [
    {
     "name": "stdout",
     "output_type": "stream",
     "text": [
      "1848911.0 1848960.0\n",
      "mean of bid volumes: 184.8911\n",
      "mean of ask volumes: 184.896\n"
     ]
    }
   ],
   "source": [
    "# Calculate the sum and mean of bid and ask volumes for each timestamp\n",
    "# Group by timestamp to handle the operations for each unique timestamp\n",
    "df_r4_coconuts_vol = df_r4_coconut.copy()\n",
    "df_r4_coconuts_vol.fillna(0, inplace=True)\n",
    "\n",
    "sum_bid_1 = df_r4_coconuts_vol['bid_volume_1'].sum()\n",
    "sum_bid_2 = df_r4_coconuts_vol['bid_volume_2'].sum()\n",
    "sum_bid_3 = df_r4_coconuts_vol['bid_volume_3'].sum()\n",
    "sum_ask_1 = df_r4_coconuts_vol['ask_volume_1'].sum()\n",
    "sum_ask_2 = df_r4_coconuts_vol['ask_volume_2'].sum()\n",
    "sum_ask_3 = df_r4_coconuts_vol['ask_volume_3'].sum()\n",
    "\n",
    "\n",
    "sum_all_bid = sum_bid_1 + sum_bid_2 + sum_bid_3\n",
    "sum_all_ask = sum_ask_1 + sum_ask_2 + sum_ask_3\n",
    "\n",
    "print(sum_all_bid, sum_all_ask)\n",
    "print(f\"mean of bid volumes: {sum_all_bid / len(df_r4_coconuts_vol)}\")\n",
    "print(f\"mean of ask volumes: {sum_all_ask / len(df_r4_coconuts_vol)}\")\n"
   ]
  },
  {
   "cell_type": "code",
   "execution_count": 54,
   "id": "b25eb786",
   "metadata": {
    "ExecuteTime": {
     "end_time": "2024-04-24T22:33:41.423021Z",
     "start_time": "2024-04-24T22:33:41.408548Z"
    }
   },
   "outputs": [
    {
     "ename": "NameError",
     "evalue": "name 'bid_price_diff_volumes' is not defined",
     "output_type": "error",
     "traceback": [
      "\u001b[0;31m---------------------------------------------------------------------------\u001b[0m",
      "\u001b[0;31mNameError\u001b[0m                                 Traceback (most recent call last)",
      "Cell \u001b[0;32mIn[108], line 2\u001b[0m\n\u001b[1;32m      1\u001b[0m \u001b[38;5;66;03m# Calculate the total weighted spread for bid and ask price difference volumes\u001b[39;00m\n\u001b[0;32m----> 2\u001b[0m \u001b[38;5;28;01mif\u001b[39;00m \u001b[43mbid_price_diff_volumes\u001b[49m:\n\u001b[1;32m      3\u001b[0m     total_bid_volume \u001b[38;5;241m=\u001b[39m \u001b[38;5;28msum\u001b[39m(bid_price_diff_volumes\u001b[38;5;241m.\u001b[39mvalues())\n\u001b[1;32m      4\u001b[0m     weighted_bid_spread \u001b[38;5;241m=\u001b[39m \u001b[38;5;28msum\u001b[39m(diff \u001b[38;5;241m*\u001b[39m volume \u001b[38;5;28;01mfor\u001b[39;00m diff, volume \u001b[38;5;129;01min\u001b[39;00m bid_price_diff_volumes\u001b[38;5;241m.\u001b[39mitems()) \u001b[38;5;241m/\u001b[39m total_bid_volume \u001b[38;5;28;01mif\u001b[39;00m total_bid_volume \u001b[38;5;28;01melse\u001b[39;00m \u001b[38;5;241m0\u001b[39m\n",
      "\u001b[0;31mNameError\u001b[0m: name 'bid_price_diff_volumes' is not defined"
     ]
    }
   ],
   "source": [
    "# Calculate the total weighted spread for bid and ask price difference volumes\n",
    "if bid_price_diff_volumes:\n",
    "    total_bid_volume = sum(bid_price_diff_volumes.values())\n",
    "    weighted_bid_spread = sum(diff * volume for diff, volume in bid_price_diff_volumes.items()) / total_bid_volume if total_bid_volume else 0\n",
    "else:\n",
    "    weighted_bid_spread = 0\n",
    "\n",
    "if ask_price_diff_volumes:\n",
    "    total_ask_volume = sum(ask_price_diff_volumes.values())\n",
    "    weighted_ask_spread = sum(diff * volume for diff, volume in ask_price_diff_volumes.items()) / total_ask_volume if total_ask_volume else 0\n",
    "else:\n",
    "    weighted_ask_spread = 0\n",
    "\n",
    "print(\"Total Weighted Bid Price Spread:\", weighted_bid_spread)\n",
    "print(\"Total Weighted Ask Price Spread:\", weighted_ask_spread)\n"
   ]
  },
  {
   "cell_type": "code",
   "execution_count": 86,
   "id": "836b9b03",
   "metadata": {
    "ExecuteTime": {
     "end_time": "2024-04-24T22:33:41.610881Z",
     "start_time": "2024-04-24T22:33:41.605733Z"
    }
   },
   "outputs": [],
   "source": [
    "import numpy as np\n",
    "coconut_past_price = df_pred_coconut['mid_price'].to_numpy()\n",
    "spread =[0.99] * len(coconut_past_price)"
   ]
  },
  {
   "cell_type": "code",
   "execution_count": 106,
   "id": "2596f6b1",
   "metadata": {},
   "outputs": [
    {
     "name": "stdout",
     "output_type": "stream",
     "text": [
      "Max PnL: 1822.9471666670502\n"
     ]
    }
   ],
   "source": [
    "import math\n",
    "def optimal_trading_dp(prices, spread, volume_pct):\n",
    "    n = len(prices)\n",
    "    price_level_cnt = math.ceil(1/volume_pct)\n",
    "    left_over_pct = 1 - (price_level_cnt - 1) * volume_pct\n",
    "\n",
    "    dp = [[float('-inf')] * (price_level_cnt * 2 + 1) for _ in range(n)]  # From -3 to 3, 7 positions\n",
    "    action = [[''] * (price_level_cnt * 2 + 1) for _ in range(n)]  # To store actions\n",
    "\n",
    "    # Initialize the starting position (no stock held)\n",
    "    dp[0][price_level_cnt] = 0  # Start with no position, Cash is 0\n",
    "    action[0][price_level_cnt] = ''  # No action at start\n",
    "\n",
    "    def position(j):\n",
    "        if j > price_level_cnt:\n",
    "            position = min((j - price_level_cnt) * volume_pct, 1)\n",
    "        elif j < price_level_cnt:\n",
    "            position = max((j - price_level_cnt) * volume_pct, -1)\n",
    "        else:\n",
    "            position = 0\n",
    "        return position\n",
    "    \n",
    "    def position_list(list):\n",
    "        return np.array([position(x) for x in list])\n",
    "\n",
    "    for i in range(1, n):\n",
    "        for j in range(0, price_level_cnt * 2 + 1):\n",
    "            # Calculate PnL for holding, buying, or selling\n",
    "            hold = dp[i-1][j] if dp[i-1][j] != float('-inf') else float('-inf')\n",
    "            if j == price_level_cnt * 2:\n",
    "                buy = dp[i-1][j-1] - left_over_pct*prices[i-1] -  left_over_pct*spread if j > 0 else float('-inf')\n",
    "            elif j == 1:\n",
    "                buy = dp[i-1][j-1] - left_over_pct*prices[i-1] -  left_over_pct*spread if j > 0 else float('-inf')\n",
    "            else:\n",
    "                buy = dp[i-1][j-1] - volume_pct*prices[i-1] - volume_pct*spread if j > 0 else float('-inf')\n",
    "\n",
    "            if j ==  0:\n",
    "                sell = dp[i-1][j+1] + left_over_pct*prices[i-1] - left_over_pct*spread if j < price_level_cnt * 2 else float('-inf')\n",
    "            elif j == price_level_cnt * 2 - 1:\n",
    "                sell = dp[i-1][j+1] + left_over_pct*prices[i-1] - left_over_pct*spread if j < price_level_cnt * 2 else float('-inf')\n",
    "            else:\n",
    "                sell = dp[i-1][j+1] + volume_pct*prices[i-1] - volume_pct*spread if j < price_level_cnt * 2 else float('-inf')\n",
    "                \n",
    "            # Choose the action with the highest PnL\n",
    "\n",
    "            hold_pnl = hold + (j - price_level_cnt) * position(j) * prices[i]\n",
    "            buy_pnl = buy + (j - price_level_cnt) * position(j) * prices[i]\n",
    "            sell_pnl = sell + (j - price_level_cnt) * position(j) * prices[i]\n",
    "            \n",
    "            # print(hold_pnl, buy_pnl, sell_pnl)\n",
    "            best_action = max(hold_pnl, buy_pnl, sell_pnl)\n",
    "            if best_action == hold_pnl:\n",
    "                dp[i][j] = hold\n",
    "            elif best_action == buy_pnl:\n",
    "                dp[i][j] = buy\n",
    "            else:\n",
    "                dp[i][j] = sell\n",
    "\n",
    "            if best_action == hold_pnl:\n",
    "                action[i][j] = 'h'\n",
    "            elif best_action == buy_pnl:\n",
    "                action[i][j] = 'b'\n",
    "            else:\n",
    "                action[i][j] = 's'\n",
    "    # Backtrack to find the sequence of actions\n",
    "    trades_list = []\n",
    "    # Start from the position with maximum PnL at time n-1\n",
    "\n",
    "    pnl = np.array(dp[n-1]) + (position_list(np.arange(0,price_level_cnt*2+1)) * prices[n-1])\n",
    "    current_position = np.argmax(pnl)\n",
    "    for i in range(n-1, -1, -1):\n",
    "        trades_list.append(action[i][current_position])\n",
    "        if action[i][current_position] == 'b':\n",
    "            current_position -= 1\n",
    "        elif action[i][current_position] == 's':\n",
    "            current_position += 1\n",
    "\n",
    "    trades_list.reverse()\n",
    "    trades_list.append('h')\n",
    "    return dp, trades_list, pnl[np.argmax(pnl)]  # Return the actions and the maximum PnL\n",
    "\n",
    "# Example usage\n",
    "dp, trades, max_pnl = optimal_trading_dp(coconut_past_price, 0.99, 185/300)\n",
    "# print(trades)\n",
    "print(\"Max PnL:\", max_pnl)"
   ]
  },
  {
   "cell_type": "code",
   "execution_count": 107,
   "id": "2037fffe",
   "metadata": {},
   "outputs": [
    {
     "data": {
      "text/plain": [
       "'bhhshhhhhhsshhhhhhhhhhhhhhhhhhhbbbhhhhhshbbhhhhshsshhhhhshhhhhhhhhhhhhhhhhhhhhhhhhhhhhhhhhbhhbbbhhhhhhhhhhhhhhshhhhbhhhhhhhhhhhhhhhhsshshhhhhhbbhhhshhbbhhhhhhhhhhhhhshhhbhhhhhsshhhsshhhbhhhhhhhshhhhbhbhhhhhhhhhshbhhbbhhshhbhshhhhhhhhhbhhhshhhbhshhbhhhhhhhhhhhhsssshhhhbhhhshhhhhhhhhhhbbbbhhhhhhhhhhshhbhhhhhhhshshhhhhhhsshhhhhhhhbbhbbhhhhhhhhhhhhhhhhhhhhhhhhhsssshhhhhbhshhhhhhhhhhhhhhhhhhhhhbhhhhhshhhhbhhhhhbbhhshhhhhbhbhhhsssshhhhbbbbhhhhhhhhhhhhhhhhhhhhhhhhhhhhhhhhshhshshhhhhbbbhhhhhhhhshhbhhhhhsssshhhhhhhhhhhhhbbhhhsshhhhhhhhhbhbhsshhhbbbhhhhshhbhshsshhhhhhhbshhhhhhhhhhhhhbhhhbhhshhshhhhhhhbhbhhhshbbhhssshhhhhhhhhhhhhhhhhbhhhhhhhbbbhssshhhhshhhbhhhhhhhhshhhhhhhhhbbhshhshhhhhhhhbbbbhhhhhhhhhhhhhhhshshsshhhhhhhhhhhhbbhhhhhhhsshhhhhhhbbbbhhhhhhhhhhhsssshhhhhhhhhbhhhhhhshhhhhhhhhhhhhhhbhbhhhbhhbhhhssshhhshhhhhhhhhhhhhhbhbshhhhhhhhhhbhbbhhhhshhhhhhsshhshhhhhhhhhhbhhhhhhhhhhbbbhhhhhhshhsshshhbbhbhhhbhhhhhhhhhhhhhhhhhhshssshhhhhhhhhhhhhhhhhhhhhhhhbhhbbhsshshhbhbbbhhhhhhhhhhhhhhhhhhhhhhhhhhhhhshbhhhshssshhhbshbhhhbhbbhhhhhhhhhhsshshbshhshhhhhbbhbbhshhhsshshhhhhhhhhhhhhhhhhbhbhsshhhhhhhhhhhhhhhhhhhhhhhhhhhhhhhhhhhhhhhhhbbhhhhbbhhhhhhshshbbhhsshhbbhhhhhhshhhhssshhhbhshhhhhhhhhhhhhhhhhhhhbbbhhshsshhhhhhhhhhhhhhhhhhhhhhhbhhhhhbbbhhhhhhhhsshsshhhhhhbbbbshhhhshsshhhhhhhhhhhbbhbhhhhshhshhbbsshshbbbbhhhhhhhhhhhhhhhhhhhhhhhhhhhssbbhhhhhhhhhhhhhhhhhhhssshhhhbbbhhhhhhhhhhhhhhhhshhbhhshhbhhhhhhhhhhsshhhhhbbhhhhhhhhhhhhhhhhhhhhhhhhssshshhhhhbhhhbbbhhhhhsssshhhhhhhhhbhhhhhshhhbhbbbhhhhhhsssshhhhhhhhbhhhshhhhhhhhhhhbbhhbhbhhhhhhhhhhhhhhhhhhhhhhhhhhhhhhhhsssshhhhbbhhhhhhhhbhhsshhbhhhhhhhshbbbhhhhhhhhhhhhhhhhshhshhbbhhhhhhhhhhhhhhhhhhhhhhsssshhhhhhbbbbhsshhhhhbbhhhhhhhhhhssshshhbbhhhbbhhhsshhhbbhhhhhhhhhhhhhhhhhhhhhhhhhhhhhhhhhhhhhshshhhhshhhshbhhhhbbhhhhbhhhhhhhhhhhhhhhhhhhhhsbhhhhhhhhhhhhshssshhbhhhshhhhhbbbbhhhhhshshshshhhhhhhbbbbhhssshhbhhbhbhhhhshhhhhhhhshshhhhbhhhshhhhbbhhshhhhhhhhhhhhhhhbhhbhhhhhhhhhhhhhhhhhhhhhhhhhhhshhhhbhsshbshhbbhhhhhhhhhsshshhhhhhhhhhbhbbhhhsssshhhhhhhhhhhhhhhhhbhbhhbbhhhssshshhhhhhhhhbbhhhhhhhhhhhhbbhhhhhhsshshshhhhhhhhhhhhhbbbbhhhhhhhsssshhhhhhbhshhhhhhhhbhhshhhhhbhhhshhhhhhhbhhhbhhhhhhbbhhhhshhshhhhbhbhhhshssshhhhhhhhhhhhhhhhhhhhhbhhhhhhhhhbhhbbhhhhhhhhhhhhhhshhhsshhhhhhbhhhhhhhhsbbhhhhhsshbbbhhhhhhhhhhhsssshhhhhhhhhbbhbbhhsssshhhhhhhhhbhhhhhshhhhhhhhhhbbbhhhhhssshhhbhhhhshhhhhbshhhhhhhhbhbhhbbhhhhhhhhhhhhhhhhhhhhhshshbbhhhhhhhhhsssshhhhhhhhhhhbbbhhbhhshshhhhhhbhhhhhshhsshhbbbbhhhhhhhsshhhhbhbhhhhsssshhhhhhhhhhhhhhhhhhhhhhhhhhhhhhhhbshhhhhhhhhhhhbhhhshhhhhhhhhhhhhhbshhhhhhbhbbhhhssshhhhhhhhhhhhhhhhhhhhhhhhhhhhhhhhhhhbhbhhhhhhhhbbhhhhhshhhbhhhshhbhhhhhhhhhhhsssshhhhhhhhhhhhhhhhbhhbhhshhhhhhhhshhhhhhhhhhhhhhhhhbhshhhhhhhhhhhhhhhhhhhhhhhhhhhhhhbbhsshhhhhhhhhhhbbbbhshhhbhhhhhhhhhhhhhhhsssshhhhhhhhhhhhhhhhhhhhhhhhhhhhhhhhhhhhbbhhhhhshhhbbbhhshshsshhhhhhhbbhhhsshhhhbhhhhbbhhhhbhshsshhhhbhhhhhbhbhhhhhhhhhhhhhsssshhhhhhhhhbbhhhhsshhhhhhbhbbbhhhhhhhhhhhhhhhhhhhhhshhbhhhhhhhhhhhsbhhhhhhhhhhhhhhhhhhhhhhhhhhhhhsshhhshhhshbhbbbhhhhhhshhssshhhhhhhhhbhhshhhhhhhhbbsshhhhhhhbbbhhbhhhhhhhhhhhhhsshhhhbbhhhhhhsshhshhshbhhhhshhhhhhhhhhhhhhhhbbhbbhhhhhhhhhhhhhhhhhhhhhhhhhhshhhhbhhhhhhhhhhshhbhhhhhhhhhsshhhhbbhhhhhhhhhhhsshhhhhshhshhhhbbbbhhhhhhhhhhhhhhhhhhhhhhshhhhhhsshhhhhhhhhshbhhshhhhhhhhhhhhhhbhbhhhhhshhhbhhhbhhhbhhhhshsshhhshhhhhhhhhhhbhhbhbbhhhhhhshhbhhhhhhhhhhhhhshhhhshhbhbhhhhhhhhhhhhhhhshhhhhbhhshhhbhsshhhhshhhhshhhhhhhhhhhhhhhbbbbhhhhhhhhhhhhhhhshsshbhhhsshhhhhhhhhbhhhbhhhhsshhhhhbhshhhhhhhhhbhhhhhhhhhhhshhhhhhhhhhhhhhhhhhbbbbhhhsshhshhhhshhhhbbhhbhhhhhhhhhbsshhsshhhhhhhhhhhbbbbhsshsshhhhhhbbbhhhhhhhhhsshshhhhbbbhbhhhhhhhsssshbhshhhhhhhhhhhhhhhhbbbbhhhhsshhsshhhhhbhbhhbhshhbhbhshssshhhhhhhhbhhhhhhhbbhhhhbhhhhhhhhhhhhhhhhsshhsshhbhhshhhhhhhhhhhbhshhhhbbhhhhhbbhhhhhhhhhhhhhhhhhhhsssshhhhhhhhhhbbhshshbbbbhhhhhhhhhhhhhhhhhhhhhhhhhhhhhhhhhshhhshhshhhbhhbbhhhhhhshhshbhhhshsshhhhhhbbbbhhhhhhhhhhshhhhssshhhhhhhbhhhhbhhbbhhhhhhhhshshbbhhhhhhshhhsshbhbhbhhhhhhhhhhhsbhhssshbhshhhhhshhhhhhhhhhhhhbhhhshhhhhhhbhhhbhbbhhhhhhhhhhhhhhhhhhhhhhshsshhhbhhbbhhhhhshhhhhshshhbbhsshhbbbhhhhsshhshshhhhhbhshhhhhhhhhhhhhhhhhhhhhhhhbhhhshhhbbhhhhhbhhhshhhsshhhhhhhhhhhhhhhbbhhhhsshhhhhhbbbhbhhhhshhhshhhhhhhhhhbbhhhsshsshhhhhhhhhhbhshhhhbbbbhshsshhhhshhhhhhhhhhhhhbbbhhbhhhhhhhssshhbbbhhhhhsshhhhhshhshhbbhhhshhhshhhhhhhbhhbhhhhhbbhhssshhshhbhhhhhbhbhhhhhshhshshhhhhbhbbbhhhhhhhhhhhhhhhhhhhhshbhhhhhhhshhbhhhhhhhhhhhhhhhhhssshbbbhhhhhhhhhhshhbhhhhssshhhbhbhbhhhhhhshhhhhhhshshhhbhshshbhbhhhsshhhhhhhhhhhhhhhhhhbbbhhbhhhhhhhhhhhhhhhshhhhhhhshhhhhhhbbhssshbhhhbbhhshhsshhhhhshhhhhhbbbhhbhhhssshbbhhshhsshhhhhhhhhhhhhhhbbhhbbhhhhhhhshhhhshhhhhhhhhhhsshhhhhhhhhhhhhhhhhhhhhhbbhbhhhhhhhhssshhbhhbbbhhhhhhhhhhhhsshhhhshhhbbbhhhhhhhhhhsshshhhbhhhhbbhhhhhhhhhhhhhhhhhhhhhhhhhhshhhhbhhhhhhhhhhshbhshhhbhhhhhhhhhhhhhhsshhshhbbbhshhhhhbhhsssshhhhhhhhhhhhhhhhhhhhhhhhhhhhhbbbhhhhbhhhhhhhhhhhhhhhhhhhsshhhhhhhhhshshhhhhhhbhbbhhhhsbbhhhhhhhhhhhhhsssshhhhhbhhbbhhhhhssshhhhhhhhhhhbbbbhhhhhhhhhhhhhhhhhhhhhshhhhhbsssshhhhhhhhhhhhhhhbhbhhhhhhhhhhhhbbhhhhhshhshhhhhhhhbhbhhhhhhsshhhhbbhhhhssshhhhshhhhhhhhbbbbhhhhhhhhhhsshsshhhbbhbbhhhhhhhhhhhhhsssshhhhhhhhhhhhhhhhhhhbhhhhhhshhhhhhhhhhhhhhhhhbbbbhhhhhsbhhhhhshhshbhhhhhssbhbbhhhhhhhhhhhhhhhhhhhhsssshhhhhhhbbhhhshshbshhhhbbhhhhbbhhhhhhhhhhhhhhhhsshhhhhhbbhhhshhhshhhhhbhhhbhhhhhsshhshhshhhhhhhhhhbbbbhhsssshhhhhhhhhhhhhhhhhhhhhhhhhbbbhhbhhhhhhhhhhhhhhhhshbhhhhhhhhhhhhhhhhhhhhhhhhhhhhshbhhhhhhhhhhhhhhshhhhhbhhhhhhhhhhhhhhhssshhhshhbbhbhbhhhhhhhhshshhhshhbhbhhhhssshhhhhhhhhhhhhhhhhhhhhhhhhhhhhhbhhhhbbbssshhhhhhhbbhhsshhhshhhhhhbbhbbhhhhhhhhhhhhhhshssshhbbbbhhhhhhhhhhhhhhhhhhhhhhhhhhshhsshhhhhhhhhhbhhhbhbhhhhhhhhhhhshbhhhhhhshhshhhhhhhbbhhhhhhhhhhhhhhhhhhhhhsssshhhhhhhhhhhhhhhhhhhhhhhbhshhhhhhhbhbbbhhhhssshhhhbhhshhhhbhbhshsshhhhbbhbhhhhsshshhhhhhhbbbbhhhhhshbhhsssshhhhhbhshbbbshhbhhhssshhhhhhhhhhhhhhhbbhhshhhhbhhshshhbhhbhhbbhhhhhhhssshhhbhbbhhhhsshhhsshhhhbbshhbhsshhhhhhhhhhhhbhhhbbhssshhhhhhhhhhhhhhhbhshhhhhhhhhhhhhhhhhhhhhhbbbbhhhhhhhhhhhhhhhhhhhhhhhhhhhhhhhhhhhhhhhhhhhhhhhhhhhhhssshshbhhhbbhbhhhshhhhhhbhhhhhhhhhhhhhsshshshhbhbbbhhhhhhhhhhhssshhhhhbhhhhbbhhhhhhhhhhhhhhhhhhhhhhhhhhhhhhhhhhsshbhhhhbhhhhhhhhhsshsshhhhhhhhhhhhhhhhhhhhhhhhhhhhhhhhhhhhhhhhhhbhhhhhhhhhshhhhhhhhhhhhhhhhhhhhhhbbhhhhhshhhhhhhhhhhbhhhbbhhhhhhhhhhhhhhhhhhhhhhshhhhhssshhbshhhhhhhhhhhhhhbhhshhhhhhbhhshhhhhhhhbbbhhbhhhhhssssbhshhhhhhhhhhhhhhhhhhhhhhhhhhbbbhsshbhhbbhhssshhhhbbhhbhhshhssshhhhhhhhhhhhhhhhhhhhhhhhhhhhhbhhbhhbbhhshssshhhhhhbhbbbhhhhhhhhhhhhsssshhhbhhhhhbbhbhhhhhhhhhhhsshhbhbhhhshhhhhbhhhhshhssshhhhhhhhhhhhhhhhhhhhhhhhhhhhhhhhhhbbhhbbhhhhhhhshsshhhhshhhhbbbhhbhhhhhhhhhhhhhhshhhssshhhhhhhhhhhhhhhhhhhhhhhhhhhhhhhhhhhhhhhhbhbbhhhbhhhhshsshhhhbbhhhhsshshbhbshhhhhshhhhhhhhhhhhhbhhhhshhhhhhhhbbbbhhhhsshhhhbhhhhhhhhhhbhhhhhhhhhhhhhssshhbhhhbbhhhhhhsshhbbhhhhhhshhhhbhhhhhsshhhhhshhhbbbhhhhhhhhhhhhhhhhhhhhhsshbbhhhsssshhhhbhhhhshhhhhhhhhhhhhbbbbhhhhhhhhhhhshhhbhhhhhhhhssshhhbbhbhhhhsshhhhshbhhhhhhhhsshhbhhhhhhhbhhhbhhhhhhhhhhhsshbbhshhhbbhhhhshhsshhhhhhhhhbhbbhhshhhhhssshhhhhhhhhhbhhhshhhhhhhhhhhhhhhhbbbhbhhhshhhhhhssbbbhhhhhhhhhhhhhshhhhssshbhhbbhbhhhhhhssbbhhhhhhshhbhhshhhhhbhhhhhhhhhhhhhhhhhhhhhhhhshbhshhhhsshbhbbhhhhhhsssshhbbhbhhhhhhhhshhhhbbhhhhhhhhhshbhhhhhhhhhhhhhshhhhhhhhhhhhbhhhhhhsshhsshhhhhbhhhbhhhhhhhhbhbhhhsssshbhbhhhbbhhhhhhhhhhshhhhssshhhhhhhhbhhhhhhhhhbhhhhbbhshshhhhhhbbhhhhhhhhhhhshssshhhhbhhhhhshhbbhhbbhhhshbhhhhhhhhshbhhhhhhhhhhhhhhhhhhhhhshhshhhbbhhhhhhhshhhhhshsshhbhhhhshhhhbhhhhbhhhhhbhhhbhhhhhhhhhhhhhhhhhhhshssshhhhhhhhhbhhbbbhhhssshhhhshhhhhhhhhhhhhhhhhhhhhhhhhhhhhhhhhhhhhhhhhhhhbhbbbhhhhhhhhhhhhsshbhhshshhhhhbhhhsshhhhhhhbbbbhhhhhhhhhhhhhhhhhhhhsbhhhhhhhhhhhhhhshhhhssshhhhhhhbbbbhhhhhshhhhhshhhsshhhhhhhhhhhhbbbbhhhhhhhhhhhhhsshhhhshhbhhshhshhhhhhhhhhhhhhhhhhhhhhhhhhhhbbbbhhhhhhhhsssshhhhhhhhhhhhhhhhhhhhhhhbhhhshhhhbbhhbhhhbhhsssshhhhbbbhhssshhhbhhhhhhhhhhhhhhshhhhhbhhshhbhhbbhhhssshhhhhhhhhhhbhhshhhhhhhbhhhhhhshhhhhhhhhhbbbhbhhsshhhhhhhhhhhbbhhshsshshhhbbhhsshhhhbhhhhhhhbhsshbhhhhhhhhhbbbhhhhhhhhhshsshhhhhshhhbbbbhhhshhshhbbhhhhhhhhhhsbhhhhhhhsssshhhhhhhhhhhhhhhhhbhhhbhhbbhhhhhsbhhhhhhhhhssshshhhhhhhhhhhhhbbhhhhsshhhhhhhhhhbhbhsshhhhhhhbbhhhhhhsshhhhbhbshhhhshhbbhhhsshhhhhhhhbhhhhshhhhbhbbbhhhhhhhhhhhhhsshhbhhhshhhhhhhhhshhshhhhhhhhhhhhhhhbbhhhbbhshhhhbhssbbshssshhhhhbhhshhhhhhhhhhhhhhhhhbhbbbhhhhhhhhhhhhhhhhhhhhhhhhhhhshshhhhhsshhhhbhbbbhhhhhhhhhhhhhhsssshhhhhhhbbbhhhhhhbhhshshhbhsshhhhbhsshbhhsbbhhsbbbhhhhhhhhhhshhhhbhhhhhhhhhhhhhhhhhhhhhhhhhhhhhhhhhhhhhhhhhhhhhhhhsssshhbbhbbhhhhhhhhhhhhhhhhhhshhhhbhhhhhhhhhhhhshshhhhhhhshhbhhhhhhhhhhhhhhhbhhhshbbhhhhhhhhhhhhhhhhhhhhshhhhhhbhhhhhshhhsshhhshhhhhhhhhhhhhhhhbbhhbbhhshhhhhhhshhhshhhbhhbhhhbhhhhhhhhhhhhhhhsssshhhhhhhhhhhhhhhhhhhhhhbbbbhhhhhhhhhshhhhhshbhsshhhhhhhhhhhhshhhhhhhbbhhbhhhsshbbhshhbbhhhhhhssshhhsbhbhhbhbhhhhhhhhhhhhhshhssshhhhhhhhhhhhbhhhhhhbbhhbhhhhsssshhhhhbbhhhshhbhhhhhhhhshhshhhhbbbbhhhhhhhhhhhhhssshshbbbhbhhhhhhhhhsshhhshhhbhhhbbhhhhhhhhhhssshshhhhhhhhhhhhhhhbbhhhhhhbbhhhhhhhhshhhhhshhhhsshhhhhhhhhhbhhhhhhsbhhbhhhhhhbbhhhhhhhhhhhhhhhhhsssshhhhhhhhhhhhhhhhhbbbhhsbbhhhhhhhhhhhhhhhhhhshshshhhhbbhhhhhhhssshhhhhhhhhhhhhhhhhhhhhbbhhhhhsshhhhhhhhhhhhhhhhhbbbhhhhhbhhhhhhhhshssshhhhhhhhhhbhhhhbbhbhhhshshhhbbhhhhhhhhhhhhhhsshhshhbbbhshhbhhhhhhhsbhhhshhhhssshhhhhhbhhhbbhhbhshhsshshhhhhhbbbbhhhhhhhhhhhhhhhhhhshhbhhhhhhhhhhhhhhhhhhhhhhhhshbhhhssshhhhhhhhhhhhhshhhhhhhhbhhhhbbhhbhhhhhhhssshhhhhbbhshshbhhhhhshhbbbhhhhhhhhhhsssshhhbbhhhhhhhhhbbhhhhhhhshhbhhhhhsshshhhshhbbhhhhhsshhhhhhhhhhhhhbhbbbhhhhhhhhhhhhhhshshhhsshhhhhhbbbbhhhhhhshsshhhhhbbbhhhhhhhhsssshhhhhhhhhhhhhhhhhhhbhbhbhhhhhbhhhsssshhhhhhhhhhhhhhhhhhbhhhbbbhhhsssshhhhhhhhhhhhhhhhhhhhhhhhhhhhhhhhbhhhbbbhhhhhhhhhhhhhhhhshshsshhhhhhhhhhhhhhhhhhhbhhshhhhhhbbhbhhhhhhhhhhhssshhhhhhhhhbhhhhshhhhhhhhhhbbhhhhhhhhhhsshhhhhhhhhhbhbbhbhhhhhhhhhhhhhhhsshshhhhbhhbhshbbhhhhhhhsshhhhhhbbhhhhhsshbhhhhhhsshhhbhbbhhhhhhhhhhhhhshhhbhhhhhhhhhhshhhhhhssshhhbhshhhhhhhhhhhbhhbbbhhhsbhhshssshhhhhhhhhhhhhhbhhhshhhhbhhhshhhhhhhbbhbbhhhhhhhhhhhhhhhshshhhbhhhhhhhhhhbhhhhhhhhhhhhhshhhhshhhhhbhhhbhhhhhhhhhshhhssshhhhhhhhhhhhhhbhbhhhhhhhhhhhhhhhhhhhhhhhhbbhsh'"
      ]
     },
     "execution_count": 107,
     "metadata": {},
     "output_type": "execute_result"
    }
   ],
   "source": [
    "trades_string = ''.join(trades)\n",
    "# len(trades_string)\n",
    "trades_string"
   ]
  },
  {
   "cell_type": "code",
   "execution_count": 99,
   "id": "d00b0d01",
   "metadata": {},
   "outputs": [
    {
     "data": {
      "text/plain": [
       "[[-inf, -inf, 0, -inf, -inf],\n",
       " [-inf, 4885.856166666667, 0, -4887.077166666667, -inf],\n",
       " [7923.201666666667,\n",
       "  4886.164500000001,\n",
       "  0,\n",
       "  -4887.077166666667,\n",
       "  -7925.181666666666]]"
      ]
     },
     "execution_count": 99,
     "metadata": {},
     "output_type": "execute_result"
    }
   ],
   "source": [
    "dp[0:3]"
   ]
  },
  {
   "cell_type": "code",
   "execution_count": 315,
   "id": "39100a4a",
   "metadata": {},
   "outputs": [],
   "source": [
    "df_pred_coconut24 = [9883.5]\n",
    "for i in df_pred_coconut['mid_price_returns_in_1_its']:\n",
    "    if pd.isna(i):\n",
    "        df_pred_coconut24.append(df_pred_coconut24[-1])\n",
    "    else:\n",
    "        df_pred_coconut24.append(df_pred_coconut24[-1] * (1 + i))\n",
    "df_pred_coconut['COCONUT_pred_price'] = np.array(df_pred_coconut24[:-1])\n",
    "df_pred_coconut['COCONUT_pred_price_diff'] = df_pred_coconut['COCONUT_pred_price'].diff().shift(-1)\n",
    "df_pred_coconut['COCONUT_actual_price'] = df_r4_coconuts['mid_price']\n"
   ]
  },
  {
   "cell_type": "code",
   "execution_count": 328,
   "id": "6b1ce473",
   "metadata": {},
   "outputs": [],
   "source": [
    "pred_returns_price_list = df_pred_coconut['COCONUTS_price_diff'].to_numpy()\n",
    "pred_returns_price_agg = []\n",
    "sign = 0\n",
    "sum_return = 0\n",
    "for i in range(len(pred_returns_price_list)-1, -1 ,-1):\n",
    "    if np.sign(pred_returns_price_list[i]) != sign:\n",
    "        sum_return = 0\n",
    "    sum_return += pred_returns_price_list[i]\n",
    "    pred_returns_price_agg.append(sum_return)\n",
    "    sign = np.sign(pred_returns_price_list[i])\n",
    "pred_returns_price_agg = pred_returns_price_agg[::-1]\n",
    "df_pred_coconut['COCONUT_pred_price_agg'] = pred_returns_price_agg"
   ]
  },
  {
   "cell_type": "code",
   "execution_count": 332,
   "id": "8f2d8f2e",
   "metadata": {},
   "outputs": [],
   "source": [
    "trades_list = []\n",
    "for ret in pred_returns_price_agg:\n",
    "    if ret > 0.5 and ret <= 2:\n",
    "        trades_list.append('b')\n",
    "    elif ret > 2:\n",
    "        trades_list.append(\"B\")\n",
    "    elif ret < -0.5 and ret >= -2: \n",
    "        trades_list.append('s')\n",
    "    elif ret < -2:\n",
    "        trades_list.append(\"S\")\n",
    "    else:\n",
    "        trades_list.append('h')"
   ]
  },
  {
   "cell_type": "code",
   "execution_count": 333,
   "id": "b2f35579",
   "metadata": {},
   "outputs": [
    {
     "data": {
      "text/plain": [
       "'BbbsshhhbhhSssbshsbshhbhhhSshhshhhbshbbshhhBBbbsbhshsbhbshhbshSshssbSshhhhbsbsbhshhhhbhSsshhsbhbhhhhhbhhBhsshbhhhshBbhBBbsBBBbhhhsbbhhbShhhhsshBBBbSshBBBbhhbhhhhshBbhhsshhhhbbhsbbhsshssbhhhbshbsbsshhhbhhhhhhhhbssbshhBBbhSsBbshbshbshhsbhhbsshsBhshhbbbshshbhhbhbhhhSbhsshhbhsbshhshshsshhsBBbhbhhhbbhbsshhbhhhBbbhhsshbshBbSShhssbbshhhhBbbhhhhhhbhhhhhBbshhshhbhBBBSSShbSssbbSshhhhbhhbhhshhshhbshhbhhbbhSshshhhhhhsBBbbshhhhhbsbhBbhhhSSSSShhBBBBbbhhsbhbhhBbhsBbhbhshhhbhbbhhbshbsbShhhhSBbbhhssBbsbshsbbsBBbbshshSshhhhbhhhhshBBbbshhSshshhhshhbbhSshshhbbhhbSshBbsbsshhhshhSbSSSSshsshhhhbshhshBbhsbbsbhSshhsbsbhhbsshBBbbSSSsbhhhhssbSSsshSsbshhhhssBBbbhhSsbhbshhshbhhhsbbhhhhhshhSSsBbbshbhhshbhshsshBBbhhhbshbhhhsBbhsbsbhSsshhhbsshhbshbhhhhbhhSsbsbhhhShhbhhbhhhhhhBhbhshhSSshhhhhsbbhhhhhSshbshhhshhhbshhhhhhhhbbshBhbhSshbbSshshhshsbhshhsbsBhhshhhhbhhshsbhhbhbsbhhhhhhshhhhsshsbSSshhhbhshhbhSssBBbhBbhBhhbbshshhhhhbbssbbhBBhhhhhhhshhhbhbhbhhshhhhhhhhhshhbshhhbhsbshsbsshBbhsbSsshshBbbbshhhbhbhhhhhbhshbshhbhshhbhsshhBbsbhshsbsbsshhhsbshBbhshbshbhhhhhSsbshbSSSSSshbhhbbhhhbhsbSSshhhSsshhhhhhsshhsBbhssshhhhhhhhhshhbssshhbhhhsshhshsbhhhSshhhshbbshshBbhbhhbsbSshBBbhshshbhhsbhbhhshBhSSSssbhshssbhSsshhbsshhsshhshBBbhhhhhshSshSSSSSSSshhbshhSSssbbhhSShBBBhshBBbbhhbSSsshhhhhhhBshbbbshhhsbhshhhhhhshbshhbhbsbhSssBBhhhSshhhhhbhbhsbhsBBBBBbbhhhBBBBbbhbhshBbbhhhhbsbhbhsshhbbbhhshhSsbhbhhshbhsbhbhshbhbshshbbhshBbhsBbhhhhhhshhhSsBbbhshbhhhbbhhhhsBBbbhhbhbbbShshhshSbhhshhBhhBbbhhsshsshhSsshhbhhhbSSsshshhBshhBBbbhhSsbhSbshhbhbhhsbShhshhshshbshbshbhhhhhhhhbhbhhsbbhBbbhbhhhhBbbhbhhhSshhsbbhhhsbhhsBbhhSshbbhshbhbSshBbhhsbhhhbhhhhhsbhsbhSssBbbhhshhbhbhhhBBBbhhhhhbhSSsshhSsshhhBbbshshhSBBBBBBbbhhhbhshhSSSsbhhsbhhhBbshshbbhhhhbshBbhbbhhshBshhhbbhhhhbbsbhshhhbhhsbhhhssbhSsbbsshhbhhhhhhBBbbhhhshhhbhshhhBBbshBbhshBbbsBbhhbhSSSsBBbbSSshhshsBbhbbbhsbhhhhSSshSssshhhhBbhhhhsbSsbsbhbhbhhhhhhhhbhhhhhhsbhbbshhssbbhbsshbhhhhhhhhhshsbhsbbbsbhhhhbhbhsbhhbhBbbbhsbhbhssshBbhSsBSssbhbbhhhhhbbhhhsbhhhshhhshhsBBbbhhhhshbsshshhhhshhhhhsbhbbsbbhsBhhsbshbsbhhSshhhbhhhhhhhshhsBBBbhhbbhhhhbSsbhhhhhSssbhshsbhhhhhbhBbbshshhhshbbshhhhhhhhBbbshhhssbhhhsbSshhhshhhSbhhhhhshbhhbbhhbsshhshsBhhbsbhshhhhhsbSsshhhbhhSssbsshhbhhhhhSsbssBbbhshhbshbbhhsbshbhhshhhhhsbbhhshhbhSbbhhhhbSShhhBBBbbshbhbhbbshSSsbshSSSSBbsbbhbhhhshhhhhshshhbhhhbsshshhshsbSshBbhhbbhSsbSshhbbhSsshhsbssbshsshhhsbhsbhhhhhhhhhBbbhshbshBBbhsbSshhhhhhbhBBBbhhshSshhbhhhSshbhshBbbsbhhhhhhsbhsbbhhhhhshSssBhhBBBBBbhshhssbsBbsBbbSSSshhhshhhhhhhhhhbhsshhhhbhshhhhssbhhhhsshhhhSSsbbhhSsbhshhhhhShbssbsbshSSShsbbhBbhhssbhSSsshhhhhbhshhhbshssbhsbhssbssshhsbhbbhshsshBbhbhbshshhBbbshsbhhbhbhbhhhbhhhSshbshhbhhhshhhhsbhhbhhssbhssbbhsshshhhbSssbSshhhSBhhhshhsshhshbhSShsshhhhbhssbSSSsBBbssbsbSSSSSSSSsbhbbsbssbhbbhbshbhBbsbhbbhhhhSshhsshhhhsshshbshbhSshhhshhbhbshbshbshhbbSSsshBbhbsbsbhshshhhsshhhBbSshhsshbhsshbhbhsBbhbhshSssbhhhhhhhbbhshhBBBbhhbhhhhsbshbhhhSssbhbhbshhhhSshhssBBbbhsbhhhhhhBBBBBbhBBbsshbhhhBbshhhhbshbshhhbhshbhhhhhhshbhhhBBbbhsbhshbbhhhbSshssBBbbhbbhhhbhSSshshhhbSsbbhhhsshbshshBhhhshsshshsbhhhbbhhhsshhhhBbbshsshbbhhhbhbhsbbshbSsbsbbhshbsshhhhbhsbshhhhhsBbhbhhhhhhbhshbshbhhhhshbbhBshhhsbhhbhhhshhbssshbhhbbshbbhshsshhhbhbhhhhbsBbhshbsbbshbShhSsshBBbsbhhBbhhhhbhhbbshhhbbshhhhhbhshhhhshhbhssBbbshSshhhhhhshhSsbhhhbhhbsbhsbhssbhhsbssBbhhhsbsbsbhhshsshhshhhsbhhhhbhhhbSshbhbhhhhBBbhBBbhhhbhhhshhbhhhbhbhbbhhshBbsbhshsBBbsshhBbhshbhhSshbbshshshhshbbhshhhhsbhhbhsbhbhbhbsbhhhhhSSBbhhSSSsshhsshhhhhsbhhbhhSssbssbbsshhshhhhhbhhhhhhhhhhbsshhshhsshshhbhSSSSshBBBbbhshbshhsBSSSSSsBbsbhshhsbsssBhshbhSSsshhhhhSSshhBBbhsBshhhhshssbbhhhshbhbbhsbSshhshhhhbhhBBBBbhhhSsbbshhhhhShbbhshbbSsshhbhbhhhhhbsshhSSshshhhBbshhhhhbhbsssbshhhshsbhhbshshhbhhssbhhBbbsbhhhhBbhsBhhhbSshsbbbshhhhbshhsbsbbhhSsshbhhhshbbhhhbsbhshhhBbbbhhhbhhhhshhhbshSsshBhshSSshsbhhBbbhhhhhhhBBBbhBBbbhbhhshhbhhhbhhhbsbhsshshhhBbbshhhBsbhshbhhbhhssbshssshhhbhbhhbhhbhBshhsBhSsshhsshshhhssbhsBbhhhhhhbbsbsshhhbbhBbshbhhSsbsbsbshhhBBbbhbhsBbbhhSsbbshhhbbhSsshbssbhSSSSbhhbshhshhhsbhhshhbbhsbhshbhhshhhhhhhbhhbbhhhshhshhshBbbhhBsbhhhbsbSshhBbhSsshBbbhbbhsbhsbhhhsbSBbSSSSssshbhhhSSsshshshhhssbhbhsshshhhhhshbhhbshhbhhhSsshshhhhhhSSsbbhbbbsshhhhhshbhhhhhbbshhbshshhhbshhsBBhhbbshhhSshhhhhhshBbhhhSsshBbbhbbshsbhshshhhhshSSSsshhhhhBBshBBbbhhSSshbhbhhhbshhhsbhhhhSsshbhbhhhhhhhhhhshhhhsBbbSssBBBbbshsBSsshhbSssbsbhhbhbshbshSsbshhbshhbhbbshhbhbhbhbhhhhhbbssbhbshhbbhhsbsBBBbhhshbbhhBBbbhhSshhhbhhhbbhhbhhhsBbsBbhsshhshhhhbbshbhhshhhhBbbsbshhSBhhhhshhbhhbsshbhhhsbhshhhhhhhhsshbhsbhhbhhhbsbhbshBbshbhhhhbshbshbSshBbhhSsbhbshBbbhhbSsshhhbSSSSSshhhhhhBbbhhhSssBBbshbhSsbhhhhhhhshhhshhbhSBbbhsbsbbsbhhhshhbhhhhbsbbhshshshhhshhhhhbbsshhhhshhsBbbhhhshbhhSsshhhhhbhbhssbbhhBbbhshhbbSsshhhBbhhhsbhhhbhhhshshhbhssbbhhhhhhhbhsbhhbbhhbhhhhbhBbshhhshhhhbhbhbbbssbbshSsBbhhshbssBhssbhhhsbSshhhBbshhhhsBbbhhSSsshhhSshhhhshbhhhshhhhhhhshhshhbhhshbbhhbhhBbhhbhhhbhhBbhshhsbbhsbbsbshhhhshsbsbbhbhhshBbhhhhhhhbhsBBbhshhhSshbsssbhhhBbhhSshbhSSssshSsBBBbbsshbhhhhhbhshbshhhbshhhssBbhSshhhhsbhhshshSshhsbhhhbbhhhhSSSBhhbhbhssbhhhhhhSssbhbhBbhhbhhhsshhbhBbbhssbhhbshshshbhshhhbhhhshhbhhBhsbshhSsbhhhhbhhBbbsshhbhbhhsshSsbshhhhsshhhhbshsbhsbhhhsbhshSshbSSSsbsshSshhbhBhhbSbsBBBbhhhshbhhhhhhshhhhhhhhhhBbbhBbhhhhhshBhhhshhshhhhhbhhbhbSsbshhhshhhhbshBbbhhhhhhhhbshsBbhshshhhshhbsbhhbbshsshsBhshhbhhbhhsbhsbhhhsshhbhSSSSBBBBBbSsshhSshhhSsshhshshshhhhSShshbbhsbhbsBBbbhhhhbbhhbSshbhhhhbbhbhhhbhhBBBhhBbbhhbhbshBBbsbhhhhshbsbbsshhshbhbshBBbbhhbhhhBbshhhhSshhhhhhhbhhsbhbhhhhhsbsshhhbhbhbhhshhhhshhshbSssbhshhhhshhhSshshhbhhsshBBhssshhbhSshBBbshhhbSSSshhshbhhhBbhhhbshhbbsbhhbSsshshhhBhhhhhbbhshBbhbhhhssbhhbhhbshbhsshhhhhbhssbhhhhhBbbhhhBbhhbhSsbhhhBbbsbbshshbshsBBBBbhshbbhsbsbhhbhhhbbhbSSssbhshhhshbsbshshbbhSssbbSshhhhhshshBBBBBbbSsshhsbhhSssshbsbbhbSssshssbhbhbbbssbhhhshhshhhhhBbbhhhsBBbhhhhshbhsbbSsshBsshhhBBhhSssbshhhshbhhSsshBbbhhhhsbhhsbSSsbshhhhhhhBBBBBbhSsbshhhbbbshbhhhbhshhhSshbshsBbhshhhsbhhshhhShhsshBbsshhhhSshbshsshhhsbbhhshhhshhbsbSsshSSSSssshsBbhhhbhBbhhhbhshhhhhBhsbsBbhbhhhhhsbhhhhhhshhshBbhhhbhBhSsbSshhSsbbhbhBbhshhhhsBhhsbhshhBhBbbhsbhbSsshssbbhhhshhBBBBbhSSshhhhbbhsshhhhBshbhhbhbshhhhhbshhhhbbhbhbhhbsBSssbbsshBbhhBBbhhbssbhSbhsbhhsshshhSSSSshsshshhsshhshhshsbhhshhshbhhsbhsbhbshhshbhhshhhhbhhhhhSsssbbbhsbbsshhhhbshhbSBsshhbbshbhhhbsbhhbhhsbhhhhbshhhbbSSSSSbSShSshhbhhhhhshBbhshhSsshbhbshsshhSsshhbshbshbbhhhhSBbSSSSshhsbhhhSsbSshshhSSSSSSsBBbhSsbhshbhBBSsshhhhbhsBbbhhhhhshhhhbhhhhsbSSSSsbhsbSSSshhbSshhshhhbbhbhbhshhshSsshsbhbhhbhhBBBbhhbhhhSshhbhhhshhbhBbsbbsbhBhBbhSssBsbbhhsbhsshBbbhhhhhhhSsshSSsshhbhSsshshbhhSSshhbbhsshhhsbhhshhhbbbhBbhbshhhbhshssshhhshBbbshhbbhhhbbhhsbhbshshhhshhhhshSSSshbhhhhhSSSshshsbhhhhhSSSsshsbbhhsBbhhbhbhSsbsshbhbhbshhSsbsbshshhbshSshhSsshhshshhbbhshbhShbSSsbhBbhbbhsshhsbhbhhshbsssbhbbhhhbhhbhBbbSshshhhhbhhbhhhbhSssBBBBBBbhshhssBhhhhbsshhhhbSsbShBBsshhhhhbhsbhsbhshbhBbSSssBbhBbshshhssbbhhbshshssbhhSsshssBBBbhbhsbhhhhbshhshhbbhBbbhhbshhshhhBBBBbbSbhhhhSbbsbhhhhbhshsbhhhsbssbbshbbhhhbsshhhbSSshBhsshshBBbbhhhbhshhhhhhhSsbsBBbbhhshbbhSshshshhSSshbbhhshhhSsbbshbsbSSSSsbhhbhhbshhbhhbhShhbbhhbhshhhbhbbhhhhhhhssbshhhhbhhhbhbhshbhbhhbhshsBbhhhhsshBhhsbhhhhhhhhhbbhsshhhbbbshbhshbhbhsshhhhbhbhbhhhhshSsbsBbhhhhhhbshhshhbhhhbbhhbbssbsbshbhhhbhhhhshbshbshbhhssbhhhbsbhsbbhshhhhsbhhsbbbhsshhsbsbhBbbshsshhhhhhBbbshhhbhhbbshhhbhshhSSshhSsbbsshbhhhsbhbSsBBBhbssbshhshBbhshhbhhhhhhbshhhsshhhhsbhSSshbshbbhbbshbhhbshbhhSsbhhhhhhhbhhhshhhhBBBbbsbhshsshbhhbbbhhshhhbhhbSsbsbbhhhhhSssbhhhshhhhhsBhhhbhhsbbbshbbhbhhhshhbhhhhsshhhhhsshhhsbhBBBhhhsshhbSshbhSshhhhhhbhSsshSshsbbhsbhssbhhhsshsshhSshhshbhbhbhhbbhsBbbSSsBbbsbShhhbsbhsBhshsshhSshhbbhhshhhbhhBBbhsbhhhbbSbshbhhbssbhBBBbsshhbhhhhsbhshSsbbhhhbhbhhsbhbssbhSsshshhhshbhSSshbhbhsbhhhbhhbhbhhsbbhhhsbbhsbhhhhhhhhSbhsshhSSshhhhsbhhhshshhhbhbhhhBbbbshhshbshhshhhbhshbbshhSSSshhbbshshsbhshbhshBBBbbSSsshshsBBbhshhssbshhbhhbhssbbhhSbshshbbhsssbSssBhhbhshhshshshhhhsbhbshhhbhShbhhhhhbshhhSshhsshhhbhBBbhshshhhbhhhsshbhbhbsshshShhbhbshhshsbhshbshhBbhSsbhshhhhhhshhhhbbhshhbhhbshhsbhbsshshhhhBBbhhbshshhhbbhbhbhsbsBbbhbhBBbshhhhhhhhhhsbsshhhhsbhsshhsBBbhhbbsbhbbhhhhhBbSshhshhhSshbhSSsshhbhhbSSshSSSShhhsbsBbhhshSshhshbhhssbbhSshSsbsBSssbbSshhbbhhhhshhshbSsbbhhbSSsshhhhhbhbhbhhhhhhhsbhSshbbbhhhhhshhbbhshhshhshshhsbsbhhhshbhshhBbshhhhBbhshBhbhshhhhssbhhsbhshshbshhhshhSsshshhhhhhbbsBBBhssbhhssbhbbssbhhbhbSshhhbhshshshshBbhhBbbhhhhhbhbhhhhshhhhSSSSBbbhshbsBbbsbsssbhhhhsshbbhhsbbhshbhbshhbhbhbhbshbbhhshsBBhhbsBBBbbsBbhhhhbhhbhhhbhhhhhBhhhhhsshBbhhbsBBbhhSSsshhhhbssbbhshBBbhhhhsbbbshhhhhhbbhhshhhbbbhhshhhhsbhSSsbbhbhhhhshbhsbhSbhBbSshbhhhbhshhhhbhsBbbhhhbsbhsbhsbhbhhbssbhhshbbSSssshhSSsshSshhsbbhsBbbhshhhhbhbssbhshhshhsBhhsbhsbbhhBbbhhbbhbhhssshhSshshhhhhhhbshsshSSbhhbbshbbhhbhhhhshbssbbhsshhhhsbbshhbShhhshhshbbsbhhbhsshbhshSsBhhBBBbhhshbhshSbhsbhbbhbsbssbbhbhbshbhSSshhhhhshhhhsbhhhhhhhbshBBbsBbhhSSSSSshBbhhshhbhhsbhhbbsbbSshhSsbhhhhBBBbbbhsBbbhhsbSshhbhhbhhhbsBbbhshBbSsssbhsshbbhbhhhhhhBbbsbsbshshhbhhhsshSssBbhhSssBBbbhssbhbshbsBbSsbbbSSshhsshhhshhhbhhbhSbhshhhhhhhBBhhshhbbhhbshBbbhbbshSsshhhhshhhhhbSshhhhBbhshbhbhhhBBBbhshhbhhbhhhhbsshSSbbhhhhbhbhshhhhhhhshbhshsshhbshSSbhhbhbbhSssbhhshsbhssbshhshbbbhshhhhbbsBBbbsbhSsshbshsshshbbSSshBhhBbbhbSSssbhhhbhsBBbhhhBBbshhhssshhbbsshbhhhBbbhShhbhshhhbhhshssshsbhhhhbbsBbsbbhshsbhhshshhhhhhbhhhbhhhshhhhbhbsshbshBbhbhbshhhhhhbhhbhbhhbSsbbsbhhshhhhhhhhhbhhbshhshhhsshhbhshBhshBbshbhbbhssbhSshBbhhshbhbhhbShshhbbhshBBBbbhhhSSSSssBbhhhshbSsbhBBBBbhbhSsbhhhBbhsbshhbSssbbbshbbhhSSssbhhhSSshsbshhbhhhhsshbhhBBbbsbhhhbshshhSSshhbhbhshbhsbhhhhssshhbhbshBBBBbbshhsbshhshSSshbhSSsbshhbsbhhbssbhhbhhSSSshhshbhshhshhSsshhhshhhhBBbbhhsshShbhhshshSshsshbshsshbhbhsbhshbbSSsBbshBbbhhBBbhhhhBbhhhhsshshshhhsbsbhhhsbbssbbhshbhshshbshhbbhsshbhbbhSSsbhhshSshbbhhhSSsshhbhshsbbhhshhhhbhbshhSsshhhSSshshhhbbsbsbsBbhhhbhhbhhhsshhshhsBbsshhhhBbhBbhhhhshssBBbhhbbSssbhhbhhbhshSsbshBbbbhhshhbbhhbhhssBBbsbhhBBbhsbhhhBbbSSSSsbbshhshSshshhhbbshhhhBbSbhbhhhhSSsshbsshhhhhhsbhhbhshSsbhhbSSSshhhSsbshbssbhhhsBbhhBbbhhhhhssbbhhhhhshshbsbsbhssbhshbhshhbbshhhhshhhsbhBBBbhhbbshhbhhSshshbhshSshhshhshhhhhhhbhhshbhhsbhhhhhsshBbbsh'"
      ]
     },
     "execution_count": 333,
     "metadata": {},
     "output_type": "execute_result"
    }
   ],
   "source": [
    "trades_string = ''.join(trades_list)\n",
    "trades_string"
   ]
  },
  {
   "cell_type": "code",
   "execution_count": null,
   "id": "9b8e5c90",
   "metadata": {},
   "outputs": [],
   "source": []
  }
 ],
 "metadata": {
  "kernelspec": {
   "display_name": "Python 3 (ipykernel)",
   "language": "python",
   "name": "python3"
  },
  "language_info": {
   "codemirror_mode": {
    "name": "ipython",
    "version": 3
   },
   "file_extension": ".py",
   "mimetype": "text/x-python",
   "name": "python",
   "nbconvert_exporter": "python",
   "pygments_lexer": "ipython3",
   "version": "3.11.8"
  },
  "toc": {
   "base_numbering": 1,
   "nav_menu": {},
   "number_sections": true,
   "sideBar": true,
   "skip_h1_title": false,
   "title_cell": "Table of Contents",
   "title_sidebar": "Contents",
   "toc_cell": false,
   "toc_position": {},
   "toc_section_display": true,
   "toc_window_display": false
  }
 },
 "nbformat": 4,
 "nbformat_minor": 5
}
