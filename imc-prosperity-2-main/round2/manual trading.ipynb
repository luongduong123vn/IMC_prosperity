{
 "cells": [
  {
   "cell_type": "code",
   "execution_count": 1,
   "metadata": {},
   "outputs": [
    {
     "data": {
      "text/plain": [
       "[[0, 1, 3, 0, 1.0569693888],\n",
       " [0, 3, 0, 1, 1.0569693887999998],\n",
       " [0, 0, 0, 1, 1.055808],\n",
       " [0, 0, 1, 1, 1.055808],\n",
       " [0, 0, 1, 3, 1.055808],\n",
       " [0, 1, 1, 1, 1.055808],\n",
       " [0, 1, 1, 3, 1.055808],\n",
       " [0, 1, 3, 3, 1.055808],\n",
       " [3, 0, 0, 1, 1.055808],\n",
       " [3, 0, 1, 1, 1.055808]]"
      ]
     },
     "execution_count": 1,
     "metadata": {},
     "output_type": "execute_result"
    }
   ],
   "source": [
    "import numpy as np\n",
    "\n",
    "M = np.array([[1, 0.48, 1.52, 0.71],\n",
    "              [2.05, 1, 3.26, 1.56],\n",
    "              [0.64, 0.3, 1, 0.46],\n",
    "              [1.41, 0.61, 2.08, 1]])\n",
    "\n",
    "combinations = []\n",
    "for i in range(0,4):\n",
    "    for j in range(0,4):\n",
    "        for k in range(0,4):\n",
    "            for l in range(0,4):\n",
    "                pnl = M[3, i] * M[i, j] * M[j, k]* M[k, l] * M[l, 3]\n",
    "                combinations.append([i, j, k, l, pnl])\n",
    "\n",
    "combinations.sort(key=lambda x: x[4], reverse=True)\n",
    "combinations[:10]"
   ]
  },
  {
   "cell_type": "code",
   "execution_count": null,
   "metadata": {},
   "outputs": [],
   "source": []
  }
 ],
 "metadata": {
  "kernelspec": {
   "display_name": "prosperity",
   "language": "python",
   "name": "python3"
  },
  "language_info": {
   "codemirror_mode": {
    "name": "ipython",
    "version": 3
   },
   "file_extension": ".py",
   "mimetype": "text/x-python",
   "name": "python",
   "nbconvert_exporter": "python",
   "pygments_lexer": "ipython3",
   "version": "3.12.2"
  }
 },
 "nbformat": 4,
 "nbformat_minor": 2
}
