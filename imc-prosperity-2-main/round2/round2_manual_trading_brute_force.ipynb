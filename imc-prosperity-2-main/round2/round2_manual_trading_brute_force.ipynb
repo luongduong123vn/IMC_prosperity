{
 "cells": [
  {
   "cell_type": "code",
   "execution_count": 1,
   "id": "2d952039",
   "metadata": {},
   "outputs": [
    {
     "name": "stdout",
     "output_type": "stream",
     "text": [
      "Steps i:0 j: 1 k: 3 l: 0\n"
     ]
    }
   ],
   "source": [
    "m = [[1, 0.48, 1.52, 0.71],\n",
    "     [2.05, 1, 3.26, 1.56],\n",
    "     [0.64, 0.3, 1, 0.46],\n",
    "     [1.41, 0.61, 2.08, 1]]\n",
    "\n",
    "res5 = []\n",
    "first = m[3]\n",
    "last = [0.71, 1.56, 0.46, 1]\n",
    "for i in range(0,4):\n",
    "    a = first[i]\n",
    "    for j in range(0,4):\n",
    "        b = a * m[i][j]\n",
    "        for k in range(0,4):\n",
    "            c = b * m[j][k]\n",
    "            for l in range(0,4):\n",
    "                d = c * m[k][l]\n",
    "                e = d * last[l]\n",
    "                if e >= 1.0569693888 :\n",
    "                    res5.append(e)\n",
    "                    print(\"Steps i:\" + str(i) + \" j: \" + str(j)+\" k: \" + str(k) + \" l: \" + str(l))"
   ]
  },
  {
   "cell_type": "code",
   "execution_count": 2,
   "id": "908dc8f3",
   "metadata": {},
   "outputs": [
    {
     "data": {
      "text/plain": [
       "[1.0569693888]"
      ]
     },
     "execution_count": 2,
     "metadata": {},
     "output_type": "execute_result"
    }
   ],
   "source": [
    "res5"
   ]
  },
  {
   "cell_type": "code",
   "execution_count": null,
   "id": "0084c1ae",
   "metadata": {},
   "outputs": [],
   "source": [
    "##We can make a max profit of 5.69693888% from 2,000,000 seashells \n",
    "##which gives us a profit of approx. 113939 seashells in manual trading \n",
    "##The trades go like\n",
    "## Seashells -> Pizza -> Wasabi -> Seashells -> Pizza -> Seashells"
   ]
  }
 ],
 "metadata": {
  "kernelspec": {
   "display_name": "Python 3 (ipykernel)",
   "language": "python",
   "name": "python3"
  },
  "language_info": {
   "codemirror_mode": {
    "name": "ipython",
    "version": 3
   },
   "file_extension": ".py",
   "mimetype": "text/x-python",
   "name": "python",
   "nbconvert_exporter": "python",
   "pygments_lexer": "ipython3",
   "version": "3.12.0"
  }
 },
 "nbformat": 4,
 "nbformat_minor": 5
}
