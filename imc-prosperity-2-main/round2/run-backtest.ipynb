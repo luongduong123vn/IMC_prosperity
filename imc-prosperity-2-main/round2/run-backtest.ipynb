{
 "cells": [
  {
   "cell_type": "markdown",
   "id": "9ba96ec3",
   "metadata": {},
   "source": [
    "# imports/setup"
   ]
  },
  {
   "cell_type": "code",
   "execution_count": 1,
   "id": "f51d0f2e-b498-485c-acf4-eea427479f01",
   "metadata": {
    "ExecuteTime": {
     "end_time": "2024-04-10T18:22:16.657196Z",
     "start_time": "2024-04-10T18:22:16.127270Z"
    }
   },
   "outputs": [],
   "source": [
    "import datetime\n",
    "import json\n",
    "import pandas as pd\n",
    "from collections import defaultdict\n",
    "from typing import List, Dict, Any\n",
    "import string\n",
    "import jsonpickle\n",
    "import numpy as np\n",
    "import math\n",
    "from datamodel import Listing, ConversionObservation\n",
    "from round_2_v0 import Trader\n",
    "from backtester import Backtester"
   ]
  },
  {
   "cell_type": "markdown",
   "id": "1b505f0b",
   "metadata": {},
   "source": [
    "# backtester"
   ]
  },
  {
   "cell_type": "markdown",
   "id": "f095ca83",
   "metadata": {},
   "source": [
    "# trader"
   ]
  },
  {
   "cell_type": "code",
   "execution_count": 2,
   "id": "9a3e2600",
   "metadata": {
    "ExecuteTime": {
     "end_time": "2024-04-12T00:50:45.517762Z",
     "start_time": "2024-04-12T00:50:45.448861Z"
    }
   },
   "outputs": [],
   "source": [
    "class Product:\n",
    "    AMETHYSTS = \"AMETHYSTS\"\n",
    "    STARFRUIT = \"STARFRUIT\"\n",
    "\n",
    "\n",
    "PARAMS = {\n",
    "    Product.AMETHYSTS: {\n",
    "        \"fair_value\": 10000,\n",
    "        \"take_width\": 1,\n",
    "        \"clear_width\": 0.5,\n",
    "        \"volume_limit\": 0,\n",
    "        # for making\n",
    "        \"disregard_edge\": 1,  # disregards orders for joining or pennying within this value from fair\n",
    "        \"join_edge\": 2,# joins orders within this edge \n",
    "        \"default_edge\": 4\n",
    "    },\n",
    "    Product.STARFRUIT: {\n",
    "        \"take_width\": 1,\n",
    "        \"clear_width\": -0.25,\n",
    "        \"prevent_adverse\": True,\n",
    "        \"adverse_volume\": 15,\n",
    "        \"reversion_beta\": -0.229,\n",
    "        # for making\n",
    "        \"disregard_edge\": 1,\n",
    "        \"join_edge\": 3,\n",
    "        \"default_edge\": 5,\n",
    "    },\n",
    "}"
   ]
  },
  {
   "cell_type": "markdown",
   "id": "b55d0761",
   "metadata": {},
   "source": [
    "# backtest run"
   ]
  },
  {
   "cell_type": "code",
   "execution_count": 3,
   "id": "6905b4c7",
   "metadata": {
    "ExecuteTime": {
     "end_time": "2024-04-11T02:57:41.220315Z",
     "start_time": "2024-04-11T02:57:41.207272Z"
    }
   },
   "outputs": [],
   "source": [
    "def _process_data_(file):\n",
    "    with open(file, 'r') as file:\n",
    "        log_content = file.read()\n",
    "    sections = log_content.split('Sandbox logs:')[1].split('Activities log:')\n",
    "    sandbox_log =  sections[0].strip()\n",
    "    activities_log = sections[1].split('Trade History:')[0]\n",
    "    # sandbox_log_list = [json.loads(line) for line in sandbox_log.split('\\n')]\n",
    "    trade_history =  json.loads(sections[1].split('Trade History:')[1])\n",
    "    # sandbox_log_df = pd.DataFrame(sandbox_log_list)\n",
    "    market_data_df = pd.read_csv(io.StringIO(activities_log), sep=\";\", header=0)\n",
    "    trade_history_df = pd.json_normalize(trade_history)\n",
    "    return market_data_df, trade_history_df"
   ]
  },
  {
   "cell_type": "markdown",
   "id": "8b9980db",
   "metadata": {},
   "source": [
    "### setup"
   ]
  },
  {
   "cell_type": "code",
   "execution_count": 4,
   "id": "d05e0a17",
   "metadata": {
    "ExecuteTime": {
     "end_time": "2024-04-11T21:55:04.300078Z",
     "start_time": "2024-04-11T21:55:04.292963Z"
    }
   },
   "outputs": [],
   "source": [
    "def calculate_starfruit_fair(order_depth):\n",
    "    # assumes order_depth has orders in it \n",
    "    best_ask = min(order_depth.sell_orders.keys())\n",
    "    best_bid = max(order_depth.buy_orders.keys())\n",
    "    filtered_ask = [price for price in order_depth.sell_orders.keys() if abs(order_depth.sell_orders[price]) >= 15]\n",
    "    filtered_bid = [price for price in order_depth.buy_orders.keys() if abs(order_depth.buy_orders[price]) >= 15]\n",
    "    mm_ask = min(filtered_ask) if len(filtered_ask) > 0 else best_ask\n",
    "    mm_bid = max(filtered_bid) if len(filtered_bid) > 0 else best_bid\n",
    "\n",
    "    mmmid_price = (mm_ask + mm_bid) / 2\n",
    "    return mmmid_price\n",
    "    \n",
    "def calculate_amethysts_fair(order_depth):\n",
    "    return 10000"
   ]
  },
  {
   "cell_type": "code",
   "execution_count": 5,
   "id": "8d3a56eb",
   "metadata": {
    "ExecuteTime": {
     "end_time": "2024-04-11T21:55:49.748997Z",
     "start_time": "2024-04-11T21:55:49.744374Z"
    }
   },
   "outputs": [],
   "source": [
    "listings = {\n",
    "    'AMETHYSTS': Listing(symbol='AMETHYSTS', product='AMETHYSTS', denomination='SEASHELLS'),\n",
    "    'STARFRUIT': Listing(symbol='STARFRUIT', product='STARFRUIT', denomination='SEASHELLS'),\n",
    "    'ORCHIDS': Listing(symbol='ORCHIDS', product='ORCHIDS', denomination='SEASHELLS')\n",
    "}\n",
    "\n",
    "position_limit = {\n",
    "    'AMETHYSTS': 20,\n",
    "    'STARFRUIT': 20\n",
    "}\n",
    "\n",
    "fair_calculations = {\n",
    "    \"AMETHYSTS\": calculate_amethysts_fair,\n",
    "    \"STARFRUIT\": calculate_starfruit_fair\n",
    "}"
   ]
  },
  {
   "cell_type": "code",
   "execution_count": 7,
   "id": "ee25ef9c",
   "metadata": {
    "ExecuteTime": {
     "end_time": "2024-04-11T22:20:42.028445Z",
     "start_time": "2024-04-11T22:20:41.505162Z"
    }
   },
   "outputs": [
    {
     "name": "stdout",
     "output_type": "stream",
     "text": [
      "{'AMETHYSTS': 1387, 'STARFRUIT': 1307.0, 'ORCHIDS': 0.0}\n"
     ]
    }
   ],
   "source": [
    "import io\n",
    "market_data, trade_history = _process_data_('./webruns/round2_clean_log.log')\n",
    "trader = Trader()\n",
    "backtester = Backtester(trader, listings, position_limit, fair_calculations, market_data, trade_history, './backtestruns/round2_arb_bt')\n",
    "backtester.run()\n",
    "print(backtester.pnl)"
   ]
  },
  {
   "cell_type": "code",
   "execution_count": 223,
   "id": "d74be242-5fb9-47a2-b170-b426508aa258",
   "metadata": {
    "ExecuteTime": {
     "end_time": "2024-04-12T00:50:57.626877Z",
     "start_time": "2024-04-12T00:50:52.100602Z"
    }
   },
   "outputs": [
    {
     "name": "stdout",
     "output_type": "stream",
     "text": [
      "{'AMETHYSTS': 13943, 'STARFRUIT': 13361.0}\n"
     ]
    }
   ],
   "source": [
    "# with fair prediction\n",
    "day = 0\n",
    "market_data = pd.read_csv(f\"./round-1-island-data-bottle/prices_round_1_day_{day}.csv\", sep=\";\", header=0)\n",
    "trade_history = pd.read_csv(f\"./round-1-island-data-bottle/trades_round_1_day_{day}_nn.csv\", sep=\";\", header=0)\n",
    "\n",
    "trader = Trader()\n",
    "backtester = Backtester(trader, listings, position_limit, fair_calculations, market_data, trade_history, \"trade_history_sim.log\")\n",
    "backtester.run()\n",
    "print(backtester.pnl)\n"
   ]
  },
  {
   "cell_type": "markdown",
   "id": "95caea2e",
   "metadata": {},
   "source": [
    "`{'AMETHYSTS': 14554, 'STARFRUIT': 14144.5}`"
   ]
  },
  {
   "cell_type": "code",
   "execution_count": 135,
   "id": "8ef00240",
   "metadata": {
    "ExecuteTime": {
     "end_time": "2024-04-11T07:49:51.034535Z",
     "start_time": "2024-04-11T07:49:44.193556Z"
    }
   },
   "outputs": [
    {
     "name": "stdout",
     "output_type": "stream",
     "text": [
      "{'AMETHYSTS': 14554.0, 'STARFRUIT': 14118.0}\n"
     ]
    }
   ],
   "source": [
    "day = 0\n",
    "market_data = pd.read_csv(f\"./round-1-island-data-bottle/prices_round_1_day_{day}.csv\", sep=\";\", header=0)\n",
    "trade_history = pd.read_csv(f\"./round-1-island-data-bottle/trades_round_1_day_{day}_nn.csv\", sep=\";\", header=0)\n",
    "\n",
    "trader = Trader()\n",
    "backtester = Backtester(trader, listings, position_limit, market_data, trade_history, \"trade_history_sim.log\")\n",
    "backtester.run()\n",
    "print(backtester.pnl)"
   ]
  },
  {
   "cell_type": "markdown",
   "id": "78f84ee9",
   "metadata": {},
   "source": [
    "# backtest gridsearch"
   ]
  },
  {
   "cell_type": "code",
   "execution_count": 9,
   "id": "da4a7053",
   "metadata": {
    "ExecuteTime": {
     "end_time": "2024-04-11T01:05:46.057497Z",
     "start_time": "2024-04-11T01:05:46.050249Z"
    }
   },
   "outputs": [],
   "source": [
    "import itertools\n",
    "\n",
    "def generate_param_combinations(param_grid):\n",
    "    param_names = param_grid.keys()\n",
    "    param_values = param_grid.values()\n",
    "    combinations = list(itertools.product(*param_values))\n",
    "    return [dict(zip(param_names, combination)) for combination in combinations]"
   ]
  },
  {
   "cell_type": "code",
   "execution_count": 10,
   "id": "2710a571",
   "metadata": {
    "ExecuteTime": {
     "end_time": "2024-04-12T00:59:54.451328Z",
     "start_time": "2024-04-12T00:59:54.438199Z"
    }
   },
   "outputs": [],
   "source": [
    "import os\n",
    "from tqdm import tqdm\n",
    "\n",
    "def run_backtests(trader, listings, position_limit, fair_calcs, market_data, trade_history, backtest_dir, param_grid, symbol):\n",
    "    if not os.path.exists(backtest_dir):\n",
    "        os.makedirs(backtest_dir)\n",
    "\n",
    "    param_combinations = generate_param_combinations(param_grid[symbol])\n",
    "\n",
    "    results = []\n",
    "    for params in tqdm(param_combinations, desc=f\"Running backtests for {symbol}\", unit=\"backtest\"):\n",
    "        trader.params = {symbol: params}\n",
    "        backtester = Backtester(trader, listings, position_limit, fair_calcs, market_data, trade_history)\n",
    "        backtester.run()\n",
    "\n",
    "        param_str = \"-\".join([f\"{key}={value}\" for key, value in params.items()])\n",
    "        log_filename = f\"{backtest_dir}/{symbol}_{param_str}.log\"\n",
    "        backtester._log_trades(log_filename)\n",
    "\n",
    "        results.append((params, backtester.pnl[symbol]))\n",
    "\n",
    "    return results"
   ]
  },
  {
   "cell_type": "markdown",
   "id": "141f7346",
   "metadata": {},
   "source": [
    "### setup"
   ]
  },
  {
   "cell_type": "code",
   "execution_count": 11,
   "id": "91eca625",
   "metadata": {
    "ExecuteTime": {
     "end_time": "2024-04-12T00:59:56.349283Z",
     "start_time": "2024-04-12T00:59:56.343849Z"
    }
   },
   "outputs": [],
   "source": [
    "listings = {\n",
    "    'AMETHYSTS': Listing(symbol='AMETHYSTS', product='AMETHYSTS', denomination='SEASHELLS'),\n",
    "    'STARFRUIT': Listing(symbol='STARFRUIT', product='STARFRUIT', denomination='SEASHELLS')\n",
    "}\n",
    "\n",
    "position_limit = {\n",
    "    'AMETHYSTS': 20,\n",
    "    'STARFRUIT': 20\n",
    "}\n",
    "\n",
    "fair_calculations = {\n",
    "    \"AMETHYSTS\": calculate_amethysts_fair,\n",
    "    \"STARFRUIT\": calculate_starfruit_fair\n",
    "}\n"
   ]
  },
  {
   "cell_type": "code",
   "execution_count": 18,
   "id": "3bdbcd72",
   "metadata": {
    "ExecuteTime": {
     "end_time": "2024-04-12T00:59:58.140937Z",
     "start_time": "2024-04-12T00:59:58.070172Z"
    }
   },
   "outputs": [],
   "source": [
    "day = 0\n",
    "market_data = pd.read_csv(f\"./round-1-island-data-bottle/prices_round_1_day_{day}.csv\", sep=\";\", header=0)\n",
    "trade_history = pd.read_csv(f\"./round-1-island-data-bottle/trades_round_1_day_{day}_nn.csv\", sep=\";\", header=0)\n",
    "\n"
   ]
  },
  {
   "cell_type": "markdown",
   "id": "28aef217",
   "metadata": {},
   "source": [
    "### run"
   ]
  },
  {
   "cell_type": "code",
   "execution_count": 19,
   "id": "f9670677",
   "metadata": {
    "ExecuteTime": {
     "start_time": "2024-04-12T01:39:43.665Z"
    },
    "scrolled": false
   },
   "outputs": [
    {
     "name": "stderr",
     "output_type": "stream",
     "text": [
      "Running backtests for AMETHYSTS: 100%|██████████| 1/1 [00:12<00:00, 12.17s/backtest]\n"
     ]
    },
    {
     "name": "stdout",
     "output_type": "stream",
     "text": [
      "AMETHYSTS results:\n",
      "{'fair_value': 10000, 'take_width': 1, 'clear_width': 0.5, 'volume_limit': 0, 'disregard_edge': 1, 'join_edge': 2, 'default_edge': 4}\n",
      "pnl: 13943\n",
      "================================================================================\n"
     ]
    },
    {
     "name": "stderr",
     "output_type": "stream",
     "text": [
      "Running backtests for STARFRUIT: 100%|██████████| 2/2 [00:21<00:00, 11.00s/backtest]"
     ]
    },
    {
     "name": "stdout",
     "output_type": "stream",
     "text": [
      "STARFRUIT results:\n",
      "{'take_width': 1, 'clear_width': 0, 'prevent_adverse': True, 'adverse_volume': 15, 'reversion_beta': -0.229, 'disregard_edge': 1, 'join_edge': 3, 'default_edge': 5}\n",
      "pnl: 13361.0\n",
      "================================================================================\n",
      "{'take_width': 1, 'clear_width': -0.25, 'prevent_adverse': True, 'adverse_volume': 15, 'reversion_beta': -0.229, 'disregard_edge': 1, 'join_edge': 3, 'default_edge': 5}\n",
      "pnl: 13503.0\n",
      "================================================================================\n"
     ]
    },
    {
     "name": "stderr",
     "output_type": "stream",
     "text": [
      "\n"
     ]
    }
   ],
   "source": [
    "backtest_dir = \"backtestruns\"\n",
    "\n",
    "param_grid = {\n",
    "    Product.AMETHYSTS: {\n",
    "        \"fair_value\": [10000],\n",
    "        \"take_width\": [1],\n",
    "        \"clear_width\": [0.5],\n",
    "        \"volume_limit\": [0],\n",
    "        # for making\n",
    "        \"disregard_edge\": [1],  # disregards orders for joining or pennying within this value from fair\n",
    "        \"join_edge\": [2],# joins orders within this edge \n",
    "        \"default_edge\": [4]\n",
    "    },\n",
    "    Product.STARFRUIT: {\n",
    "        \"take_width\": [1],\n",
    "        \"clear_width\": [0, -0.25],\n",
    "        \"prevent_adverse\": [True],\n",
    "        \"adverse_volume\": [15],\n",
    "        \"reversion_beta\": [-0.229],\n",
    "        # for making\n",
    "        \"disregard_edge\": [1],\n",
    "        \"join_edge\": [3],\n",
    "        \"default_edge\": [5],\n",
    "    },\n",
    "}\n",
    "\n",
    "\n",
    "\n",
    "trader = Trader()\n",
    "\n",
    "amethyst_results = run_backtests(trader, listings, position_limit, fair_calculations, market_data, trade_history, backtest_dir, param_grid, \"AMETHYSTS\")\n",
    "print(\"AMETHYSTS results:\")\n",
    "for params, pnl in amethyst_results: \n",
    "    print(params)\n",
    "    print(f\"pnl: {pnl}\")\n",
    "    print(\"=\"*80)\n",
    "\n",
    "starfruit_results = run_backtests(trader, listings, position_limit, fair_calculations, market_data, trade_history, backtest_dir, param_grid, \"STARFRUIT\")\n",
    "print(\"STARFRUIT results:\")\n",
    "for params, pnl in starfruit_results: \n",
    "    print(params)\n",
    "    print(f\"pnl: {pnl}\")\n",
    "    print(\"=\"*80)"
   ]
  },
  {
   "cell_type": "markdown",
   "id": "bd53a5e1",
   "metadata": {},
   "source": [
    "## analyze"
   ]
  },
  {
   "cell_type": "code",
   "execution_count": 30,
   "id": "2027e9a2",
   "metadata": {
    "ExecuteTime": {
     "end_time": "2024-04-10T20:17:56.528624Z",
     "start_time": "2024-04-10T20:17:56.471121Z"
    }
   },
   "outputs": [
    {
     "name": "stdout",
     "output_type": "stream",
     "text": [
      "AMETHYSTS_fair_value=10000_take_width=3_clear_width=0_volume_limit=15\n"
     ]
    },
    {
     "ename": "ValueError",
     "evalue": "dictionary update sequence element #0 has length 1; 2 is required",
     "output_type": "error",
     "traceback": [
      "\u001b[0;31m---------------------------------------------------------------------------\u001b[0m",
      "\u001b[0;31mValueError\u001b[0m                                Traceback (most recent call last)",
      "Cell \u001b[0;32mIn[30], line 28\u001b[0m\n\u001b[1;32m     25\u001b[0m     \u001b[38;5;28;01mreturn\u001b[39;00m results\n\u001b[1;32m     27\u001b[0m \u001b[38;5;66;03m# Analyze the log files\u001b[39;00m\n\u001b[0;32m---> 28\u001b[0m log_analysis_results \u001b[38;5;241m=\u001b[39m \u001b[43manalyze_log_files\u001b[49m\u001b[43m(\u001b[49m\u001b[43mbacktest_dir\u001b[49m\u001b[43m)\u001b[49m\n\u001b[1;32m     30\u001b[0m \u001b[38;5;66;03m# Print the results\u001b[39;00m\n\u001b[1;32m     31\u001b[0m \u001b[38;5;28;01mfor\u001b[39;00m result \u001b[38;5;129;01min\u001b[39;00m log_analysis_results:\n",
      "Cell \u001b[0;32mIn[30], line 12\u001b[0m, in \u001b[0;36manalyze_log_files\u001b[0;34m(backtest_dir)\u001b[0m\n\u001b[1;32m     10\u001b[0m \u001b[38;5;28mprint\u001b[39m(file_name)\n\u001b[1;32m     11\u001b[0m symbol, params_str \u001b[38;5;241m=\u001b[39m file_name\u001b[38;5;241m.\u001b[39msplit(\u001b[38;5;124m'\u001b[39m\u001b[38;5;124m_\u001b[39m\u001b[38;5;124m'\u001b[39m, \u001b[38;5;241m1\u001b[39m)\n\u001b[0;32m---> 12\u001b[0m params \u001b[38;5;241m=\u001b[39m \u001b[38;5;28;43mdict\u001b[39;49m\u001b[43m(\u001b[49m\u001b[43mparam\u001b[49m\u001b[38;5;241;43m.\u001b[39;49m\u001b[43msplit\u001b[49m\u001b[43m(\u001b[49m\u001b[38;5;124;43m'\u001b[39;49m\u001b[38;5;124;43m=\u001b[39;49m\u001b[38;5;124;43m'\u001b[39;49m\u001b[43m)\u001b[49m\u001b[43m \u001b[49m\u001b[38;5;28;43;01mfor\u001b[39;49;00m\u001b[43m \u001b[49m\u001b[43mparam\u001b[49m\u001b[43m \u001b[49m\u001b[38;5;129;43;01min\u001b[39;49;00m\u001b[43m \u001b[49m\u001b[43mparams_str\u001b[49m\u001b[38;5;241;43m.\u001b[39;49m\u001b[43msplit\u001b[49m\u001b[43m(\u001b[49m\u001b[38;5;124;43m'\u001b[39;49m\u001b[38;5;124;43m_\u001b[39;49m\u001b[38;5;124;43m'\u001b[39;49m\u001b[43m)\u001b[49m\u001b[43m)\u001b[49m\n\u001b[1;32m     14\u001b[0m \u001b[38;5;66;03m# Read the contents of the log file\u001b[39;00m\n\u001b[1;32m     15\u001b[0m \u001b[38;5;28;01mwith\u001b[39;00m \u001b[38;5;28mopen\u001b[39m(file_path, \u001b[38;5;124m'\u001b[39m\u001b[38;5;124mr\u001b[39m\u001b[38;5;124m'\u001b[39m) \u001b[38;5;28;01mas\u001b[39;00m file:\n",
      "\u001b[0;31mValueError\u001b[0m: dictionary update sequence element #0 has length 1; 2 is required"
     ]
    }
   ],
   "source": [
    "\n",
    "def analyze_log_files(backtest_dir):\n",
    "    log_files = [f for f in os.listdir(backtest_dir) if f.endswith('.log')]\n",
    "    \n",
    "    results = []\n",
    "    for log_file in log_files:\n",
    "        file_path = os.path.join(backtest_dir, log_file)\n",
    "        \n",
    "        # Extract symbol and parameters from the file name\n",
    "        file_name = os.path.splitext(log_file)[0]\n",
    "        print(file_name)\n",
    "        symbol, params_str = file_name.split('-', 1)\n",
    "        params = dict(param.split('=') for param in params_str.split('-'))\n",
    "        \n",
    "        # Read the contents of the log file\n",
    "        with open(file_path, 'r') as file:\n",
    "            log_content = file.read()\n",
    "        \n",
    "        # Store the symbol, parameters, and log content in the results\n",
    "        results.append({\n",
    "            'symbol': symbol,\n",
    "            'params': params,\n",
    "            'log_content': log_content\n",
    "        })\n",
    "    \n",
    "    return results\n",
    "\n",
    "# Analyze the log files\n",
    "log_analysis_results = analyze_log_files(backtest_dir)\n",
    "\n",
    "# Print the results\n",
    "for result in log_analysis_results:\n",
    "    print(f\"Symbol: {result['symbol']}\")\n",
    "    print(f\"Parameters: {result['params']}\")\n",
    "#     print(f\"Log Content:\\n{result['log_content']}\\n\")"
   ]
  }
 ],
 "metadata": {
  "kernelspec": {
   "display_name": "Python 3 (ipykernel)",
   "language": "python",
   "name": "python3"
  },
  "language_info": {
   "codemirror_mode": {
    "name": "ipython",
    "version": 3
   },
   "file_extension": ".py",
   "mimetype": "text/x-python",
   "name": "python",
   "nbconvert_exporter": "python",
   "pygments_lexer": "ipython3",
   "version": "3.12.2"
  },
  "toc": {
   "base_numbering": 1,
   "nav_menu": {},
   "number_sections": true,
   "sideBar": true,
   "skip_h1_title": false,
   "title_cell": "Table of Contents",
   "title_sidebar": "Contents",
   "toc_cell": false,
   "toc_position": {},
   "toc_section_display": true,
   "toc_window_display": false
  }
 },
 "nbformat": 4,
 "nbformat_minor": 5
}
