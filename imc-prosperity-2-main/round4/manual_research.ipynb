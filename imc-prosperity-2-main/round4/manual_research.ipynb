{
 "cells": [
  {
   "cell_type": "code",
   "execution_count": 1,
   "id": "d60fa594",
   "metadata": {
    "ExecuteTime": {
     "end_time": "2024-04-22T07:00:24.190060Z",
     "start_time": "2024-04-22T07:00:22.601598Z"
    }
   },
   "outputs": [
    {
     "name": "stdout",
     "output_type": "stream",
     "text": [
      "Requirement already satisfied: tqdm in /Users/liuer/opt/anaconda3/envs/unborked/lib/python3.11/site-packages (4.66.2)\r\n"
     ]
    }
   ],
   "source": [
    "!pip install tqdm"
   ]
  },
  {
   "cell_type": "code",
   "execution_count": 2,
   "id": "315de162",
   "metadata": {
    "ExecuteTime": {
     "end_time": "2024-04-22T07:00:24.984092Z",
     "start_time": "2024-04-22T07:00:24.817070Z"
    }
   },
   "outputs": [],
   "source": [
    "import numpy as np\n",
    "from tqdm import tqdm"
   ]
  },
  {
   "cell_type": "code",
   "execution_count": 8,
   "id": "71cfdfa1",
   "metadata": {
    "ExecuteTime": {
     "end_time": "2024-04-22T08:53:23.359923Z",
     "start_time": "2024-04-22T08:53:23.345998Z"
    }
   },
   "outputs": [],
   "source": [
    "import numpy as np\n",
    "from tqdm import tqdm\n",
    "import plotly.graph_objects as go\n",
    "\n",
    "def goldfish_profit(bid1, bid2, average, num_simulations=10000):\n",
    "    profits = []\n",
    "    for _ in range(num_simulations):\n",
    "        reserve_price = np.random.triangular(left=900, mode=1000, right=1000)\n",
    "        if bid1 >= reserve_price:\n",
    "            profit = 1000 - bid1\n",
    "        elif bid2 >= reserve_price:\n",
    "            multiplier = (1000 - average) / (1000 - bid2) if bid2 < average else 1\n",
    "            profit = (1000 - bid2) * multiplier\n",
    "        else:\n",
    "            profit = 0\n",
    "        profits.append(profit)\n",
    "    return np.mean(profits)\n",
    "\n",
    "def find_optimal_bids(average):\n",
    "    max_expected_profit = 0\n",
    "    optimal_bid1 = None\n",
    "    optimal_bid2 = None\n",
    "    bid1_range = range(900, 1001)\n",
    "    bid2_range = range(900, 1001)\n",
    "    expected_profits = np.zeros((len(bid1_range), len(bid2_range)))\n",
    "    for i, bid1 in enumerate(tqdm(bid1_range)):\n",
    "        for j, bid2 in enumerate(bid2_range):\n",
    "            if bid2 >= bid1:\n",
    "                expected_profit = goldfish_profit(bid1, bid2, average)\n",
    "                expected_profits[i, j] = expected_profit\n",
    "                if expected_profit > max_expected_profit:\n",
    "                    max_expected_profit = expected_profit\n",
    "                    optimal_bid1 = bid1\n",
    "                    optimal_bid2 = bid2\n",
    "    return optimal_bid1, optimal_bid2, max_expected_profit, expected_profits"
   ]
  },
  {
   "cell_type": "code",
   "execution_count": 9,
   "id": "c7349eda",
   "metadata": {
    "ExecuteTime": {
     "end_time": "2024-04-22T08:54:39.553021Z",
     "start_time": "2024-04-22T08:53:23.924240Z"
    }
   },
   "outputs": [
    {
     "name": "stderr",
     "output_type": "stream",
     "text": [
      "100%|███████████████████████████████████████████████████████████| 101/101 [01:15<00:00,  1.34it/s]\n"
     ]
    },
    {
     "data": {
      "text/plain": [
       "(954,\n",
       " 983,\n",
       " 20.5961,\n",
       " array([[0.     , 0.0074 , 0.00555, ..., 1.9182 , 0.9795 , 0.     ],\n",
       "        [0.     , 0.     , 0.0037 , ..., 1.9198 , 0.9805 , 0.0297 ],\n",
       "        [0.     , 0.     , 0.0196 , ..., 1.9718 , 0.9915 , 0.0098 ],\n",
       "        ...,\n",
       "        [0.     , 0.     , 0.     , ..., 1.9256 , 1.939  , 1.9218 ],\n",
       "        [0.     , 0.     , 0.     , ..., 0.     , 0.9807 , 0.9819 ],\n",
       "        [0.     , 0.     , 0.     , ..., 0.     , 0.     , 0.     ]]))"
      ]
     },
     "execution_count": 9,
     "metadata": {},
     "output_type": "execute_result"
    }
   ],
   "source": [
    "find_optimal_bids(981.5)"
   ]
  },
  {
   "cell_type": "code",
   "execution_count": 5,
   "id": "eae7735d",
   "metadata": {
    "ExecuteTime": {
     "end_time": "2024-04-22T08:52:46.339114Z",
     "start_time": "2024-04-22T08:52:43.402301Z"
    },
    "scrolled": false
   },
   "outputs": [
    {
     "name": "stderr",
     "output_type": "stream",
     "text": [
      "  0%|                                                                     | 0/200 [00:00<?, ?it/s]\n",
      "  0%|                                                                     | 0/101 [00:02<?, ?it/s]\u001b[A\n",
      "  0%|                                                                     | 0/200 [00:02<?, ?it/s]\n"
     ]
    },
    {
     "ename": "KeyboardInterrupt",
     "evalue": "",
     "output_type": "error",
     "traceback": [
      "\u001b[0;31m---------------------------------------------------------------------------\u001b[0m",
      "\u001b[0;31mKeyboardInterrupt\u001b[0m                         Traceback (most recent call last)",
      "Cell \u001b[0;32mIn[5], line 41\u001b[0m\n\u001b[1;32m     38\u001b[0m results \u001b[38;5;241m=\u001b[39m []\n\u001b[1;32m     40\u001b[0m \u001b[38;5;28;01mfor\u001b[39;00m average \u001b[38;5;129;01min\u001b[39;00m tqdm(mean_range):\n\u001b[0;32m---> 41\u001b[0m     optimal_bid1, optimal_bid2, max_expected_profit, expected_profits \u001b[38;5;241m=\u001b[39m \u001b[43mfind_optimal_bids\u001b[49m\u001b[43m(\u001b[49m\u001b[43maverage\u001b[49m\u001b[43m)\u001b[49m\n\u001b[1;32m     42\u001b[0m     results\u001b[38;5;241m.\u001b[39mappend((average, optimal_bid1, optimal_bid2, max_expected_profit))\n\u001b[1;32m     43\u001b[0m     \u001b[38;5;28mprint\u001b[39m(\u001b[38;5;124mf\u001b[39m\u001b[38;5;124m\"\u001b[39m\u001b[38;5;124mAverage: \u001b[39m\u001b[38;5;132;01m{\u001b[39;00maverage\u001b[38;5;132;01m}\u001b[39;00m\u001b[38;5;124m\"\u001b[39m)\n",
      "Cell \u001b[0;32mIn[5], line 29\u001b[0m, in \u001b[0;36mfind_optimal_bids\u001b[0;34m(average)\u001b[0m\n\u001b[1;32m     27\u001b[0m \u001b[38;5;28;01mfor\u001b[39;00m j, bid2 \u001b[38;5;129;01min\u001b[39;00m \u001b[38;5;28menumerate\u001b[39m(bid2_range):\n\u001b[1;32m     28\u001b[0m     \u001b[38;5;28;01mif\u001b[39;00m bid2 \u001b[38;5;241m>\u001b[39m\u001b[38;5;241m=\u001b[39m bid1:\n\u001b[0;32m---> 29\u001b[0m         expected_profit \u001b[38;5;241m=\u001b[39m \u001b[43mgoldfish_profit\u001b[49m\u001b[43m(\u001b[49m\u001b[43mbid1\u001b[49m\u001b[43m,\u001b[49m\u001b[43m \u001b[49m\u001b[43mbid2\u001b[49m\u001b[43m,\u001b[49m\u001b[43m \u001b[49m\u001b[43maverage\u001b[49m\u001b[43m)\u001b[49m\n\u001b[1;32m     30\u001b[0m         expected_profits[i, j] \u001b[38;5;241m=\u001b[39m expected_profit\n\u001b[1;32m     31\u001b[0m         \u001b[38;5;28;01mif\u001b[39;00m expected_profit \u001b[38;5;241m>\u001b[39m max_expected_profit:\n",
      "Cell \u001b[0;32mIn[5], line 8\u001b[0m, in \u001b[0;36mgoldfish_profit\u001b[0;34m(bid1, bid2, average, num_simulations)\u001b[0m\n\u001b[1;32m      6\u001b[0m profits \u001b[38;5;241m=\u001b[39m []\n\u001b[1;32m      7\u001b[0m \u001b[38;5;28;01mfor\u001b[39;00m _ \u001b[38;5;129;01min\u001b[39;00m \u001b[38;5;28mrange\u001b[39m(num_simulations):\n\u001b[0;32m----> 8\u001b[0m     reserve_price \u001b[38;5;241m=\u001b[39m np\u001b[38;5;241m.\u001b[39mrandom\u001b[38;5;241m.\u001b[39mtriangular(left\u001b[38;5;241m=\u001b[39m\u001b[38;5;241m900\u001b[39m, mode\u001b[38;5;241m=\u001b[39m\u001b[38;5;241m1000\u001b[39m, right\u001b[38;5;241m=\u001b[39m\u001b[38;5;241m1000\u001b[39m)\n\u001b[1;32m      9\u001b[0m     \u001b[38;5;28;01mif\u001b[39;00m bid1 \u001b[38;5;241m>\u001b[39m\u001b[38;5;241m=\u001b[39m reserve_price:\n\u001b[1;32m     10\u001b[0m         profit \u001b[38;5;241m=\u001b[39m \u001b[38;5;241m1000\u001b[39m \u001b[38;5;241m-\u001b[39m bid1\n",
      "\u001b[0;31mKeyboardInterrupt\u001b[0m: "
     ]
    }
   ],
   "source": [
    "mean_range = np.arange(900.5, 1000.5, 0.5)\n",
    "results = []\n",
    "\n",
    "for average in tqdm(mean_range):\n",
    "    optimal_bid1, optimal_bid2, max_expected_profit, expected_profits = find_optimal_bids(average)\n",
    "    results.append((average, optimal_bid1, optimal_bid2, max_expected_profit))\n",
    "    print(f\"Average: {average}\")\n",
    "    print(f\"Optimal first bid: {optimal_bid1}\")\n",
    "    print(f\"Optimal second bid: {optimal_bid2}\")\n",
    "    print(f\"Maximum expected profit per goldfish: {max_expected_profit:.2f}\")\n",
    "    print()\n",
    "\n",
    "# Create a 3D scatter plot\n",
    "fig = go.Figure(data=[go.Scatter3d(\n",
    "    x=[result[0] for result in results],\n",
    "    y=[result[1] for result in results],\n",
    "    z=[result[2] for result in results],\n",
    "    mode='markers',\n",
    "    marker=dict(\n",
    "        size=5,\n",
    "        color=[result[3] for result in results],\n",
    "        colorscale='Viridis',\n",
    "        opacity=0.8\n",
    "    ),\n",
    "    text=[f\"Average: {result[0]}<br>Optimal Bid 1: {result[1]}<br>Optimal Bid 2: {result[2]}<br>Max Profit: {result[3]:.2f}\" for result in results],\n",
    "    hoverinfo='text'\n",
    ")])\n",
    "\n",
    "fig.update_layout(\n",
    "    title=\"Optimal Bids for Different Averages\",\n",
    "    scene=dict(\n",
    "        xaxis_title=\"Average\",\n",
    "        yaxis_title=\"Optimal Bid 1\",\n",
    "        zaxis_title=\"Optimal Bid 2\"\n",
    "    )\n",
    ")\n",
    "\n",
    "fig.show()"
   ]
  },
  {
   "cell_type": "code",
   "execution_count": null,
   "id": "ff4e2475",
   "metadata": {},
   "outputs": [],
   "source": []
  },
  {
   "cell_type": "code",
   "execution_count": 12,
   "id": "ddaa3452",
   "metadata": {
    "ExecuteTime": {
     "end_time": "2024-04-09T20:33:30.601017Z",
     "start_time": "2024-04-09T20:33:30.588914Z"
    }
   },
   "outputs": [
    {
     "data": {
      "text/plain": [
       "20.49744"
      ]
     },
     "execution_count": 12,
     "metadata": {},
     "output_type": "execute_result"
    }
   ],
   "source": [
    "expected_profits[52][78]"
   ]
  },
  {
   "cell_type": "code",
   "execution_count": 13,
   "id": "81dab984",
   "metadata": {
    "ExecuteTime": {
     "end_time": "2024-04-09T20:33:42.885041Z",
     "start_time": "2024-04-09T20:33:42.879249Z"
    }
   },
   "outputs": [
    {
     "data": {
      "text/plain": [
       "20.45016"
      ]
     },
     "execution_count": 13,
     "metadata": {},
     "output_type": "execute_result"
    }
   ],
   "source": [
    "expected_profits[52][79]"
   ]
  },
  {
   "cell_type": "code",
   "execution_count": 14,
   "id": "db00b5b5",
   "metadata": {
    "ExecuteTime": {
     "end_time": "2024-04-09T20:33:53.644965Z",
     "start_time": "2024-04-09T20:33:53.639681Z"
    }
   },
   "outputs": [
    {
     "data": {
      "text/plain": [
       "20.397"
      ]
     },
     "execution_count": 14,
     "metadata": {},
     "output_type": "execute_result"
    }
   ],
   "source": [
    "expected_profits[53][78]"
   ]
  },
  {
   "cell_type": "code",
   "execution_count": 15,
   "id": "07226ef9",
   "metadata": {
    "ExecuteTime": {
     "end_time": "2024-04-09T20:34:02.313450Z",
     "start_time": "2024-04-09T20:34:02.308195Z"
    }
   },
   "outputs": [
    {
     "data": {
      "text/plain": [
       "20.33323"
      ]
     },
     "execution_count": 15,
     "metadata": {},
     "output_type": "execute_result"
    }
   ],
   "source": [
    "expected_profits[53][79]"
   ]
  },
  {
   "cell_type": "code",
   "execution_count": null,
   "id": "33bb3db3",
   "metadata": {},
   "outputs": [],
   "source": []
  }
 ],
 "metadata": {
  "kernelspec": {
   "display_name": "Python 3 (ipykernel)",
   "language": "python",
   "name": "python3"
  },
  "language_info": {
   "codemirror_mode": {
    "name": "ipython",
    "version": 3
   },
   "file_extension": ".py",
   "mimetype": "text/x-python",
   "name": "python",
   "nbconvert_exporter": "python",
   "pygments_lexer": "ipython3",
   "version": "3.11.8"
  },
  "toc": {
   "base_numbering": 1,
   "nav_menu": {},
   "number_sections": true,
   "sideBar": true,
   "skip_h1_title": false,
   "title_cell": "Table of Contents",
   "title_sidebar": "Contents",
   "toc_cell": false,
   "toc_position": {},
   "toc_section_display": true,
   "toc_window_display": false
  }
 },
 "nbformat": 4,
 "nbformat_minor": 5
}
