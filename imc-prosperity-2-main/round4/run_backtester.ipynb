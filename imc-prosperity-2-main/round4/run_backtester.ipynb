{
 "cells": [
  {
   "cell_type": "markdown",
   "id": "9ba96ec3",
   "metadata": {},
   "source": [
    "# imports/setup"
   ]
  },
  {
   "cell_type": "markdown",
   "id": "f80bc1c3",
   "metadata": {},
   "source": [
    "# backtester"
   ]
  },
  {
   "cell_type": "markdown",
   "id": "f095ca83",
   "metadata": {},
   "source": [
    "# trader"
   ]
  },
  {
   "cell_type": "markdown",
   "id": "b55d0761",
   "metadata": {},
   "source": [
    "# backtest run"
   ]
  },
  {
   "cell_type": "code",
   "execution_count": 1,
   "id": "6905b4c7",
   "metadata": {
    "ExecuteTime": {
     "end_time": "2024-04-21T19:44:31.197942Z",
     "start_time": "2024-04-21T19:44:31.171937Z"
    }
   },
   "outputs": [],
   "source": [
    "def _process_data_(file):\n",
    "    with open(file, 'r') as file:\n",
    "        log_content = file.read()\n",
    "    sections = log_content.split('Sandbox logs:')[1].split('Activities log:')\n",
    "    sandbox_log =  sections[0].strip()\n",
    "    activities_log = sections[1].split('Trade History:')[0]\n",
    "    # sandbox_log_list = [json.loads(line) for line in sandbox_log.split('\\n')]\n",
    "    trade_history =  json.loads(sections[1].split('Trade History:')[1])\n",
    "    # sandbox_log_df = pd.DataFrame(sandbox_log_list)\n",
    "    market_data_df = pd.read_csv(io.StringIO(activities_log), sep=\";\", header=0)\n",
    "    trade_history_df = pd.json_normalize(trade_history)\n",
    "    return market_data_df, trade_history_df"
   ]
  },
  {
   "cell_type": "markdown",
   "id": "8b9980db",
   "metadata": {},
   "source": [
    "### setup"
   ]
  },
  {
   "cell_type": "code",
   "execution_count": 2,
   "id": "d05e0a17",
   "metadata": {
    "ExecuteTime": {
     "end_time": "2024-04-21T19:44:33.300292Z",
     "start_time": "2024-04-21T19:44:33.290226Z"
    }
   },
   "outputs": [],
   "source": [
    "def calculate_starfruit_fair(order_depth):\n",
    "    # assumes order_depth has orders in it \n",
    "    best_ask = min(order_depth.sell_orders.keys())\n",
    "    best_bid = max(order_depth.buy_orders.keys())\n",
    "    filtered_ask = [price for price in order_depth.sell_orders.keys() if abs(order_depth.sell_orders[price]) >= 15]\n",
    "    filtered_bid = [price for price in order_depth.buy_orders.keys() if abs(order_depth.buy_orders[price]) >= 15]\n",
    "    mm_ask = min(filtered_ask) if len(filtered_ask) > 0 else best_ask\n",
    "    mm_bid = max(filtered_bid) if len(filtered_bid) > 0 else best_bid\n",
    "\n",
    "    mmmid_price = (mm_ask + mm_bid) / 2\n",
    "    return mmmid_price\n",
    "    \n",
    "def calculate_amethysts_fair(order_depth):\n",
    "    return 10000"
   ]
  },
  {
   "cell_type": "markdown",
   "id": "5f111cf4",
   "metadata": {},
   "source": [
    "### RUN FROM LOG"
   ]
  },
  {
   "cell_type": "code",
   "execution_count": 3,
   "id": "c805f20c",
   "metadata": {
    "ExecuteTime": {
     "end_time": "2024-04-21T19:47:26.694400Z",
     "start_time": "2024-04-21T19:47:25.836891Z"
    }
   },
   "outputs": [],
   "source": [
    "import datetime\n",
    "import json\n",
    "import pandas as pd\n",
    "from collections import defaultdict\n",
    "from typing import List, Dict, Any\n",
    "import string\n",
    "import jsonpickle\n",
    "import numpy as np\n",
    "import math\n",
    "import io\n",
    "from datamodel import Listing, ConversionObservation\n",
    "from datamodel import TradingState, Listing, OrderDepth, Trade, Observation\n",
    "from round4_v3_bt import Trader\n",
    "from backtester import Backtester\n",
    "import pandas as pd\n",
    "import numpy as np\n",
    "from typing import List, Dict, Any\n",
    "import string\n",
    "import jsonpickle\n",
    "import numpy as np\n",
    "import math\n"
   ]
  },
  {
   "cell_type": "code",
   "execution_count": 4,
   "id": "5a2c41c3",
   "metadata": {},
   "outputs": [],
   "source": [
    "listings = {\n",
    "    'AMETHYSTS': Listing(symbol='AMETHYSTS', product='AMETHYSTS', denomination='SEASHELLS'),\n",
    "    'STARFRUIT': Listing(symbol='STARFRUIT', product='STARFRUIT', denomination='SEASHELLS'),\n",
    "    'ORCHIDS': Listing(symbol='ORCHIDS', product='ORCHIDS', denomination='SEASHELLS'),\n",
    "    'CHOCOLATE': Listing(symbol='CHOCOLATE', product='CHOCOLATE', denomination='SEASHELLS'),\n",
    "    'STRAWBERRIES': Listing(symbol='STRAWBERRIES', product='STRAWBERRIES', denomination='SEASHELLS'),\n",
    "    'ROSES': Listing(symbol='ROSES', product='ROSES', denomination='SEASHELLS'),\n",
    "    'GIFT_BASKET': Listing(symbol='GIFT_BASKET', product='GIFT_BASKET', denomination='SEASHELLS'),\n",
    "    'COCONUT': Listing(symbol='COCONUT', product=\"COCONUT\", denomination=\"SEASHELLS\"),\n",
    "    \"COCONUT_COUPON\": Listing(symbol='COCONUT_COUPON', product='COCONUT_COUPON', denomination=\"SEASHELLS\")\n",
    "}\n",
    "\n",
    "position_limit = {\n",
    "    'AMETHYSTS': 20,\n",
    "    'STARFRUIT': 20,\n",
    "    'CHOCOLATE': 250,\n",
    "    'STRAWBERRIES': 350,\n",
    "    'ROSES': 60,\n",
    "    'GIFT_BASKET': 60,\n",
    "    'COCONUT': 300,\n",
    "    'COCONUT_COUPON': 600\n",
    "}\n",
    "\n",
    "fair_calculations = {\n",
    "}"
   ]
  },
  {
   "cell_type": "code",
   "execution_count": 5,
   "id": "26c67a83",
   "metadata": {},
   "outputs": [
    {
     "name": "stdout",
     "output_type": "stream",
     "text": [
      "{'AMETHYSTS': 7800.0, 'STARFRUIT': 7836.0, 'ORCHIDS': 0.0, 'CHOCOLATE': 4664.0, 'STRAWBERRIES': 4578.0, 'ROSES': 39252.0, 'GIFT_BASKET': 25419.0, 'COCONUT': 0, 'COCONUT_COUPON': 0}\n"
     ]
    }
   ],
   "source": [
    "market_data, trade_history = _process_data_(\"./clean_logs/results_round3.log\")\n",
    "trader = Trader()\n",
    "backtester = Backtester(trader, listings, position_limit, fair_calculations, market_data, trade_history, f\"backtests/results_round3.log\")\n",
    "backtester.run()\n",
    "print(backtester.pnl)"
   ]
  },
  {
   "cell_type": "markdown",
   "id": "f1c4f33b",
   "metadata": {},
   "source": [
    "### RUN FROM DATABOTTLE"
   ]
  },
  {
   "cell_type": "code",
   "execution_count": 6,
   "id": "892f99a5",
   "metadata": {
    "ExecuteTime": {
     "end_time": "2024-04-15T14:10:12.211580Z",
     "start_time": "2024-04-15T14:09:49.651945Z"
    }
   },
   "outputs": [
    {
     "ename": "KeyError",
     "evalue": "'ORCHIDS'",
     "output_type": "error",
     "traceback": [
      "\u001b[0;31m---------------------------------------------------------------------------\u001b[0m",
      "\u001b[0;31mKeyError\u001b[0m                                  Traceback (most recent call last)",
      "Cell \u001b[0;32mIn[6], line 9\u001b[0m\n\u001b[1;32m      7\u001b[0m trader \u001b[38;5;241m=\u001b[39m Trader()\n\u001b[1;32m      8\u001b[0m backtester \u001b[38;5;241m=\u001b[39m Backtester(trader, listings, position_limit, fair_calculations, market_data, trade_history, \u001b[38;5;124mf\u001b[39m\u001b[38;5;124m\"\u001b[39m\u001b[38;5;124mclean_data_logs/trade_history_day_\u001b[39m\u001b[38;5;132;01m{\u001b[39;00mi\u001b[38;5;132;01m}\u001b[39;00m\u001b[38;5;124m.log\u001b[39m\u001b[38;5;124m\"\u001b[39m)\n\u001b[0;32m----> 9\u001b[0m \u001b[43mbacktester\u001b[49m\u001b[38;5;241;43m.\u001b[39;49m\u001b[43mrun\u001b[49m\u001b[43m(\u001b[49m\u001b[43m)\u001b[49m\n\u001b[1;32m     10\u001b[0m \u001b[38;5;28mprint\u001b[39m(backtester\u001b[38;5;241m.\u001b[39mpnl)\n",
      "File \u001b[0;32m~/Programming/prosperity24/round4/backtester.py:73\u001b[0m, in \u001b[0;36mBacktester.run\u001b[0;34m(self)\u001b[0m\n\u001b[1;32m     70\u001b[0m order_depths_matching \u001b[38;5;241m=\u001b[39m \u001b[38;5;28mself\u001b[39m\u001b[38;5;241m.\u001b[39m_construct_order_depths(group)\n\u001b[1;32m     71\u001b[0m order_depths_pnl \u001b[38;5;241m=\u001b[39m \u001b[38;5;28mself\u001b[39m\u001b[38;5;241m.\u001b[39m_construct_order_depths(group)\n\u001b[0;32m---> 73\u001b[0m local_bid \u001b[38;5;241m=\u001b[39m \u001b[38;5;28mmax\u001b[39m(\u001b[43morder_depths\u001b[49m\u001b[43m[\u001b[49m\u001b[38;5;124;43m\"\u001b[39;49m\u001b[38;5;124;43mORCHIDS\u001b[39;49m\u001b[38;5;124;43m\"\u001b[39;49m\u001b[43m]\u001b[49m\u001b[38;5;241m.\u001b[39mbuy_orders\u001b[38;5;241m.\u001b[39mkeys())\n\u001b[1;32m     74\u001b[0m local_ask \u001b[38;5;241m=\u001b[39m \u001b[38;5;28mmin\u001b[39m(order_depths[\u001b[38;5;124m\"\u001b[39m\u001b[38;5;124mORCHIDS\u001b[39m\u001b[38;5;124m\"\u001b[39m]\u001b[38;5;241m.\u001b[39msell_orders\u001b[38;5;241m.\u001b[39mkeys())\n\u001b[1;32m     75\u001b[0m implied_bid \u001b[38;5;241m=\u001b[39m local_bid \u001b[38;5;241m-\u001b[39m \u001b[38;5;241m2\u001b[39m\n",
      "\u001b[0;31mKeyError\u001b[0m: 'ORCHIDS'"
     ]
    }
   ],
   "source": [
    "for i in range(1, 4):\n",
    "    # with fair prediction\n",
    "    day = i\n",
    "    market_data = pd.read_csv(f\"./round-4-island-data-bottle/prices_round_4_day_{day}.csv\", sep=\";\", header=0)\n",
    "    trade_history = pd.read_csv(f\"./round-4-island-data-bottle/trades_round_4_day_{day}_nn.csv\", sep=\";\", header=0)\n",
    "\n",
    "    trader = Trader()\n",
    "    backtester = Backtester(trader, listings, position_limit, fair_calculations, market_data, trade_history, f\"clean_data_logs/trade_history_day_{i}.log\")\n",
    "    backtester.run()\n",
    "    print(backtester.pnl)"
   ]
  },
  {
   "cell_type": "markdown",
   "id": "95caea2e",
   "metadata": {},
   "source": [
    "`{'AMETHYSTS': 14554, 'STARFRUIT': 14144.5}`"
   ]
  },
  {
   "cell_type": "code",
   "execution_count": null,
   "id": "8ef00240",
   "metadata": {
    "ExecuteTime": {
     "end_time": "2024-04-11T07:49:51.034535Z",
     "start_time": "2024-04-11T07:49:44.193556Z"
    }
   },
   "outputs": [],
   "source": [
    "day = 1\n",
    "market_data1 = pd.read_csv(f\"./round-4-island-data-bottle/prices_round_4_day_{day}.csv\", sep=\";\", header=0)\n",
    "trade_history1 = pd.read_csv(f\"./round-4-island-data-bottle/trades_round_4_day_{day}_nn.csv\", sep=\";\", header=0)\n",
    "\n",
    "day = 2\n",
    "market_data2 = pd.read_csv(f\"./round-4-island-data-bottle/prices_round_4_day_{day}.csv\", sep=\";\", header=0)\n",
    "trade_history2 = pd.read_csv(f\"./round-4-island-data-bottle/trades_round_4_day_{day}_nn.csv\", sep=\";\", header=0)\n",
    "market_data2['timestamp'] = market_data2['timestamp'] + 1000000\n",
    "trade_history2['timestamp'] = trade_history2['timestamp'] + 1000000\n",
    "\n",
    "day = 3\n",
    "market_data3 = pd.read_csv(f\"./round-4-island-data-bottle/prices_round_4_day_{day}.csv\", sep=\";\", header=0)\n",
    "trade_history3 = pd.read_csv(f\"./round-4-island-data-bottle/trades_round_4_day_{day}_nn.csv\", sep=\";\", header=0)\n",
    "market_data3['timestamp'] = market_data3['timestamp'] + 2000000\n",
    "trade_history3['timestamp'] = trade_history3['timestamp'] + 2000000\n",
    "\n",
    "market_data = pd.concat([market_data1, market_data2, market_data3])\n",
    "trade_history = pd.concat([trade_history1, trade_history2, trade_history3])\n",
    "\n"
   ]
  },
  {
   "cell_type": "markdown",
   "id": "78f84ee9",
   "metadata": {},
   "source": [
    "# backtest gridsearch"
   ]
  },
  {
   "cell_type": "code",
   "execution_count": null,
   "id": "da4a7053",
   "metadata": {
    "ExecuteTime": {
     "end_time": "2024-04-11T01:05:46.057497Z",
     "start_time": "2024-04-11T01:05:46.050249Z"
    }
   },
   "outputs": [],
   "source": [
    "import itertools\n",
    "\n",
    "def generate_param_combinations(param_grid):\n",
    "    param_names = param_grid.keys()\n",
    "    param_values = param_grid.values()\n",
    "    combinations = list(itertools.product(*param_values))\n",
    "    return [dict(zip(param_names, combination)) for combination in combinations]"
   ]
  },
  {
   "cell_type": "code",
   "execution_count": null,
   "id": "2710a571",
   "metadata": {
    "ExecuteTime": {
     "end_time": "2024-04-12T00:59:54.451328Z",
     "start_time": "2024-04-12T00:59:54.438199Z"
    }
   },
   "outputs": [],
   "source": [
    "import os\n",
    "from tqdm import tqdm\n",
    "\n",
    "def run_backtests(trader, listings, position_limit, fair_calcs, market_data, trade_history, backtest_dir, param_grid, symbol):\n",
    "    if not os.path.exists(backtest_dir):\n",
    "        os.makedirs(backtest_dir)\n",
    "\n",
    "    param_combinations = generate_param_combinations(param_grid[symbol])\n",
    "\n",
    "    results = []\n",
    "    for params in tqdm(param_combinations, desc=f\"Running backtests for {symbol}\", unit=\"backtest\"):\n",
    "        trader.params = {symbol: params}\n",
    "        backtester = Backtester(trader, listings, position_limit, fair_calcs, market_data, trade_history)\n",
    "        backtester.run()\n",
    "\n",
    "        param_str = \"-\".join([f\"{key}={value}\" for key, value in params.items()])\n",
    "        log_filename = f\"{backtest_dir}/{symbol}_{param_str}.log\"\n",
    "        backtester._log_trades(log_filename)\n",
    "\n",
    "        results.append((params, backtester.pnl[symbol]))\n",
    "\n",
    "    return results"
   ]
  },
  {
   "cell_type": "markdown",
   "id": "141f7346",
   "metadata": {},
   "source": [
    "### setup"
   ]
  },
  {
   "cell_type": "markdown",
   "id": "28aef217",
   "metadata": {},
   "source": [
    "### run"
   ]
  },
  {
   "cell_type": "code",
   "execution_count": null,
   "id": "f9670677",
   "metadata": {
    "ExecuteTime": {
     "start_time": "2024-04-12T01:39:43.665Z"
    },
    "scrolled": false
   },
   "outputs": [
    {
     "name": "stderr",
     "output_type": "stream",
     "text": [
      "Running backtests for COCONUT_COUPON:   0%|          | 0/5 [00:00<?, ?backtest/s]Running backtests for COCONUT_COUPON: 100%|██████████| 5/5 [03:25<00:00, 41.05s/backtest]"
     ]
    },
    {
     "name": "stdout",
     "output_type": "stream",
     "text": [
      "COCONUT_COUPON results:\n",
      "{'mean_volatility': 0.15959997370608378, 'threshold': 0.00163, 'strike': 10000, 'starting_time_to_expiry': 0.988, 'std_window': 30, 'zscore_threshold': 4.8}\n",
      "pnl: 434053.0\n",
      "================================================================================\n",
      "{'mean_volatility': 0.15959997370608378, 'threshold': 0.00163, 'strike': 10000, 'starting_time_to_expiry': 0.988, 'std_window': 30, 'zscore_threshold': 4.8999999999999995}\n",
      "pnl: 432395.0\n",
      "================================================================================\n",
      "{'mean_volatility': 0.15959997370608378, 'threshold': 0.00163, 'strike': 10000, 'starting_time_to_expiry': 0.988, 'std_window': 30, 'zscore_threshold': 4.999999999999999}\n",
      "pnl: 439458.0\n",
      "================================================================================\n",
      "{'mean_volatility': 0.15959997370608378, 'threshold': 0.00163, 'strike': 10000, 'starting_time_to_expiry': 0.988, 'std_window': 30, 'zscore_threshold': 5.099999999999999}\n",
      "pnl: 439686.0\n",
      "================================================================================\n",
      "{'mean_volatility': 0.15959997370608378, 'threshold': 0.00163, 'strike': 10000, 'starting_time_to_expiry': 0.988, 'std_window': 30, 'zscore_threshold': 5.199999999999998}\n",
      "pnl: 432930.0\n",
      "================================================================================\n"
     ]
    },
    {
     "name": "stderr",
     "output_type": "stream",
     "text": [
      "\n"
     ]
    }
   ],
   "source": [
    "backtest_dir = \"backtestruns\"\n",
    "\n",
    "param_grid = {\n",
    "    \"COCONUT_COUPON\": {\n",
    "        \"mean_volatility\": [0.15959997370608378],\n",
    "        \"threshold\": [0.00163],\n",
    "        \"strike\": [10000],\n",
    "        \"starting_time_to_expiry\": [247 / 250],\n",
    "        \"std_window\": [30],\n",
    "        \"zscore_threshold\": np.arange(4.8,5.3,0.1)\n",
    "    },\n",
    "}\n",
    "\n",
    "# param_grid = {\n",
    "#     \"COCONUT_COUPON\": {\n",
    "#         \"mean_volatility\": [0.15959997370608378],\n",
    "#         \"threshold\": [0.00163],\n",
    "#         \"strike\": [10000],\n",
    "#         \"starting_time_to_expiry\": [247 / 250],\n",
    "#         \"std_window\": [6],\n",
    "#         \"zscore_threshold\": [20]\n",
    "#     },\n",
    "# }\n",
    "\n",
    "trader = Trader()\n",
    "\n",
    "coconut_coupon_results = run_backtests(trader, listings, position_limit, fair_calculations, market_data, trade_history, backtest_dir, param_grid, \"COCONUT_COUPON\")\n",
    "print(\"COCONUT_COUPON results:\")\n",
    "for params, pnl in coconut_coupon_results: \n",
    "    print(params)\n",
    "    print(f\"pnl: {pnl}\")\n",
    "    print(\"=\"*80)\n"
   ]
  },
  {
   "cell_type": "markdown",
   "id": "bd53a5e1",
   "metadata": {},
   "source": [
    "## analyze"
   ]
  },
  {
   "cell_type": "code",
   "execution_count": null,
   "id": "e7894eee",
   "metadata": {},
   "outputs": [
    {
     "name": "stdout",
     "output_type": "stream",
     "text": [
      "Top 5 PnLs in COCONUT_COUPON results:\n",
      "{'mean_volatility': 0.15959997370608378, 'threshold': 0.00163, 'strike': 10000, 'starting_time_to_expiry': 0.988, 'std_window': 30, 'zscore_threshold': 7}\n",
      "pnl: 431250.0\n",
      "================================================================================\n",
      "{'mean_volatility': 0.15959997370608378, 'threshold': 0.00163, 'strike': 10000, 'starting_time_to_expiry': 0.988, 'std_window': 15, 'zscore_threshold': 7}\n",
      "pnl: 428369.0\n",
      "================================================================================\n",
      "{'mean_volatility': 0.15959997370608378, 'threshold': 0.00163, 'strike': 10000, 'starting_time_to_expiry': 0.988, 'std_window': 20, 'zscore_threshold': 9}\n",
      "pnl: 428119.0\n",
      "================================================================================\n",
      "{'mean_volatility': 0.15959997370608378, 'threshold': 0.00163, 'strike': 10000, 'starting_time_to_expiry': 0.988, 'std_window': 20, 'zscore_threshold': 7}\n",
      "pnl: 427421.0\n",
      "================================================================================\n",
      "{'mean_volatility': 0.15959997370608378, 'threshold': 0.00163, 'strike': 10000, 'starting_time_to_expiry': 0.988, 'std_window': 25, 'zscore_threshold': 8}\n",
      "pnl: 426677.0\n",
      "================================================================================\n"
     ]
    }
   ],
   "source": [
    "\n",
    "coconut_coupon_results.sort(key=lambda x: x[1], reverse=True)\n",
    "print(\"Top 5 PnLs in COCONUT_COUPON results:\")\n",
    "for params, pnl in coconut_coupon_results[:5]: \n",
    "    print(params)\n",
    "    print(f\"pnl: {pnl}\")\n",
    "    print(\"=\"*80)\n",
    "\n"
   ]
  },
  {
   "cell_type": "code",
   "execution_count": null,
   "id": "2027e9a2",
   "metadata": {
    "ExecuteTime": {
     "end_time": "2024-04-10T20:17:56.528624Z",
     "start_time": "2024-04-10T20:17:56.471121Z"
    }
   },
   "outputs": [],
   "source": [
    "\n",
    "def analyze_log_files(backtest_dir):\n",
    "    log_files = [f for f in os.listdir(backtest_dir) if f.endswith('.log')]\n",
    "    \n",
    "    results = []\n",
    "    for log_file in log_files:\n",
    "        file_path = os.path.join(backtest_dir, log_file)\n",
    "        \n",
    "        # Extract symbol and parameters from the file name\n",
    "        file_name = os.path.splitext(log_file)[0]\n",
    "        print(file_name)\n",
    "        symbol, params_str = file_name.split('-', 1)\n",
    "        params = dict(param.split('=') for param in params_str.split('-'))\n",
    "        \n",
    "        # Read the contents of the log file\n",
    "        with open(file_path, 'r') as file:\n",
    "            log_content = file.read()\n",
    "        \n",
    "        # Store the symbol, parameters, and log content in the results\n",
    "        results.append({\n",
    "            'symbol': symbol,\n",
    "            'params': params,\n",
    "            'log_content': log_content\n",
    "        })\n",
    "    \n",
    "    return results\n",
    "\n",
    "# Analyze the log files\n",
    "log_analysis_results = analyze_log_files(backtest_dir)\n",
    "\n",
    "# Print the results\n",
    "for result in log_analysis_results:\n",
    "    print(f\"Symbol: {result['symbol']}\")\n",
    "    print(f\"Parameters: {result['params']}\")\n",
    "#     print(f\"Log Content:\\n{result['log_content']}\\n\")"
   ]
  },
  {
   "cell_type": "code",
   "execution_count": null,
   "id": "a1d25a25",
   "metadata": {},
   "outputs": [],
   "source": [
    "import datetime\n",
    "import json\n",
    "import pandas as pd\n",
    "from collections import defaultdict\n",
    "from typing import List, Dict, Any\n",
    "import string\n",
    "import jsonpickle\n",
    "import numpy as np\n",
    "import math\n",
    "import io\n",
    "from datamodel import Listing, ConversionObservation\n",
    "from datamodel import TradingState, Listing, OrderDepth, Trade, Observation"
   ]
  },
  {
   "cell_type": "code",
   "execution_count": null,
   "id": "c82e5863",
   "metadata": {},
   "outputs": [],
   "source": [
    "class Product:\n",
    "    AMETHYSTS = \"AMETHYSTS\"\n",
    "    STARFRUIT = \"STARFRUIT\"\n",
    "    ORCHIDS = \"ORCHIDS\"\n",
    "    GIFT_BASKET = \"GIFT_BASKET\"\n",
    "    CHOCOLATE = \"CHOCOLATE\"\n",
    "    STRAWBERRIES = \"STRAWBERRIES\"\n",
    "    ROSES = \"ROSES\"\n",
    "    SYNTHETIC = \"SYNTHETIC\"\n",
    "    SPREAD = \"SPREAD\"\n",
    "\n",
    "def create_params(sma_window, std_window, zscore_threshold, target_position):\n",
    "    return {\n",
    "        Product.AMETHYSTS: {\n",
    "            \"fair_value\": 10000,\n",
    "            \"take_width\": 1,\n",
    "            \"clear_width\": 0.5,\n",
    "            \"volume_limit\": 0,\n",
    "        },\n",
    "        Product.STARFRUIT: {\n",
    "            \"take_width\": 1,\n",
    "            \"clear_width\": 0,\n",
    "            \"prevent_adverse\": True,\n",
    "            \"adverse_volume\": 15,\n",
    "            \"reversion_beta\": -0.229,\n",
    "            \"starfruit_min_edge\": 2,\n",
    "        },\n",
    "        Product.ORCHIDS: {\n",
    "            \"make_edge\": 2,\n",
    "            \"make_min_edge\": 1,\n",
    "            \"make_probability\": 0.566,\n",
    "            \"init_make_edge\": 2,\n",
    "            \"min_edge\": 0.5,\n",
    "            \"volume_avg_timestamp\": 5,\n",
    "            \"volume_bar\": 75,\n",
    "            \"dec_edge_discount\": 0.8,\n",
    "            \"step_size\": 0.5,\n",
    "        },\n",
    "        Product.SPREAD:{\n",
    "            \"default_spread_mean\": 379.50439988484237,\n",
    "            \"default_spread_std\": 76.07966,\n",
    "            \"spread_sma_window\": sma_window,\n",
    "            \"spread_std_window\": std_window,\n",
    "            \"zscore_threshold\": zscore_threshold,\n",
    "            \"target_position\": target_position\n",
    "        }\n",
    "    }"
   ]
  },
  {
   "cell_type": "code",
   "execution_count": null,
   "id": "25953e07",
   "metadata": {},
   "outputs": [
    {
     "name": "stderr",
     "output_type": "stream",
     "text": [
      "1it [00:47, 47.13s/it]"
     ]
    },
    {
     "name": "stdout",
     "output_type": "stream",
     "text": [
      "sma_window: 1500, std_window: 45, zscore_threshold: 9, target_position: 58, pnl: 46695.0\n",
      "================================================================================\n"
     ]
    },
    {
     "name": "stderr",
     "output_type": "stream",
     "text": [
      "\n"
     ]
    }
   ],
   "source": [
    "from backtester import Backtester\n",
    "from round3_v1_simple_strat import Trader\n",
    "from tqdm import tqdm\n",
    "import itertools\n",
    "\n",
    "def _process_data_(file):\n",
    "    with open(file, 'r') as file:\n",
    "        log_content = file.read()\n",
    "    sections = log_content.split('Sandbox logs:')[1].split('Activities log:')\n",
    "    sandbox_log =  sections[0].strip()\n",
    "    activities_log = sections[1].split('Trade History:')[0]\n",
    "    # sandbox_log_list = [json.loads(line) for line in sandbox_log.split('\\n')]\n",
    "    trade_history =  json.loads(sections[1].split('Trade History:')[1])\n",
    "    # sandbox_log_df = pd.DataFrame(sandbox_log_list)\n",
    "    market_data_df = pd.read_csv(io.StringIO(activities_log), sep=\";\", header=0)\n",
    "    trade_history_df = pd.json_normalize(trade_history)\n",
    "    return market_data_df, trade_history_df\n",
    "\n",
    "listings = {\n",
    "    'AMETHYSTS': Listing(symbol='AMETHYSTS', product='AMETHYSTS', denomination='SEASHELLS'),\n",
    "    'STARFRUIT': Listing(symbol='STARFRUIT', product='STARFRUIT', denomination='SEASHELLS'),\n",
    "    'ORCHIDS': Listing(symbol='ORCHIDS', product='ORCHIDS', denomination='SEASHELLS'),\n",
    "    'CHOCOLATE': Listing(symbol='CHOCOLATE', product='CHOCOLATE', denomination='SEASHELLS'),\n",
    "    'STRAWBERRIES': Listing(symbol='STRAWBERRIES', product='STRAWBERRIES', denomination='SEASHELLS'),\n",
    "    'ROSES': Listing(symbol='ROSES', product='ROSES', denomination='SEASHELLS'),\n",
    "    'GIFT_BASKET': Listing(symbol='GIFT_BASKET', product='GIFT_BASKET', denomination='SEASHELLS'),\n",
    "}\n",
    "\n",
    "position_limit = {\n",
    "    'AMETHYSTS': 20,\n",
    "    'STARFRUIT': 20,\n",
    "    'CHOCOLATE': 250,\n",
    "    'STRAWBERRIES': 350,\n",
    "    'ROSES': 60,\n",
    "    'GIFT_BASKET': 60\n",
    "}\n",
    "\n",
    "fair_calculations = {}\n",
    "\n",
    "market_data0, trade_history0 = _process_data_('./clean_log/trade_history_day_0.log')\n",
    "market_data1, trade_history1 = _process_data_('./clean_log/trade_history_day_1.log')\n",
    "market_data2, trade_history2 = _process_data_('./clean_log/trade_history_day_2.log')\n",
    "market_data = market_data0\n",
    "trade_history = trade_history0\n",
    "\n",
    "sma_windows = [1500]\n",
    "std_windows = [45]\n",
    "zscore_thresholds = [9]\n",
    "target_positions = [58]\n",
    "\n",
    "\n",
    "for sma_window, std_window, zscore_threshold, target_position in tqdm(itertools.product(sma_windows, std_windows, zscore_thresholds, target_positions)):\n",
    "    total_pnl = 0\n",
    "    params = create_params(sma_window, std_window, zscore_threshold, target_position)\n",
    "    trader = Trader(params=params)\n",
    "    backtester = Backtester(trader, listings, position_limit, fair_calculations, market_data, trade_history, \"simple_strat_backtest_no_clear_test_exceed.log\")\n",
    "    backtester.run()\n",
    "    pnl = sum(float(pnl) for pnl in backtester.pnl.values())\n",
    "    total_pnl += pnl\n",
    "    print(f\"sma_window: {sma_window}, std_window: {std_window}, zscore_threshold: {zscore_threshold}, target_position: {target_position}, pnl: {total_pnl}\")\n",
    "    print(\"=\"*80)\n",
    "\n"
   ]
  },
  {
   "cell_type": "code",
   "execution_count": null,
   "id": "b34a4c73",
   "metadata": {},
   "outputs": [],
   "source": []
  }
 ],
 "metadata": {
  "kernelspec": {
   "display_name": "Python 3 (ipykernel)",
   "language": "python",
   "name": "python3"
  },
  "language_info": {
   "codemirror_mode": {
    "name": "ipython",
    "version": 3
   },
   "file_extension": ".py",
   "mimetype": "text/x-python",
   "name": "python",
   "nbconvert_exporter": "python",
   "pygments_lexer": "ipython3",
   "version": "3.11.8"
  },
  "toc": {
   "base_numbering": 1,
   "nav_menu": {},
   "number_sections": true,
   "sideBar": true,
   "skip_h1_title": false,
   "title_cell": "Table of Contents",
   "title_sidebar": "Contents",
   "toc_cell": false,
   "toc_position": {},
   "toc_section_display": true,
   "toc_window_display": false
  }
 },
 "nbformat": 4,
 "nbformat_minor": 5
}
