{
 "cells": [
  {
   "cell_type": "code",
   "execution_count": null,
   "metadata": {},
   "outputs": [],
   "source": [
    "mean = 981.5\n",
    "import numpy as np\n",
    "\n",
    "pnl = 0\n",
    "for b1 in np.arange(900,1000, 1):\n",
    "    for b2 in np.arange(b2, 1000, 1):\n",
    "        opt = (b1 - 900) ** 2 * (1000 - b1) + ()"
   ]
  },
  {
   "cell_type": "markdown",
   "metadata": {},
   "source": []
  }
 ],
 "metadata": {
  "kernelspec": {
   "display_name": "prosperity",
   "language": "python",
   "name": "python3"
  },
  "language_info": {
   "name": "python",
   "version": "3.12.2"
  }
 },
 "nbformat": 4,
 "nbformat_minor": 2
}
