{
 "cells": [
  {
   "cell_type": "markdown",
   "id": "12bd2e3c",
   "metadata": {},
   "source": [
    "# imports "
   ]
  },
  {
   "cell_type": "code",
   "execution_count": 1,
   "id": "6685abf6",
   "metadata": {
    "ExecuteTime": {
     "end_time": "2024-05-20T02:36:22.595605Z",
     "start_time": "2024-05-20T02:36:12.977108Z"
    }
   },
   "outputs": [],
   "source": [
    "import pandas as pd\n",
    "import matplotlib.pyplot as plt\n",
    "import plotly.express as px\n",
    "import numpy as np"
   ]
  },
  {
   "cell_type": "code",
   "execution_count": 2,
   "id": "774c2db1",
   "metadata": {
    "ExecuteTime": {
     "end_time": "2024-04-10T20:54:18.507110Z",
     "start_time": "2024-04-10T20:54:18.499879Z"
    }
   },
   "outputs": [],
   "source": [
    "pd.options.display.max_rows = 500"
   ]
  },
  {
   "cell_type": "markdown",
   "id": "0f0929b9",
   "metadata": {},
   "source": [
    "# load data"
   ]
  },
  {
   "cell_type": "code",
   "execution_count": 67,
   "id": "44e327da",
   "metadata": {
    "ExecuteTime": {
     "end_time": "2024-04-10T21:44:39.808447Z",
     "start_time": "2024-04-10T21:44:39.749352Z"
    }
   },
   "outputs": [],
   "source": [
    "day = 0\n",
    "market_data = pd.read_csv(f\"./round_1_data/prices_round_1_day_{day}.csv\", sep=\";\", header=0)\n",
    "trade_history = pd.read_csv(f\"./round_1_data/trades_round_1_day_{day}_nn.csv\", sep=\";\", header=0)\n",
    "# market_data = pd.read_csv(f\"./round_1_data/prices_round_0_day_{day}.csv\", sep=\";\", header=0)\n",
    "# trade_history = pd.read_csv(f\"./round_1_data/trades_round_0_day_{day}_nn.csv\", sep=\";\", header=0)"
   ]
  },
  {
   "cell_type": "code",
   "execution_count": 68,
   "id": "ac15f862",
   "metadata": {
    "ExecuteTime": {
     "end_time": "2024-04-10T21:44:42.600649Z",
     "start_time": "2024-04-10T21:44:42.566824Z"
    }
   },
   "outputs": [
    {
     "data": {
      "text/html": [
       "<div>\n",
       "<style scoped>\n",
       "    .dataframe tbody tr th:only-of-type {\n",
       "        vertical-align: middle;\n",
       "    }\n",
       "\n",
       "    .dataframe tbody tr th {\n",
       "        vertical-align: top;\n",
       "    }\n",
       "\n",
       "    .dataframe thead th {\n",
       "        text-align: right;\n",
       "    }\n",
       "</style>\n",
       "<table border=\"1\" class=\"dataframe\">\n",
       "  <thead>\n",
       "    <tr style=\"text-align: right;\">\n",
       "      <th></th>\n",
       "      <th>day</th>\n",
       "      <th>timestamp</th>\n",
       "      <th>product</th>\n",
       "      <th>bid_price_1</th>\n",
       "      <th>bid_volume_1</th>\n",
       "      <th>bid_price_2</th>\n",
       "      <th>bid_volume_2</th>\n",
       "      <th>bid_price_3</th>\n",
       "      <th>bid_volume_3</th>\n",
       "      <th>ask_price_1</th>\n",
       "      <th>ask_volume_1</th>\n",
       "      <th>ask_price_2</th>\n",
       "      <th>ask_volume_2</th>\n",
       "      <th>ask_price_3</th>\n",
       "      <th>ask_volume_3</th>\n",
       "      <th>mid_price</th>\n",
       "      <th>profit_and_loss</th>\n",
       "    </tr>\n",
       "  </thead>\n",
       "  <tbody>\n",
       "    <tr>\n",
       "      <th>0</th>\n",
       "      <td>-1</td>\n",
       "      <td>0</td>\n",
       "      <td>RAINFOREST_RESIN</td>\n",
       "      <td>10002</td>\n",
       "      <td>1</td>\n",
       "      <td>9996.0</td>\n",
       "      <td>2.0</td>\n",
       "      <td>9995.0</td>\n",
       "      <td>29.0</td>\n",
       "      <td>10004</td>\n",
       "      <td>2</td>\n",
       "      <td>10005.0</td>\n",
       "      <td>29.0</td>\n",
       "      <td>NaN</td>\n",
       "      <td>NaN</td>\n",
       "      <td>10003.0</td>\n",
       "      <td>0.0</td>\n",
       "    </tr>\n",
       "    <tr>\n",
       "      <th>1</th>\n",
       "      <td>-1</td>\n",
       "      <td>0</td>\n",
       "      <td>KELP</td>\n",
       "      <td>2028</td>\n",
       "      <td>1</td>\n",
       "      <td>2026.0</td>\n",
       "      <td>2.0</td>\n",
       "      <td>2025.0</td>\n",
       "      <td>29.0</td>\n",
       "      <td>2029</td>\n",
       "      <td>31</td>\n",
       "      <td>NaN</td>\n",
       "      <td>NaN</td>\n",
       "      <td>NaN</td>\n",
       "      <td>NaN</td>\n",
       "      <td>2028.5</td>\n",
       "      <td>0.0</td>\n",
       "    </tr>\n",
       "    <tr>\n",
       "      <th>2</th>\n",
       "      <td>-1</td>\n",
       "      <td>100</td>\n",
       "      <td>KELP</td>\n",
       "      <td>2025</td>\n",
       "      <td>24</td>\n",
       "      <td>NaN</td>\n",
       "      <td>NaN</td>\n",
       "      <td>NaN</td>\n",
       "      <td>NaN</td>\n",
       "      <td>2028</td>\n",
       "      <td>2</td>\n",
       "      <td>2029.0</td>\n",
       "      <td>22.0</td>\n",
       "      <td>NaN</td>\n",
       "      <td>NaN</td>\n",
       "      <td>2026.5</td>\n",
       "      <td>0.0</td>\n",
       "    </tr>\n",
       "    <tr>\n",
       "      <th>3</th>\n",
       "      <td>-1</td>\n",
       "      <td>100</td>\n",
       "      <td>RAINFOREST_RESIN</td>\n",
       "      <td>9996</td>\n",
       "      <td>2</td>\n",
       "      <td>9995.0</td>\n",
       "      <td>22.0</td>\n",
       "      <td>NaN</td>\n",
       "      <td>NaN</td>\n",
       "      <td>10004</td>\n",
       "      <td>2</td>\n",
       "      <td>10005.0</td>\n",
       "      <td>22.0</td>\n",
       "      <td>NaN</td>\n",
       "      <td>NaN</td>\n",
       "      <td>10000.0</td>\n",
       "      <td>0.0</td>\n",
       "    </tr>\n",
       "    <tr>\n",
       "      <th>4</th>\n",
       "      <td>-1</td>\n",
       "      <td>200</td>\n",
       "      <td>RAINFOREST_RESIN</td>\n",
       "      <td>9995</td>\n",
       "      <td>20</td>\n",
       "      <td>NaN</td>\n",
       "      <td>NaN</td>\n",
       "      <td>NaN</td>\n",
       "      <td>NaN</td>\n",
       "      <td>10005</td>\n",
       "      <td>20</td>\n",
       "      <td>NaN</td>\n",
       "      <td>NaN</td>\n",
       "      <td>NaN</td>\n",
       "      <td>NaN</td>\n",
       "      <td>10000.0</td>\n",
       "      <td>0.0</td>\n",
       "    </tr>\n",
       "    <tr>\n",
       "      <th>...</th>\n",
       "      <td>...</td>\n",
       "      <td>...</td>\n",
       "      <td>...</td>\n",
       "      <td>...</td>\n",
       "      <td>...</td>\n",
       "      <td>...</td>\n",
       "      <td>...</td>\n",
       "      <td>...</td>\n",
       "      <td>...</td>\n",
       "      <td>...</td>\n",
       "      <td>...</td>\n",
       "      <td>...</td>\n",
       "      <td>...</td>\n",
       "      <td>...</td>\n",
       "      <td>...</td>\n",
       "      <td>...</td>\n",
       "      <td>...</td>\n",
       "    </tr>\n",
       "    <tr>\n",
       "      <th>3995</th>\n",
       "      <td>-1</td>\n",
       "      <td>199700</td>\n",
       "      <td>KELP</td>\n",
       "      <td>2020</td>\n",
       "      <td>27</td>\n",
       "      <td>NaN</td>\n",
       "      <td>NaN</td>\n",
       "      <td>NaN</td>\n",
       "      <td>NaN</td>\n",
       "      <td>2023</td>\n",
       "      <td>2</td>\n",
       "      <td>2024.0</td>\n",
       "      <td>25.0</td>\n",
       "      <td>NaN</td>\n",
       "      <td>NaN</td>\n",
       "      <td>2021.5</td>\n",
       "      <td>0.0</td>\n",
       "    </tr>\n",
       "    <tr>\n",
       "      <th>3996</th>\n",
       "      <td>-1</td>\n",
       "      <td>199800</td>\n",
       "      <td>RAINFOREST_RESIN</td>\n",
       "      <td>9995</td>\n",
       "      <td>21</td>\n",
       "      <td>NaN</td>\n",
       "      <td>NaN</td>\n",
       "      <td>NaN</td>\n",
       "      <td>NaN</td>\n",
       "      <td>10002</td>\n",
       "      <td>8</td>\n",
       "      <td>10005.0</td>\n",
       "      <td>21.0</td>\n",
       "      <td>NaN</td>\n",
       "      <td>NaN</td>\n",
       "      <td>9998.5</td>\n",
       "      <td>0.0</td>\n",
       "    </tr>\n",
       "    <tr>\n",
       "      <th>3997</th>\n",
       "      <td>-1</td>\n",
       "      <td>199800</td>\n",
       "      <td>KELP</td>\n",
       "      <td>2020</td>\n",
       "      <td>21</td>\n",
       "      <td>NaN</td>\n",
       "      <td>NaN</td>\n",
       "      <td>NaN</td>\n",
       "      <td>NaN</td>\n",
       "      <td>2023</td>\n",
       "      <td>21</td>\n",
       "      <td>NaN</td>\n",
       "      <td>NaN</td>\n",
       "      <td>NaN</td>\n",
       "      <td>NaN</td>\n",
       "      <td>2021.5</td>\n",
       "      <td>0.0</td>\n",
       "    </tr>\n",
       "    <tr>\n",
       "      <th>3998</th>\n",
       "      <td>-1</td>\n",
       "      <td>199900</td>\n",
       "      <td>KELP</td>\n",
       "      <td>2020</td>\n",
       "      <td>32</td>\n",
       "      <td>NaN</td>\n",
       "      <td>NaN</td>\n",
       "      <td>NaN</td>\n",
       "      <td>NaN</td>\n",
       "      <td>2022</td>\n",
       "      <td>7</td>\n",
       "      <td>2023.0</td>\n",
       "      <td>2.0</td>\n",
       "      <td>2024.0</td>\n",
       "      <td>30.0</td>\n",
       "      <td>2021.0</td>\n",
       "      <td>0.0</td>\n",
       "    </tr>\n",
       "    <tr>\n",
       "      <th>3999</th>\n",
       "      <td>-1</td>\n",
       "      <td>199900</td>\n",
       "      <td>RAINFOREST_RESIN</td>\n",
       "      <td>9996</td>\n",
       "      <td>2</td>\n",
       "      <td>9995.0</td>\n",
       "      <td>30.0</td>\n",
       "      <td>NaN</td>\n",
       "      <td>NaN</td>\n",
       "      <td>10004</td>\n",
       "      <td>2</td>\n",
       "      <td>10005.0</td>\n",
       "      <td>30.0</td>\n",
       "      <td>NaN</td>\n",
       "      <td>NaN</td>\n",
       "      <td>10000.0</td>\n",
       "      <td>0.0</td>\n",
       "    </tr>\n",
       "  </tbody>\n",
       "</table>\n",
       "<p>4000 rows × 17 columns</p>\n",
       "</div>"
      ],
      "text/plain": [
       "      day  timestamp           product  bid_price_1  bid_volume_1  \\\n",
       "0      -1          0  RAINFOREST_RESIN        10002             1   \n",
       "1      -1          0              KELP         2028             1   \n",
       "2      -1        100              KELP         2025            24   \n",
       "3      -1        100  RAINFOREST_RESIN         9996             2   \n",
       "4      -1        200  RAINFOREST_RESIN         9995            20   \n",
       "...   ...        ...               ...          ...           ...   \n",
       "3995   -1     199700              KELP         2020            27   \n",
       "3996   -1     199800  RAINFOREST_RESIN         9995            21   \n",
       "3997   -1     199800              KELP         2020            21   \n",
       "3998   -1     199900              KELP         2020            32   \n",
       "3999   -1     199900  RAINFOREST_RESIN         9996             2   \n",
       "\n",
       "      bid_price_2  bid_volume_2  bid_price_3  bid_volume_3  ask_price_1  \\\n",
       "0          9996.0           2.0       9995.0          29.0        10004   \n",
       "1          2026.0           2.0       2025.0          29.0         2029   \n",
       "2             NaN           NaN          NaN           NaN         2028   \n",
       "3          9995.0          22.0          NaN           NaN        10004   \n",
       "4             NaN           NaN          NaN           NaN        10005   \n",
       "...           ...           ...          ...           ...          ...   \n",
       "3995          NaN           NaN          NaN           NaN         2023   \n",
       "3996          NaN           NaN          NaN           NaN        10002   \n",
       "3997          NaN           NaN          NaN           NaN         2023   \n",
       "3998          NaN           NaN          NaN           NaN         2022   \n",
       "3999       9995.0          30.0          NaN           NaN        10004   \n",
       "\n",
       "      ask_volume_1  ask_price_2  ask_volume_2  ask_price_3  ask_volume_3  \\\n",
       "0                2      10005.0          29.0          NaN           NaN   \n",
       "1               31          NaN           NaN          NaN           NaN   \n",
       "2                2       2029.0          22.0          NaN           NaN   \n",
       "3                2      10005.0          22.0          NaN           NaN   \n",
       "4               20          NaN           NaN          NaN           NaN   \n",
       "...            ...          ...           ...          ...           ...   \n",
       "3995             2       2024.0          25.0          NaN           NaN   \n",
       "3996             8      10005.0          21.0          NaN           NaN   \n",
       "3997            21          NaN           NaN          NaN           NaN   \n",
       "3998             7       2023.0           2.0       2024.0          30.0   \n",
       "3999             2      10005.0          30.0          NaN           NaN   \n",
       "\n",
       "      mid_price  profit_and_loss  \n",
       "0       10003.0              0.0  \n",
       "1        2028.5              0.0  \n",
       "2        2026.5              0.0  \n",
       "3       10000.0              0.0  \n",
       "4       10000.0              0.0  \n",
       "...         ...              ...  \n",
       "3995     2021.5              0.0  \n",
       "3996     9998.5              0.0  \n",
       "3997     2021.5              0.0  \n",
       "3998     2021.0              0.0  \n",
       "3999    10000.0              0.0  \n",
       "\n",
       "[4000 rows x 17 columns]"
      ]
     },
     "execution_count": 68,
     "metadata": {},
     "output_type": "execute_result"
    }
   ],
   "source": [
    "market_data"
   ]
  },
  {
   "cell_type": "markdown",
   "id": "bea00ae5",
   "metadata": {},
   "source": [
    "# research"
   ]
  },
  {
   "cell_type": "code",
   "execution_count": 69,
   "id": "e30855e6",
   "metadata": {
    "ExecuteTime": {
     "end_time": "2024-04-10T21:44:43.279783Z",
     "start_time": "2024-04-10T21:44:43.264440Z"
    }
   },
   "outputs": [],
   "source": [
    "starfruit_data = market_data[market_data['product'] == 'KELP'].reset_index(drop=True)"
   ]
  },
  {
   "cell_type": "code",
   "execution_count": 70,
   "id": "dcbd7e7f",
   "metadata": {
    "ExecuteTime": {
     "end_time": "2024-04-10T21:44:44.349758Z",
     "start_time": "2024-04-10T21:44:44.341021Z"
    }
   },
   "outputs": [
    {
     "data": {
      "text/plain": [
       "bid_volume_1\n",
       "1     173\n",
       "27    151\n",
       "29    149\n",
       "26    147\n",
       "30    144\n",
       "24    137\n",
       "22    131\n",
       "25    129\n",
       "23    129\n",
       "28    123\n",
       "21    107\n",
       "31     93\n",
       "2      54\n",
       "32     52\n",
       "4      43\n",
       "20     38\n",
       "3      34\n",
       "6      28\n",
       "5      22\n",
       "34     21\n",
       "33     16\n",
       "35     14\n",
       "7      12\n",
       "8      11\n",
       "36      9\n",
       "37      6\n",
       "19      5\n",
       "39      5\n",
       "18      3\n",
       "17      3\n",
       "40      2\n",
       "9       2\n",
       "16      2\n",
       "38      2\n",
       "10      2\n",
       "12      1\n",
       "Name: count, dtype: int64"
      ]
     },
     "execution_count": 70,
     "metadata": {},
     "output_type": "execute_result"
    }
   ],
   "source": [
    "starfruit_data['bid_volume_1'].value_counts()"
   ]
  },
  {
   "cell_type": "code",
   "execution_count": 10,
   "id": "d0c64914",
   "metadata": {
    "ExecuteTime": {
     "end_time": "2024-04-10T21:44:44.847280Z",
     "start_time": "2024-04-10T21:44:44.665694Z"
    },
    "scrolled": false
   },
   "outputs": [
    {
     "data": {
      "image/png": "[encoded data removed]",
      "text/plain": [
       "<Figure size 1000x600 with 1 Axes>"
      ]
     },
     "metadata": {},
     "output_type": "display_data"
    }
   ],
   "source": [
    "# Get the value counts of bid_volume_1\n",
    "bid_volume_counts = starfruit_data['bid_volume_1'].value_counts()\n",
    "\n",
    "# Create a histogram\n",
    "plt.figure(figsize=(10, 6))\n",
    "plt.bar(bid_volume_counts.index, bid_volume_counts.values)\n",
    "plt.xlabel('Bid Volume 1')\n",
    "plt.ylabel('Frequency')\n",
    "plt.title('Histogram of Bid Volume 1')\n",
    "plt.xticks(rotation=45)\n",
    "plt.tight_layout()\n",
    "plt.show()"
   ]
  },
  {
   "cell_type": "code",
   "execution_count": 10,
   "id": "d34b0d98",
   "metadata": {
    "ExecuteTime": {
     "end_time": "2024-04-10T21:44:47.002385Z",
     "start_time": "2024-04-10T21:44:46.067058Z"
    }
   },
   "outputs": [
    {
     "data": {
      "image/png": "[encoded data removed]",
      "text/plain": [
       "<Figure size 1200x1200 with 6 Axes>"
      ]
     },
     "metadata": {},
     "output_type": "display_data"
    }
   ],
   "source": [
    "columns_to_plot = ['bid_volume_1', 'bid_volume_2', 'bid_volume_3',\n",
    "                   'ask_volume_1', 'ask_volume_2', 'ask_volume_3']\n",
    "\n",
    "num_plots = len(columns_to_plot)\n",
    "num_rows = (num_plots + 1) // 2\n",
    "num_cols = 2\n",
    "\n",
    "plt.figure(figsize=(12, 4 * num_rows))\n",
    "\n",
    "for i, column in enumerate(columns_to_plot, start=1):\n",
    "    plt.subplot(num_rows, num_cols, i)\n",
    "    \n",
    "    volume_counts = starfruit_data[column].value_counts()\n",
    "    \n",
    "    plt.bar(volume_counts.index, volume_counts.values)\n",
    "    plt.xlabel(column)\n",
    "    plt.ylabel('Frequency')\n",
    "    plt.title(f'Histogram of {column}')\n",
    "    plt.xticks(rotation=45)\n",
    "    plt.tight_layout(pad=3.0)\n",
    "\n",
    "plt.show()"
   ]
  },
  {
   "cell_type": "code",
   "execution_count": 16,
   "id": "40a78d12",
   "metadata": {},
   "outputs": [
    {
     "data": {
      "image/png": "[encoded data removed]",
      "text/plain": [
       "<Figure size 1500x500 with 2 Axes>"
      ]
     },
     "metadata": {},
     "output_type": "display_data"
    }
   ],
   "source": [
    "import pandas as pd\n",
    "import matplotlib.pyplot as plt\n",
    "\n",
    "# Read the data\n",
    "df = pd.read_csv(f\"./round_1_data/prices_round_1_day_{day}.csv\", sep=\";\", header=0)\n",
    "\n",
    "# Calculate spread\n",
    "df['spread'] = df['ask_price_1'] - df['bid_price_1']\n",
    "\n",
    "# Filter data for KELP and SQUID_INK\n",
    "kelp = df[df['product'] == 'KELP']\n",
    "squid = df[df['product'] == 'SQUID_INK']\n",
    "\n",
    "# Create the visualization\n",
    "plt.figure(figsize=(15, 5))\n",
    "\n",
    "# KELP spread chart\n",
    "plt.subplot(1, 2, 1)\n",
    "plt.plot(kelp['timestamp'], kelp['spread'], label='KELP')\n",
    "plt.title('KELP Spread')\n",
    "plt.xlabel('Timestamp')\n",
    "plt.ylabel('Spread')\n",
    "plt.legend()\n",
    "\n",
    "# SQUID_INK spread chart\n",
    "plt.subplot(1, 2, 2)\n",
    "plt.plot(squid['timestamp'], squid['spread'], label='SQUID_INK')\n",
    "plt.title('SQUID_INK Spread')\n",
    "plt.xlabel('Timestamp')\n",
    "plt.ylabel('Spread')\n",
    "plt.legend()\n",
    "\n",
    "# Adjust layout and save\n",
    "plt.tight_layout()\n",
    "plt.show()"
   ]
  },
  {
   "cell_type": "code",
   "execution_count": 23,
   "id": "e5b12732",
   "metadata": {},
   "outputs": [
    {
     "name": "stdout",
     "output_type": "stream",
     "text": [
      "Charts saved as spread_charts_high_volume.png\n",
      "\n",
      "High Volume Spread Statistics:\n",
      "\n",
      "KELP:\n",
      "Number of high volume instances: 961\n",
      "Average spread: 2.80\n",
      "Min spread: 1.00\n",
      "Max spread: 4.00\n",
      "\n",
      "SQUID_INK:\n",
      "Number of high volume instances: 972\n",
      "Average spread: 2.63\n",
      "Min spread: 1.00\n",
      "Max spread: 4.00\n"
     ]
    },
    {
     "data": {
      "image/png": "[encoded data removed]",
      "text/plain": [
       "<Figure size 1500x500 with 2 Axes>"
      ]
     },
     "metadata": {},
     "output_type": "display_data"
    }
   ],
   "source": [
    "import pandas as pd\n",
    "import matplotlib.pyplot as plt\n",
    "\n",
    "# Read the data\n",
    "df = pd.read_csv(f\"./round_1_data/prices_round_1_day_{day}.csv\", sep=\";\", header=0)\n",
    "\n",
    "# Calculate spread\n",
    "df['spread'] = df['ask_price_1'] - df['bid_price_1']\n",
    "\n",
    "# Filter data for KELP and SQUID_INK\n",
    "kelp = df[df['product'] == 'KELP']\n",
    "squid = df[df['product'] == 'SQUID_INK']\n",
    "\n",
    "# Filter for high volume (>20)\n",
    "kelp_high_vol = kelp[(kelp['bid_volume_1'] > 20) | (kelp['ask_volume_1'] >= 20)]\n",
    "squid_high_vol = squid[(squid['bid_volume_1'] > 20) | (squid['ask_volume_1'] >= 20)]\n",
    "\n",
    "# Create the visualization\n",
    "plt.figure(figsize=(15, 5))\n",
    "\n",
    "# KELP spread chart for high volume\n",
    "plt.subplot(1, 2, 1)\n",
    "plt.plot(kelp_high_vol['timestamp'], kelp_high_vol['spread'], label='KELP (Volume > 20)')\n",
    "plt.title('KELP Spread (High Volume)')\n",
    "plt.xlabel('Timestamp')\n",
    "plt.ylabel('Spread')\n",
    "plt.legend()\n",
    "\n",
    "# SQUID_INK spread chart for high volume\n",
    "plt.subplot(1, 2, 2)\n",
    "plt.plot(squid_high_vol['timestamp'], squid_high_vol['spread'], label='SQUID_INK (Volume > 20)')\n",
    "plt.title('SQUID_INK Spread (High Volume)')\n",
    "plt.xlabel('Timestamp')\n",
    "plt.ylabel('Spread')\n",
    "plt.legend()\n",
    "\n",
    "# Adjust layout and save\n",
    "plt.tight_layout()\n",
    "plt.savefig('spread_charts_high_volume.png')\n",
    "print('Charts saved as spread_charts_high_volume.png')\n",
    "\n",
    "# Print statistics\n",
    "print(\"\\nHigh Volume Spread Statistics:\")\n",
    "print(\"\\nKELP:\")\n",
    "print(f\"Number of high volume instances: {len(kelp_high_vol)}\")\n",
    "print(f\"Average spread: {kelp_high_vol['spread'].mean():.2f}\")\n",
    "print(f\"Min spread: {kelp_high_vol['spread'].min():.2f}\")\n",
    "print(f\"Max spread: {kelp_high_vol['spread'].max():.2f}\")\n",
    "\n",
    "print(\"\\nSQUID_INK:\")\n",
    "print(f\"Number of high volume instances: {len(squid_high_vol)}\")\n",
    "print(f\"Average spread: {squid_high_vol['spread'].mean():.2f}\")\n",
    "print(f\"Min spread: {squid_high_vol['spread'].min():.2f}\")\n",
    "print(f\"Max spread: {squid_high_vol['spread'].max():.2f}\")"
   ]
  },
  {
   "cell_type": "code",
   "execution_count": 74,
   "id": "c7848ffc",
   "metadata": {
    "ExecuteTime": {
     "end_time": "2024-04-10T21:44:55.660587Z",
     "start_time": "2024-04-10T21:44:55.516311Z"
    }
   },
   "outputs": [],
   "source": [
    "def calculate_mm_mid(row):\n",
    "    # Find the best bid with volume >= 20\n",
    "    for i in range(1, 4):\n",
    "        if row[f'bid_volume_{i}'] >= 20:\n",
    "            best_bid = row[f'bid_price_{i}']\n",
    "            break\n",
    "    else:\n",
    "        best_bid = None\n",
    "\n",
    "    # Find the best ask with volume >= 20\n",
    "    for i in range(1, 4):\n",
    "        if row[f'ask_volume_{i}'] >= 20:\n",
    "            best_ask = row[f'ask_price_{i}']\n",
    "            break\n",
    "    else:\n",
    "        best_ask = None\n",
    "\n",
    "    # Calculate the mid price if both best bid and ask are found\n",
    "    if best_bid is not None and best_ask is not None:\n",
    "        return (best_bid + best_ask) / 2\n",
    "    else:\n",
    "        return None\n",
    "\n",
    "starfruit_data['mm_mid'] = starfruit_data.apply(calculate_mm_mid, axis=1)"
   ]
  },
  {
   "cell_type": "code",
   "execution_count": 75,
   "id": "30c2ede9",
   "metadata": {
    "ExecuteTime": {
     "end_time": "2024-04-10T21:44:55.952682Z",
     "start_time": "2024-04-10T21:44:55.918310Z"
    }
   },
   "outputs": [
    {
     "data": {
      "text/html": [
       "<div>\n",
       "<style scoped>\n",
       "    .dataframe tbody tr th:only-of-type {\n",
       "        vertical-align: middle;\n",
       "    }\n",
       "\n",
       "    .dataframe tbody tr th {\n",
       "        vertical-align: top;\n",
       "    }\n",
       "\n",
       "    .dataframe thead th {\n",
       "        text-align: right;\n",
       "    }\n",
       "</style>\n",
       "<table border=\"1\" class=\"dataframe\">\n",
       "  <thead>\n",
       "    <tr style=\"text-align: right;\">\n",
       "      <th></th>\n",
       "      <th>day</th>\n",
       "      <th>timestamp</th>\n",
       "      <th>product</th>\n",
       "      <th>bid_price_1</th>\n",
       "      <th>bid_volume_1</th>\n",
       "      <th>bid_price_2</th>\n",
       "      <th>bid_volume_2</th>\n",
       "      <th>bid_price_3</th>\n",
       "      <th>bid_volume_3</th>\n",
       "      <th>ask_price_1</th>\n",
       "      <th>ask_volume_1</th>\n",
       "      <th>ask_price_2</th>\n",
       "      <th>ask_volume_2</th>\n",
       "      <th>ask_price_3</th>\n",
       "      <th>ask_volume_3</th>\n",
       "      <th>mid_price</th>\n",
       "      <th>profit_and_loss</th>\n",
       "      <th>mm_mid</th>\n",
       "    </tr>\n",
       "  </thead>\n",
       "  <tbody>\n",
       "    <tr>\n",
       "      <th>0</th>\n",
       "      <td>-1</td>\n",
       "      <td>0</td>\n",
       "      <td>KELP</td>\n",
       "      <td>2028</td>\n",
       "      <td>1</td>\n",
       "      <td>2026.0</td>\n",
       "      <td>2.0</td>\n",
       "      <td>2025.0</td>\n",
       "      <td>29.0</td>\n",
       "      <td>2029</td>\n",
       "      <td>31</td>\n",
       "      <td>NaN</td>\n",
       "      <td>NaN</td>\n",
       "      <td>NaN</td>\n",
       "      <td>NaN</td>\n",
       "      <td>2028.5</td>\n",
       "      <td>0.0</td>\n",
       "      <td>2027.0</td>\n",
       "    </tr>\n",
       "    <tr>\n",
       "      <th>1</th>\n",
       "      <td>-1</td>\n",
       "      <td>100</td>\n",
       "      <td>KELP</td>\n",
       "      <td>2025</td>\n",
       "      <td>24</td>\n",
       "      <td>NaN</td>\n",
       "      <td>NaN</td>\n",
       "      <td>NaN</td>\n",
       "      <td>NaN</td>\n",
       "      <td>2028</td>\n",
       "      <td>2</td>\n",
       "      <td>2029.0</td>\n",
       "      <td>22.0</td>\n",
       "      <td>NaN</td>\n",
       "      <td>NaN</td>\n",
       "      <td>2026.5</td>\n",
       "      <td>0.0</td>\n",
       "      <td>2027.0</td>\n",
       "    </tr>\n",
       "    <tr>\n",
       "      <th>2</th>\n",
       "      <td>-1</td>\n",
       "      <td>200</td>\n",
       "      <td>KELP</td>\n",
       "      <td>2025</td>\n",
       "      <td>22</td>\n",
       "      <td>NaN</td>\n",
       "      <td>NaN</td>\n",
       "      <td>NaN</td>\n",
       "      <td>NaN</td>\n",
       "      <td>2028</td>\n",
       "      <td>20</td>\n",
       "      <td>NaN</td>\n",
       "      <td>NaN</td>\n",
       "      <td>NaN</td>\n",
       "      <td>NaN</td>\n",
       "      <td>2026.5</td>\n",
       "      <td>0.0</td>\n",
       "      <td>2026.5</td>\n",
       "    </tr>\n",
       "    <tr>\n",
       "      <th>3</th>\n",
       "      <td>-1</td>\n",
       "      <td>300</td>\n",
       "      <td>KELP</td>\n",
       "      <td>2025</td>\n",
       "      <td>31</td>\n",
       "      <td>NaN</td>\n",
       "      <td>NaN</td>\n",
       "      <td>NaN</td>\n",
       "      <td>NaN</td>\n",
       "      <td>2028</td>\n",
       "      <td>2</td>\n",
       "      <td>2029.0</td>\n",
       "      <td>29.0</td>\n",
       "      <td>NaN</td>\n",
       "      <td>NaN</td>\n",
       "      <td>2026.5</td>\n",
       "      <td>0.0</td>\n",
       "      <td>2027.0</td>\n",
       "    </tr>\n",
       "    <tr>\n",
       "      <th>4</th>\n",
       "      <td>-1</td>\n",
       "      <td>400</td>\n",
       "      <td>KELP</td>\n",
       "      <td>2025</td>\n",
       "      <td>27</td>\n",
       "      <td>NaN</td>\n",
       "      <td>NaN</td>\n",
       "      <td>NaN</td>\n",
       "      <td>NaN</td>\n",
       "      <td>2028</td>\n",
       "      <td>27</td>\n",
       "      <td>NaN</td>\n",
       "      <td>NaN</td>\n",
       "      <td>NaN</td>\n",
       "      <td>NaN</td>\n",
       "      <td>2026.5</td>\n",
       "      <td>0.0</td>\n",
       "      <td>2026.5</td>\n",
       "    </tr>\n",
       "    <tr>\n",
       "      <th>...</th>\n",
       "      <td>...</td>\n",
       "      <td>...</td>\n",
       "      <td>...</td>\n",
       "      <td>...</td>\n",
       "      <td>...</td>\n",
       "      <td>...</td>\n",
       "      <td>...</td>\n",
       "      <td>...</td>\n",
       "      <td>...</td>\n",
       "      <td>...</td>\n",
       "      <td>...</td>\n",
       "      <td>...</td>\n",
       "      <td>...</td>\n",
       "      <td>...</td>\n",
       "      <td>...</td>\n",
       "      <td>...</td>\n",
       "      <td>...</td>\n",
       "      <td>...</td>\n",
       "    </tr>\n",
       "    <tr>\n",
       "      <th>1995</th>\n",
       "      <td>-1</td>\n",
       "      <td>199500</td>\n",
       "      <td>KELP</td>\n",
       "      <td>2020</td>\n",
       "      <td>23</td>\n",
       "      <td>NaN</td>\n",
       "      <td>NaN</td>\n",
       "      <td>NaN</td>\n",
       "      <td>NaN</td>\n",
       "      <td>2024</td>\n",
       "      <td>23</td>\n",
       "      <td>NaN</td>\n",
       "      <td>NaN</td>\n",
       "      <td>NaN</td>\n",
       "      <td>NaN</td>\n",
       "      <td>2022.0</td>\n",
       "      <td>0.0</td>\n",
       "      <td>2022.0</td>\n",
       "    </tr>\n",
       "    <tr>\n",
       "      <th>1996</th>\n",
       "      <td>-1</td>\n",
       "      <td>199600</td>\n",
       "      <td>KELP</td>\n",
       "      <td>2020</td>\n",
       "      <td>22</td>\n",
       "      <td>NaN</td>\n",
       "      <td>NaN</td>\n",
       "      <td>NaN</td>\n",
       "      <td>NaN</td>\n",
       "      <td>2023</td>\n",
       "      <td>1</td>\n",
       "      <td>2024.0</td>\n",
       "      <td>21.0</td>\n",
       "      <td>NaN</td>\n",
       "      <td>NaN</td>\n",
       "      <td>2021.5</td>\n",
       "      <td>0.0</td>\n",
       "      <td>2022.0</td>\n",
       "    </tr>\n",
       "    <tr>\n",
       "      <th>1997</th>\n",
       "      <td>-1</td>\n",
       "      <td>199700</td>\n",
       "      <td>KELP</td>\n",
       "      <td>2020</td>\n",
       "      <td>27</td>\n",
       "      <td>NaN</td>\n",
       "      <td>NaN</td>\n",
       "      <td>NaN</td>\n",
       "      <td>NaN</td>\n",
       "      <td>2023</td>\n",
       "      <td>2</td>\n",
       "      <td>2024.0</td>\n",
       "      <td>25.0</td>\n",
       "      <td>NaN</td>\n",
       "      <td>NaN</td>\n",
       "      <td>2021.5</td>\n",
       "      <td>0.0</td>\n",
       "      <td>2022.0</td>\n",
       "    </tr>\n",
       "    <tr>\n",
       "      <th>1998</th>\n",
       "      <td>-1</td>\n",
       "      <td>199800</td>\n",
       "      <td>KELP</td>\n",
       "      <td>2020</td>\n",
       "      <td>21</td>\n",
       "      <td>NaN</td>\n",
       "      <td>NaN</td>\n",
       "      <td>NaN</td>\n",
       "      <td>NaN</td>\n",
       "      <td>2023</td>\n",
       "      <td>21</td>\n",
       "      <td>NaN</td>\n",
       "      <td>NaN</td>\n",
       "      <td>NaN</td>\n",
       "      <td>NaN</td>\n",
       "      <td>2021.5</td>\n",
       "      <td>0.0</td>\n",
       "      <td>2021.5</td>\n",
       "    </tr>\n",
       "    <tr>\n",
       "      <th>1999</th>\n",
       "      <td>-1</td>\n",
       "      <td>199900</td>\n",
       "      <td>KELP</td>\n",
       "      <td>2020</td>\n",
       "      <td>32</td>\n",
       "      <td>NaN</td>\n",
       "      <td>NaN</td>\n",
       "      <td>NaN</td>\n",
       "      <td>NaN</td>\n",
       "      <td>2022</td>\n",
       "      <td>7</td>\n",
       "      <td>2023.0</td>\n",
       "      <td>2.0</td>\n",
       "      <td>2024.0</td>\n",
       "      <td>30.0</td>\n",
       "      <td>2021.0</td>\n",
       "      <td>0.0</td>\n",
       "      <td>2022.0</td>\n",
       "    </tr>\n",
       "  </tbody>\n",
       "</table>\n",
       "<p>2000 rows × 18 columns</p>\n",
       "</div>"
      ],
      "text/plain": [
       "      day  timestamp product  bid_price_1  bid_volume_1  bid_price_2  \\\n",
       "0      -1          0    KELP         2028             1       2026.0   \n",
       "1      -1        100    KELP         2025            24          NaN   \n",
       "2      -1        200    KELP         2025            22          NaN   \n",
       "3      -1        300    KELP         2025            31          NaN   \n",
       "4      -1        400    KELP         2025            27          NaN   \n",
       "...   ...        ...     ...          ...           ...          ...   \n",
       "1995   -1     199500    KELP         2020            23          NaN   \n",
       "1996   -1     199600    KELP         2020            22          NaN   \n",
       "1997   -1     199700    KELP         2020            27          NaN   \n",
       "1998   -1     199800    KELP         2020            21          NaN   \n",
       "1999   -1     199900    KELP         2020            32          NaN   \n",
       "\n",
       "      bid_volume_2  bid_price_3  bid_volume_3  ask_price_1  ask_volume_1  \\\n",
       "0              2.0       2025.0          29.0         2029            31   \n",
       "1              NaN          NaN           NaN         2028             2   \n",
       "2              NaN          NaN           NaN         2028            20   \n",
       "3              NaN          NaN           NaN         2028             2   \n",
       "4              NaN          NaN           NaN         2028            27   \n",
       "...            ...          ...           ...          ...           ...   \n",
       "1995           NaN          NaN           NaN         2024            23   \n",
       "1996           NaN          NaN           NaN         2023             1   \n",
       "1997           NaN          NaN           NaN         2023             2   \n",
       "1998           NaN          NaN           NaN         2023            21   \n",
       "1999           NaN          NaN           NaN         2022             7   \n",
       "\n",
       "      ask_price_2  ask_volume_2  ask_price_3  ask_volume_3  mid_price  \\\n",
       "0             NaN           NaN          NaN           NaN     2028.5   \n",
       "1          2029.0          22.0          NaN           NaN     2026.5   \n",
       "2             NaN           NaN          NaN           NaN     2026.5   \n",
       "3          2029.0          29.0          NaN           NaN     2026.5   \n",
       "4             NaN           NaN          NaN           NaN     2026.5   \n",
       "...           ...           ...          ...           ...        ...   \n",
       "1995          NaN           NaN          NaN           NaN     2022.0   \n",
       "1996       2024.0          21.0          NaN           NaN     2021.5   \n",
       "1997       2024.0          25.0          NaN           NaN     2021.5   \n",
       "1998          NaN           NaN          NaN           NaN     2021.5   \n",
       "1999       2023.0           2.0       2024.0          30.0     2021.0   \n",
       "\n",
       "      profit_and_loss  mm_mid  \n",
       "0                 0.0  2027.0  \n",
       "1                 0.0  2027.0  \n",
       "2                 0.0  2026.5  \n",
       "3                 0.0  2027.0  \n",
       "4                 0.0  2026.5  \n",
       "...               ...     ...  \n",
       "1995              0.0  2022.0  \n",
       "1996              0.0  2022.0  \n",
       "1997              0.0  2022.0  \n",
       "1998              0.0  2021.5  \n",
       "1999              0.0  2022.0  \n",
       "\n",
       "[2000 rows x 18 columns]"
      ]
     },
     "execution_count": 75,
     "metadata": {},
     "output_type": "execute_result"
    }
   ],
   "source": [
    "starfruit_data"
   ]
  },
  {
   "cell_type": "code",
   "execution_count": 76,
   "id": "1b6eaa0f",
   "metadata": {},
   "outputs": [
    {
     "data": {
      "application/vnd.plotly.v1+json": {
       "config": {
        "plotlyServerURL": "https://plot.ly"
       },
       "data": [
        {
         "hovertemplate": "timestamp=%{x}<br>mm_mid=%{y}<extra></extra>",
         "legendgroup": "",
         "line": {
          "color": "#636efa",
          "dash": "solid"
         },
         "marker": {
          "symbol": "circle"
         },
         "mode": "lines",
         "name": "",
         "showlegend": false,
         "type": "scattergl",
         "x": {
          "bdata": "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",
          "dtype": "i4"
         },
         "xaxis": "x",
         "y": {
          "bdata": "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",
          "dtype": "f8"
         },
         "yaxis": "y"
        }
       ],
       "layout": {
        "legend": {
         "tracegroupgap": 0
        },
        "template": {
         "data": {
          "bar": [
           {
            "error_x": {
             "color": "#2a3f5f"
            },
            "error_y": {
             "color": "#2a3f5f"
            },
            "marker": {
             "line": {
              "color": "#E5ECF6",
              "width": 0.5
             },
             "pattern": {
              "fillmode": "overlay",
              "size": 10,
              "solidity": 0.2
             }
            },
            "type": "bar"
           }
          ],
          "barpolar": [
           {
            "marker": {
             "line": {
              "color": "#E5ECF6",
              "width": 0.5
             },
             "pattern": {
              "fillmode": "overlay",
              "size": 10,
              "solidity": 0.2
             }
            },
            "type": "barpolar"
           }
          ],
          "carpet": [
           {
            "aaxis": {
             "endlinecolor": "#2a3f5f",
             "gridcolor": "white",
             "linecolor": "white",
             "minorgridcolor": "white",
             "startlinecolor": "#2a3f5f"
            },
            "baxis": {
             "endlinecolor": "#2a3f5f",
             "gridcolor": "white",
             "linecolor": "white",
             "minorgridcolor": "white",
             "startlinecolor": "#2a3f5f"
            },
            "type": "carpet"
           }
          ],
          "choropleth": [
           {
            "colorbar": {
             "outlinewidth": 0,
             "ticks": ""
            },
            "type": "choropleth"
           }
          ],
          "contour": [
           {
            "colorbar": {
             "outlinewidth": 0,
             "ticks": ""
            },
            "colorscale": [
             [
              0,
              "#0d0887"
             ],
             [
              0.1111111111111111,
              "#46039f"
             ],
             [
              0.2222222222222222,
              "#7201a8"
             ],
             [
              0.3333333333333333,
              "#9c179e"
             ],
             [
              0.4444444444444444,
              "#bd3786"
             ],
             [
              0.5555555555555556,
              "#d8576b"
             ],
             [
              0.6666666666666666,
              "#ed7953"
             ],
             [
              0.7777777777777778,
              "#fb9f3a"
             ],
             [
              0.8888888888888888,
              "#fdca26"
             ],
             [
              1,
              "#f0f921"
             ]
            ],
            "type": "contour"
           }
          ],
          "contourcarpet": [
           {
            "colorbar": {
             "outlinewidth": 0,
             "ticks": ""
            },
            "type": "contourcarpet"
           }
          ],
          "heatmap": [
           {
            "colorbar": {
             "outlinewidth": 0,
             "ticks": ""
            },
            "colorscale": [
             [
              0,
              "#0d0887"
             ],
             [
              0.1111111111111111,
              "#46039f"
             ],
             [
              0.2222222222222222,
              "#7201a8"
             ],
             [
              0.3333333333333333,
              "#9c179e"
             ],
             [
              0.4444444444444444,
              "#bd3786"
             ],
             [
              0.5555555555555556,
              "#d8576b"
             ],
             [
              0.6666666666666666,
              "#ed7953"
             ],
             [
              0.7777777777777778,
              "#fb9f3a"
             ],
             [
              0.8888888888888888,
              "#fdca26"
             ],
             [
              1,
              "#f0f921"
             ]
            ],
            "type": "heatmap"
           }
          ],
          "histogram": [
           {
            "marker": {
             "pattern": {
              "fillmode": "overlay",
              "size": 10,
              "solidity": 0.2
             }
            },
            "type": "histogram"
           }
          ],
          "histogram2d": [
           {
            "colorbar": {
             "outlinewidth": 0,
             "ticks": ""
            },
            "colorscale": [
             [
              0,
              "#0d0887"
             ],
             [
              0.1111111111111111,
              "#46039f"
             ],
             [
              0.2222222222222222,
              "#7201a8"
             ],
             [
              0.3333333333333333,
              "#9c179e"
             ],
             [
              0.4444444444444444,
              "#bd3786"
             ],
             [
              0.5555555555555556,
              "#d8576b"
             ],
             [
              0.6666666666666666,
              "#ed7953"
             ],
             [
              0.7777777777777778,
              "#fb9f3a"
             ],
             [
              0.8888888888888888,
              "#fdca26"
             ],
             [
              1,
              "#f0f921"
             ]
            ],
            "type": "histogram2d"
           }
          ],
          "histogram2dcontour": [
           {
            "colorbar": {
             "outlinewidth": 0,
             "ticks": ""
            },
            "colorscale": [
             [
              0,
              "#0d0887"
             ],
             [
              0.1111111111111111,
              "#46039f"
             ],
             [
              0.2222222222222222,
              "#7201a8"
             ],
             [
              0.3333333333333333,
              "#9c179e"
             ],
             [
              0.4444444444444444,
              "#bd3786"
             ],
             [
              0.5555555555555556,
              "#d8576b"
             ],
             [
              0.6666666666666666,
              "#ed7953"
             ],
             [
              0.7777777777777778,
              "#fb9f3a"
             ],
             [
              0.8888888888888888,
              "#fdca26"
             ],
             [
              1,
              "#f0f921"
             ]
            ],
            "type": "histogram2dcontour"
           }
          ],
          "mesh3d": [
           {
            "colorbar": {
             "outlinewidth": 0,
             "ticks": ""
            },
            "type": "mesh3d"
           }
          ],
          "parcoords": [
           {
            "line": {
             "colorbar": {
              "outlinewidth": 0,
              "ticks": ""
             }
            },
            "type": "parcoords"
           }
          ],
          "pie": [
           {
            "automargin": true,
            "type": "pie"
           }
          ],
          "scatter": [
           {
            "fillpattern": {
             "fillmode": "overlay",
             "size": 10,
             "solidity": 0.2
            },
            "type": "scatter"
           }
          ],
          "scatter3d": [
           {
            "line": {
             "colorbar": {
              "outlinewidth": 0,
              "ticks": ""
             }
            },
            "marker": {
             "colorbar": {
              "outlinewidth": 0,
              "ticks": ""
             }
            },
            "type": "scatter3d"
           }
          ],
          "scattercarpet": [
           {
            "marker": {
             "colorbar": {
              "outlinewidth": 0,
              "ticks": ""
             }
            },
            "type": "scattercarpet"
           }
          ],
          "scattergeo": [
           {
            "marker": {
             "colorbar": {
              "outlinewidth": 0,
              "ticks": ""
             }
            },
            "type": "scattergeo"
           }
          ],
          "scattergl": [
           {
            "marker": {
             "colorbar": {
              "outlinewidth": 0,
              "ticks": ""
             }
            },
            "type": "scattergl"
           }
          ],
          "scattermap": [
           {
            "marker": {
             "colorbar": {
              "outlinewidth": 0,
              "ticks": ""
             }
            },
            "type": "scattermap"
           }
          ],
          "scattermapbox": [
           {
            "marker": {
             "colorbar": {
              "outlinewidth": 0,
              "ticks": ""
             }
            },
            "type": "scattermapbox"
           }
          ],
          "scatterpolar": [
           {
            "marker": {
             "colorbar": {
              "outlinewidth": 0,
              "ticks": ""
             }
            },
            "type": "scatterpolar"
           }
          ],
          "scatterpolargl": [
           {
            "marker": {
             "colorbar": {
              "outlinewidth": 0,
              "ticks": ""
             }
            },
            "type": "scatterpolargl"
           }
          ],
          "scatterternary": [
           {
            "marker": {
             "colorbar": {
              "outlinewidth": 0,
              "ticks": ""
             }
            },
            "type": "scatterternary"
           }
          ],
          "surface": [
           {
            "colorbar": {
             "outlinewidth": 0,
             "ticks": ""
            },
            "colorscale": [
             [
              0,
              "#0d0887"
             ],
             [
              0.1111111111111111,
              "#46039f"
             ],
             [
              0.2222222222222222,
              "#7201a8"
             ],
             [
              0.3333333333333333,
              "#9c179e"
             ],
             [
              0.4444444444444444,
              "#bd3786"
             ],
             [
              0.5555555555555556,
              "#d8576b"
             ],
             [
              0.6666666666666666,
              "#ed7953"
             ],
             [
              0.7777777777777778,
              "#fb9f3a"
             ],
             [
              0.8888888888888888,
              "#fdca26"
             ],
             [
              1,
              "#f0f921"
             ]
            ],
            "type": "surface"
           }
          ],
          "table": [
           {
            "cells": {
             "fill": {
              "color": "#EBF0F8"
             },
             "line": {
              "color": "white"
             }
            },
            "header": {
             "fill": {
              "color": "#C8D4E3"
             },
             "line": {
              "color": "white"
             }
            },
            "type": "table"
           }
          ]
         },
         "layout": {
          "annotationdefaults": {
           "arrowcolor": "#2a3f5f",
           "arrowhead": 0,
           "arrowwidth": 1
          },
          "autotypenumbers": "strict",
          "coloraxis": {
           "colorbar": {
            "outlinewidth": 0,
            "ticks": ""
           }
          },
          "colorscale": {
           "diverging": [
            [
             0,
             "#8e0152"
            ],
            [
             0.1,
             "#c51b7d"
            ],
            [
             0.2,
             "#de77ae"
            ],
            [
             0.3,
             "#f1b6da"
            ],
            [
             0.4,
             "#fde0ef"
            ],
            [
             0.5,
             "#f7f7f7"
            ],
            [
             0.6,
             "#e6f5d0"
            ],
            [
             0.7,
             "#b8e186"
            ],
            [
             0.8,
             "#7fbc41"
            ],
            [
             0.9,
             "#4d9221"
            ],
            [
             1,
             "#276419"
            ]
           ],
           "sequential": [
            [
             0,
             "#0d0887"
            ],
            [
             0.1111111111111111,
             "#46039f"
            ],
            [
             0.2222222222222222,
             "#7201a8"
            ],
            [
             0.3333333333333333,
             "#9c179e"
            ],
            [
             0.4444444444444444,
             "#bd3786"
            ],
            [
             0.5555555555555556,
             "#d8576b"
            ],
            [
             0.6666666666666666,
             "#ed7953"
            ],
            [
             0.7777777777777778,
             "#fb9f3a"
            ],
            [
             0.8888888888888888,
             "#fdca26"
            ],
            [
             1,
             "#f0f921"
            ]
           ],
           "sequentialminus": [
            [
             0,
             "#0d0887"
            ],
            [
             0.1111111111111111,
             "#46039f"
            ],
            [
             0.2222222222222222,
             "#7201a8"
            ],
            [
             0.3333333333333333,
             "#9c179e"
            ],
            [
             0.4444444444444444,
             "#bd3786"
            ],
            [
             0.5555555555555556,
             "#d8576b"
            ],
            [
             0.6666666666666666,
             "#ed7953"
            ],
            [
             0.7777777777777778,
             "#fb9f3a"
            ],
            [
             0.8888888888888888,
             "#fdca26"
            ],
            [
             1,
             "#f0f921"
            ]
           ]
          },
          "colorway": [
           "#636efa",
           "#EF553B",
           "#00cc96",
           "#ab63fa",
           "#FFA15A",
           "#19d3f3",
           "#FF6692",
           "#B6E880",
           "#FF97FF",
           "#FECB52"
          ],
          "font": {
           "color": "#2a3f5f"
          },
          "geo": {
           "bgcolor": "white",
           "lakecolor": "white",
           "landcolor": "#E5ECF6",
           "showlakes": true,
           "showland": true,
           "subunitcolor": "white"
          },
          "hoverlabel": {
           "align": "left"
          },
          "hovermode": "closest",
          "mapbox": {
           "style": "light"
          },
          "paper_bgcolor": "white",
          "plot_bgcolor": "#E5ECF6",
          "polar": {
           "angularaxis": {
            "gridcolor": "white",
            "linecolor": "white",
            "ticks": ""
           },
           "bgcolor": "#E5ECF6",
           "radialaxis": {
            "gridcolor": "white",
            "linecolor": "white",
            "ticks": ""
           }
          },
          "scene": {
           "xaxis": {
            "backgroundcolor": "#E5ECF6",
            "gridcolor": "white",
            "gridwidth": 2,
            "linecolor": "white",
            "showbackground": true,
            "ticks": "",
            "zerolinecolor": "white"
           },
           "yaxis": {
            "backgroundcolor": "#E5ECF6",
            "gridcolor": "white",
            "gridwidth": 2,
            "linecolor": "white",
            "showbackground": true,
            "ticks": "",
            "zerolinecolor": "white"
           },
           "zaxis": {
            "backgroundcolor": "#E5ECF6",
            "gridcolor": "white",
            "gridwidth": 2,
            "linecolor": "white",
            "showbackground": true,
            "ticks": "",
            "zerolinecolor": "white"
           }
          },
          "shapedefaults": {
           "line": {
            "color": "#2a3f5f"
           }
          },
          "ternary": {
           "aaxis": {
            "gridcolor": "white",
            "linecolor": "white",
            "ticks": ""
           },
           "baxis": {
            "gridcolor": "white",
            "linecolor": "white",
            "ticks": ""
           },
           "bgcolor": "#E5ECF6",
           "caxis": {
            "gridcolor": "white",
            "linecolor": "white",
            "ticks": ""
           }
          },
          "title": {
           "x": 0.05
          },
          "xaxis": {
           "automargin": true,
           "gridcolor": "white",
           "linecolor": "white",
           "ticks": "",
           "title": {
            "standoff": 15
           },
           "zerolinecolor": "white",
           "zerolinewidth": 2
          },
          "yaxis": {
           "automargin": true,
           "gridcolor": "white",
           "linecolor": "white",
           "ticks": "",
           "title": {
            "standoff": 15
           },
           "zerolinecolor": "white",
           "zerolinewidth": 2
          }
         }
        },
        "title": {
         "text": "MM Mid Price Over Time"
        },
        "xaxis": {
         "anchor": "y",
         "domain": [
          0,
          1
         ],
         "title": {
          "text": "Timestamp"
         }
        },
        "yaxis": {
         "anchor": "x",
         "domain": [
          0,
          1
         ],
         "title": {
          "text": "MM Mid Price"
         }
        }
       }
      }
     },
     "metadata": {},
     "output_type": "display_data"
    }
   ],
   "source": [
    "# Create the plot using Plotly Express\n",
    "fig = px.line(starfruit_data, x='timestamp', y='mm_mid', title='MM Mid Price Over Time')\n",
    "\n",
    "# Customize the layout\n",
    "fig.update_layout(\n",
    "    xaxis_title='Timestamp',\n",
    "    yaxis_title='MM Mid Price',\n",
    ")\n",
    "\n",
    "# Display the plot\n",
    "fig.show()"
   ]
  },
  {
   "cell_type": "code",
   "execution_count": 51,
   "id": "19fe7f56",
   "metadata": {
    "ExecuteTime": {
     "end_time": "2024-04-10T21:44:56.979661Z",
     "start_time": "2024-04-10T21:44:56.888011Z"
    }
   },
   "outputs": [
    {
     "data": {
      "application/vnd.plotly.v1+json": {
       "config": {
        "plotlyServerURL": "https://plot.ly"
       },
       "data": [
        {
         "hovertemplate": "timestamp=%{x}<br>mm_mid=%{y}<extra></extra>",
         "legendgroup": "",
         "line": {
          "color": "#636efa",
          "dash": "solid"
         },
         "marker": {
          "symbol": "circle"
         },
         "mode": "lines",
         "name": "",
         "orientation": "v",
         "showlegend": false,
         "type": "scatter",
         "x": {
          "bdata": "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",
          "dtype": "i4"
         },
         "xaxis": "x",
         "y": {
          "bdata": "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",
          "dtype": "f8"
         },
         "yaxis": "y"
        }
       ],
       "layout": {
        "legend": {
         "tracegroupgap": 0
        },
        "template": {
         "data": {
          "bar": [
           {
            "error_x": {
             "color": "#2a3f5f"
            },
            "error_y": {
             "color": "#2a3f5f"
            },
            "marker": {
             "line": {
              "color": "#E5ECF6",
              "width": 0.5
             },
             "pattern": {
              "fillmode": "overlay",
              "size": 10,
              "solidity": 0.2
             }
            },
            "type": "bar"
           }
          ],
          "barpolar": [
           {
            "marker": {
             "line": {
              "color": "#E5ECF6",
              "width": 0.5
             },
             "pattern": {
              "fillmode": "overlay",
              "size": 10,
              "solidity": 0.2
             }
            },
            "type": "barpolar"
           }
          ],
          "carpet": [
           {
            "aaxis": {
             "endlinecolor": "#2a3f5f",
             "gridcolor": "white",
             "linecolor": "white",
             "minorgridcolor": "white",
             "startlinecolor": "#2a3f5f"
            },
            "baxis": {
             "endlinecolor": "#2a3f5f",
             "gridcolor": "white",
             "linecolor": "white",
             "minorgridcolor": "white",
             "startlinecolor": "#2a3f5f"
            },
            "type": "carpet"
           }
          ],
          "choropleth": [
           {
            "colorbar": {
             "outlinewidth": 0,
             "ticks": ""
            },
            "type": "choropleth"
           }
          ],
          "contour": [
           {
            "colorbar": {
             "outlinewidth": 0,
             "ticks": ""
            },
            "colorscale": [
             [
              0,
              "#0d0887"
             ],
             [
              0.1111111111111111,
              "#46039f"
             ],
             [
              0.2222222222222222,
              "#7201a8"
             ],
             [
              0.3333333333333333,
              "#9c179e"
             ],
             [
              0.4444444444444444,
              "#bd3786"
             ],
             [
              0.5555555555555556,
              "#d8576b"
             ],
             [
              0.6666666666666666,
              "#ed7953"
             ],
             [
              0.7777777777777778,
              "#fb9f3a"
             ],
             [
              0.8888888888888888,
              "#fdca26"
             ],
             [
              1,
              "#f0f921"
             ]
            ],
            "type": "contour"
           }
          ],
          "contourcarpet": [
           {
            "colorbar": {
             "outlinewidth": 0,
             "ticks": ""
            },
            "type": "contourcarpet"
           }
          ],
          "heatmap": [
           {
            "colorbar": {
             "outlinewidth": 0,
             "ticks": ""
            },
            "colorscale": [
             [
              0,
              "#0d0887"
             ],
             [
              0.1111111111111111,
              "#46039f"
             ],
             [
              0.2222222222222222,
              "#7201a8"
             ],
             [
              0.3333333333333333,
              "#9c179e"
             ],
             [
              0.4444444444444444,
              "#bd3786"
             ],
             [
              0.5555555555555556,
              "#d8576b"
             ],
             [
              0.6666666666666666,
              "#ed7953"
             ],
             [
              0.7777777777777778,
              "#fb9f3a"
             ],
             [
              0.8888888888888888,
              "#fdca26"
             ],
             [
              1,
              "#f0f921"
             ]
            ],
            "type": "heatmap"
           }
          ],
          "histogram": [
           {
            "marker": {
             "pattern": {
              "fillmode": "overlay",
              "size": 10,
              "solidity": 0.2
             }
            },
            "type": "histogram"
           }
          ],
          "histogram2d": [
           {
            "colorbar": {
             "outlinewidth": 0,
             "ticks": ""
            },
            "colorscale": [
             [
              0,
              "#0d0887"
             ],
             [
              0.1111111111111111,
              "#46039f"
             ],
             [
              0.2222222222222222,
              "#7201a8"
             ],
             [
              0.3333333333333333,
              "#9c179e"
             ],
             [
              0.4444444444444444,
              "#bd3786"
             ],
             [
              0.5555555555555556,
              "#d8576b"
             ],
             [
              0.6666666666666666,
              "#ed7953"
             ],
             [
              0.7777777777777778,
              "#fb9f3a"
             ],
             [
              0.8888888888888888,
              "#fdca26"
             ],
             [
              1,
              "#f0f921"
             ]
            ],
            "type": "histogram2d"
           }
          ],
          "histogram2dcontour": [
           {
            "colorbar": {
             "outlinewidth": 0,
             "ticks": ""
            },
            "colorscale": [
             [
              0,
              "#0d0887"
             ],
             [
              0.1111111111111111,
              "#46039f"
             ],
             [
              0.2222222222222222,
              "#7201a8"
             ],
             [
              0.3333333333333333,
              "#9c179e"
             ],
             [
              0.4444444444444444,
              "#bd3786"
             ],
             [
              0.5555555555555556,
              "#d8576b"
             ],
             [
              0.6666666666666666,
              "#ed7953"
             ],
             [
              0.7777777777777778,
              "#fb9f3a"
             ],
             [
              0.8888888888888888,
              "#fdca26"
             ],
             [
              1,
              "#f0f921"
             ]
            ],
            "type": "histogram2dcontour"
           }
          ],
          "mesh3d": [
           {
            "colorbar": {
             "outlinewidth": 0,
             "ticks": ""
            },
            "type": "mesh3d"
           }
          ],
          "parcoords": [
           {
            "line": {
             "colorbar": {
              "outlinewidth": 0,
              "ticks": ""
             }
            },
            "type": "parcoords"
           }
          ],
          "pie": [
           {
            "automargin": true,
            "type": "pie"
           }
          ],
          "scatter": [
           {
            "fillpattern": {
             "fillmode": "overlay",
             "size": 10,
             "solidity": 0.2
            },
            "type": "scatter"
           }
          ],
          "scatter3d": [
           {
            "line": {
             "colorbar": {
              "outlinewidth": 0,
              "ticks": ""
             }
            },
            "marker": {
             "colorbar": {
              "outlinewidth": 0,
              "ticks": ""
             }
            },
            "type": "scatter3d"
           }
          ],
          "scattercarpet": [
           {
            "marker": {
             "colorbar": {
              "outlinewidth": 0,
              "ticks": ""
             }
            },
            "type": "scattercarpet"
           }
          ],
          "scattergeo": [
           {
            "marker": {
             "colorbar": {
              "outlinewidth": 0,
              "ticks": ""
             }
            },
            "type": "scattergeo"
           }
          ],
          "scattergl": [
           {
            "marker": {
             "colorbar": {
              "outlinewidth": 0,
              "ticks": ""
             }
            },
            "type": "scattergl"
           }
          ],
          "scattermap": [
           {
            "marker": {
             "colorbar": {
              "outlinewidth": 0,
              "ticks": ""
             }
            },
            "type": "scattermap"
           }
          ],
          "scattermapbox": [
           {
            "marker": {
             "colorbar": {
              "outlinewidth": 0,
              "ticks": ""
             }
            },
            "type": "scattermapbox"
           }
          ],
          "scatterpolar": [
           {
            "marker": {
             "colorbar": {
              "outlinewidth": 0,
              "ticks": ""
             }
            },
            "type": "scatterpolar"
           }
          ],
          "scatterpolargl": [
           {
            "marker": {
             "colorbar": {
              "outlinewidth": 0,
              "ticks": ""
             }
            },
            "type": "scatterpolargl"
           }
          ],
          "scatterternary": [
           {
            "marker": {
             "colorbar": {
              "outlinewidth": 0,
              "ticks": ""
             }
            },
            "type": "scatterternary"
           }
          ],
          "surface": [
           {
            "colorbar": {
             "outlinewidth": 0,
             "ticks": ""
            },
            "colorscale": [
             [
              0,
              "#0d0887"
             ],
             [
              0.1111111111111111,
              "#46039f"
             ],
             [
              0.2222222222222222,
              "#7201a8"
             ],
             [
              0.3333333333333333,
              "#9c179e"
             ],
             [
              0.4444444444444444,
              "#bd3786"
             ],
             [
              0.5555555555555556,
              "#d8576b"
             ],
             [
              0.6666666666666666,
              "#ed7953"
             ],
             [
              0.7777777777777778,
              "#fb9f3a"
             ],
             [
              0.8888888888888888,
              "#fdca26"
             ],
             [
              1,
              "#f0f921"
             ]
            ],
            "type": "surface"
           }
          ],
          "table": [
           {
            "cells": {
             "fill": {
              "color": "#EBF0F8"
             },
             "line": {
              "color": "white"
             }
            },
            "header": {
             "fill": {
              "color": "#C8D4E3"
             },
             "line": {
              "color": "white"
             }
            },
            "type": "table"
           }
          ]
         },
         "layout": {
          "annotationdefaults": {
           "arrowcolor": "#2a3f5f",
           "arrowhead": 0,
           "arrowwidth": 1
          },
          "autotypenumbers": "strict",
          "coloraxis": {
           "colorbar": {
            "outlinewidth": 0,
            "ticks": ""
           }
          },
          "colorscale": {
           "diverging": [
            [
             0,
             "#8e0152"
            ],
            [
             0.1,
             "#c51b7d"
            ],
            [
             0.2,
             "#de77ae"
            ],
            [
             0.3,
             "#f1b6da"
            ],
            [
             0.4,
             "#fde0ef"
            ],
            [
             0.5,
             "#f7f7f7"
            ],
            [
             0.6,
             "#e6f5d0"
            ],
            [
             0.7,
             "#b8e186"
            ],
            [
             0.8,
             "#7fbc41"
            ],
            [
             0.9,
             "#4d9221"
            ],
            [
             1,
             "#276419"
            ]
           ],
           "sequential": [
            [
             0,
             "#0d0887"
            ],
            [
             0.1111111111111111,
             "#46039f"
            ],
            [
             0.2222222222222222,
             "#7201a8"
            ],
            [
             0.3333333333333333,
             "#9c179e"
            ],
            [
             0.4444444444444444,
             "#bd3786"
            ],
            [
             0.5555555555555556,
             "#d8576b"
            ],
            [
             0.6666666666666666,
             "#ed7953"
            ],
            [
             0.7777777777777778,
             "#fb9f3a"
            ],
            [
             0.8888888888888888,
             "#fdca26"
            ],
            [
             1,
             "#f0f921"
            ]
           ],
           "sequentialminus": [
            [
             0,
             "#0d0887"
            ],
            [
             0.1111111111111111,
             "#46039f"
            ],
            [
             0.2222222222222222,
             "#7201a8"
            ],
            [
             0.3333333333333333,
             "#9c179e"
            ],
            [
             0.4444444444444444,
             "#bd3786"
            ],
            [
             0.5555555555555556,
             "#d8576b"
            ],
            [
             0.6666666666666666,
             "#ed7953"
            ],
            [
             0.7777777777777778,
             "#fb9f3a"
            ],
            [
             0.8888888888888888,
             "#fdca26"
            ],
            [
             1,
             "#f0f921"
            ]
           ]
          },
          "colorway": [
           "#636efa",
           "#EF553B",
           "#00cc96",
           "#ab63fa",
           "#FFA15A",
           "#19d3f3",
           "#FF6692",
           "#B6E880",
           "#FF97FF",
           "#FECB52"
          ],
          "font": {
           "color": "#2a3f5f"
          },
          "geo": {
           "bgcolor": "white",
           "lakecolor": "white",
           "landcolor": "#E5ECF6",
           "showlakes": true,
           "showland": true,
           "subunitcolor": "white"
          },
          "hoverlabel": {
           "align": "left"
          },
          "hovermode": "closest",
          "mapbox": {
           "style": "light"
          },
          "paper_bgcolor": "white",
          "plot_bgcolor": "#E5ECF6",
          "polar": {
           "angularaxis": {
            "gridcolor": "white",
            "linecolor": "white",
            "ticks": ""
           },
           "bgcolor": "#E5ECF6",
           "radialaxis": {
            "gridcolor": "white",
            "linecolor": "white",
            "ticks": ""
           }
          },
          "scene": {
           "xaxis": {
            "backgroundcolor": "#E5ECF6",
            "gridcolor": "white",
            "gridwidth": 2,
            "linecolor": "white",
            "showbackground": true,
            "ticks": "",
            "zerolinecolor": "white"
           },
           "yaxis": {
            "backgroundcolor": "#E5ECF6",
            "gridcolor": "white",
            "gridwidth": 2,
            "linecolor": "white",
            "showbackground": true,
            "ticks": "",
            "zerolinecolor": "white"
           },
           "zaxis": {
            "backgroundcolor": "#E5ECF6",
            "gridcolor": "white",
            "gridwidth": 2,
            "linecolor": "white",
            "showbackground": true,
            "ticks": "",
            "zerolinecolor": "white"
           }
          },
          "shapedefaults": {
           "line": {
            "color": "#2a3f5f"
           }
          },
          "ternary": {
           "aaxis": {
            "gridcolor": "white",
            "linecolor": "white",
            "ticks": ""
           },
           "baxis": {
            "gridcolor": "white",
            "linecolor": "white",
            "ticks": ""
           },
           "bgcolor": "#E5ECF6",
           "caxis": {
            "gridcolor": "white",
            "linecolor": "white",
            "ticks": ""
           }
          },
          "title": {
           "x": 0.05
          },
          "xaxis": {
           "automargin": true,
           "gridcolor": "white",
           "linecolor": "white",
           "ticks": "",
           "title": {
            "standoff": 15
           },
           "zerolinecolor": "white",
           "zerolinewidth": 2
          },
          "yaxis": {
           "automargin": true,
           "gridcolor": "white",
           "linecolor": "white",
           "ticks": "",
           "title": {
            "standoff": 15
           },
           "zerolinecolor": "white",
           "zerolinewidth": 2
          }
         }
        },
        "title": {
         "text": "MM Mid Price Over Time"
        },
        "xaxis": {
         "anchor": "y",
         "domain": [
          0,
          1
         ],
         "title": {
          "text": "Timestamp"
         }
        },
        "yaxis": {
         "anchor": "x",
         "domain": [
          0,
          1
         ],
         "title": {
          "text": "MM Mid Price"
         }
        }
       }
      }
     },
     "metadata": {},
     "output_type": "display_data"
    }
   ],
   "source": [
    "# Create the plot using Plotly Express\n",
    "fig = px.line(starfruit_data, x='timestamp', y='mm_mid', title='MM Mid Price Over Time')\n",
    "\n",
    "# Customize the layout\n",
    "fig.update_layout(\n",
    "    xaxis_title='Timestamp',\n",
    "    yaxis_title='MM Mid Price',\n",
    ")\n",
    "\n",
    "# Display the plot\n",
    "fig.show()"
   ]
  },
  {
   "cell_type": "code",
   "execution_count": 52,
   "id": "de7a72b9",
   "metadata": {
    "ExecuteTime": {
     "end_time": "2024-04-10T21:45:00.223265Z",
     "start_time": "2024-04-10T21:45:00.217318Z"
    }
   },
   "outputs": [],
   "source": [
    "starfruit_fair_prices = starfruit_data[['timestamp', 'mm_mid']]"
   ]
  },
  {
   "cell_type": "code",
   "execution_count": 53,
   "id": "9d18ee34",
   "metadata": {
    "ExecuteTime": {
     "end_time": "2024-04-10T21:45:00.754902Z",
     "start_time": "2024-04-10T21:45:00.749295Z"
    }
   },
   "outputs": [],
   "source": [
    "starfruit_fair_prices = starfruit_fair_prices.rename(columns={'mm_mid': 'fair'})"
   ]
  },
  {
   "cell_type": "code",
   "execution_count": 54,
   "id": "bb1ddc5e",
   "metadata": {
    "ExecuteTime": {
     "end_time": "2024-04-10T21:45:01.036185Z",
     "start_time": "2024-04-10T21:45:01.021015Z"
    }
   },
   "outputs": [
    {
     "data": {
      "text/html": [
       "<div>\n",
       "<style scoped>\n",
       "    .dataframe tbody tr th:only-of-type {\n",
       "        vertical-align: middle;\n",
       "    }\n",
       "\n",
       "    .dataframe tbody tr th {\n",
       "        vertical-align: top;\n",
       "    }\n",
       "\n",
       "    .dataframe thead th {\n",
       "        text-align: right;\n",
       "    }\n",
       "</style>\n",
       "<table border=\"1\" class=\"dataframe\">\n",
       "  <thead>\n",
       "    <tr style=\"text-align: right;\">\n",
       "      <th></th>\n",
       "      <th>timestamp</th>\n",
       "      <th>fair</th>\n",
       "    </tr>\n",
       "  </thead>\n",
       "  <tbody>\n",
       "    <tr>\n",
       "      <th>0</th>\n",
       "      <td>0</td>\n",
       "      <td>1836.0</td>\n",
       "    </tr>\n",
       "    <tr>\n",
       "      <th>1</th>\n",
       "      <td>100</td>\n",
       "      <td>1838.0</td>\n",
       "    </tr>\n",
       "    <tr>\n",
       "      <th>2</th>\n",
       "      <td>200</td>\n",
       "      <td>1833.5</td>\n",
       "    </tr>\n",
       "    <tr>\n",
       "      <th>3</th>\n",
       "      <td>300</td>\n",
       "      <td>1836.5</td>\n",
       "    </tr>\n",
       "    <tr>\n",
       "      <th>4</th>\n",
       "      <td>400</td>\n",
       "      <td>1834.5</td>\n",
       "    </tr>\n",
       "    <tr>\n",
       "      <th>...</th>\n",
       "      <td>...</td>\n",
       "      <td>...</td>\n",
       "    </tr>\n",
       "    <tr>\n",
       "      <th>995</th>\n",
       "      <td>99500</td>\n",
       "      <td>1816.0</td>\n",
       "    </tr>\n",
       "    <tr>\n",
       "      <th>996</th>\n",
       "      <td>99600</td>\n",
       "      <td>1816.5</td>\n",
       "    </tr>\n",
       "    <tr>\n",
       "      <th>997</th>\n",
       "      <td>99700</td>\n",
       "      <td>1815.0</td>\n",
       "    </tr>\n",
       "    <tr>\n",
       "      <th>998</th>\n",
       "      <td>99800</td>\n",
       "      <td>1815.5</td>\n",
       "    </tr>\n",
       "    <tr>\n",
       "      <th>999</th>\n",
       "      <td>99900</td>\n",
       "      <td>1817.5</td>\n",
       "    </tr>\n",
       "  </tbody>\n",
       "</table>\n",
       "<p>1000 rows × 2 columns</p>\n",
       "</div>"
      ],
      "text/plain": [
       "     timestamp    fair\n",
       "0            0  1836.0\n",
       "1          100  1838.0\n",
       "2          200  1833.5\n",
       "3          300  1836.5\n",
       "4          400  1834.5\n",
       "..         ...     ...\n",
       "995      99500  1816.0\n",
       "996      99600  1816.5\n",
       "997      99700  1815.0\n",
       "998      99800  1815.5\n",
       "999      99900  1817.5\n",
       "\n",
       "[1000 rows x 2 columns]"
      ]
     },
     "execution_count": 54,
     "metadata": {},
     "output_type": "execute_result"
    }
   ],
   "source": [
    "starfruit_fair_prices"
   ]
  },
  {
   "cell_type": "code",
   "execution_count": 55,
   "id": "bb67f672",
   "metadata": {},
   "outputs": [
    {
     "name": "stdout",
     "output_type": "stream",
     "text": [
      "0.000999434599528864\n"
     ]
    }
   ],
   "source": [
    "starfruit_fair_prices['returns'] = (starfruit_fair_prices['fair'].shift(-1) - starfruit_fair_prices['fair'])/starfruit_fair_prices['fair']\n",
    "print(starfruit_fair_prices['returns'].rolling(50).std().mean())"
   ]
  },
  {
   "cell_type": "code",
   "execution_count": 57,
   "id": "6f8bd207",
   "metadata": {
    "ExecuteTime": {
     "end_time": "2024-04-10T21:45:01.276711Z",
     "start_time": "2024-04-10T21:45:01.272417Z"
    }
   },
   "outputs": [],
   "source": [
    "iteration_counts = [1,2,5,10,50, 100, 500,] # we lose too much data with 1000 "
   ]
  },
  {
   "cell_type": "code",
   "execution_count": 58,
   "id": "ea816e88",
   "metadata": {
    "ExecuteTime": {
     "end_time": "2024-04-10T21:45:01.777780Z",
     "start_time": "2024-04-10T21:45:01.764221Z"
    }
   },
   "outputs": [],
   "source": [
    "for iterations in iteration_counts:\n",
    "    starfruit_fair_prices[f\"fair_in_{iterations}_its\"] = starfruit_fair_prices['fair'].shift(-iterations)\n",
    "    starfruit_fair_prices[f\"fair_{iterations}_its_ago\"] = starfruit_fair_prices['fair'].shift(iterations)"
   ]
  },
  {
   "cell_type": "code",
   "execution_count": 78,
   "id": "b7023934",
   "metadata": {
    "ExecuteTime": {
     "end_time": "2024-04-10T21:45:02.146790Z",
     "start_time": "2024-04-10T21:45:02.110863Z"
    }
   },
   "outputs": [
    {
     "data": {
      "text/html": [
       "<div>\n",
       "<style scoped>\n",
       "    .dataframe tbody tr th:only-of-type {\n",
       "        vertical-align: middle;\n",
       "    }\n",
       "\n",
       "    .dataframe tbody tr th {\n",
       "        vertical-align: top;\n",
       "    }\n",
       "\n",
       "    .dataframe thead th {\n",
       "        text-align: right;\n",
       "    }\n",
       "</style>\n",
       "<table border=\"1\" class=\"dataframe\">\n",
       "  <thead>\n",
       "    <tr style=\"text-align: right;\">\n",
       "      <th></th>\n",
       "      <th>timestamp</th>\n",
       "      <th>fair</th>\n",
       "      <th>returns</th>\n",
       "      <th>fair_in_1_its</th>\n",
       "      <th>fair_1_its_ago</th>\n",
       "      <th>fair_in_2_its</th>\n",
       "      <th>fair_2_its_ago</th>\n",
       "      <th>fair_in_5_its</th>\n",
       "      <th>fair_5_its_ago</th>\n",
       "      <th>fair_in_10_its</th>\n",
       "      <th>...</th>\n",
       "      <th>returns_in_5_its</th>\n",
       "      <th>returns_from_5_its_ago</th>\n",
       "      <th>returns_in_10_its</th>\n",
       "      <th>returns_from_10_its_ago</th>\n",
       "      <th>returns_in_50_its</th>\n",
       "      <th>returns_from_50_its_ago</th>\n",
       "      <th>returns_in_100_its</th>\n",
       "      <th>returns_from_100_its_ago</th>\n",
       "      <th>returns_in_500_its</th>\n",
       "      <th>returns_from_500_its_ago</th>\n",
       "    </tr>\n",
       "  </thead>\n",
       "  <tbody>\n",
       "    <tr>\n",
       "      <th>0</th>\n",
       "      <td>0</td>\n",
       "      <td>1836.0</td>\n",
       "      <td>0.001089</td>\n",
       "      <td>1838.0</td>\n",
       "      <td>NaN</td>\n",
       "      <td>1833.5</td>\n",
       "      <td>NaN</td>\n",
       "      <td>1835.0</td>\n",
       "      <td>NaN</td>\n",
       "      <td>1842.5</td>\n",
       "      <td>...</td>\n",
       "      <td>-0.000545</td>\n",
       "      <td>NaN</td>\n",
       "      <td>0.003540</td>\n",
       "      <td>NaN</td>\n",
       "      <td>0.013889</td>\n",
       "      <td>NaN</td>\n",
       "      <td>0.011710</td>\n",
       "      <td>NaN</td>\n",
       "      <td>-0.002179</td>\n",
       "      <td>NaN</td>\n",
       "    </tr>\n",
       "    <tr>\n",
       "      <th>1</th>\n",
       "      <td>100</td>\n",
       "      <td>1838.0</td>\n",
       "      <td>-0.002448</td>\n",
       "      <td>1833.5</td>\n",
       "      <td>1836.0</td>\n",
       "      <td>1836.5</td>\n",
       "      <td>NaN</td>\n",
       "      <td>1834.5</td>\n",
       "      <td>NaN</td>\n",
       "      <td>1841.5</td>\n",
       "      <td>...</td>\n",
       "      <td>-0.001904</td>\n",
       "      <td>NaN</td>\n",
       "      <td>0.001904</td>\n",
       "      <td>NaN</td>\n",
       "      <td>0.012242</td>\n",
       "      <td>NaN</td>\n",
       "      <td>0.010881</td>\n",
       "      <td>NaN</td>\n",
       "      <td>-0.002448</td>\n",
       "      <td>NaN</td>\n",
       "    </tr>\n",
       "    <tr>\n",
       "      <th>2</th>\n",
       "      <td>200</td>\n",
       "      <td>1833.5</td>\n",
       "      <td>0.001636</td>\n",
       "      <td>1836.5</td>\n",
       "      <td>1838.0</td>\n",
       "      <td>1834.5</td>\n",
       "      <td>1836.0</td>\n",
       "      <td>1835.5</td>\n",
       "      <td>NaN</td>\n",
       "      <td>1840.5</td>\n",
       "      <td>...</td>\n",
       "      <td>0.001091</td>\n",
       "      <td>NaN</td>\n",
       "      <td>0.003818</td>\n",
       "      <td>NaN</td>\n",
       "      <td>0.014453</td>\n",
       "      <td>NaN</td>\n",
       "      <td>0.013635</td>\n",
       "      <td>NaN</td>\n",
       "      <td>0.000000</td>\n",
       "      <td>NaN</td>\n",
       "    </tr>\n",
       "    <tr>\n",
       "      <th>3</th>\n",
       "      <td>300</td>\n",
       "      <td>1836.5</td>\n",
       "      <td>-0.001089</td>\n",
       "      <td>1834.5</td>\n",
       "      <td>1833.5</td>\n",
       "      <td>1835.0</td>\n",
       "      <td>1838.0</td>\n",
       "      <td>1836.5</td>\n",
       "      <td>NaN</td>\n",
       "      <td>1841.5</td>\n",
       "      <td>...</td>\n",
       "      <td>0.000000</td>\n",
       "      <td>NaN</td>\n",
       "      <td>0.002723</td>\n",
       "      <td>NaN</td>\n",
       "      <td>0.011979</td>\n",
       "      <td>NaN</td>\n",
       "      <td>0.012524</td>\n",
       "      <td>NaN</td>\n",
       "      <td>-0.002178</td>\n",
       "      <td>NaN</td>\n",
       "    </tr>\n",
       "    <tr>\n",
       "      <th>4</th>\n",
       "      <td>400</td>\n",
       "      <td>1834.5</td>\n",
       "      <td>0.000273</td>\n",
       "      <td>1835.0</td>\n",
       "      <td>1836.5</td>\n",
       "      <td>1834.5</td>\n",
       "      <td>1833.5</td>\n",
       "      <td>1841.5</td>\n",
       "      <td>NaN</td>\n",
       "      <td>1841.5</td>\n",
       "      <td>...</td>\n",
       "      <td>0.003816</td>\n",
       "      <td>NaN</td>\n",
       "      <td>0.003816</td>\n",
       "      <td>NaN</td>\n",
       "      <td>0.013083</td>\n",
       "      <td>NaN</td>\n",
       "      <td>0.012537</td>\n",
       "      <td>NaN</td>\n",
       "      <td>-0.001090</td>\n",
       "      <td>NaN</td>\n",
       "    </tr>\n",
       "    <tr>\n",
       "      <th>...</th>\n",
       "      <td>...</td>\n",
       "      <td>...</td>\n",
       "      <td>...</td>\n",
       "      <td>...</td>\n",
       "      <td>...</td>\n",
       "      <td>...</td>\n",
       "      <td>...</td>\n",
       "      <td>...</td>\n",
       "      <td>...</td>\n",
       "      <td>...</td>\n",
       "      <td>...</td>\n",
       "      <td>...</td>\n",
       "      <td>...</td>\n",
       "      <td>...</td>\n",
       "      <td>...</td>\n",
       "      <td>...</td>\n",
       "      <td>...</td>\n",
       "      <td>...</td>\n",
       "      <td>...</td>\n",
       "      <td>...</td>\n",
       "      <td>...</td>\n",
       "    </tr>\n",
       "    <tr>\n",
       "      <th>995</th>\n",
       "      <td>99500</td>\n",
       "      <td>1816.0</td>\n",
       "      <td>0.000275</td>\n",
       "      <td>1816.5</td>\n",
       "      <td>1814.5</td>\n",
       "      <td>1815.0</td>\n",
       "      <td>1815.0</td>\n",
       "      <td>NaN</td>\n",
       "      <td>1810.5</td>\n",
       "      <td>NaN</td>\n",
       "      <td>...</td>\n",
       "      <td>NaN</td>\n",
       "      <td>0.003038</td>\n",
       "      <td>NaN</td>\n",
       "      <td>-0.000825</td>\n",
       "      <td>NaN</td>\n",
       "      <td>0.001379</td>\n",
       "      <td>NaN</td>\n",
       "      <td>0.004703</td>\n",
       "      <td>NaN</td>\n",
       "      <td>-0.010084</td>\n",
       "    </tr>\n",
       "    <tr>\n",
       "      <th>996</th>\n",
       "      <td>99600</td>\n",
       "      <td>1816.5</td>\n",
       "      <td>-0.000826</td>\n",
       "      <td>1815.0</td>\n",
       "      <td>1816.0</td>\n",
       "      <td>1815.5</td>\n",
       "      <td>1814.5</td>\n",
       "      <td>NaN</td>\n",
       "      <td>1812.5</td>\n",
       "      <td>NaN</td>\n",
       "      <td>...</td>\n",
       "      <td>NaN</td>\n",
       "      <td>0.002207</td>\n",
       "      <td>NaN</td>\n",
       "      <td>0.000551</td>\n",
       "      <td>NaN</td>\n",
       "      <td>0.001378</td>\n",
       "      <td>NaN</td>\n",
       "      <td>0.006092</td>\n",
       "      <td>NaN</td>\n",
       "      <td>-0.008190</td>\n",
       "    </tr>\n",
       "    <tr>\n",
       "      <th>997</th>\n",
       "      <td>99700</td>\n",
       "      <td>1815.0</td>\n",
       "      <td>0.000275</td>\n",
       "      <td>1815.5</td>\n",
       "      <td>1816.5</td>\n",
       "      <td>1817.5</td>\n",
       "      <td>1816.0</td>\n",
       "      <td>NaN</td>\n",
       "      <td>1812.5</td>\n",
       "      <td>NaN</td>\n",
       "      <td>...</td>\n",
       "      <td>NaN</td>\n",
       "      <td>0.001379</td>\n",
       "      <td>NaN</td>\n",
       "      <td>0.000276</td>\n",
       "      <td>NaN</td>\n",
       "      <td>-0.002747</td>\n",
       "      <td>NaN</td>\n",
       "      <td>0.004149</td>\n",
       "      <td>NaN</td>\n",
       "      <td>-0.009550</td>\n",
       "    </tr>\n",
       "    <tr>\n",
       "      <th>998</th>\n",
       "      <td>99800</td>\n",
       "      <td>1815.5</td>\n",
       "      <td>0.001102</td>\n",
       "      <td>1817.5</td>\n",
       "      <td>1815.0</td>\n",
       "      <td>NaN</td>\n",
       "      <td>1816.5</td>\n",
       "      <td>NaN</td>\n",
       "      <td>1815.0</td>\n",
       "      <td>NaN</td>\n",
       "      <td>...</td>\n",
       "      <td>NaN</td>\n",
       "      <td>0.000275</td>\n",
       "      <td>NaN</td>\n",
       "      <td>0.001103</td>\n",
       "      <td>NaN</td>\n",
       "      <td>-0.000551</td>\n",
       "      <td>NaN</td>\n",
       "      <td>0.004982</td>\n",
       "      <td>NaN</td>\n",
       "      <td>-0.009817</td>\n",
       "    </tr>\n",
       "    <tr>\n",
       "      <th>999</th>\n",
       "      <td>99900</td>\n",
       "      <td>1817.5</td>\n",
       "      <td>NaN</td>\n",
       "      <td>NaN</td>\n",
       "      <td>1815.5</td>\n",
       "      <td>NaN</td>\n",
       "      <td>1815.0</td>\n",
       "      <td>NaN</td>\n",
       "      <td>1814.5</td>\n",
       "      <td>NaN</td>\n",
       "      <td>...</td>\n",
       "      <td>NaN</td>\n",
       "      <td>0.001653</td>\n",
       "      <td>NaN</td>\n",
       "      <td>0.001653</td>\n",
       "      <td>NaN</td>\n",
       "      <td>-0.001099</td>\n",
       "      <td>NaN</td>\n",
       "      <td>0.005533</td>\n",
       "      <td>NaN</td>\n",
       "      <td>-0.008997</td>\n",
       "    </tr>\n",
       "  </tbody>\n",
       "</table>\n",
       "<p>1000 rows × 31 columns</p>\n",
       "</div>"
      ],
      "text/plain": [
       "     timestamp    fair   returns  fair_in_1_its  fair_1_its_ago  \\\n",
       "0            0  1836.0  0.001089         1838.0             NaN   \n",
       "1          100  1838.0 -0.002448         1833.5          1836.0   \n",
       "2          200  1833.5  0.001636         1836.5          1838.0   \n",
       "3          300  1836.5 -0.001089         1834.5          1833.5   \n",
       "4          400  1834.5  0.000273         1835.0          1836.5   \n",
       "..         ...     ...       ...            ...             ...   \n",
       "995      99500  1816.0  0.000275         1816.5          1814.5   \n",
       "996      99600  1816.5 -0.000826         1815.0          1816.0   \n",
       "997      99700  1815.0  0.000275         1815.5          1816.5   \n",
       "998      99800  1815.5  0.001102         1817.5          1815.0   \n",
       "999      99900  1817.5       NaN            NaN          1815.5   \n",
       "\n",
       "     fair_in_2_its  fair_2_its_ago  fair_in_5_its  fair_5_its_ago  \\\n",
       "0           1833.5             NaN         1835.0             NaN   \n",
       "1           1836.5             NaN         1834.5             NaN   \n",
       "2           1834.5          1836.0         1835.5             NaN   \n",
       "3           1835.0          1838.0         1836.5             NaN   \n",
       "4           1834.5          1833.5         1841.5             NaN   \n",
       "..             ...             ...            ...             ...   \n",
       "995         1815.0          1815.0            NaN          1810.5   \n",
       "996         1815.5          1814.5            NaN          1812.5   \n",
       "997         1817.5          1816.0            NaN          1812.5   \n",
       "998            NaN          1816.5            NaN          1815.0   \n",
       "999            NaN          1815.0            NaN          1814.5   \n",
       "\n",
       "     fair_in_10_its  ...  returns_in_5_its  returns_from_5_its_ago  \\\n",
       "0            1842.5  ...         -0.000545                     NaN   \n",
       "1            1841.5  ...         -0.001904                     NaN   \n",
       "2            1840.5  ...          0.001091                     NaN   \n",
       "3            1841.5  ...          0.000000                     NaN   \n",
       "4            1841.5  ...          0.003816                     NaN   \n",
       "..              ...  ...               ...                     ...   \n",
       "995             NaN  ...               NaN                0.003038   \n",
       "996             NaN  ...               NaN                0.002207   \n",
       "997             NaN  ...               NaN                0.001379   \n",
       "998             NaN  ...               NaN                0.000275   \n",
       "999             NaN  ...               NaN                0.001653   \n",
       "\n",
       "     returns_in_10_its  returns_from_10_its_ago  returns_in_50_its  \\\n",
       "0             0.003540                      NaN           0.013889   \n",
       "1             0.001904                      NaN           0.012242   \n",
       "2             0.003818                      NaN           0.014453   \n",
       "3             0.002723                      NaN           0.011979   \n",
       "4             0.003816                      NaN           0.013083   \n",
       "..                 ...                      ...                ...   \n",
       "995                NaN                -0.000825                NaN   \n",
       "996                NaN                 0.000551                NaN   \n",
       "997                NaN                 0.000276                NaN   \n",
       "998                NaN                 0.001103                NaN   \n",
       "999                NaN                 0.001653                NaN   \n",
       "\n",
       "     returns_from_50_its_ago  returns_in_100_its  returns_from_100_its_ago  \\\n",
       "0                        NaN            0.011710                       NaN   \n",
       "1                        NaN            0.010881                       NaN   \n",
       "2                        NaN            0.013635                       NaN   \n",
       "3                        NaN            0.012524                       NaN   \n",
       "4                        NaN            0.012537                       NaN   \n",
       "..                       ...                 ...                       ...   \n",
       "995                 0.001379                 NaN                  0.004703   \n",
       "996                 0.001378                 NaN                  0.006092   \n",
       "997                -0.002747                 NaN                  0.004149   \n",
       "998                -0.000551                 NaN                  0.004982   \n",
       "999                -0.001099                 NaN                  0.005533   \n",
       "\n",
       "     returns_in_500_its  returns_from_500_its_ago  \n",
       "0             -0.002179                       NaN  \n",
       "1             -0.002448                       NaN  \n",
       "2              0.000000                       NaN  \n",
       "3             -0.002178                       NaN  \n",
       "4             -0.001090                       NaN  \n",
       "..                  ...                       ...  \n",
       "995                 NaN                 -0.010084  \n",
       "996                 NaN                 -0.008190  \n",
       "997                 NaN                 -0.009550  \n",
       "998                 NaN                 -0.009817  \n",
       "999                 NaN                 -0.008997  \n",
       "\n",
       "[1000 rows x 31 columns]"
      ]
     },
     "execution_count": 78,
     "metadata": {},
     "output_type": "execute_result"
    }
   ],
   "source": [
    "starfruit_fair_prices"
   ]
  },
  {
   "cell_type": "code",
   "execution_count": 69,
   "id": "3b67ed20",
   "metadata": {
    "ExecuteTime": {
     "end_time": "2024-04-10T21:45:02.652819Z",
     "start_time": "2024-04-10T21:45:02.634216Z"
    }
   },
   "outputs": [],
   "source": [
    "for iterations in iteration_counts:\n",
    "    starfruit_fair_prices[f'returns_in_{iterations}_its'] = (starfruit_fair_prices[f'fair_in_{iterations}_its'] - starfruit_fair_prices['fair'])/starfruit_fair_prices['fair']\n",
    "    starfruit_fair_prices[f'returns_from_{iterations}_its_ago'] = (starfruit_fair_prices['fair'] - starfruit_fair_prices[f'fair_{iterations}_its_ago'])/starfruit_fair_prices[f'fair_{iterations}_its_ago']"
   ]
  },
  {
   "cell_type": "code",
   "execution_count": 70,
   "id": "67820ea7",
   "metadata": {
    "ExecuteTime": {
     "end_time": "2024-04-10T21:45:03.156744Z",
     "start_time": "2024-04-10T21:45:03.149558Z"
    },
    "scrolled": false
   },
   "outputs": [
    {
     "data": {
      "text/plain": [
       "Index(['timestamp', 'fair', 'returns', 'fair_in_1_its', 'fair_1_its_ago',\n",
       "       'fair_in_2_its', 'fair_2_its_ago', 'fair_in_5_its', 'fair_5_its_ago',\n",
       "       'fair_in_10_its', 'fair_10_its_ago', 'fair_in_50_its',\n",
       "       'fair_50_its_ago', 'fair_in_100_its', 'fair_100_its_ago',\n",
       "       'fair_in_500_its', 'fair_500_its_ago', 'returns_in_1_its',\n",
       "       'returns_from_1_its_ago', 'returns_in_2_its', 'returns_from_2_its_ago',\n",
       "       'returns_in_5_its', 'returns_from_5_its_ago', 'returns_in_10_its',\n",
       "       'returns_from_10_its_ago', 'returns_in_50_its',\n",
       "       'returns_from_50_its_ago', 'returns_in_100_its',\n",
       "       'returns_from_100_its_ago', 'returns_in_500_its',\n",
       "       'returns_from_500_its_ago'],\n",
       "      dtype='object')"
      ]
     },
     "execution_count": 70,
     "metadata": {},
     "output_type": "execute_result"
    }
   ],
   "source": [
    "starfruit_fair_prices.columns"
   ]
  },
  {
   "cell_type": "code",
   "execution_count": 71,
   "id": "df76823e",
   "metadata": {
    "ExecuteTime": {
     "end_time": "2024-04-10T21:45:03.613358Z",
     "start_time": "2024-04-10T21:45:03.604671Z"
    }
   },
   "outputs": [],
   "source": [
    "starfruit_returns = starfruit_fair_prices[['timestamp','fair','returns_in_1_its', 'returns_from_1_its_ago',\n",
    "       'returns_in_2_its', 'returns_from_2_its_ago', 'returns_in_5_its',\n",
    "       'returns_from_5_its_ago', 'returns_in_10_its',\n",
    "       'returns_from_10_its_ago', 'returns_in_50_its',\n",
    "       'returns_from_50_its_ago', 'returns_in_100_its',\n",
    "       'returns_from_100_its_ago', 'returns_in_500_its',\n",
    "       'returns_from_500_its_ago']]"
   ]
  },
  {
   "cell_type": "code",
   "execution_count": 73,
   "id": "9f62db81",
   "metadata": {},
   "outputs": [],
   "source": [
    "starfruit_returns= starfruit_returns.ffill()"
   ]
  },
  {
   "cell_type": "code",
   "execution_count": 74,
   "id": "7682b2ae",
   "metadata": {
    "ExecuteTime": {
     "end_time": "2024-04-10T21:45:04.007904Z",
     "start_time": "2024-04-10T21:45:03.997192Z"
    }
   },
   "outputs": [],
   "source": [
    "starfruit_returns= starfruit_returns.dropna()"
   ]
  },
  {
   "cell_type": "code",
   "execution_count": 75,
   "id": "d96a4472",
   "metadata": {
    "ExecuteTime": {
     "end_time": "2024-04-10T21:45:04.436470Z",
     "start_time": "2024-04-10T21:45:04.423695Z"
    }
   },
   "outputs": [
    {
     "data": {
      "text/plain": [
       "timestamp                   74950.000000\n",
       "fair                         1825.934000\n",
       "returns_in_1_its               -0.000013\n",
       "returns_from_1_its_ago         -0.000018\n",
       "returns_in_2_its               -0.000029\n",
       "returns_from_2_its_ago         -0.000037\n",
       "returns_in_5_its               -0.000073\n",
       "returns_from_5_its_ago         -0.000092\n",
       "returns_in_10_its              -0.000157\n",
       "returns_from_10_its_ago        -0.000216\n",
       "returns_in_50_its              -0.001191\n",
       "returns_from_50_its_ago        -0.001548\n",
       "returns_in_100_its             -0.001650\n",
       "returns_from_100_its_ago       -0.004008\n",
       "returns_in_500_its             -0.008997\n",
       "returns_from_500_its_ago       -0.012653\n",
       "dtype: float64"
      ]
     },
     "execution_count": 75,
     "metadata": {},
     "output_type": "execute_result"
    }
   ],
   "source": [
    "starfruit_returns.mean()"
   ]
  },
  {
   "cell_type": "code",
   "execution_count": 76,
   "id": "437c43a1",
   "metadata": {
    "ExecuteTime": {
     "end_time": "2024-04-10T21:45:04.996399Z",
     "start_time": "2024-04-10T21:45:04.933473Z"
    }
   },
   "outputs": [
    {
     "name": "stderr",
     "output_type": "stream",
     "text": [
      "100%|██████████| 7/7 [00:00<00:00, 171.39it/s]"
     ]
    },
    {
     "name": "stdout",
     "output_type": "stream",
     "text": [
      "Iteration Count: 1\n",
      "Learned Equation: returns_in_1_its = -0.1218 * returns_from_1_its_ago\n",
      "Train R-squared: 0.0152\n",
      "Train MSE: 0.0000\n",
      "Test R-squared: 0.0305\n",
      "Test MSE: 0.0000\n",
      "\n",
      "Iteration Count: 2\n",
      "Learned Equation: returns_in_2_its = -0.0610 * returns_from_2_its_ago\n",
      "Train R-squared: 0.0040\n",
      "Train MSE: 0.0000\n",
      "Test R-squared: -0.0181\n",
      "Test MSE: 0.0000\n",
      "\n",
      "Iteration Count: 5\n",
      "Learned Equation: returns_in_5_its = -0.0033 * returns_from_5_its_ago\n",
      "Train R-squared: -0.0002\n",
      "Train MSE: 0.0000\n",
      "Test R-squared: -0.0179\n",
      "Test MSE: 0.0000\n",
      "\n",
      "Iteration Count: 10\n",
      "Learned Equation: returns_in_10_its = -0.0964 * returns_from_10_its_ago\n",
      "Train R-squared: 0.0042\n",
      "Train MSE: 0.0000\n",
      "Test R-squared: 0.0744\n",
      "Test MSE: 0.0000\n",
      "\n",
      "Iteration Count: 50\n",
      "Learned Equation: returns_in_50_its = -0.0197 * returns_from_50_its_ago\n",
      "Train R-squared: -0.0644\n",
      "Train MSE: 0.0000\n",
      "Test R-squared: 0.0058\n",
      "Test MSE: 0.0000\n",
      "\n",
      "Iteration Count: 100\n",
      "Learned Equation: returns_in_100_its = -0.0539 * returns_from_100_its_ago\n",
      "Train R-squared: -0.0586\n",
      "Train MSE: 0.0001\n",
      "Test R-squared: 0.0019\n",
      "Test MSE: 0.0000\n",
      "\n",
      "Iteration Count: 500\n",
      "Learned Equation: returns_in_500_its = 0.4938 * returns_from_500_its_ago\n",
      "Train R-squared: -8438230726852146980429334839296.0000\n",
      "Train MSE: 0.0000\n",
      "Test R-squared: -7271204696056490337657832865792.0000\n",
      "Test MSE: 0.0000\n",
      "\n"
     ]
    },
    {
     "name": "stderr",
     "output_type": "stream",
     "text": [
      "\n"
     ]
    }
   ],
   "source": [
    "from sklearn.model_selection import train_test_split\n",
    "from sklearn.linear_model import LinearRegression\n",
    "from sklearn.metrics import r2_score, mean_squared_error\n",
    "from tqdm import tqdm\n",
    "\n",
    "# Perform train-test split\n",
    "train_data, test_data = train_test_split(starfruit_returns, test_size=0.2, random_state=42)\n",
    "\n",
    "# Iterate over each iteration count\n",
    "for iterations in tqdm(iteration_counts):\n",
    "    # Prepare the feature and target columns\n",
    "    X_train = train_data[f'returns_from_{iterations}_its_ago'].values.reshape(-1, 1)\n",
    "    y_train = train_data[f'returns_in_{iterations}_its']\n",
    "    X_test = test_data[f'returns_from_{iterations}_its_ago'].values.reshape(-1, 1)\n",
    "    y_test = test_data[f'returns_in_{iterations}_its']\n",
    "\n",
    "    # Create and train the linear regression model\n",
    "    model = LinearRegression(fit_intercept=False)\n",
    "    model.fit(X_train, y_train)\n",
    "\n",
    "    # Make predictions on train and test data\n",
    "    train_predictions = model.predict(X_train)\n",
    "    test_predictions = model.predict(X_test)\n",
    "\n",
    "    # Calculate R-squared and MSE for train and test data\n",
    "    train_r2 = r2_score(y_train, train_predictions)\n",
    "    train_mse = mean_squared_error(y_train, train_predictions)\n",
    "    test_r2 = r2_score(y_test, test_predictions)\n",
    "    test_mse = mean_squared_error(y_test, test_predictions)\n",
    "\n",
    "    # Print the results\n",
    "    print(f\"Iteration Count: {iterations}\")\n",
    "    print(f\"Learned Equation: returns_in_{iterations}_its = {model.coef_[0]:.4f} * returns_from_{iterations}_its_ago\")\n",
    "    print(f\"Train R-squared: {train_r2:.4f}\")\n",
    "    print(f\"Train MSE: {train_mse:.4f}\")\n",
    "    print(f\"Test R-squared: {test_r2:.4f}\")\n",
    "    print(f\"Test MSE: {test_mse:.4f}\")\n",
    "    print()"
   ]
  },
  {
   "cell_type": "code",
   "execution_count": 40,
   "id": "a062eeee",
   "metadata": {
    "ExecuteTime": {
     "end_time": "2024-04-10T21:15:36.688890Z",
     "start_time": "2024-04-10T21:13:51.644762Z"
    }
   },
   "outputs": [
    {
     "name": "stdout",
     "output_type": "stream",
     "text": [
      "Collecting scikit-learn\n",
      "  Downloading scikit_learn-1.6.1-cp310-cp310-win_amd64.whl.metadata (15 kB)\n",
      "Requirement already satisfied: numpy>=1.19.5 in c:\\users\\luong\\desktop\\imc_prosperity\\.venv\\lib\\site-packages (from scikit-learn) (1.24.3)\n",
      "Collecting scipy>=1.6.0 (from scikit-learn)\n",
      "  Downloading scipy-1.15.2-cp310-cp310-win_amd64.whl.metadata (60 kB)\n",
      "Collecting joblib>=1.2.0 (from scikit-learn)\n",
      "  Downloading joblib-1.4.2-py3-none-any.whl.metadata (5.4 kB)\n",
      "Collecting threadpoolctl>=3.1.0 (from scikit-learn)\n",
      "  Downloading threadpoolctl-3.6.0-py3-none-any.whl.metadata (13 kB)\n",
      "Downloading scikit_learn-1.6.1-cp310-cp310-win_amd64.whl (11.1 MB)\n",
      "   ---------------------------------------- 0.0/11.1 MB ? eta -:--:--\n",
      "   -------- ------------------------------- 2.4/11.1 MB 12.2 MB/s eta 0:00:01\n",
      "   --------------------- ------------------ 6.0/11.1 MB 14.7 MB/s eta 0:00:01\n",
      "   -------------------------------- ------- 8.9/11.1 MB 14.9 MB/s eta 0:00:01\n",
      "   ---------------------------------------- 11.1/11.1 MB 14.2 MB/s eta 0:00:00\n",
      "Downloading joblib-1.4.2-py3-none-any.whl (301 kB)\n",
      "Downloading scipy-1.15.2-cp310-cp310-win_amd64.whl (41.2 MB)\n",
      "   ---------------------------------------- 0.0/41.2 MB ? eta -:--:--\n",
      "   -- ------------------------------------- 2.1/41.2 MB 10.7 MB/s eta 0:00:04\n",
      "   ----- ---------------------------------- 5.8/41.2 MB 13.6 MB/s eta 0:00:03\n",
      "   --------- ------------------------------ 9.7/41.2 MB 15.5 MB/s eta 0:00:03\n",
      "   ----------- ---------------------------- 11.5/41.2 MB 13.6 MB/s eta 0:00:03\n",
      "   ------------- -------------------------- 13.9/41.2 MB 13.4 MB/s eta 0:00:03\n",
      "   ---------------- ----------------------- 17.3/41.2 MB 14.0 MB/s eta 0:00:02\n",
      "   ------------------- -------------------- 19.9/41.2 MB 13.7 MB/s eta 0:00:02\n",
      "   --------------------- ------------------ 22.3/41.2 MB 13.4 MB/s eta 0:00:02\n",
      "   ------------------------ --------------- 24.9/41.2 MB 13.3 MB/s eta 0:00:02\n",
      "   -------------------------- ------------- 27.5/41.2 MB 13.3 MB/s eta 0:00:02\n",
      "   ----------------------------- ---------- 30.4/41.2 MB 13.4 MB/s eta 0:00:01\n",
      "   ------------------------------- -------- 32.5/41.2 MB 13.1 MB/s eta 0:00:01\n",
      "   --------------------------------- ------ 34.9/41.2 MB 13.0 MB/s eta 0:00:01\n",
      "   ----------------------------------- ---- 37.0/41.2 MB 12.6 MB/s eta 0:00:01\n",
      "   ------------------------------------- -- 38.3/41.2 MB 12.3 MB/s eta 0:00:01\n",
      "   -------------------------------------- - 40.1/41.2 MB 12.0 MB/s eta 0:00:01\n",
      "   ---------------------------------------  41.2/41.2 MB 11.8 MB/s eta 0:00:01\n",
      "   ---------------------------------------- 41.2/41.2 MB 11.5 MB/s eta 0:00:00\n",
      "Downloading threadpoolctl-3.6.0-py3-none-any.whl (18 kB)\n",
      "Installing collected packages: threadpoolctl, scipy, joblib, scikit-learn\n",
      "Successfully installed joblib-1.4.2 scikit-learn-1.6.1 scipy-1.15.2 threadpoolctl-3.6.0\n"
     ]
    }
   ],
   "source": [
    "!pip install scikit-learn"
   ]
  },
  {
   "cell_type": "code",
   "execution_count": 123,
   "id": "67d6c28c",
   "metadata": {
    "ExecuteTime": {
     "end_time": "2024-04-10T21:30:04.395007Z",
     "start_time": "2024-04-10T21:30:04.381592Z"
    }
   },
   "outputs": [
    {
     "data": {
      "text/plain": [
       "0.0002"
      ]
     },
     "execution_count": 123,
     "metadata": {},
     "output_type": "execute_result"
    }
   ],
   "source": [
    "1/5000"
   ]
  },
  {
   "cell_type": "code",
   "execution_count": 124,
   "id": "0ece5ba0",
   "metadata": {
    "ExecuteTime": {
     "end_time": "2024-04-10T21:30:13.756308Z",
     "start_time": "2024-04-10T21:30:13.750539Z"
    }
   },
   "outputs": [
    {
     "data": {
      "text/plain": [
       "-4.442e-05"
      ]
     },
     "execution_count": 124,
     "metadata": {},
     "output_type": "execute_result"
    }
   ],
   "source": [
    "-0.2221*1/5000"
   ]
  },
  {
   "cell_type": "code",
   "execution_count": 125,
   "id": "d7ec3b72",
   "metadata": {
    "ExecuteTime": {
     "end_time": "2024-04-10T21:31:46.780077Z",
     "start_time": "2024-04-10T21:31:46.769135Z"
    }
   },
   "outputs": [
    {
     "data": {
      "text/plain": [
       "-0.2221"
      ]
     },
     "execution_count": 125,
     "metadata": {},
     "output_type": "execute_result"
    }
   ],
   "source": [
    "_ * 5000"
   ]
  },
  {
   "cell_type": "code",
   "execution_count": null,
   "id": "4e1ee308",
   "metadata": {},
   "outputs": [],
   "source": []
  }
 ],
 "metadata": {
  "kernelspec": {
   "display_name": ".venv",
   "language": "python",
   "name": "python3"
  },
  "language_info": {
   "codemirror_mode": {
    "name": "ipython",
    "version": 3
   },
   "file_extension": ".py",
   "mimetype": "text/x-python",
   "name": "python",
   "nbconvert_exporter": "python",
   "pygments_lexer": "ipython3",
   "version": "3.10.11"
  },
  "toc": {
   "base_numbering": 1,
   "nav_menu": {},
   "number_sections": true,
   "sideBar": true,
   "skip_h1_title": false,
   "title_cell": "Table of Contents",
   "title_sidebar": "Contents",
   "toc_cell": false,
   "toc_position": {},
   "toc_section_display": true,
   "toc_window_display": false
  }
 },
 "nbformat": 4,
 "nbformat_minor": 5
}
