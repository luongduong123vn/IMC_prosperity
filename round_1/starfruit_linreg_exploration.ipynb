{
 "cells": [
  {
   "cell_type": "markdown",
   "id": "12bd2e3c",
   "metadata": {},
   "source": [
    "# imports "
   ]
  },
  {
   "cell_type": "code",
   "execution_count": 2,
   "id": "6685abf6",
   "metadata": {
    "ExecuteTime": {
     "end_time": "2024-05-20T02:36:22.595605Z",
     "start_time": "2024-05-20T02:36:12.977108Z"
    }
   },
   "outputs": [],
   "source": [
    "import pandas as pd\n",
    "import matplotlib.pyplot as plt\n",
    "import plotly.express as px\n",
    "import numpy as np"
   ]
  },
  {
   "cell_type": "code",
   "execution_count": 3,
   "id": "774c2db1",
   "metadata": {
    "ExecuteTime": {
     "end_time": "2024-04-10T20:54:18.507110Z",
     "start_time": "2024-04-10T20:54:18.499879Z"
    }
   },
   "outputs": [],
   "source": [
    "pd.options.display.max_rows = 500"
   ]
  },
  {
   "cell_type": "markdown",
   "id": "0f0929b9",
   "metadata": {},
   "source": [
    "# load data"
   ]
  },
  {
   "cell_type": "code",
   "execution_count": 23,
   "id": "44e327da",
   "metadata": {
    "ExecuteTime": {
     "end_time": "2024-04-10T21:44:39.808447Z",
     "start_time": "2024-04-10T21:44:39.749352Z"
    }
   },
   "outputs": [],
   "source": [
    "day = 1\n",
    "market_data = pd.read_csv(f\"./round_1_data/prices_round_1_day_{day}.csv\", sep=\";\", header=0)\n",
    "trade_history = pd.read_csv(f\"./round_1_data/trades_round_1_day_{day}_nn.csv\", sep=\";\", header=0)\n",
    "# market_data = pd.read_csv(f\"./round_1_data/prices_round_0_day_{day}.csv\", sep=\";\", header=0)\n",
    "# trade_history = pd.read_csv(f\"./round_1_data/trades_round_0_day_{day}_nn.csv\", sep=\";\", header=0)"
   ]
  },
  {
   "cell_type": "code",
   "execution_count": 24,
   "id": "ac15f862",
   "metadata": {
    "ExecuteTime": {
     "end_time": "2024-04-10T21:44:42.600649Z",
     "start_time": "2024-04-10T21:44:42.566824Z"
    }
   },
   "outputs": [
    {
     "data": {
      "text/html": [
       "<div>\n",
       "<style scoped>\n",
       "    .dataframe tbody tr th:only-of-type {\n",
       "        vertical-align: middle;\n",
       "    }\n",
       "\n",
       "    .dataframe tbody tr th {\n",
       "        vertical-align: top;\n",
       "    }\n",
       "\n",
       "    .dataframe thead th {\n",
       "        text-align: right;\n",
       "    }\n",
       "</style>\n",
       "<table border=\"1\" class=\"dataframe\">\n",
       "  <thead>\n",
       "    <tr style=\"text-align: right;\">\n",
       "      <th></th>\n",
       "      <th>day</th>\n",
       "      <th>timestamp</th>\n",
       "      <th>product</th>\n",
       "      <th>bid_price_1</th>\n",
       "      <th>bid_volume_1</th>\n",
       "      <th>bid_price_2</th>\n",
       "      <th>bid_volume_2</th>\n",
       "      <th>bid_price_3</th>\n",
       "      <th>bid_volume_3</th>\n",
       "      <th>ask_price_1</th>\n",
       "      <th>ask_volume_1</th>\n",
       "      <th>ask_price_2</th>\n",
       "      <th>ask_volume_2</th>\n",
       "      <th>ask_price_3</th>\n",
       "      <th>ask_volume_3</th>\n",
       "      <th>mid_price</th>\n",
       "      <th>profit_and_loss</th>\n",
       "    </tr>\n",
       "  </thead>\n",
       "  <tbody>\n",
       "    <tr>\n",
       "      <th>0</th>\n",
       "      <td>1</td>\n",
       "      <td>0</td>\n",
       "      <td>SQUID_INK</td>\n",
       "      <td>1834</td>\n",
       "      <td>23</td>\n",
       "      <td>NaN</td>\n",
       "      <td>NaN</td>\n",
       "      <td>NaN</td>\n",
       "      <td>NaN</td>\n",
       "      <td>1838</td>\n",
       "      <td>23</td>\n",
       "      <td>NaN</td>\n",
       "      <td>NaN</td>\n",
       "      <td>NaN</td>\n",
       "      <td>NaN</td>\n",
       "      <td>1836.0</td>\n",
       "      <td>0.000000</td>\n",
       "    </tr>\n",
       "    <tr>\n",
       "      <th>1</th>\n",
       "      <td>1</td>\n",
       "      <td>0</td>\n",
       "      <td>RAINFOREST_RESIN</td>\n",
       "      <td>9998</td>\n",
       "      <td>9</td>\n",
       "      <td>9995.0</td>\n",
       "      <td>23.0</td>\n",
       "      <td>NaN</td>\n",
       "      <td>NaN</td>\n",
       "      <td>10005</td>\n",
       "      <td>23</td>\n",
       "      <td>NaN</td>\n",
       "      <td>NaN</td>\n",
       "      <td>NaN</td>\n",
       "      <td>NaN</td>\n",
       "      <td>10001.5</td>\n",
       "      <td>0.000000</td>\n",
       "    </tr>\n",
       "    <tr>\n",
       "      <th>2</th>\n",
       "      <td>1</td>\n",
       "      <td>0</td>\n",
       "      <td>KELP</td>\n",
       "      <td>2032</td>\n",
       "      <td>23</td>\n",
       "      <td>NaN</td>\n",
       "      <td>NaN</td>\n",
       "      <td>NaN</td>\n",
       "      <td>NaN</td>\n",
       "      <td>2035</td>\n",
       "      <td>23</td>\n",
       "      <td>NaN</td>\n",
       "      <td>NaN</td>\n",
       "      <td>NaN</td>\n",
       "      <td>NaN</td>\n",
       "      <td>2033.5</td>\n",
       "      <td>0.000000</td>\n",
       "    </tr>\n",
       "    <tr>\n",
       "      <th>3</th>\n",
       "      <td>1</td>\n",
       "      <td>100</td>\n",
       "      <td>KELP</td>\n",
       "      <td>2034</td>\n",
       "      <td>1</td>\n",
       "      <td>2033.0</td>\n",
       "      <td>2.0</td>\n",
       "      <td>2032.0</td>\n",
       "      <td>22.0</td>\n",
       "      <td>2035</td>\n",
       "      <td>22</td>\n",
       "      <td>NaN</td>\n",
       "      <td>NaN</td>\n",
       "      <td>NaN</td>\n",
       "      <td>NaN</td>\n",
       "      <td>2034.5</td>\n",
       "      <td>0.000000</td>\n",
       "    </tr>\n",
       "    <tr>\n",
       "      <th>4</th>\n",
       "      <td>1</td>\n",
       "      <td>100</td>\n",
       "      <td>SQUID_INK</td>\n",
       "      <td>1837</td>\n",
       "      <td>1</td>\n",
       "      <td>1836.0</td>\n",
       "      <td>2.0</td>\n",
       "      <td>1835.0</td>\n",
       "      <td>22.0</td>\n",
       "      <td>1839</td>\n",
       "      <td>22</td>\n",
       "      <td>NaN</td>\n",
       "      <td>NaN</td>\n",
       "      <td>NaN</td>\n",
       "      <td>NaN</td>\n",
       "      <td>1838.0</td>\n",
       "      <td>0.000000</td>\n",
       "    </tr>\n",
       "    <tr>\n",
       "      <th>...</th>\n",
       "      <td>...</td>\n",
       "      <td>...</td>\n",
       "      <td>...</td>\n",
       "      <td>...</td>\n",
       "      <td>...</td>\n",
       "      <td>...</td>\n",
       "      <td>...</td>\n",
       "      <td>...</td>\n",
       "      <td>...</td>\n",
       "      <td>...</td>\n",
       "      <td>...</td>\n",
       "      <td>...</td>\n",
       "      <td>...</td>\n",
       "      <td>...</td>\n",
       "      <td>...</td>\n",
       "      <td>...</td>\n",
       "      <td>...</td>\n",
       "    </tr>\n",
       "    <tr>\n",
       "      <th>2995</th>\n",
       "      <td>1</td>\n",
       "      <td>99800</td>\n",
       "      <td>SQUID_INK</td>\n",
       "      <td>1814</td>\n",
       "      <td>26</td>\n",
       "      <td>NaN</td>\n",
       "      <td>NaN</td>\n",
       "      <td>NaN</td>\n",
       "      <td>NaN</td>\n",
       "      <td>1817</td>\n",
       "      <td>26</td>\n",
       "      <td>NaN</td>\n",
       "      <td>NaN</td>\n",
       "      <td>NaN</td>\n",
       "      <td>NaN</td>\n",
       "      <td>1815.5</td>\n",
       "      <td>1246.000000</td>\n",
       "    </tr>\n",
       "    <tr>\n",
       "      <th>2996</th>\n",
       "      <td>1</td>\n",
       "      <td>99800</td>\n",
       "      <td>RAINFOREST_RESIN</td>\n",
       "      <td>9996</td>\n",
       "      <td>1</td>\n",
       "      <td>9995.0</td>\n",
       "      <td>25.0</td>\n",
       "      <td>NaN</td>\n",
       "      <td>NaN</td>\n",
       "      <td>10002</td>\n",
       "      <td>5</td>\n",
       "      <td>10004.0</td>\n",
       "      <td>1.0</td>\n",
       "      <td>10005.0</td>\n",
       "      <td>25.0</td>\n",
       "      <td>9999.0</td>\n",
       "      <td>2026.000000</td>\n",
       "    </tr>\n",
       "    <tr>\n",
       "      <th>2997</th>\n",
       "      <td>1</td>\n",
       "      <td>99900</td>\n",
       "      <td>SQUID_INK</td>\n",
       "      <td>1816</td>\n",
       "      <td>27</td>\n",
       "      <td>NaN</td>\n",
       "      <td>NaN</td>\n",
       "      <td>NaN</td>\n",
       "      <td>NaN</td>\n",
       "      <td>1819</td>\n",
       "      <td>28</td>\n",
       "      <td>NaN</td>\n",
       "      <td>NaN</td>\n",
       "      <td>NaN</td>\n",
       "      <td>NaN</td>\n",
       "      <td>1817.5</td>\n",
       "      <td>1246.000000</td>\n",
       "    </tr>\n",
       "    <tr>\n",
       "      <th>2998</th>\n",
       "      <td>1</td>\n",
       "      <td>99900</td>\n",
       "      <td>RAINFOREST_RESIN</td>\n",
       "      <td>9998</td>\n",
       "      <td>6</td>\n",
       "      <td>9996.0</td>\n",
       "      <td>1.0</td>\n",
       "      <td>9995.0</td>\n",
       "      <td>27.0</td>\n",
       "      <td>10004</td>\n",
       "      <td>1</td>\n",
       "      <td>10005.0</td>\n",
       "      <td>27.0</td>\n",
       "      <td>NaN</td>\n",
       "      <td>NaN</td>\n",
       "      <td>10001.0</td>\n",
       "      <td>2026.000000</td>\n",
       "    </tr>\n",
       "    <tr>\n",
       "      <th>2999</th>\n",
       "      <td>1</td>\n",
       "      <td>99900</td>\n",
       "      <td>KELP</td>\n",
       "      <td>2034</td>\n",
       "      <td>27</td>\n",
       "      <td>NaN</td>\n",
       "      <td>NaN</td>\n",
       "      <td>NaN</td>\n",
       "      <td>NaN</td>\n",
       "      <td>2038</td>\n",
       "      <td>28</td>\n",
       "      <td>NaN</td>\n",
       "      <td>NaN</td>\n",
       "      <td>NaN</td>\n",
       "      <td>NaN</td>\n",
       "      <td>2036.0</td>\n",
       "      <td>506.599609</td>\n",
       "    </tr>\n",
       "  </tbody>\n",
       "</table>\n",
       "<p>3000 rows × 17 columns</p>\n",
       "</div>"
      ],
      "text/plain": [
       "      day  timestamp           product  bid_price_1  bid_volume_1  \\\n",
       "0       1          0         SQUID_INK         1834            23   \n",
       "1       1          0  RAINFOREST_RESIN         9998             9   \n",
       "2       1          0              KELP         2032            23   \n",
       "3       1        100              KELP         2034             1   \n",
       "4       1        100         SQUID_INK         1837             1   \n",
       "...   ...        ...               ...          ...           ...   \n",
       "2995    1      99800         SQUID_INK         1814            26   \n",
       "2996    1      99800  RAINFOREST_RESIN         9996             1   \n",
       "2997    1      99900         SQUID_INK         1816            27   \n",
       "2998    1      99900  RAINFOREST_RESIN         9998             6   \n",
       "2999    1      99900              KELP         2034            27   \n",
       "\n",
       "      bid_price_2  bid_volume_2  bid_price_3  bid_volume_3  ask_price_1  \\\n",
       "0             NaN           NaN          NaN           NaN         1838   \n",
       "1          9995.0          23.0          NaN           NaN        10005   \n",
       "2             NaN           NaN          NaN           NaN         2035   \n",
       "3          2033.0           2.0       2032.0          22.0         2035   \n",
       "4          1836.0           2.0       1835.0          22.0         1839   \n",
       "...           ...           ...          ...           ...          ...   \n",
       "2995          NaN           NaN          NaN           NaN         1817   \n",
       "2996       9995.0          25.0          NaN           NaN        10002   \n",
       "2997          NaN           NaN          NaN           NaN         1819   \n",
       "2998       9996.0           1.0       9995.0          27.0        10004   \n",
       "2999          NaN           NaN          NaN           NaN         2038   \n",
       "\n",
       "      ask_volume_1  ask_price_2  ask_volume_2  ask_price_3  ask_volume_3  \\\n",
       "0               23          NaN           NaN          NaN           NaN   \n",
       "1               23          NaN           NaN          NaN           NaN   \n",
       "2               23          NaN           NaN          NaN           NaN   \n",
       "3               22          NaN           NaN          NaN           NaN   \n",
       "4               22          NaN           NaN          NaN           NaN   \n",
       "...            ...          ...           ...          ...           ...   \n",
       "2995            26          NaN           NaN          NaN           NaN   \n",
       "2996             5      10004.0           1.0      10005.0          25.0   \n",
       "2997            28          NaN           NaN          NaN           NaN   \n",
       "2998             1      10005.0          27.0          NaN           NaN   \n",
       "2999            28          NaN           NaN          NaN           NaN   \n",
       "\n",
       "      mid_price  profit_and_loss  \n",
       "0        1836.0         0.000000  \n",
       "1       10001.5         0.000000  \n",
       "2        2033.5         0.000000  \n",
       "3        2034.5         0.000000  \n",
       "4        1838.0         0.000000  \n",
       "...         ...              ...  \n",
       "2995     1815.5      1246.000000  \n",
       "2996     9999.0      2026.000000  \n",
       "2997     1817.5      1246.000000  \n",
       "2998    10001.0      2026.000000  \n",
       "2999     2036.0       506.599609  \n",
       "\n",
       "[3000 rows x 17 columns]"
      ]
     },
     "execution_count": 24,
     "metadata": {},
     "output_type": "execute_result"
    }
   ],
   "source": [
    "market_data"
   ]
  },
  {
   "cell_type": "markdown",
   "id": "bea00ae5",
   "metadata": {},
   "source": [
    "# research"
   ]
  },
  {
   "cell_type": "code",
   "execution_count": 25,
   "id": "e30855e6",
   "metadata": {
    "ExecuteTime": {
     "end_time": "2024-04-10T21:44:43.279783Z",
     "start_time": "2024-04-10T21:44:43.264440Z"
    }
   },
   "outputs": [],
   "source": [
    "starfruit_data = market_data[market_data['product'] == 'SQUID_INK'].reset_index(drop=True)"
   ]
  },
  {
   "cell_type": "code",
   "execution_count": 26,
   "id": "dcbd7e7f",
   "metadata": {
    "ExecuteTime": {
     "end_time": "2024-04-10T21:44:44.349758Z",
     "start_time": "2024-04-10T21:44:44.341021Z"
    }
   },
   "outputs": [
    {
     "data": {
      "text/plain": [
       "bid_volume_1\n",
       "1     88\n",
       "22    81\n",
       "26    73\n",
       "25    72\n",
       "29    71\n",
       "24    70\n",
       "30    68\n",
       "28    68\n",
       "23    63\n",
       "27    55\n",
       "31    51\n",
       "21    48\n",
       "2     35\n",
       "32    26\n",
       "20    23\n",
       "4     18\n",
       "3     15\n",
       "5     14\n",
       "6      8\n",
       "7      7\n",
       "34     6\n",
       "33     6\n",
       "35     6\n",
       "38     5\n",
       "36     3\n",
       "18     3\n",
       "37     3\n",
       "8      3\n",
       "19     2\n",
       "14     2\n",
       "10     2\n",
       "39     1\n",
       "11     1\n",
       "9      1\n",
       "17     1\n",
       "15     1\n",
       "Name: count, dtype: int64"
      ]
     },
     "execution_count": 26,
     "metadata": {},
     "output_type": "execute_result"
    }
   ],
   "source": [
    "starfruit_data['bid_volume_1'].value_counts()"
   ]
  },
  {
   "cell_type": "code",
   "execution_count": 13,
   "id": "d0c64914",
   "metadata": {
    "ExecuteTime": {
     "end_time": "2024-04-10T21:44:44.847280Z",
     "start_time": "2024-04-10T21:44:44.665694Z"
    },
    "scrolled": false
   },
   "outputs": [
    {
     "data": {
      "image/png": "[encoded data removed]",
      "text/plain": [
       "<Figure size 1000x600 with 1 Axes>"
      ]
     },
     "metadata": {},
     "output_type": "display_data"
    }
   ],
   "source": [
    "# Get the value counts of bid_volume_1\n",
    "bid_volume_counts = starfruit_data['bid_volume_1'].value_counts()\n",
    "\n",
    "# Create a histogram\n",
    "plt.figure(figsize=(10, 6))\n",
    "plt.bar(bid_volume_counts.index, bid_volume_counts.values)\n",
    "plt.xlabel('Bid Volume 1')\n",
    "plt.ylabel('Frequency')\n",
    "plt.title('Histogram of Bid Volume 1')\n",
    "plt.xticks(rotation=45)\n",
    "plt.tight_layout()\n",
    "plt.show()"
   ]
  },
  {
   "cell_type": "code",
   "execution_count": 14,
   "id": "d34b0d98",
   "metadata": {
    "ExecuteTime": {
     "end_time": "2024-04-10T21:44:47.002385Z",
     "start_time": "2024-04-10T21:44:46.067058Z"
    }
   },
   "outputs": [
    {
     "data": {
      "image/png": "[encoded data removed]",
      "text/plain": [
       "<Figure size 1200x1200 with 6 Axes>"
      ]
     },
     "metadata": {},
     "output_type": "display_data"
    }
   ],
   "source": [
    "columns_to_plot = ['bid_volume_1', 'bid_volume_2', 'bid_volume_3',\n",
    "                   'ask_volume_1', 'ask_volume_2', 'ask_volume_3']\n",
    "\n",
    "num_plots = len(columns_to_plot)\n",
    "num_rows = (num_plots + 1) // 2\n",
    "num_cols = 2\n",
    "\n",
    "plt.figure(figsize=(12, 4 * num_rows))\n",
    "\n",
    "for i, column in enumerate(columns_to_plot, start=1):\n",
    "    plt.subplot(num_rows, num_cols, i)\n",
    "    \n",
    "    volume_counts = starfruit_data[column].value_counts()\n",
    "    \n",
    "    plt.bar(volume_counts.index, volume_counts.values)\n",
    "    plt.xlabel(column)\n",
    "    plt.ylabel('Frequency')\n",
    "    plt.title(f'Histogram of {column}')\n",
    "    plt.xticks(rotation=45)\n",
    "    plt.tight_layout(pad=3.0)\n",
    "\n",
    "plt.show()"
   ]
  },
  {
   "cell_type": "code",
   "execution_count": 16,
   "id": "40a78d12",
   "metadata": {},
   "outputs": [
    {
     "data": {
      "image/png": "[encoded data removed]",
      "text/plain": [
       "<Figure size 1500x500 with 2 Axes>"
      ]
     },
     "metadata": {},
     "output_type": "display_data"
    }
   ],
   "source": [
    "import pandas as pd\n",
    "import matplotlib.pyplot as plt\n",
    "\n",
    "# Read the data\n",
    "df = pd.read_csv(f\"./round_1_data/prices_round_1_day_{day}.csv\", sep=\";\", header=0)\n",
    "\n",
    "# Calculate spread\n",
    "df['spread'] = df['ask_price_1'] - df['bid_price_1']\n",
    "\n",
    "# Filter data for KELP and SQUID_INK\n",
    "kelp = df[df['product'] == 'KELP']\n",
    "squid = df[df['product'] == 'SQUID_INK']\n",
    "\n",
    "# Create the visualization\n",
    "plt.figure(figsize=(15, 5))\n",
    "\n",
    "# KELP spread chart\n",
    "plt.subplot(1, 2, 1)\n",
    "plt.plot(kelp['timestamp'], kelp['spread'], label='KELP')\n",
    "plt.title('KELP Spread')\n",
    "plt.xlabel('Timestamp')\n",
    "plt.ylabel('Spread')\n",
    "plt.legend()\n",
    "\n",
    "# SQUID_INK spread chart\n",
    "plt.subplot(1, 2, 2)\n",
    "plt.plot(squid['timestamp'], squid['spread'], label='SQUID_INK')\n",
    "plt.title('SQUID_INK Spread')\n",
    "plt.xlabel('Timestamp')\n",
    "plt.ylabel('Spread')\n",
    "plt.legend()\n",
    "\n",
    "# Adjust layout and save\n",
    "plt.tight_layout()\n",
    "plt.show()"
   ]
  },
  {
   "cell_type": "code",
   "execution_count": 23,
   "id": "e5b12732",
   "metadata": {},
   "outputs": [
    {
     "name": "stdout",
     "output_type": "stream",
     "text": [
      "Charts saved as spread_charts_high_volume.png\n",
      "\n",
      "High Volume Spread Statistics:\n",
      "\n",
      "KELP:\n",
      "Number of high volume instances: 961\n",
      "Average spread: 2.80\n",
      "Min spread: 1.00\n",
      "Max spread: 4.00\n",
      "\n",
      "SQUID_INK:\n",
      "Number of high volume instances: 972\n",
      "Average spread: 2.63\n",
      "Min spread: 1.00\n",
      "Max spread: 4.00\n"
     ]
    },
    {
     "data": {
      "image/png": "[encoded data removed]",
      "text/plain": [
       "<Figure size 1500x500 with 2 Axes>"
      ]
     },
     "metadata": {},
     "output_type": "display_data"
    }
   ],
   "source": [
    "import pandas as pd\n",
    "import matplotlib.pyplot as plt\n",
    "\n",
    "# Read the data\n",
    "df = pd.read_csv(f\"./round_1_data/prices_round_1_day_{day}.csv\", sep=\";\", header=0)\n",
    "\n",
    "# Calculate spread\n",
    "df['spread'] = df['ask_price_1'] - df['bid_price_1']\n",
    "\n",
    "# Filter data for KELP and SQUID_INK\n",
    "kelp = df[df['product'] == 'KELP']\n",
    "squid = df[df['product'] == 'SQUID_INK']\n",
    "\n",
    "# Filter for high volume (>20)\n",
    "kelp_high_vol = kelp[(kelp['bid_volume_1'] > 20) | (kelp['ask_volume_1'] >= 20)]\n",
    "squid_high_vol = squid[(squid['bid_volume_1'] > 20) | (squid['ask_volume_1'] >= 20)]\n",
    "\n",
    "# Create the visualization\n",
    "plt.figure(figsize=(15, 5))\n",
    "\n",
    "# KELP spread chart for high volume\n",
    "plt.subplot(1, 2, 1)\n",
    "plt.plot(kelp_high_vol['timestamp'], kelp_high_vol['spread'], label='KELP (Volume > 20)')\n",
    "plt.title('KELP Spread (High Volume)')\n",
    "plt.xlabel('Timestamp')\n",
    "plt.ylabel('Spread')\n",
    "plt.legend()\n",
    "\n",
    "# SQUID_INK spread chart for high volume\n",
    "plt.subplot(1, 2, 2)\n",
    "plt.plot(squid_high_vol['timestamp'], squid_high_vol['spread'], label='SQUID_INK (Volume > 20)')\n",
    "plt.title('SQUID_INK Spread (High Volume)')\n",
    "plt.xlabel('Timestamp')\n",
    "plt.ylabel('Spread')\n",
    "plt.legend()\n",
    "\n",
    "# Adjust layout and save\n",
    "plt.tight_layout()\n",
    "plt.savefig('spread_charts_high_volume.png')\n",
    "print('Charts saved as spread_charts_high_volume.png')\n",
    "\n",
    "# Print statistics\n",
    "print(\"\\nHigh Volume Spread Statistics:\")\n",
    "print(\"\\nKELP:\")\n",
    "print(f\"Number of high volume instances: {len(kelp_high_vol)}\")\n",
    "print(f\"Average spread: {kelp_high_vol['spread'].mean():.2f}\")\n",
    "print(f\"Min spread: {kelp_high_vol['spread'].min():.2f}\")\n",
    "print(f\"Max spread: {kelp_high_vol['spread'].max():.2f}\")\n",
    "\n",
    "print(\"\\nSQUID_INK:\")\n",
    "print(f\"Number of high volume instances: {len(squid_high_vol)}\")\n",
    "print(f\"Average spread: {squid_high_vol['spread'].mean():.2f}\")\n",
    "print(f\"Min spread: {squid_high_vol['spread'].min():.2f}\")\n",
    "print(f\"Max spread: {squid_high_vol['spread'].max():.2f}\")"
   ]
  },
  {
   "cell_type": "code",
   "execution_count": 27,
   "id": "c7848ffc",
   "metadata": {
    "ExecuteTime": {
     "end_time": "2024-04-10T21:44:55.660587Z",
     "start_time": "2024-04-10T21:44:55.516311Z"
    }
   },
   "outputs": [],
   "source": [
    "def calculate_mm_mid(row):\n",
    "    # Find the best bid with volume >= 20\n",
    "    for i in range(1, 4):\n",
    "        if row[f'bid_volume_{i}'] >= 20:\n",
    "            best_bid = row[f'bid_price_{i}']\n",
    "            break\n",
    "    else:\n",
    "        best_bid = None\n",
    "\n",
    "    # Find the best ask with volume >= 20\n",
    "    for i in range(1, 4):\n",
    "        if row[f'ask_volume_{i}'] >= 20:\n",
    "            best_ask = row[f'ask_price_{i}']\n",
    "            break\n",
    "    else:\n",
    "        best_ask = None\n",
    "\n",
    "    # Calculate the mid price if both best bid and ask are found\n",
    "    if best_bid is not None and best_ask is not None:\n",
    "        return (best_bid + best_ask) / 2\n",
    "    else:\n",
    "        return None\n",
    "\n",
    "starfruit_data['mm_mid'] = starfruit_data.apply(calculate_mm_mid, axis=1)"
   ]
  },
  {
   "cell_type": "code",
   "execution_count": 28,
   "id": "30c2ede9",
   "metadata": {
    "ExecuteTime": {
     "end_time": "2024-04-10T21:44:55.952682Z",
     "start_time": "2024-04-10T21:44:55.918310Z"
    }
   },
   "outputs": [
    {
     "data": {
      "text/html": [
       "<div>\n",
       "<style scoped>\n",
       "    .dataframe tbody tr th:only-of-type {\n",
       "        vertical-align: middle;\n",
       "    }\n",
       "\n",
       "    .dataframe tbody tr th {\n",
       "        vertical-align: top;\n",
       "    }\n",
       "\n",
       "    .dataframe thead th {\n",
       "        text-align: right;\n",
       "    }\n",
       "</style>\n",
       "<table border=\"1\" class=\"dataframe\">\n",
       "  <thead>\n",
       "    <tr style=\"text-align: right;\">\n",
       "      <th></th>\n",
       "      <th>day</th>\n",
       "      <th>timestamp</th>\n",
       "      <th>product</th>\n",
       "      <th>bid_price_1</th>\n",
       "      <th>bid_volume_1</th>\n",
       "      <th>bid_price_2</th>\n",
       "      <th>bid_volume_2</th>\n",
       "      <th>bid_price_3</th>\n",
       "      <th>bid_volume_3</th>\n",
       "      <th>ask_price_1</th>\n",
       "      <th>ask_volume_1</th>\n",
       "      <th>ask_price_2</th>\n",
       "      <th>ask_volume_2</th>\n",
       "      <th>ask_price_3</th>\n",
       "      <th>ask_volume_3</th>\n",
       "      <th>mid_price</th>\n",
       "      <th>profit_and_loss</th>\n",
       "      <th>mm_mid</th>\n",
       "    </tr>\n",
       "  </thead>\n",
       "  <tbody>\n",
       "    <tr>\n",
       "      <th>0</th>\n",
       "      <td>1</td>\n",
       "      <td>0</td>\n",
       "      <td>SQUID_INK</td>\n",
       "      <td>1834</td>\n",
       "      <td>23</td>\n",
       "      <td>NaN</td>\n",
       "      <td>NaN</td>\n",
       "      <td>NaN</td>\n",
       "      <td>NaN</td>\n",
       "      <td>1838</td>\n",
       "      <td>23</td>\n",
       "      <td>NaN</td>\n",
       "      <td>NaN</td>\n",
       "      <td>NaN</td>\n",
       "      <td>NaN</td>\n",
       "      <td>1836.0</td>\n",
       "      <td>0.000000</td>\n",
       "      <td>1836.0</td>\n",
       "    </tr>\n",
       "    <tr>\n",
       "      <th>1</th>\n",
       "      <td>1</td>\n",
       "      <td>100</td>\n",
       "      <td>SQUID_INK</td>\n",
       "      <td>1837</td>\n",
       "      <td>1</td>\n",
       "      <td>1836.0</td>\n",
       "      <td>2.0</td>\n",
       "      <td>1835.0</td>\n",
       "      <td>22.0</td>\n",
       "      <td>1839</td>\n",
       "      <td>22</td>\n",
       "      <td>NaN</td>\n",
       "      <td>NaN</td>\n",
       "      <td>NaN</td>\n",
       "      <td>NaN</td>\n",
       "      <td>1838.0</td>\n",
       "      <td>0.000000</td>\n",
       "      <td>1837.0</td>\n",
       "    </tr>\n",
       "    <tr>\n",
       "      <th>2</th>\n",
       "      <td>1</td>\n",
       "      <td>200</td>\n",
       "      <td>SQUID_INK</td>\n",
       "      <td>1832</td>\n",
       "      <td>22</td>\n",
       "      <td>NaN</td>\n",
       "      <td>NaN</td>\n",
       "      <td>NaN</td>\n",
       "      <td>NaN</td>\n",
       "      <td>1835</td>\n",
       "      <td>22</td>\n",
       "      <td>NaN</td>\n",
       "      <td>NaN</td>\n",
       "      <td>NaN</td>\n",
       "      <td>NaN</td>\n",
       "      <td>1833.5</td>\n",
       "      <td>0.000000</td>\n",
       "      <td>1833.5</td>\n",
       "    </tr>\n",
       "    <tr>\n",
       "      <th>3</th>\n",
       "      <td>1</td>\n",
       "      <td>300</td>\n",
       "      <td>SQUID_INK</td>\n",
       "      <td>1836</td>\n",
       "      <td>1</td>\n",
       "      <td>1834.0</td>\n",
       "      <td>26.0</td>\n",
       "      <td>NaN</td>\n",
       "      <td>NaN</td>\n",
       "      <td>1837</td>\n",
       "      <td>26</td>\n",
       "      <td>NaN</td>\n",
       "      <td>NaN</td>\n",
       "      <td>NaN</td>\n",
       "      <td>NaN</td>\n",
       "      <td>1836.5</td>\n",
       "      <td>-1.368774</td>\n",
       "      <td>1835.5</td>\n",
       "    </tr>\n",
       "    <tr>\n",
       "      <th>4</th>\n",
       "      <td>1</td>\n",
       "      <td>400</td>\n",
       "      <td>SQUID_INK</td>\n",
       "      <td>1833</td>\n",
       "      <td>28</td>\n",
       "      <td>NaN</td>\n",
       "      <td>NaN</td>\n",
       "      <td>NaN</td>\n",
       "      <td>NaN</td>\n",
       "      <td>1836</td>\n",
       "      <td>28</td>\n",
       "      <td>NaN</td>\n",
       "      <td>NaN</td>\n",
       "      <td>NaN</td>\n",
       "      <td>NaN</td>\n",
       "      <td>1834.5</td>\n",
       "      <td>1.397461</td>\n",
       "      <td>1834.5</td>\n",
       "    </tr>\n",
       "    <tr>\n",
       "      <th>...</th>\n",
       "      <td>...</td>\n",
       "      <td>...</td>\n",
       "      <td>...</td>\n",
       "      <td>...</td>\n",
       "      <td>...</td>\n",
       "      <td>...</td>\n",
       "      <td>...</td>\n",
       "      <td>...</td>\n",
       "      <td>...</td>\n",
       "      <td>...</td>\n",
       "      <td>...</td>\n",
       "      <td>...</td>\n",
       "      <td>...</td>\n",
       "      <td>...</td>\n",
       "      <td>...</td>\n",
       "      <td>...</td>\n",
       "      <td>...</td>\n",
       "      <td>...</td>\n",
       "    </tr>\n",
       "    <tr>\n",
       "      <th>995</th>\n",
       "      <td>1</td>\n",
       "      <td>99500</td>\n",
       "      <td>SQUID_INK</td>\n",
       "      <td>1814</td>\n",
       "      <td>20</td>\n",
       "      <td>NaN</td>\n",
       "      <td>NaN</td>\n",
       "      <td>NaN</td>\n",
       "      <td>NaN</td>\n",
       "      <td>1818</td>\n",
       "      <td>20</td>\n",
       "      <td>NaN</td>\n",
       "      <td>NaN</td>\n",
       "      <td>NaN</td>\n",
       "      <td>NaN</td>\n",
       "      <td>1816.0</td>\n",
       "      <td>1230.402344</td>\n",
       "      <td>1816.0</td>\n",
       "    </tr>\n",
       "    <tr>\n",
       "      <th>996</th>\n",
       "      <td>1</td>\n",
       "      <td>99600</td>\n",
       "      <td>SQUID_INK</td>\n",
       "      <td>1815</td>\n",
       "      <td>28</td>\n",
       "      <td>NaN</td>\n",
       "      <td>NaN</td>\n",
       "      <td>NaN</td>\n",
       "      <td>NaN</td>\n",
       "      <td>1818</td>\n",
       "      <td>28</td>\n",
       "      <td>NaN</td>\n",
       "      <td>NaN</td>\n",
       "      <td>NaN</td>\n",
       "      <td>NaN</td>\n",
       "      <td>1816.5</td>\n",
       "      <td>1232.195312</td>\n",
       "      <td>1816.5</td>\n",
       "    </tr>\n",
       "    <tr>\n",
       "      <th>997</th>\n",
       "      <td>1</td>\n",
       "      <td>99700</td>\n",
       "      <td>SQUID_INK</td>\n",
       "      <td>1813</td>\n",
       "      <td>26</td>\n",
       "      <td>NaN</td>\n",
       "      <td>NaN</td>\n",
       "      <td>NaN</td>\n",
       "      <td>NaN</td>\n",
       "      <td>1817</td>\n",
       "      <td>26</td>\n",
       "      <td>NaN</td>\n",
       "      <td>NaN</td>\n",
       "      <td>NaN</td>\n",
       "      <td>NaN</td>\n",
       "      <td>1815.0</td>\n",
       "      <td>1243.845459</td>\n",
       "      <td>1815.0</td>\n",
       "    </tr>\n",
       "    <tr>\n",
       "      <th>998</th>\n",
       "      <td>1</td>\n",
       "      <td>99800</td>\n",
       "      <td>SQUID_INK</td>\n",
       "      <td>1814</td>\n",
       "      <td>26</td>\n",
       "      <td>NaN</td>\n",
       "      <td>NaN</td>\n",
       "      <td>NaN</td>\n",
       "      <td>NaN</td>\n",
       "      <td>1817</td>\n",
       "      <td>26</td>\n",
       "      <td>NaN</td>\n",
       "      <td>NaN</td>\n",
       "      <td>NaN</td>\n",
       "      <td>NaN</td>\n",
       "      <td>1815.5</td>\n",
       "      <td>1246.000000</td>\n",
       "      <td>1815.5</td>\n",
       "    </tr>\n",
       "    <tr>\n",
       "      <th>999</th>\n",
       "      <td>1</td>\n",
       "      <td>99900</td>\n",
       "      <td>SQUID_INK</td>\n",
       "      <td>1816</td>\n",
       "      <td>27</td>\n",
       "      <td>NaN</td>\n",
       "      <td>NaN</td>\n",
       "      <td>NaN</td>\n",
       "      <td>NaN</td>\n",
       "      <td>1819</td>\n",
       "      <td>28</td>\n",
       "      <td>NaN</td>\n",
       "      <td>NaN</td>\n",
       "      <td>NaN</td>\n",
       "      <td>NaN</td>\n",
       "      <td>1817.5</td>\n",
       "      <td>1246.000000</td>\n",
       "      <td>1817.5</td>\n",
       "    </tr>\n",
       "  </tbody>\n",
       "</table>\n",
       "<p>1000 rows × 18 columns</p>\n",
       "</div>"
      ],
      "text/plain": [
       "     day  timestamp    product  bid_price_1  bid_volume_1  bid_price_2  \\\n",
       "0      1          0  SQUID_INK         1834            23          NaN   \n",
       "1      1        100  SQUID_INK         1837             1       1836.0   \n",
       "2      1        200  SQUID_INK         1832            22          NaN   \n",
       "3      1        300  SQUID_INK         1836             1       1834.0   \n",
       "4      1        400  SQUID_INK         1833            28          NaN   \n",
       "..   ...        ...        ...          ...           ...          ...   \n",
       "995    1      99500  SQUID_INK         1814            20          NaN   \n",
       "996    1      99600  SQUID_INK         1815            28          NaN   \n",
       "997    1      99700  SQUID_INK         1813            26          NaN   \n",
       "998    1      99800  SQUID_INK         1814            26          NaN   \n",
       "999    1      99900  SQUID_INK         1816            27          NaN   \n",
       "\n",
       "     bid_volume_2  bid_price_3  bid_volume_3  ask_price_1  ask_volume_1  \\\n",
       "0             NaN          NaN           NaN         1838            23   \n",
       "1             2.0       1835.0          22.0         1839            22   \n",
       "2             NaN          NaN           NaN         1835            22   \n",
       "3            26.0          NaN           NaN         1837            26   \n",
       "4             NaN          NaN           NaN         1836            28   \n",
       "..            ...          ...           ...          ...           ...   \n",
       "995           NaN          NaN           NaN         1818            20   \n",
       "996           NaN          NaN           NaN         1818            28   \n",
       "997           NaN          NaN           NaN         1817            26   \n",
       "998           NaN          NaN           NaN         1817            26   \n",
       "999           NaN          NaN           NaN         1819            28   \n",
       "\n",
       "     ask_price_2  ask_volume_2  ask_price_3  ask_volume_3  mid_price  \\\n",
       "0            NaN           NaN          NaN           NaN     1836.0   \n",
       "1            NaN           NaN          NaN           NaN     1838.0   \n",
       "2            NaN           NaN          NaN           NaN     1833.5   \n",
       "3            NaN           NaN          NaN           NaN     1836.5   \n",
       "4            NaN           NaN          NaN           NaN     1834.5   \n",
       "..           ...           ...          ...           ...        ...   \n",
       "995          NaN           NaN          NaN           NaN     1816.0   \n",
       "996          NaN           NaN          NaN           NaN     1816.5   \n",
       "997          NaN           NaN          NaN           NaN     1815.0   \n",
       "998          NaN           NaN          NaN           NaN     1815.5   \n",
       "999          NaN           NaN          NaN           NaN     1817.5   \n",
       "\n",
       "     profit_and_loss  mm_mid  \n",
       "0           0.000000  1836.0  \n",
       "1           0.000000  1837.0  \n",
       "2           0.000000  1833.5  \n",
       "3          -1.368774  1835.5  \n",
       "4           1.397461  1834.5  \n",
       "..               ...     ...  \n",
       "995      1230.402344  1816.0  \n",
       "996      1232.195312  1816.5  \n",
       "997      1243.845459  1815.0  \n",
       "998      1246.000000  1815.5  \n",
       "999      1246.000000  1817.5  \n",
       "\n",
       "[1000 rows x 18 columns]"
      ]
     },
     "execution_count": 28,
     "metadata": {},
     "output_type": "execute_result"
    }
   ],
   "source": [
    "starfruit_data"
   ]
  },
  {
   "cell_type": "code",
   "execution_count": 29,
   "id": "1b6eaa0f",
   "metadata": {},
   "outputs": [
    {
     "data": {
      "application/vnd.plotly.v1+json": {
       "config": {
        "plotlyServerURL": "https://plot.ly"
       },
       "data": [
        {
         "hovertemplate": "timestamp=%{x}<br>mm_mid=%{y}<extra></extra>",
         "legendgroup": "",
         "line": {
          "color": "#636efa",
          "dash": "solid"
         },
         "marker": {
          "symbol": "circle"
         },
         "mode": "lines",
         "name": "",
         "orientation": "v",
         "showlegend": false,
         "type": "scatter",
         "x": {
          "bdata": "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",
          "dtype": "i4"
         },
         "xaxis": "x",
         "y": {
          "bdata": "AAAAAACwnEAAAAAAALScQAAAAAAAppxAAAAAAACunEAAAAAAAKqcQAAAAAAArpxAAAAAAACmnEAAAAAAALCcQAAAAAAAtpxAAAAAAADGnEAAAAAAAMqcQAAAAAAAxpxAAAAAAADCnEAAAAAAAMacQAAAAAAAypxAAAAAAADOnEAAAAAAANScQAAAAAAAypxAAAAAAADMnEAAAAAAANicQAAAAAAA3pxAAAAAAADcnEAAAAAAAN6cQAAAAAAA5JxAAAAAAADenEAAAAAAAOCcQAAAAAAA6pxAAAAAAADmnEAAAAAAAOqcQAAAAAAA5pxAAAAAAADmnEAAAAAAAOacQAAAAAAA5pxAAAAAAADqnEAAAAAAAOicQAAAAAAA7pxAAAAAAADunEAAAAAAAPKcQAAAAAAA+pxAAAAAAAD2nEAAAAAAAP6cQAAAAAAA/JxAAAAAAAD+nEAAAAAAAP6cQAAAAAAA+pxAAAAAAAD6nEAAAAAAAAqdQAAAAAAAAp1AAAAAAAAUnUAAAAAAAAydQAAAAAAAFJ1AAAAAAAASnUAAAAAAAA6dQAAAAAAACp1AAAAAAAAKnUAAAAAAABCdQAAAAAAAEp1AAAAAAAAQnUAAAAAAAA6dQAAAAAAACp1AAAAAAAASnUAAAAAAABKdQAAAAAAAEp1AAAAAAAASnUAAAAAAABCdQAAAAAAAEp1AAAAAAAAWnUAAAAAAABKdQAAAAAAAFJ1AAAAAAAAWnUAAAAAAABSdQAAAAAAAFp1AAAAAAAASnUAAAAAAAA6dQAAAAAAAEp1AAAAAAAAQnUAAAAAAABKdQAAAAAAAEJ1AAAAAAAAOnUAAAAAAAAydQAAAAAAABp1AAAAAAAAOnUAAAAAAAAqdQAAAAAAACp1AAAAAAAAKnUAAAAAAAA6dQAAAAAAACp1AAAAAAAAInUAAAAAAAAqdQAAAAAAABp1AAAAAAAAGnUAAAAAAAAKdQAAAAAAAAp1AAAAAAAD+nEAAAAAAAAKdQAAAAAAA+pxAAAAAAAACnUAAAAAAAAKdQAAAAAAAAp1AAAAAAAAOnUAAAAAAAAadQAAAAAAACp1AAAAAAAAKnUAAAAAAAA6dQAAAAAAABp1AAAAAAAAGnUAAAAAAAAadQAAAAAAACp1AAAAAAAAGnUAAAAAAABSdQAAAAAAAJJ1AAAAAAAAmnUAAAAAAACKdQAAAAAAAHp1AAAAAAAAOnUAAAAAAAAidQAAAAAAADp1AAAAAAAAKnUAAAAAAAAqdQAAAAAAABp1AAAAAAAACnUAAAAAAAPqcQAAAAAAABJ1AAAAAAAAGnUAAAAAAAAqdQAAAAAAACp1AAAAAAAAOnUAAAAAAAAadQAAAAAAA+pxAAAAAAAD6nEAAAAAAAPScQAAAAAAA8pxAAAAAAADunEAAAAAAAPKcQAAAAAAA9pxAAAAAAAD6nEAAAAAAAOqcQAAAAAAA4pxAAAAAAADgnEAAAAAAAAD4fwAAAAAA9JxAAAAAAADynEAAAAAAAPacQAAAAAAA6pxAAAAAAAD6nEAAAAAAAPScQAAAAAAA5pxAAAAAAADunEAAAAAAAOycQAAAAAAA8pxAAAAAAADonEAAAAAAAO6cQAAAAAAA5pxAAAAAAADunEAAAAAAAOKcQAAAAAAA7pxAAAAAAADenEAAAAAAAOKcQAAAAAAA8pxAAAAAAAD6nEAAAAAAAAadQAAAAAAABp1AAAAAAAD6nEAAAAAAAPCcQAAAAAAA5pxAAAAAAADmnEAAAAAAAOKcQAAAAAAAzpxAAAAAAAC6nEAAAAAAAM6cQAAAAAAAzpxAAAAAAADsnEAAAAAAAOacQAAAAAAA5pxAAAAAAADknEAAAAAAAOacQAAAAAAA5pxAAAAAAADinEAAAAAAAOacQAAAAAAA4pxAAAAAAADonEAAAAAAAM6cQAAAAAAAxpxAAAAAAADCnEAAAAAAAMCcQAAAAAAAxpxAAAAAAAC4nEAAAAAAAL6cQAAAAAAAuJxAAAAAAACenEAAAAAAAJacQAAAAAAAepxAAAAAAACCnEAAAAAAAIqcQAAAAAAAmpxAAAAAAACYnEAAAAAAAJacQAAAAAAAjpxAAAAAAACKnEAAAAAAAJCcQAAAAAAAopxAAAAAAACmnEAAAAAAAKycQAAAAAAAqpxAAAAAAACenEAAAAAAAAD4fwAAAAAAqpxAAAAAAACynEAAAAAAAMKcQAAAAAAAvJxAAAAAAACynEAAAAAAALKcQAAAAAAArpxAAAAAAACqnEAAAAAAALKcQAAAAAAAwJxAAAAAAADUnEAAAAAAANKcQAAAAAAA1pxAAAAAAADanEAAAAAAANacQAAAAAAA6JxAAAAAAADqnEAAAAAAAOicQAAAAAAA3pxAAAAAAADknEAAAAAAAOqcQAAAAAAA6pxAAAAAAADinEAAAAAAAAD4fwAAAAAA2pxAAAAAAADUnEAAAAAAAM6cQAAAAAAAypxAAAAAAADInEAAAAAAAMqcQAAAAAAA1JxAAAAAAADYnEAAAAAAANCcQAAAAAAA0pxAAAAAAADanEAAAAAAAMicQAAAAAAA6JxAAAAAAADenEAAAAAAANqcQAAAAAAA1pxAAAAAAADenEAAAAAAAOacQAAAAAAA6pxAAAAAAADonEAAAAAAAPacQAAAAAAA7pxAAAAAAADynEAAAAAAAP6cQAAAAAAA9pxAAAAAAAD4nEAAAAAAAPqcQAAAAAAA6pxAAAAAAADqnEAAAAAAAOqcQAAAAAAA6pxAAAAAAADonEAAAAAAAOacQAAAAAAA5JxAAAAAAADmnEAAAAAAAOKcQAAAAAAA4pxAAAAAAADWnEAAAAAAANacQAAAAAAA3pxAAAAAAADqnEAAAAAAAOqcQAAAAAAA8pxAAAAAAADunEAAAAAAAOicQAAAAAAA5pxAAAAAAADqnEAAAAAAAOqcQAAAAAAA5pxAAAAAAADmnEAAAAAAAOqcQAAAAAAA5JxAAAAAAADqnEAAAAAAAOqcQAAAAAAA7JxAAAAAAADinEAAAAAAAOacQAAAAAAA5pxAAAAAAADmnEAAAAAAAO6cQAAAAAAA8JxAAAAAAADunEAAAAAAAPCcQAAAAAAA7JxAAAAAAADynEAAAAAAAAD4fwAAAAAA+pxAAAAAAADwnEAAAAAAAPqcQAAAAAAA/pxAAAAAAAD+nEAAAAAAAPqcQAAAAAAA9JxAAAAAAADynEAAAAAAAO6cQAAAAAAA9pxAAAAAAADwnEAAAAAAAPCcQAAAAAAA6pxAAAAAAADunEAAAAAAAOycQAAAAAAAAPh/AAAAAADunEAAAAAAAPCcQAAAAAAA9JxAAAAAAAD2nEAAAAAAAPKcQAAAAAAA+JxAAAAAAADqnEAAAAAAAOScQAAAAAAA4pxAAAAAAADmnEAAAAAAAN6cQAAAAAAA3pxAAAAAAADenEAAAAAAANycQAAAAAAA0pxAAAAAAADCnEAAAAAAAL6cQAAAAAAArpxAAAAAAAC6nEAAAAAAALacQAAAAAAAspxAAAAAAACqnEAAAAAAAKqcQAAAAAAAxpxAAAAAAADSnEAAAAAAAM6cQAAAAAAA2pxAAAAAAADanEAAAAAAAN6cQAAAAAAA3JxAAAAAAADinEAAAAAAAN6cQAAAAAAA3pxAAAAAAADWnEAAAAAAAN6cQAAAAAAA4pxAAAAAAAAA+H8AAAAAANicQAAAAAAA1pxAAAAAAADWnEAAAAAAANacQAAAAAAA2pxAAAAAAADWnEAAAAAAANqcQAAAAAAA1pxAAAAAAADOnEAAAAAAANKcQAAAAAAAxJxAAAAAAADKnEAAAAAAAMqcQAAAAAAAzpxAAAAAAADSnEAAAAAAAM6cQAAAAAAA0pxAAAAAAADKnEAAAAAAAM6cQAAAAAAA1JxAAAAAAADanEAAAAAAANacQAAAAAAA1pxAAAAAAADWnEAAAAAAAMacQAAAAAAAzpxAAAAAAADSnEAAAAAAANqcQAAAAAAA1pxAAAAAAADmnEAAAAAAAOacQAAAAAAA6JxAAAAAAADmnEAAAAAAAOacQAAAAAAA6pxAAAAAAADsnEAAAAAAAO6cQAAAAAAA7pxAAAAAAADunEAAAAAAAO6cQAAAAAAA8pxAAAAAAAD0nEAAAAAAAO6cQAAAAAAA6pxAAAAAAADsnEAAAAAAAOacQAAAAAAA5JxAAAAAAADqnEAAAAAAAOqcQAAAAAAA6pxAAAAAAADsnEAAAAAAAOqcQAAAAAAA8pxAAAAAAADynEAAAAAAAPKcQAAAAAAA9pxAAAAAAADynEAAAAAAAPKcQAAAAAAA+JxAAAAAAAD2nEAAAAAAAPScQAAAAAAA9pxAAAAAAADynEAAAAAAAPacQAAAAAAABp1AAAAAAAACnUAAAAAAAP6cQAAAAAAA+pxAAAAAAAAKnUAAAAAAAAqdQAAAAAAABJ1AAAAAAAAKnUAAAAAAAAqdQAAAAAAADp1AAAAAAAAWnUAAAAAAABSdQAAAAAAAFp1AAAAAAAAOnUAAAAAAABadQAAAAAAADp1AAAAAAAAWnUAAAAAAACadQAAAAAAAKJ1AAAAAAAAinUAAAAAAABydQAAAAAAAFp1AAAAAAAAanUAAAAAAAPqcQAAAAAAA+pxAAAAAAAD4nEAAAAAAAPacQAAAAAAA9pxAAAAAAADqnEAAAAAAAOKcQAAAAAAA7pxAAAAAAADsnEAAAAAAAOqcQAAAAAAA7pxAAAAAAADsnEAAAAAAAOqcQAAAAAAA6pxAAAAAAADinEAAAAAAAOacQAAAAAAA5pxAAAAAAADmnEAAAAAAAN6cQAAAAAAA3pxAAAAAAADinEAAAAAAAOKcQAAAAAAA4JxAAAAAAADknEAAAAAAAOacQAAAAAAA6pxAAAAAAADqnEAAAAAAAOacQAAAAAAA5JxAAAAAAADanEAAAAAAAOCcQAAAAAAA1pxAAAAAAADinEAAAAAAAOCcQAAAAAAA1JxAAAAAAADSnEAAAAAAAN6cQAAAAAAA3JxAAAAAAADcnEAAAAAAAN6cQAAAAAAA3pxAAAAAAADcnEAAAAAAANqcQAAAAAAA2pxAAAAAAADYnEAAAAAAANacQAAAAAAAzpxAAAAAAAAA+H8AAAAAAL6cQAAAAAAAvpxAAAAAAADAnEAAAAAAAMacQAAAAAAAwpxAAAAAAADEnEAAAAAAAL6cQAAAAAAArpxAAAAAAACqnEAAAAAAAK6cQAAAAAAAqJxAAAAAAACqnEAAAAAAAKKcQAAAAAAAnpxAAAAAAAAA+H8AAAAAAKacQAAAAAAAoJxAAAAAAACmnEAAAAAAAKacQAAAAAAAppxAAAAAAACinEAAAAAAAKKcQAAAAAAAopxAAAAAAACcnEAAAAAAAJ6cQAAAAAAAopxAAAAAAACgnEAAAAAAAKKcQAAAAAAAopxAAAAAAACenEAAAAAAAJqcQAAAAAAAmpxAAAAAAACWnEAAAAAAAJScQAAAAAAAlpxAAAAAAACWnEAAAAAAAJqcQAAAAAAAkpxAAAAAAACSnEAAAAAAAJScQAAAAAAArJxAAAAAAACunEAAAAAAAK6cQAAAAAAAtpxAAAAAAAC8nEAAAAAAAMKcQAAAAAAAxJxAAAAAAAC+nEAAAAAAALycQAAAAAAAxpxAAAAAAADInEAAAAAAAMacQAAAAAAAxpxAAAAAAADGnEAAAAAAAMCcQAAAAAAAvpxAAAAAAAC6nEAAAAAAAL6cQAAAAAAAxJxAAAAAAAC2nEAAAAAAALacQAAAAAAAspxAAAAAAAC2nEAAAAAAAMKcQAAAAAAAxpxAAAAAAADCnEAAAAAAAMKcQAAAAAAAwpxAAAAAAAC8nEAAAAAAALacQAAAAAAAtpxAAAAAAADGnEAAAAAAAMicQAAAAAAAxpxAAAAAAADCnEAAAAAAAMKcQAAAAAAAuJxAAAAAAAC6nEAAAAAAAK6cQAAAAAAAspxAAAAAAACynEAAAAAAALacQAAAAAAAwpxAAAAAAADKnEAAAAAAAMqcQAAAAAAAzpxAAAAAAADSnEAAAAAAANicQAAAAAAA4pxAAAAAAADinEAAAAAAAN6cQAAAAAAA1JxAAAAAAADMnEAAAAAAAMKcQAAAAAAAxpxAAAAAAADGnEAAAAAAAMacQAAAAAAAvJxAAAAAAAC6nEAAAAAAALicQAAAAAAAupxAAAAAAADKnEAAAAAAAMacQAAAAAAAvJxAAAAAAAC8nEAAAAAAAMKcQAAAAAAAwpxAAAAAAADGnEAAAAAAAMacQAAAAAAAypxAAAAAAADOnEAAAAAAAMqcQAAAAAAAypxAAAAAAADOnEAAAAAAANScQAAAAAAA2pxAAAAAAADOnEAAAAAAANqcQAAAAAAA0JxAAAAAAADCnEAAAAAAAMKcQAAAAAAA0JxAAAAAAADInEAAAAAAAMacQAAAAAAAxpxAAAAAAADKnEAAAAAAAMqcQAAAAAAAypxAAAAAAADKnEAAAAAAAMqcQAAAAAAAypxAAAAAAADOnEAAAAAAANicQAAAAAAAxpxAAAAAAADGnEAAAAAAAMacQAAAAAAAxpxAAAAAAADGnEAAAAAAAMacQAAAAAAAvpxAAAAAAAC8nEAAAAAAALacQAAAAAAAspxAAAAAAACunEAAAAAAAK6cQAAAAAAArpxAAAAAAACwnEAAAAAAALKcQAAAAAAAupxAAAAAAACynEAAAAAAAK6cQAAAAAAAtpxAAAAAAAC2nEAAAAAAALKcQAAAAAAArpxAAAAAAACqnEAAAAAAAKKcQAAAAAAArJxAAAAAAACqnEAAAAAAAKqcQAAAAAAAspxAAAAAAAC2nEAAAAAAALacQAAAAAAAwpxAAAAAAAC+nEAAAAAAAL6cQAAAAAAAwpxAAAAAAAC+nEAAAAAAAL6cQAAAAAAAupxAAAAAAAC8nEAAAAAAAL6cQAAAAAAAvJxAAAAAAAC6nEAAAAAAALqcQAAAAAAAvpxAAAAAAAC+nEAAAAAAALqcQAAAAAAAvJxAAAAAAAC6nEAAAAAAAL6cQAAAAAAAupxAAAAAAACynEAAAAAAAKqcQAAAAAAAppxAAAAAAACmnEAAAAAAAKScQAAAAAAArJxAAAAAAACqnEAAAAAAAKacQAAAAAAAqpxAAAAAAACunEAAAAAAAKacQAAAAAAAopxAAAAAAACqnEAAAAAAAKacQAAAAAAAqpxAAAAAAAC0nEAAAAAAALKcQAAAAAAAsJxAAAAAAACynEAAAAAAALacQAAAAAAAwJxAAAAAAAC+nEAAAAAAALicQAAAAAAAspxAAAAAAAC2nEAAAAAAALqcQAAAAAAAvpxAAAAAAADCnEAAAAAAAMCcQAAAAAAAvpxAAAAAAADCnEAAAAAAAL6cQAAAAAAAupxAAAAAAAC+nEAAAAAAAL6cQAAAAAAAwpxAAAAAAAC+nEAAAAAAAL6cQAAAAAAAvpxAAAAAAAAA+H8AAAAAAMKcQAAAAAAAvpxAAAAAAAC+nEAAAAAAAL6cQAAAAAAAupxAAAAAAAC6nEAAAAAAAMCcQAAAAAAAvJxAAAAAAAC8nEAAAAAAAL6cQAAAAAAAzJxAAAAAAADSnEAAAAAAAM6cQAAAAAAA0pxAAAAAAADWnEAAAAAAAM6cQAAAAAAA1pxAAAAAAADSnEAAAAAAANKcQAAAAAAA1JxAAAAAAADWnEAAAAAAANqcQAAAAAAA3pxAAAAAAADWnEAAAAAAANicQAAAAAAA2JxAAAAAAADSnEAAAAAAANKcQAAAAAAAypxAAAAAAADCnEAAAAAAAL6cQAAAAAAAwJxAAAAAAAC+nEAAAAAAALycQAAAAAAAuJxAAAAAAAC6nEAAAAAAAKqcQAAAAAAAppxAAAAAAACcnEAAAAAAAJ6cQAAAAAAAnpxAAAAAAACinEAAAAAAAKKcQAAAAAAAopxAAAAAAACenEAAAAAAAKKcQAAAAAAAnpxAAAAAAACenEAAAAAAAJ6cQAAAAAAAopxAAAAAAACenEAAAAAAAKKcQAAAAAAAppxAAAAAAACqnEAAAAAAAK6cQAAAAAAAppxAAAAAAACinEAAAAAAAJ6cQAAAAAAAnpxAAAAAAACKnEAAAAAAAIqcQAAAAAAAjpxAAAAAAAB4nEAAAAAAAHacQAAAAAAAZJxAAAAAAAB4nEAAAAAAAHycQAAAAAAAepxAAAAAAACCnEAAAAAAAIScQAAAAAAAfpxAAAAAAACAnEAAAAAAAH6cQAAAAAAAfpxAAAAAAAB6nEAAAAAAAHqcQAAAAAAAcpxAAAAAAABynEAAAAAAAHacQAAAAAAAdpxAAAAAAAB8nEAAAAAAAHqcQAAAAAAAfJxAAAAAAAB6nEAAAAAAAHacQAAAAAAAdpxAAAAAAAB8nEAAAAAAAH6cQAAAAAAAdpxAAAAAAABmnEAAAAAAAF6cQAAAAAAAZJxAAAAAAABinEAAAAAAAGKcQAAAAAAAYpxAAAAAAABSnEAAAAAAAEicQAAAAAAAOpxAAAAAAAA2nEAAAAAAADqcQAAAAAAAKpxAAAAAAAA2nEAAAAAAADqcQAAAAAAAPpxAAAAAAAAmnEAAAAAAAC6cQAAAAAAANpxAAAAAAAA4nEAAAAAAAEScQAAAAAAAQpxAAAAAAABGnEAAAAAAAEKcQAAAAAAAVpxAAAAAAABSnEAAAAAAAFacQAAAAAAAUJxAAAAAAABOnEAAAAAAAEqcQAAAAAAATpxAAAAAAAAqnEAAAAAAADKcQAAAAAAAOpxAAAAAAAA2nEAAAAAAADacQAAAAAAAPpxAAAAAAAA6nEAAAAAAADqcQAAAAAAAKJxAAAAAAAA2nEAAAAAAACacQAAAAAAAMpxAAAAAAAAunEAAAAAAACacQAAAAAAAIpxAAAAAAAAenEAAAAAAACacQAAAAAAAHpxAAAAAAAAanEAAAAAAABqcQAAAAAAAGpxAAAAAAAASnEAAAAAAACKcQAAAAAAAIpxAAAAAAAAsnEAAAAAAAC6cQAAAAAAAMpxAAAAAAAA6nEAAAAAAAEKcQAAAAAAASJxAAAAAAAA+nEAAAAAAAD6cQAAAAAAAPpxAAAAAAABGnEAAAAAAAFqcQAAAAAAAXpxAAAAAAABWnEAAAAAAAGCcQAAAAAAAWpxAAAAAAABUnEAAAAAAAFKcQAAAAAAAUpxAAAAAAABQnEAAAAAAAE6cQAAAAAAATpxAAAAAAABMnEAAAAAAAE6cQAAAAAAARpxAAAAAAABAnEAAAAAAAEacQAAAAAAARpxAAAAAAABCnEAAAAAAAEqcQAAAAAAAPpxAAAAAAABCnEAAAAAAAD6cQAAAAAAASpxAAAAAAAA6nEAAAAAAADqcQAAAAAAAQpxAAAAAAAA+nEAAAAAAAD6cQAAAAAAAQpxAAAAAAABAnEAAAAAAAEKcQAAAAAAAQpxAAAAAAABCnEAAAAAAAEKcQAAAAAAAPpxAAAAAAAA+nEAAAAAAAD6cQAAAAAAAPJxAAAAAAAA+nEAAAAAAADacQAAAAAAAPpxAAAAAAAA4nEAAAAAAADqcQAAAAAAANJxAAAAAAAA6nEAAAAAAAD6cQAAAAAAAQpxAAAAAAAA+nEAAAAAAAD6cQAAAAAAAPJxAAAAAAAA4nEAAAAAAADScQAAAAAAAMpxAAAAAAAAwnEAAAAAAACicQAAAAAAAKpxAAAAAAAAunEAAAAAAACacQAAAAAAAMpxAAAAAAAA+nEAAAAAAAEKcQAAAAAAAQpxAAAAAAABCnEAAAAAAAEKcQAAAAAAAQpxAAAAAAABGnEAAAAAAAEacQAAAAAAATpxAAAAAAABSnEAAAAAAAFqcQAAAAAAAVpxAAAAAAABUnEAAAAAAAFCcQAAAAAAATpxAAAAAAABOnEAAAAAAAFKcQAAAAAAAYpxAAAAAAABinEAAAAAAAG6cQAAAAAAAYpxAAAAAAABenEAAAAAAAGKcQAAAAAAAXpxAAAAAAABenEAAAAAAAGKcQAAAAAAAYpxAAAAAAABWnEAAAAAAAFacQAAAAAAAbJxAAAAAAABinEAAAAAAAG6cQAAAAAAAZpxAAAAAAABenEAAAAAAAGKcQAAAAAAAYpxAAAAAAABgnEAAAAAAAFqcQAAAAAAAWpxAAAAAAABinEAAAAAAAFqcQAAAAAAAWJxAAAAAAABanEAAAAAAAF6cQAAAAAAAXpxAAAAAAABenEAAAAAAAGKcQAAAAAAAXpxAAAAAAABcnEAAAAAAAFycQAAAAAAAWpxAAAAAAABenEAAAAAAAF6cQAAAAAAAZJxAAAAAAAAA+H8AAAAAAFacQAAAAAAAYJxAAAAAAABanEAAAAAAAGKcQAAAAAAAZJxAAAAAAABgnEAAAAAAAF6cQAAAAAAAXpxAAAAAAABenEAAAAAAAF6cQAAAAAAAYpxAAAAAAABinEAAAAAAAGacQAAAAAAAXpxAAAAAAABanEAAAAAAAFacQAAAAAAAWpxAAAAAAABKnEAAAAAAAFKcQAAAAAAAUpxAAAAAAABYnEAAAAAAAFicQAAAAAAAYJxAAAAAAABinEAAAAAAAFycQAAAAAAAXpxAAAAAAABmnEA=",
          "dtype": "f8"
         },
         "yaxis": "y"
        }
       ],
       "layout": {
        "legend": {
         "tracegroupgap": 0
        },
        "template": {
         "data": {
          "bar": [
           {
            "error_x": {
             "color": "#2a3f5f"
            },
            "error_y": {
             "color": "#2a3f5f"
            },
            "marker": {
             "line": {
              "color": "#E5ECF6",
              "width": 0.5
             },
             "pattern": {
              "fillmode": "overlay",
              "size": 10,
              "solidity": 0.2
             }
            },
            "type": "bar"
           }
          ],
          "barpolar": [
           {
            "marker": {
             "line": {
              "color": "#E5ECF6",
              "width": 0.5
             },
             "pattern": {
              "fillmode": "overlay",
              "size": 10,
              "solidity": 0.2
             }
            },
            "type": "barpolar"
           }
          ],
          "carpet": [
           {
            "aaxis": {
             "endlinecolor": "#2a3f5f",
             "gridcolor": "white",
             "linecolor": "white",
             "minorgridcolor": "white",
             "startlinecolor": "#2a3f5f"
            },
            "baxis": {
             "endlinecolor": "#2a3f5f",
             "gridcolor": "white",
             "linecolor": "white",
             "minorgridcolor": "white",
             "startlinecolor": "#2a3f5f"
            },
            "type": "carpet"
           }
          ],
          "choropleth": [
           {
            "colorbar": {
             "outlinewidth": 0,
             "ticks": ""
            },
            "type": "choropleth"
           }
          ],
          "contour": [
           {
            "colorbar": {
             "outlinewidth": 0,
             "ticks": ""
            },
            "colorscale": [
             [
              0,
              "#0d0887"
             ],
             [
              0.1111111111111111,
              "#46039f"
             ],
             [
              0.2222222222222222,
              "#7201a8"
             ],
             [
              0.3333333333333333,
              "#9c179e"
             ],
             [
              0.4444444444444444,
              "#bd3786"
             ],
             [
              0.5555555555555556,
              "#d8576b"
             ],
             [
              0.6666666666666666,
              "#ed7953"
             ],
             [
              0.7777777777777778,
              "#fb9f3a"
             ],
             [
              0.8888888888888888,
              "#fdca26"
             ],
             [
              1,
              "#f0f921"
             ]
            ],
            "type": "contour"
           }
          ],
          "contourcarpet": [
           {
            "colorbar": {
             "outlinewidth": 0,
             "ticks": ""
            },
            "type": "contourcarpet"
           }
          ],
          "heatmap": [
           {
            "colorbar": {
             "outlinewidth": 0,
             "ticks": ""
            },
            "colorscale": [
             [
              0,
              "#0d0887"
             ],
             [
              0.1111111111111111,
              "#46039f"
             ],
             [
              0.2222222222222222,
              "#7201a8"
             ],
             [
              0.3333333333333333,
              "#9c179e"
             ],
             [
              0.4444444444444444,
              "#bd3786"
             ],
             [
              0.5555555555555556,
              "#d8576b"
             ],
             [
              0.6666666666666666,
              "#ed7953"
             ],
             [
              0.7777777777777778,
              "#fb9f3a"
             ],
             [
              0.8888888888888888,
              "#fdca26"
             ],
             [
              1,
              "#f0f921"
             ]
            ],
            "type": "heatmap"
           }
          ],
          "histogram": [
           {
            "marker": {
             "pattern": {
              "fillmode": "overlay",
              "size": 10,
              "solidity": 0.2
             }
            },
            "type": "histogram"
           }
          ],
          "histogram2d": [
           {
            "colorbar": {
             "outlinewidth": 0,
             "ticks": ""
            },
            "colorscale": [
             [
              0,
              "#0d0887"
             ],
             [
              0.1111111111111111,
              "#46039f"
             ],
             [
              0.2222222222222222,
              "#7201a8"
             ],
             [
              0.3333333333333333,
              "#9c179e"
             ],
             [
              0.4444444444444444,
              "#bd3786"
             ],
             [
              0.5555555555555556,
              "#d8576b"
             ],
             [
              0.6666666666666666,
              "#ed7953"
             ],
             [
              0.7777777777777778,
              "#fb9f3a"
             ],
             [
              0.8888888888888888,
              "#fdca26"
             ],
             [
              1,
              "#f0f921"
             ]
            ],
            "type": "histogram2d"
           }
          ],
          "histogram2dcontour": [
           {
            "colorbar": {
             "outlinewidth": 0,
             "ticks": ""
            },
            "colorscale": [
             [
              0,
              "#0d0887"
             ],
             [
              0.1111111111111111,
              "#46039f"
             ],
             [
              0.2222222222222222,
              "#7201a8"
             ],
             [
              0.3333333333333333,
              "#9c179e"
             ],
             [
              0.4444444444444444,
              "#bd3786"
             ],
             [
              0.5555555555555556,
              "#d8576b"
             ],
             [
              0.6666666666666666,
              "#ed7953"
             ],
             [
              0.7777777777777778,
              "#fb9f3a"
             ],
             [
              0.8888888888888888,
              "#fdca26"
             ],
             [
              1,
              "#f0f921"
             ]
            ],
            "type": "histogram2dcontour"
           }
          ],
          "mesh3d": [
           {
            "colorbar": {
             "outlinewidth": 0,
             "ticks": ""
            },
            "type": "mesh3d"
           }
          ],
          "parcoords": [
           {
            "line": {
             "colorbar": {
              "outlinewidth": 0,
              "ticks": ""
             }
            },
            "type": "parcoords"
           }
          ],
          "pie": [
           {
            "automargin": true,
            "type": "pie"
           }
          ],
          "scatter": [
           {
            "fillpattern": {
             "fillmode": "overlay",
             "size": 10,
             "solidity": 0.2
            },
            "type": "scatter"
           }
          ],
          "scatter3d": [
           {
            "line": {
             "colorbar": {
              "outlinewidth": 0,
              "ticks": ""
             }
            },
            "marker": {
             "colorbar": {
              "outlinewidth": 0,
              "ticks": ""
             }
            },
            "type": "scatter3d"
           }
          ],
          "scattercarpet": [
           {
            "marker": {
             "colorbar": {
              "outlinewidth": 0,
              "ticks": ""
             }
            },
            "type": "scattercarpet"
           }
          ],
          "scattergeo": [
           {
            "marker": {
             "colorbar": {
              "outlinewidth": 0,
              "ticks": ""
             }
            },
            "type": "scattergeo"
           }
          ],
          "scattergl": [
           {
            "marker": {
             "colorbar": {
              "outlinewidth": 0,
              "ticks": ""
             }
            },
            "type": "scattergl"
           }
          ],
          "scattermap": [
           {
            "marker": {
             "colorbar": {
              "outlinewidth": 0,
              "ticks": ""
             }
            },
            "type": "scattermap"
           }
          ],
          "scattermapbox": [
           {
            "marker": {
             "colorbar": {
              "outlinewidth": 0,
              "ticks": ""
             }
            },
            "type": "scattermapbox"
           }
          ],
          "scatterpolar": [
           {
            "marker": {
             "colorbar": {
              "outlinewidth": 0,
              "ticks": ""
             }
            },
            "type": "scatterpolar"
           }
          ],
          "scatterpolargl": [
           {
            "marker": {
             "colorbar": {
              "outlinewidth": 0,
              "ticks": ""
             }
            },
            "type": "scatterpolargl"
           }
          ],
          "scatterternary": [
           {
            "marker": {
             "colorbar": {
              "outlinewidth": 0,
              "ticks": ""
             }
            },
            "type": "scatterternary"
           }
          ],
          "surface": [
           {
            "colorbar": {
             "outlinewidth": 0,
             "ticks": ""
            },
            "colorscale": [
             [
              0,
              "#0d0887"
             ],
             [
              0.1111111111111111,
              "#46039f"
             ],
             [
              0.2222222222222222,
              "#7201a8"
             ],
             [
              0.3333333333333333,
              "#9c179e"
             ],
             [
              0.4444444444444444,
              "#bd3786"
             ],
             [
              0.5555555555555556,
              "#d8576b"
             ],
             [
              0.6666666666666666,
              "#ed7953"
             ],
             [
              0.7777777777777778,
              "#fb9f3a"
             ],
             [
              0.8888888888888888,
              "#fdca26"
             ],
             [
              1,
              "#f0f921"
             ]
            ],
            "type": "surface"
           }
          ],
          "table": [
           {
            "cells": {
             "fill": {
              "color": "#EBF0F8"
             },
             "line": {
              "color": "white"
             }
            },
            "header": {
             "fill": {
              "color": "#C8D4E3"
             },
             "line": {
              "color": "white"
             }
            },
            "type": "table"
           }
          ]
         },
         "layout": {
          "annotationdefaults": {
           "arrowcolor": "#2a3f5f",
           "arrowhead": 0,
           "arrowwidth": 1
          },
          "autotypenumbers": "strict",
          "coloraxis": {
           "colorbar": {
            "outlinewidth": 0,
            "ticks": ""
           }
          },
          "colorscale": {
           "diverging": [
            [
             0,
             "#8e0152"
            ],
            [
             0.1,
             "#c51b7d"
            ],
            [
             0.2,
             "#de77ae"
            ],
            [
             0.3,
             "#f1b6da"
            ],
            [
             0.4,
             "#fde0ef"
            ],
            [
             0.5,
             "#f7f7f7"
            ],
            [
             0.6,
             "#e6f5d0"
            ],
            [
             0.7,
             "#b8e186"
            ],
            [
             0.8,
             "#7fbc41"
            ],
            [
             0.9,
             "#4d9221"
            ],
            [
             1,
             "#276419"
            ]
           ],
           "sequential": [
            [
             0,
             "#0d0887"
            ],
            [
             0.1111111111111111,
             "#46039f"
            ],
            [
             0.2222222222222222,
             "#7201a8"
            ],
            [
             0.3333333333333333,
             "#9c179e"
            ],
            [
             0.4444444444444444,
             "#bd3786"
            ],
            [
             0.5555555555555556,
             "#d8576b"
            ],
            [
             0.6666666666666666,
             "#ed7953"
            ],
            [
             0.7777777777777778,
             "#fb9f3a"
            ],
            [
             0.8888888888888888,
             "#fdca26"
            ],
            [
             1,
             "#f0f921"
            ]
           ],
           "sequentialminus": [
            [
             0,
             "#0d0887"
            ],
            [
             0.1111111111111111,
             "#46039f"
            ],
            [
             0.2222222222222222,
             "#7201a8"
            ],
            [
             0.3333333333333333,
             "#9c179e"
            ],
            [
             0.4444444444444444,
             "#bd3786"
            ],
            [
             0.5555555555555556,
             "#d8576b"
            ],
            [
             0.6666666666666666,
             "#ed7953"
            ],
            [
             0.7777777777777778,
             "#fb9f3a"
            ],
            [
             0.8888888888888888,
             "#fdca26"
            ],
            [
             1,
             "#f0f921"
            ]
           ]
          },
          "colorway": [
           "#636efa",
           "#EF553B",
           "#00cc96",
           "#ab63fa",
           "#FFA15A",
           "#19d3f3",
           "#FF6692",
           "#B6E880",
           "#FF97FF",
           "#FECB52"
          ],
          "font": {
           "color": "#2a3f5f"
          },
          "geo": {
           "bgcolor": "white",
           "lakecolor": "white",
           "landcolor": "#E5ECF6",
           "showlakes": true,
           "showland": true,
           "subunitcolor": "white"
          },
          "hoverlabel": {
           "align": "left"
          },
          "hovermode": "closest",
          "mapbox": {
           "style": "light"
          },
          "paper_bgcolor": "white",
          "plot_bgcolor": "#E5ECF6",
          "polar": {
           "angularaxis": {
            "gridcolor": "white",
            "linecolor": "white",
            "ticks": ""
           },
           "bgcolor": "#E5ECF6",
           "radialaxis": {
            "gridcolor": "white",
            "linecolor": "white",
            "ticks": ""
           }
          },
          "scene": {
           "xaxis": {
            "backgroundcolor": "#E5ECF6",
            "gridcolor": "white",
            "gridwidth": 2,
            "linecolor": "white",
            "showbackground": true,
            "ticks": "",
            "zerolinecolor": "white"
           },
           "yaxis": {
            "backgroundcolor": "#E5ECF6",
            "gridcolor": "white",
            "gridwidth": 2,
            "linecolor": "white",
            "showbackground": true,
            "ticks": "",
            "zerolinecolor": "white"
           },
           "zaxis": {
            "backgroundcolor": "#E5ECF6",
            "gridcolor": "white",
            "gridwidth": 2,
            "linecolor": "white",
            "showbackground": true,
            "ticks": "",
            "zerolinecolor": "white"
           }
          },
          "shapedefaults": {
           "line": {
            "color": "#2a3f5f"
           }
          },
          "ternary": {
           "aaxis": {
            "gridcolor": "white",
            "linecolor": "white",
            "ticks": ""
           },
           "baxis": {
            "gridcolor": "white",
            "linecolor": "white",
            "ticks": ""
           },
           "bgcolor": "#E5ECF6",
           "caxis": {
            "gridcolor": "white",
            "linecolor": "white",
            "ticks": ""
           }
          },
          "title": {
           "x": 0.05
          },
          "xaxis": {
           "automargin": true,
           "gridcolor": "white",
           "linecolor": "white",
           "ticks": "",
           "title": {
            "standoff": 15
           },
           "zerolinecolor": "white",
           "zerolinewidth": 2
          },
          "yaxis": {
           "automargin": true,
           "gridcolor": "white",
           "linecolor": "white",
           "ticks": "",
           "title": {
            "standoff": 15
           },
           "zerolinecolor": "white",
           "zerolinewidth": 2
          }
         }
        },
        "title": {
         "text": "MM Mid Price Over Time"
        },
        "xaxis": {
         "anchor": "y",
         "domain": [
          0,
          1
         ],
         "title": {
          "text": "Timestamp"
         }
        },
        "yaxis": {
         "anchor": "x",
         "domain": [
          0,
          1
         ],
         "title": {
          "text": "MM Mid Price"
         }
        }
       }
      }
     },
     "metadata": {},
     "output_type": "display_data"
    }
   ],
   "source": [
    "# Create the plot using Plotly Express\n",
    "fig = px.line(starfruit_data, x='timestamp', y='mm_mid', title='MM Mid Price Over Time')\n",
    "\n",
    "# Customize the layout\n",
    "fig.update_layout(\n",
    "    xaxis_title='Timestamp',\n",
    "    yaxis_title='MM Mid Price',\n",
    ")\n",
    "\n",
    "# Display the plot\n",
    "fig.show()"
   ]
  },
  {
   "cell_type": "code",
   "execution_count": 51,
   "id": "19fe7f56",
   "metadata": {
    "ExecuteTime": {
     "end_time": "2024-04-10T21:44:56.979661Z",
     "start_time": "2024-04-10T21:44:56.888011Z"
    }
   },
   "outputs": [
    {
     "data": {
      "application/vnd.plotly.v1+json": {
       "config": {
        "plotlyServerURL": "https://plot.ly"
       },
       "data": [
        {
         "hovertemplate": "timestamp=%{x}<br>mm_mid=%{y}<extra></extra>",
         "legendgroup": "",
         "line": {
          "color": "#636efa",
          "dash": "solid"
         },
         "marker": {
          "symbol": "circle"
         },
         "mode": "lines",
         "name": "",
         "orientation": "v",
         "showlegend": false,
         "type": "scatter",
         "x": {
          "bdata": "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",
          "dtype": "i4"
         },
         "xaxis": "x",
         "y": {
          "bdata": "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",
          "dtype": "f8"
         },
         "yaxis": "y"
        }
       ],
       "layout": {
        "legend": {
         "tracegroupgap": 0
        },
        "template": {
         "data": {
          "bar": [
           {
            "error_x": {
             "color": "#2a3f5f"
            },
            "error_y": {
             "color": "#2a3f5f"
            },
            "marker": {
             "line": {
              "color": "#E5ECF6",
              "width": 0.5
             },
             "pattern": {
              "fillmode": "overlay",
              "size": 10,
              "solidity": 0.2
             }
            },
            "type": "bar"
           }
          ],
          "barpolar": [
           {
            "marker": {
             "line": {
              "color": "#E5ECF6",
              "width": 0.5
             },
             "pattern": {
              "fillmode": "overlay",
              "size": 10,
              "solidity": 0.2
             }
            },
            "type": "barpolar"
           }
          ],
          "carpet": [
           {
            "aaxis": {
             "endlinecolor": "#2a3f5f",
             "gridcolor": "white",
             "linecolor": "white",
             "minorgridcolor": "white",
             "startlinecolor": "#2a3f5f"
            },
            "baxis": {
             "endlinecolor": "#2a3f5f",
             "gridcolor": "white",
             "linecolor": "white",
             "minorgridcolor": "white",
             "startlinecolor": "#2a3f5f"
            },
            "type": "carpet"
           }
          ],
          "choropleth": [
           {
            "colorbar": {
             "outlinewidth": 0,
             "ticks": ""
            },
            "type": "choropleth"
           }
          ],
          "contour": [
           {
            "colorbar": {
             "outlinewidth": 0,
             "ticks": ""
            },
            "colorscale": [
             [
              0,
              "#0d0887"
             ],
             [
              0.1111111111111111,
              "#46039f"
             ],
             [
              0.2222222222222222,
              "#7201a8"
             ],
             [
              0.3333333333333333,
              "#9c179e"
             ],
             [
              0.4444444444444444,
              "#bd3786"
             ],
             [
              0.5555555555555556,
              "#d8576b"
             ],
             [
              0.6666666666666666,
              "#ed7953"
             ],
             [
              0.7777777777777778,
              "#fb9f3a"
             ],
             [
              0.8888888888888888,
              "#fdca26"
             ],
             [
              1,
              "#f0f921"
             ]
            ],
            "type": "contour"
           }
          ],
          "contourcarpet": [
           {
            "colorbar": {
             "outlinewidth": 0,
             "ticks": ""
            },
            "type": "contourcarpet"
           }
          ],
          "heatmap": [
           {
            "colorbar": {
             "outlinewidth": 0,
             "ticks": ""
            },
            "colorscale": [
             [
              0,
              "#0d0887"
             ],
             [
              0.1111111111111111,
              "#46039f"
             ],
             [
              0.2222222222222222,
              "#7201a8"
             ],
             [
              0.3333333333333333,
              "#9c179e"
             ],
             [
              0.4444444444444444,
              "#bd3786"
             ],
             [
              0.5555555555555556,
              "#d8576b"
             ],
             [
              0.6666666666666666,
              "#ed7953"
             ],
             [
              0.7777777777777778,
              "#fb9f3a"
             ],
             [
              0.8888888888888888,
              "#fdca26"
             ],
             [
              1,
              "#f0f921"
             ]
            ],
            "type": "heatmap"
           }
          ],
          "histogram": [
           {
            "marker": {
             "pattern": {
              "fillmode": "overlay",
              "size": 10,
              "solidity": 0.2
             }
            },
            "type": "histogram"
           }
          ],
          "histogram2d": [
           {
            "colorbar": {
             "outlinewidth": 0,
             "ticks": ""
            },
            "colorscale": [
             [
              0,
              "#0d0887"
             ],
             [
              0.1111111111111111,
              "#46039f"
             ],
             [
              0.2222222222222222,
              "#7201a8"
             ],
             [
              0.3333333333333333,
              "#9c179e"
             ],
             [
              0.4444444444444444,
              "#bd3786"
             ],
             [
              0.5555555555555556,
              "#d8576b"
             ],
             [
              0.6666666666666666,
              "#ed7953"
             ],
             [
              0.7777777777777778,
              "#fb9f3a"
             ],
             [
              0.8888888888888888,
              "#fdca26"
             ],
             [
              1,
              "#f0f921"
             ]
            ],
            "type": "histogram2d"
           }
          ],
          "histogram2dcontour": [
           {
            "colorbar": {
             "outlinewidth": 0,
             "ticks": ""
            },
            "colorscale": [
             [
              0,
              "#0d0887"
             ],
             [
              0.1111111111111111,
              "#46039f"
             ],
             [
              0.2222222222222222,
              "#7201a8"
             ],
             [
              0.3333333333333333,
              "#9c179e"
             ],
             [
              0.4444444444444444,
              "#bd3786"
             ],
             [
              0.5555555555555556,
              "#d8576b"
             ],
             [
              0.6666666666666666,
              "#ed7953"
             ],
             [
              0.7777777777777778,
              "#fb9f3a"
             ],
             [
              0.8888888888888888,
              "#fdca26"
             ],
             [
              1,
              "#f0f921"
             ]
            ],
            "type": "histogram2dcontour"
           }
          ],
          "mesh3d": [
           {
            "colorbar": {
             "outlinewidth": 0,
             "ticks": ""
            },
            "type": "mesh3d"
           }
          ],
          "parcoords": [
           {
            "line": {
             "colorbar": {
              "outlinewidth": 0,
              "ticks": ""
             }
            },
            "type": "parcoords"
           }
          ],
          "pie": [
           {
            "automargin": true,
            "type": "pie"
           }
          ],
          "scatter": [
           {
            "fillpattern": {
             "fillmode": "overlay",
             "size": 10,
             "solidity": 0.2
            },
            "type": "scatter"
           }
          ],
          "scatter3d": [
           {
            "line": {
             "colorbar": {
              "outlinewidth": 0,
              "ticks": ""
             }
            },
            "marker": {
             "colorbar": {
              "outlinewidth": 0,
              "ticks": ""
             }
            },
            "type": "scatter3d"
           }
          ],
          "scattercarpet": [
           {
            "marker": {
             "colorbar": {
              "outlinewidth": 0,
              "ticks": ""
             }
            },
            "type": "scattercarpet"
           }
          ],
          "scattergeo": [
           {
            "marker": {
             "colorbar": {
              "outlinewidth": 0,
              "ticks": ""
             }
            },
            "type": "scattergeo"
           }
          ],
          "scattergl": [
           {
            "marker": {
             "colorbar": {
              "outlinewidth": 0,
              "ticks": ""
             }
            },
            "type": "scattergl"
           }
          ],
          "scattermap": [
           {
            "marker": {
             "colorbar": {
              "outlinewidth": 0,
              "ticks": ""
             }
            },
            "type": "scattermap"
           }
          ],
          "scattermapbox": [
           {
            "marker": {
             "colorbar": {
              "outlinewidth": 0,
              "ticks": ""
             }
            },
            "type": "scattermapbox"
           }
          ],
          "scatterpolar": [
           {
            "marker": {
             "colorbar": {
              "outlinewidth": 0,
              "ticks": ""
             }
            },
            "type": "scatterpolar"
           }
          ],
          "scatterpolargl": [
           {
            "marker": {
             "colorbar": {
              "outlinewidth": 0,
              "ticks": ""
             }
            },
            "type": "scatterpolargl"
           }
          ],
          "scatterternary": [
           {
            "marker": {
             "colorbar": {
              "outlinewidth": 0,
              "ticks": ""
             }
            },
            "type": "scatterternary"
           }
          ],
          "surface": [
           {
            "colorbar": {
             "outlinewidth": 0,
             "ticks": ""
            },
            "colorscale": [
             [
              0,
              "#0d0887"
             ],
             [
              0.1111111111111111,
              "#46039f"
             ],
             [
              0.2222222222222222,
              "#7201a8"
             ],
             [
              0.3333333333333333,
              "#9c179e"
             ],
             [
              0.4444444444444444,
              "#bd3786"
             ],
             [
              0.5555555555555556,
              "#d8576b"
             ],
             [
              0.6666666666666666,
              "#ed7953"
             ],
             [
              0.7777777777777778,
              "#fb9f3a"
             ],
             [
              0.8888888888888888,
              "#fdca26"
             ],
             [
              1,
              "#f0f921"
             ]
            ],
            "type": "surface"
           }
          ],
          "table": [
           {
            "cells": {
             "fill": {
              "color": "#EBF0F8"
             },
             "line": {
              "color": "white"
             }
            },
            "header": {
             "fill": {
              "color": "#C8D4E3"
             },
             "line": {
              "color": "white"
             }
            },
            "type": "table"
           }
          ]
         },
         "layout": {
          "annotationdefaults": {
           "arrowcolor": "#2a3f5f",
           "arrowhead": 0,
           "arrowwidth": 1
          },
          "autotypenumbers": "strict",
          "coloraxis": {
           "colorbar": {
            "outlinewidth": 0,
            "ticks": ""
           }
          },
          "colorscale": {
           "diverging": [
            [
             0,
             "#8e0152"
            ],
            [
             0.1,
             "#c51b7d"
            ],
            [
             0.2,
             "#de77ae"
            ],
            [
             0.3,
             "#f1b6da"
            ],
            [
             0.4,
             "#fde0ef"
            ],
            [
             0.5,
             "#f7f7f7"
            ],
            [
             0.6,
             "#e6f5d0"
            ],
            [
             0.7,
             "#b8e186"
            ],
            [
             0.8,
             "#7fbc41"
            ],
            [
             0.9,
             "#4d9221"
            ],
            [
             1,
             "#276419"
            ]
           ],
           "sequential": [
            [
             0,
             "#0d0887"
            ],
            [
             0.1111111111111111,
             "#46039f"
            ],
            [
             0.2222222222222222,
             "#7201a8"
            ],
            [
             0.3333333333333333,
             "#9c179e"
            ],
            [
             0.4444444444444444,
             "#bd3786"
            ],
            [
             0.5555555555555556,
             "#d8576b"
            ],
            [
             0.6666666666666666,
             "#ed7953"
            ],
            [
             0.7777777777777778,
             "#fb9f3a"
            ],
            [
             0.8888888888888888,
             "#fdca26"
            ],
            [
             1,
             "#f0f921"
            ]
           ],
           "sequentialminus": [
            [
             0,
             "#0d0887"
            ],
            [
             0.1111111111111111,
             "#46039f"
            ],
            [
             0.2222222222222222,
             "#7201a8"
            ],
            [
             0.3333333333333333,
             "#9c179e"
            ],
            [
             0.4444444444444444,
             "#bd3786"
            ],
            [
             0.5555555555555556,
             "#d8576b"
            ],
            [
             0.6666666666666666,
             "#ed7953"
            ],
            [
             0.7777777777777778,
             "#fb9f3a"
            ],
            [
             0.8888888888888888,
             "#fdca26"
            ],
            [
             1,
             "#f0f921"
            ]
           ]
          },
          "colorway": [
           "#636efa",
           "#EF553B",
           "#00cc96",
           "#ab63fa",
           "#FFA15A",
           "#19d3f3",
           "#FF6692",
           "#B6E880",
           "#FF97FF",
           "#FECB52"
          ],
          "font": {
           "color": "#2a3f5f"
          },
          "geo": {
           "bgcolor": "white",
           "lakecolor": "white",
           "landcolor": "#E5ECF6",
           "showlakes": true,
           "showland": true,
           "subunitcolor": "white"
          },
          "hoverlabel": {
           "align": "left"
          },
          "hovermode": "closest",
          "mapbox": {
           "style": "light"
          },
          "paper_bgcolor": "white",
          "plot_bgcolor": "#E5ECF6",
          "polar": {
           "angularaxis": {
            "gridcolor": "white",
            "linecolor": "white",
            "ticks": ""
           },
           "bgcolor": "#E5ECF6",
           "radialaxis": {
            "gridcolor": "white",
            "linecolor": "white",
            "ticks": ""
           }
          },
          "scene": {
           "xaxis": {
            "backgroundcolor": "#E5ECF6",
            "gridcolor": "white",
            "gridwidth": 2,
            "linecolor": "white",
            "showbackground": true,
            "ticks": "",
            "zerolinecolor": "white"
           },
           "yaxis": {
            "backgroundcolor": "#E5ECF6",
            "gridcolor": "white",
            "gridwidth": 2,
            "linecolor": "white",
            "showbackground": true,
            "ticks": "",
            "zerolinecolor": "white"
           },
           "zaxis": {
            "backgroundcolor": "#E5ECF6",
            "gridcolor": "white",
            "gridwidth": 2,
            "linecolor": "white",
            "showbackground": true,
            "ticks": "",
            "zerolinecolor": "white"
           }
          },
          "shapedefaults": {
           "line": {
            "color": "#2a3f5f"
           }
          },
          "ternary": {
           "aaxis": {
            "gridcolor": "white",
            "linecolor": "white",
            "ticks": ""
           },
           "baxis": {
            "gridcolor": "white",
            "linecolor": "white",
            "ticks": ""
           },
           "bgcolor": "#E5ECF6",
           "caxis": {
            "gridcolor": "white",
            "linecolor": "white",
            "ticks": ""
           }
          },
          "title": {
           "x": 0.05
          },
          "xaxis": {
           "automargin": true,
           "gridcolor": "white",
           "linecolor": "white",
           "ticks": "",
           "title": {
            "standoff": 15
           },
           "zerolinecolor": "white",
           "zerolinewidth": 2
          },
          "yaxis": {
           "automargin": true,
           "gridcolor": "white",
           "linecolor": "white",
           "ticks": "",
           "title": {
            "standoff": 15
           },
           "zerolinecolor": "white",
           "zerolinewidth": 2
          }
         }
        },
        "title": {
         "text": "MM Mid Price Over Time"
        },
        "xaxis": {
         "anchor": "y",
         "domain": [
          0,
          1
         ],
         "title": {
          "text": "Timestamp"
         }
        },
        "yaxis": {
         "anchor": "x",
         "domain": [
          0,
          1
         ],
         "title": {
          "text": "MM Mid Price"
         }
        }
       }
      }
     },
     "metadata": {},
     "output_type": "display_data"
    }
   ],
   "source": [
    "# Create the plot using Plotly Express\n",
    "fig = px.line(starfruit_data, x='timestamp', y='mm_mid', title='MM Mid Price Over Time')\n",
    "\n",
    "# Customize the layout\n",
    "fig.update_layout(\n",
    "    xaxis_title='Timestamp',\n",
    "    yaxis_title='MM Mid Price',\n",
    ")\n",
    "\n",
    "# Display the plot\n",
    "fig.show()"
   ]
  },
  {
   "cell_type": "code",
   "execution_count": null,
   "id": "0c290735",
   "metadata": {},
   "outputs": [
    {
     "name": "stdout",
     "output_type": "stream",
     "text": [
      "Data Info:\n",
      "Number of rows: 1000\n",
      "Timestamp range: 0 to 99900\n",
      "Columns: ['day', 'timestamp', 'product', 'bid_price_1', 'bid_volume_1', 'bid_price_2', 'bid_volume_2', 'bid_price_3', 'bid_volume_3', 'ask_price_1', 'ask_volume_1', 'ask_price_2', 'ask_volume_2', 'ask_price_3', 'ask_volume_3', 'mid_price', 'profit_and_loss', 'mm_mid']\n",
      "\n",
      "Timestamps array shape: (1000,)\n",
      "Timestamps dtype: int64\n"
     ]
    },
    {
     "data": {
      "image/png": "[encoded data removed]",
      "text/plain": [
       "<Figure size 1200x600 with 1 Axes>"
      ]
     },
     "metadata": {},
     "output_type": "display_data"
    }
   ],
   "source": [
    "import pandas as pd\n",
    "import matplotlib.pyplot as plt\n",
    "from matplotlib.widgets import Button, Slider\n",
    "import numpy as np\n",
    "\n",
    "# Read the data\n",
    "day = 1\n",
    "market_data = starfruit_data\n",
    "\n",
    "def filter_by_timestamp(data, start_time, end_time):\n",
    "    return data[(data['timestamp'] >= start_time) & (data['timestamp'] <= end_time)]\n",
    "\n",
    "# Initial timestamp range (you can change these values)\n",
    "start_time = 0\n",
    "end_time = 10000  # Adjust this based on your data's timestamp range\n",
    "\n",
    "# Filter data for the specified timestamp range\n",
    "filtered_data = filter_by_timestamp(market_data, start_time, end_time)\n",
    "\n",
    "# Filter for KELP data\n",
    "kelp_data = filtered_data[filtered_data['product'] == 'SQUID_INK'].copy()\n",
    "\n",
    "\n",
    "# Print data info for debugging\n",
    "print(\"Data Info:\")\n",
    "print(f\"Number of rows: {len(kelp_data)}\")\n",
    "print(f\"Timestamp range: {kelp_data['timestamp'].min()} to {kelp_data['timestamp'].max()}\")\n",
    "print(f\"Columns: {kelp_data.columns.tolist()}\")\n",
    "\n",
    "# Create the plot\n",
    "fig, ax = plt.subplots(figsize=(12, 6))\n",
    "plt.subplots_adjust(bottom=0.25)  # Make room for the sliders\n",
    "\n",
    "# Convert timestamps to numpy array\n",
    "timestamps = np.array(kelp_data['timestamp'])\n",
    "print(f\"\\nTimestamps array shape: {timestamps.shape}\")\n",
    "print(f\"Timestamps dtype: {timestamps.dtype}\")\n",
    "\n",
    "# Plot bid prices\n",
    "bid1_line, = ax.plot(timestamps, kelp_data['bid_price_1'], label='Bid Price 1', color='blue')\n",
    "bid2_line, = ax.plot(timestamps, kelp_data['bid_price_2'], label='Bid Price 2', color='lightblue')\n",
    "bid3_line, = ax.plot(timestamps, kelp_data['bid_price_3'], label='Bid Price 3', color='cyan')\n",
    "\n",
    "# Plot ask prices\n",
    "ask1_line, = ax.plot(timestamps, kelp_data['ask_price_1'], label='Ask Price 1', color='red')\n",
    "ask2_line, = ax.plot(timestamps, kelp_data['ask_price_2'], label='Ask Price 2', color='pink')\n",
    "ask3_line, = ax.plot(timestamps, kelp_data['ask_price_3'], label='Ask Price 3', color='salmon')\n",
    "mm_mid_line, = ax.plot(timestamps, kelp_data['mm_mid'], label='MM Mid Price', color='black')\n",
    "\n",
    "# Add labels and title\n",
    "plt.xlabel('Timestamp')\n",
    "plt.ylabel('Price')\n",
    "plt.title('KELP Bid and Ask Prices')\n",
    "plt.legend()\n",
    "plt.grid(True)\n",
    "\n",
    "# Show the plot\n",
    "plt.show() "
   ]
  },
  {
   "cell_type": "code",
   "execution_count": 52,
   "id": "de7a72b9",
   "metadata": {
    "ExecuteTime": {
     "end_time": "2024-04-10T21:45:00.223265Z",
     "start_time": "2024-04-10T21:45:00.217318Z"
    }
   },
   "outputs": [],
   "source": [
    "starfruit_fair_prices = starfruit_data[['timestamp', 'mm_mid']]"
   ]
  },
  {
   "cell_type": "code",
   "execution_count": 53,
   "id": "9d18ee34",
   "metadata": {
    "ExecuteTime": {
     "end_time": "2024-04-10T21:45:00.754902Z",
     "start_time": "2024-04-10T21:45:00.749295Z"
    }
   },
   "outputs": [],
   "source": [
    "starfruit_fair_prices = starfruit_fair_prices.rename(columns={'mm_mid': 'fair'})"
   ]
  },
  {
   "cell_type": "code",
   "execution_count": 54,
   "id": "bb1ddc5e",
   "metadata": {
    "ExecuteTime": {
     "end_time": "2024-04-10T21:45:01.036185Z",
     "start_time": "2024-04-10T21:45:01.021015Z"
    }
   },
   "outputs": [
    {
     "data": {
      "text/html": [
       "<div>\n",
       "<style scoped>\n",
       "    .dataframe tbody tr th:only-of-type {\n",
       "        vertical-align: middle;\n",
       "    }\n",
       "\n",
       "    .dataframe tbody tr th {\n",
       "        vertical-align: top;\n",
       "    }\n",
       "\n",
       "    .dataframe thead th {\n",
       "        text-align: right;\n",
       "    }\n",
       "</style>\n",
       "<table border=\"1\" class=\"dataframe\">\n",
       "  <thead>\n",
       "    <tr style=\"text-align: right;\">\n",
       "      <th></th>\n",
       "      <th>timestamp</th>\n",
       "      <th>fair</th>\n",
       "    </tr>\n",
       "  </thead>\n",
       "  <tbody>\n",
       "    <tr>\n",
       "      <th>0</th>\n",
       "      <td>0</td>\n",
       "      <td>1836.0</td>\n",
       "    </tr>\n",
       "    <tr>\n",
       "      <th>1</th>\n",
       "      <td>100</td>\n",
       "      <td>1838.0</td>\n",
       "    </tr>\n",
       "    <tr>\n",
       "      <th>2</th>\n",
       "      <td>200</td>\n",
       "      <td>1833.5</td>\n",
       "    </tr>\n",
       "    <tr>\n",
       "      <th>3</th>\n",
       "      <td>300</td>\n",
       "      <td>1836.5</td>\n",
       "    </tr>\n",
       "    <tr>\n",
       "      <th>4</th>\n",
       "      <td>400</td>\n",
       "      <td>1834.5</td>\n",
       "    </tr>\n",
       "    <tr>\n",
       "      <th>...</th>\n",
       "      <td>...</td>\n",
       "      <td>...</td>\n",
       "    </tr>\n",
       "    <tr>\n",
       "      <th>995</th>\n",
       "      <td>99500</td>\n",
       "      <td>1816.0</td>\n",
       "    </tr>\n",
       "    <tr>\n",
       "      <th>996</th>\n",
       "      <td>99600</td>\n",
       "      <td>1816.5</td>\n",
       "    </tr>\n",
       "    <tr>\n",
       "      <th>997</th>\n",
       "      <td>99700</td>\n",
       "      <td>1815.0</td>\n",
       "    </tr>\n",
       "    <tr>\n",
       "      <th>998</th>\n",
       "      <td>99800</td>\n",
       "      <td>1815.5</td>\n",
       "    </tr>\n",
       "    <tr>\n",
       "      <th>999</th>\n",
       "      <td>99900</td>\n",
       "      <td>1817.5</td>\n",
       "    </tr>\n",
       "  </tbody>\n",
       "</table>\n",
       "<p>1000 rows × 2 columns</p>\n",
       "</div>"
      ],
      "text/plain": [
       "     timestamp    fair\n",
       "0            0  1836.0\n",
       "1          100  1838.0\n",
       "2          200  1833.5\n",
       "3          300  1836.5\n",
       "4          400  1834.5\n",
       "..         ...     ...\n",
       "995      99500  1816.0\n",
       "996      99600  1816.5\n",
       "997      99700  1815.0\n",
       "998      99800  1815.5\n",
       "999      99900  1817.5\n",
       "\n",
       "[1000 rows x 2 columns]"
      ]
     },
     "execution_count": 54,
     "metadata": {},
     "output_type": "execute_result"
    }
   ],
   "source": [
    "starfruit_fair_prices"
   ]
  },
  {
   "cell_type": "code",
   "execution_count": 55,
   "id": "bb67f672",
   "metadata": {},
   "outputs": [
    {
     "name": "stdout",
     "output_type": "stream",
     "text": [
      "0.000999434599528864\n"
     ]
    }
   ],
   "source": [
    "starfruit_fair_prices['returns'] = (starfruit_fair_prices['fair'].shift(-1) - starfruit_fair_prices['fair'])/starfruit_fair_prices['fair']\n",
    "print(starfruit_fair_prices['returns'].rolling(50).std().mean())"
   ]
  },
  {
   "cell_type": "code",
   "execution_count": 57,
   "id": "6f8bd207",
   "metadata": {
    "ExecuteTime": {
     "end_time": "2024-04-10T21:45:01.276711Z",
     "start_time": "2024-04-10T21:45:01.272417Z"
    }
   },
   "outputs": [],
   "source": [
    "iteration_counts = [1,2,5,10,50, 100, 500,] # we lose too much data with 1000 "
   ]
  },
  {
   "cell_type": "code",
   "execution_count": 58,
   "id": "ea816e88",
   "metadata": {
    "ExecuteTime": {
     "end_time": "2024-04-10T21:45:01.777780Z",
     "start_time": "2024-04-10T21:45:01.764221Z"
    }
   },
   "outputs": [],
   "source": [
    "for iterations in iteration_counts:\n",
    "    starfruit_fair_prices[f\"fair_in_{iterations}_its\"] = starfruit_fair_prices['fair'].shift(-iterations)\n",
    "    starfruit_fair_prices[f\"fair_{iterations}_its_ago\"] = starfruit_fair_prices['fair'].shift(iterations)"
   ]
  },
  {
   "cell_type": "code",
   "execution_count": 78,
   "id": "b7023934",
   "metadata": {
    "ExecuteTime": {
     "end_time": "2024-04-10T21:45:02.146790Z",
     "start_time": "2024-04-10T21:45:02.110863Z"
    }
   },
   "outputs": [
    {
     "data": {
      "text/html": [
       "<div>\n",
       "<style scoped>\n",
       "    .dataframe tbody tr th:only-of-type {\n",
       "        vertical-align: middle;\n",
       "    }\n",
       "\n",
       "    .dataframe tbody tr th {\n",
       "        vertical-align: top;\n",
       "    }\n",
       "\n",
       "    .dataframe thead th {\n",
       "        text-align: right;\n",
       "    }\n",
       "</style>\n",
       "<table border=\"1\" class=\"dataframe\">\n",
       "  <thead>\n",
       "    <tr style=\"text-align: right;\">\n",
       "      <th></th>\n",
       "      <th>timestamp</th>\n",
       "      <th>fair</th>\n",
       "      <th>returns</th>\n",
       "      <th>fair_in_1_its</th>\n",
       "      <th>fair_1_its_ago</th>\n",
       "      <th>fair_in_2_its</th>\n",
       "      <th>fair_2_its_ago</th>\n",
       "      <th>fair_in_5_its</th>\n",
       "      <th>fair_5_its_ago</th>\n",
       "      <th>fair_in_10_its</th>\n",
       "      <th>...</th>\n",
       "      <th>returns_in_5_its</th>\n",
       "      <th>returns_from_5_its_ago</th>\n",
       "      <th>returns_in_10_its</th>\n",
       "      <th>returns_from_10_its_ago</th>\n",
       "      <th>returns_in_50_its</th>\n",
       "      <th>returns_from_50_its_ago</th>\n",
       "      <th>returns_in_100_its</th>\n",
       "      <th>returns_from_100_its_ago</th>\n",
       "      <th>returns_in_500_its</th>\n",
       "      <th>returns_from_500_its_ago</th>\n",
       "    </tr>\n",
       "  </thead>\n",
       "  <tbody>\n",
       "    <tr>\n",
       "      <th>0</th>\n",
       "      <td>0</td>\n",
       "      <td>1836.0</td>\n",
       "      <td>0.001089</td>\n",
       "      <td>1838.0</td>\n",
       "      <td>NaN</td>\n",
       "      <td>1833.5</td>\n",
       "      <td>NaN</td>\n",
       "      <td>1835.0</td>\n",
       "      <td>NaN</td>\n",
       "      <td>1842.5</td>\n",
       "      <td>...</td>\n",
       "      <td>-0.000545</td>\n",
       "      <td>NaN</td>\n",
       "      <td>0.003540</td>\n",
       "      <td>NaN</td>\n",
       "      <td>0.013889</td>\n",
       "      <td>NaN</td>\n",
       "      <td>0.011710</td>\n",
       "      <td>NaN</td>\n",
       "      <td>-0.002179</td>\n",
       "      <td>NaN</td>\n",
       "    </tr>\n",
       "    <tr>\n",
       "      <th>1</th>\n",
       "      <td>100</td>\n",
       "      <td>1838.0</td>\n",
       "      <td>-0.002448</td>\n",
       "      <td>1833.5</td>\n",
       "      <td>1836.0</td>\n",
       "      <td>1836.5</td>\n",
       "      <td>NaN</td>\n",
       "      <td>1834.5</td>\n",
       "      <td>NaN</td>\n",
       "      <td>1841.5</td>\n",
       "      <td>...</td>\n",
       "      <td>-0.001904</td>\n",
       "      <td>NaN</td>\n",
       "      <td>0.001904</td>\n",
       "      <td>NaN</td>\n",
       "      <td>0.012242</td>\n",
       "      <td>NaN</td>\n",
       "      <td>0.010881</td>\n",
       "      <td>NaN</td>\n",
       "      <td>-0.002448</td>\n",
       "      <td>NaN</td>\n",
       "    </tr>\n",
       "    <tr>\n",
       "      <th>2</th>\n",
       "      <td>200</td>\n",
       "      <td>1833.5</td>\n",
       "      <td>0.001636</td>\n",
       "      <td>1836.5</td>\n",
       "      <td>1838.0</td>\n",
       "      <td>1834.5</td>\n",
       "      <td>1836.0</td>\n",
       "      <td>1835.5</td>\n",
       "      <td>NaN</td>\n",
       "      <td>1840.5</td>\n",
       "      <td>...</td>\n",
       "      <td>0.001091</td>\n",
       "      <td>NaN</td>\n",
       "      <td>0.003818</td>\n",
       "      <td>NaN</td>\n",
       "      <td>0.014453</td>\n",
       "      <td>NaN</td>\n",
       "      <td>0.013635</td>\n",
       "      <td>NaN</td>\n",
       "      <td>0.000000</td>\n",
       "      <td>NaN</td>\n",
       "    </tr>\n",
       "    <tr>\n",
       "      <th>3</th>\n",
       "      <td>300</td>\n",
       "      <td>1836.5</td>\n",
       "      <td>-0.001089</td>\n",
       "      <td>1834.5</td>\n",
       "      <td>1833.5</td>\n",
       "      <td>1835.0</td>\n",
       "      <td>1838.0</td>\n",
       "      <td>1836.5</td>\n",
       "      <td>NaN</td>\n",
       "      <td>1841.5</td>\n",
       "      <td>...</td>\n",
       "      <td>0.000000</td>\n",
       "      <td>NaN</td>\n",
       "      <td>0.002723</td>\n",
       "      <td>NaN</td>\n",
       "      <td>0.011979</td>\n",
       "      <td>NaN</td>\n",
       "      <td>0.012524</td>\n",
       "      <td>NaN</td>\n",
       "      <td>-0.002178</td>\n",
       "      <td>NaN</td>\n",
       "    </tr>\n",
       "    <tr>\n",
       "      <th>4</th>\n",
       "      <td>400</td>\n",
       "      <td>1834.5</td>\n",
       "      <td>0.000273</td>\n",
       "      <td>1835.0</td>\n",
       "      <td>1836.5</td>\n",
       "      <td>1834.5</td>\n",
       "      <td>1833.5</td>\n",
       "      <td>1841.5</td>\n",
       "      <td>NaN</td>\n",
       "      <td>1841.5</td>\n",
       "      <td>...</td>\n",
       "      <td>0.003816</td>\n",
       "      <td>NaN</td>\n",
       "      <td>0.003816</td>\n",
       "      <td>NaN</td>\n",
       "      <td>0.013083</td>\n",
       "      <td>NaN</td>\n",
       "      <td>0.012537</td>\n",
       "      <td>NaN</td>\n",
       "      <td>-0.001090</td>\n",
       "      <td>NaN</td>\n",
       "    </tr>\n",
       "    <tr>\n",
       "      <th>...</th>\n",
       "      <td>...</td>\n",
       "      <td>...</td>\n",
       "      <td>...</td>\n",
       "      <td>...</td>\n",
       "      <td>...</td>\n",
       "      <td>...</td>\n",
       "      <td>...</td>\n",
       "      <td>...</td>\n",
       "      <td>...</td>\n",
       "      <td>...</td>\n",
       "      <td>...</td>\n",
       "      <td>...</td>\n",
       "      <td>...</td>\n",
       "      <td>...</td>\n",
       "      <td>...</td>\n",
       "      <td>...</td>\n",
       "      <td>...</td>\n",
       "      <td>...</td>\n",
       "      <td>...</td>\n",
       "      <td>...</td>\n",
       "      <td>...</td>\n",
       "    </tr>\n",
       "    <tr>\n",
       "      <th>995</th>\n",
       "      <td>99500</td>\n",
       "      <td>1816.0</td>\n",
       "      <td>0.000275</td>\n",
       "      <td>1816.5</td>\n",
       "      <td>1814.5</td>\n",
       "      <td>1815.0</td>\n",
       "      <td>1815.0</td>\n",
       "      <td>NaN</td>\n",
       "      <td>1810.5</td>\n",
       "      <td>NaN</td>\n",
       "      <td>...</td>\n",
       "      <td>NaN</td>\n",
       "      <td>0.003038</td>\n",
       "      <td>NaN</td>\n",
       "      <td>-0.000825</td>\n",
       "      <td>NaN</td>\n",
       "      <td>0.001379</td>\n",
       "      <td>NaN</td>\n",
       "      <td>0.004703</td>\n",
       "      <td>NaN</td>\n",
       "      <td>-0.010084</td>\n",
       "    </tr>\n",
       "    <tr>\n",
       "      <th>996</th>\n",
       "      <td>99600</td>\n",
       "      <td>1816.5</td>\n",
       "      <td>-0.000826</td>\n",
       "      <td>1815.0</td>\n",
       "      <td>1816.0</td>\n",
       "      <td>1815.5</td>\n",
       "      <td>1814.5</td>\n",
       "      <td>NaN</td>\n",
       "      <td>1812.5</td>\n",
       "      <td>NaN</td>\n",
       "      <td>...</td>\n",
       "      <td>NaN</td>\n",
       "      <td>0.002207</td>\n",
       "      <td>NaN</td>\n",
       "      <td>0.000551</td>\n",
       "      <td>NaN</td>\n",
       "      <td>0.001378</td>\n",
       "      <td>NaN</td>\n",
       "      <td>0.006092</td>\n",
       "      <td>NaN</td>\n",
       "      <td>-0.008190</td>\n",
       "    </tr>\n",
       "    <tr>\n",
       "      <th>997</th>\n",
       "      <td>99700</td>\n",
       "      <td>1815.0</td>\n",
       "      <td>0.000275</td>\n",
       "      <td>1815.5</td>\n",
       "      <td>1816.5</td>\n",
       "      <td>1817.5</td>\n",
       "      <td>1816.0</td>\n",
       "      <td>NaN</td>\n",
       "      <td>1812.5</td>\n",
       "      <td>NaN</td>\n",
       "      <td>...</td>\n",
       "      <td>NaN</td>\n",
       "      <td>0.001379</td>\n",
       "      <td>NaN</td>\n",
       "      <td>0.000276</td>\n",
       "      <td>NaN</td>\n",
       "      <td>-0.002747</td>\n",
       "      <td>NaN</td>\n",
       "      <td>0.004149</td>\n",
       "      <td>NaN</td>\n",
       "      <td>-0.009550</td>\n",
       "    </tr>\n",
       "    <tr>\n",
       "      <th>998</th>\n",
       "      <td>99800</td>\n",
       "      <td>1815.5</td>\n",
       "      <td>0.001102</td>\n",
       "      <td>1817.5</td>\n",
       "      <td>1815.0</td>\n",
       "      <td>NaN</td>\n",
       "      <td>1816.5</td>\n",
       "      <td>NaN</td>\n",
       "      <td>1815.0</td>\n",
       "      <td>NaN</td>\n",
       "      <td>...</td>\n",
       "      <td>NaN</td>\n",
       "      <td>0.000275</td>\n",
       "      <td>NaN</td>\n",
       "      <td>0.001103</td>\n",
       "      <td>NaN</td>\n",
       "      <td>-0.000551</td>\n",
       "      <td>NaN</td>\n",
       "      <td>0.004982</td>\n",
       "      <td>NaN</td>\n",
       "      <td>-0.009817</td>\n",
       "    </tr>\n",
       "    <tr>\n",
       "      <th>999</th>\n",
       "      <td>99900</td>\n",
       "      <td>1817.5</td>\n",
       "      <td>NaN</td>\n",
       "      <td>NaN</td>\n",
       "      <td>1815.5</td>\n",
       "      <td>NaN</td>\n",
       "      <td>1815.0</td>\n",
       "      <td>NaN</td>\n",
       "      <td>1814.5</td>\n",
       "      <td>NaN</td>\n",
       "      <td>...</td>\n",
       "      <td>NaN</td>\n",
       "      <td>0.001653</td>\n",
       "      <td>NaN</td>\n",
       "      <td>0.001653</td>\n",
       "      <td>NaN</td>\n",
       "      <td>-0.001099</td>\n",
       "      <td>NaN</td>\n",
       "      <td>0.005533</td>\n",
       "      <td>NaN</td>\n",
       "      <td>-0.008997</td>\n",
       "    </tr>\n",
       "  </tbody>\n",
       "</table>\n",
       "<p>1000 rows × 31 columns</p>\n",
       "</div>"
      ],
      "text/plain": [
       "     timestamp    fair   returns  fair_in_1_its  fair_1_its_ago  \\\n",
       "0            0  1836.0  0.001089         1838.0             NaN   \n",
       "1          100  1838.0 -0.002448         1833.5          1836.0   \n",
       "2          200  1833.5  0.001636         1836.5          1838.0   \n",
       "3          300  1836.5 -0.001089         1834.5          1833.5   \n",
       "4          400  1834.5  0.000273         1835.0          1836.5   \n",
       "..         ...     ...       ...            ...             ...   \n",
       "995      99500  1816.0  0.000275         1816.5          1814.5   \n",
       "996      99600  1816.5 -0.000826         1815.0          1816.0   \n",
       "997      99700  1815.0  0.000275         1815.5          1816.5   \n",
       "998      99800  1815.5  0.001102         1817.5          1815.0   \n",
       "999      99900  1817.5       NaN            NaN          1815.5   \n",
       "\n",
       "     fair_in_2_its  fair_2_its_ago  fair_in_5_its  fair_5_its_ago  \\\n",
       "0           1833.5             NaN         1835.0             NaN   \n",
       "1           1836.5             NaN         1834.5             NaN   \n",
       "2           1834.5          1836.0         1835.5             NaN   \n",
       "3           1835.0          1838.0         1836.5             NaN   \n",
       "4           1834.5          1833.5         1841.5             NaN   \n",
       "..             ...             ...            ...             ...   \n",
       "995         1815.0          1815.0            NaN          1810.5   \n",
       "996         1815.5          1814.5            NaN          1812.5   \n",
       "997         1817.5          1816.0            NaN          1812.5   \n",
       "998            NaN          1816.5            NaN          1815.0   \n",
       "999            NaN          1815.0            NaN          1814.5   \n",
       "\n",
       "     fair_in_10_its  ...  returns_in_5_its  returns_from_5_its_ago  \\\n",
       "0            1842.5  ...         -0.000545                     NaN   \n",
       "1            1841.5  ...         -0.001904                     NaN   \n",
       "2            1840.5  ...          0.001091                     NaN   \n",
       "3            1841.5  ...          0.000000                     NaN   \n",
       "4            1841.5  ...          0.003816                     NaN   \n",
       "..              ...  ...               ...                     ...   \n",
       "995             NaN  ...               NaN                0.003038   \n",
       "996             NaN  ...               NaN                0.002207   \n",
       "997             NaN  ...               NaN                0.001379   \n",
       "998             NaN  ...               NaN                0.000275   \n",
       "999             NaN  ...               NaN                0.001653   \n",
       "\n",
       "     returns_in_10_its  returns_from_10_its_ago  returns_in_50_its  \\\n",
       "0             0.003540                      NaN           0.013889   \n",
       "1             0.001904                      NaN           0.012242   \n",
       "2             0.003818                      NaN           0.014453   \n",
       "3             0.002723                      NaN           0.011979   \n",
       "4             0.003816                      NaN           0.013083   \n",
       "..                 ...                      ...                ...   \n",
       "995                NaN                -0.000825                NaN   \n",
       "996                NaN                 0.000551                NaN   \n",
       "997                NaN                 0.000276                NaN   \n",
       "998                NaN                 0.001103                NaN   \n",
       "999                NaN                 0.001653                NaN   \n",
       "\n",
       "     returns_from_50_its_ago  returns_in_100_its  returns_from_100_its_ago  \\\n",
       "0                        NaN            0.011710                       NaN   \n",
       "1                        NaN            0.010881                       NaN   \n",
       "2                        NaN            0.013635                       NaN   \n",
       "3                        NaN            0.012524                       NaN   \n",
       "4                        NaN            0.012537                       NaN   \n",
       "..                       ...                 ...                       ...   \n",
       "995                 0.001379                 NaN                  0.004703   \n",
       "996                 0.001378                 NaN                  0.006092   \n",
       "997                -0.002747                 NaN                  0.004149   \n",
       "998                -0.000551                 NaN                  0.004982   \n",
       "999                -0.001099                 NaN                  0.005533   \n",
       "\n",
       "     returns_in_500_its  returns_from_500_its_ago  \n",
       "0             -0.002179                       NaN  \n",
       "1             -0.002448                       NaN  \n",
       "2              0.000000                       NaN  \n",
       "3             -0.002178                       NaN  \n",
       "4             -0.001090                       NaN  \n",
       "..                  ...                       ...  \n",
       "995                 NaN                 -0.010084  \n",
       "996                 NaN                 -0.008190  \n",
       "997                 NaN                 -0.009550  \n",
       "998                 NaN                 -0.009817  \n",
       "999                 NaN                 -0.008997  \n",
       "\n",
       "[1000 rows x 31 columns]"
      ]
     },
     "execution_count": 78,
     "metadata": {},
     "output_type": "execute_result"
    }
   ],
   "source": [
    "starfruit_fair_prices"
   ]
  },
  {
   "cell_type": "code",
   "execution_count": 69,
   "id": "3b67ed20",
   "metadata": {
    "ExecuteTime": {
     "end_time": "2024-04-10T21:45:02.652819Z",
     "start_time": "2024-04-10T21:45:02.634216Z"
    }
   },
   "outputs": [],
   "source": [
    "for iterations in iteration_counts:\n",
    "    starfruit_fair_prices[f'returns_in_{iterations}_its'] = (starfruit_fair_prices[f'fair_in_{iterations}_its'] - starfruit_fair_prices['fair'])/starfruit_fair_prices['fair']\n",
    "    starfruit_fair_prices[f'returns_from_{iterations}_its_ago'] = (starfruit_fair_prices['fair'] - starfruit_fair_prices[f'fair_{iterations}_its_ago'])/starfruit_fair_prices[f'fair_{iterations}_its_ago']"
   ]
  },
  {
   "cell_type": "code",
   "execution_count": 70,
   "id": "67820ea7",
   "metadata": {
    "ExecuteTime": {
     "end_time": "2024-04-10T21:45:03.156744Z",
     "start_time": "2024-04-10T21:45:03.149558Z"
    },
    "scrolled": false
   },
   "outputs": [
    {
     "data": {
      "text/plain": [
       "Index(['timestamp', 'fair', 'returns', 'fair_in_1_its', 'fair_1_its_ago',\n",
       "       'fair_in_2_its', 'fair_2_its_ago', 'fair_in_5_its', 'fair_5_its_ago',\n",
       "       'fair_in_10_its', 'fair_10_its_ago', 'fair_in_50_its',\n",
       "       'fair_50_its_ago', 'fair_in_100_its', 'fair_100_its_ago',\n",
       "       'fair_in_500_its', 'fair_500_its_ago', 'returns_in_1_its',\n",
       "       'returns_from_1_its_ago', 'returns_in_2_its', 'returns_from_2_its_ago',\n",
       "       'returns_in_5_its', 'returns_from_5_its_ago', 'returns_in_10_its',\n",
       "       'returns_from_10_its_ago', 'returns_in_50_its',\n",
       "       'returns_from_50_its_ago', 'returns_in_100_its',\n",
       "       'returns_from_100_its_ago', 'returns_in_500_its',\n",
       "       'returns_from_500_its_ago'],\n",
       "      dtype='object')"
      ]
     },
     "execution_count": 70,
     "metadata": {},
     "output_type": "execute_result"
    }
   ],
   "source": [
    "starfruit_fair_prices.columns"
   ]
  },
  {
   "cell_type": "code",
   "execution_count": 71,
   "id": "df76823e",
   "metadata": {
    "ExecuteTime": {
     "end_time": "2024-04-10T21:45:03.613358Z",
     "start_time": "2024-04-10T21:45:03.604671Z"
    }
   },
   "outputs": [],
   "source": [
    "starfruit_returns = starfruit_fair_prices[['timestamp','fair','returns_in_1_its', 'returns_from_1_its_ago',\n",
    "       'returns_in_2_its', 'returns_from_2_its_ago', 'returns_in_5_its',\n",
    "       'returns_from_5_its_ago', 'returns_in_10_its',\n",
    "       'returns_from_10_its_ago', 'returns_in_50_its',\n",
    "       'returns_from_50_its_ago', 'returns_in_100_its',\n",
    "       'returns_from_100_its_ago', 'returns_in_500_its',\n",
    "       'returns_from_500_its_ago']]"
   ]
  },
  {
   "cell_type": "code",
   "execution_count": 73,
   "id": "9f62db81",
   "metadata": {},
   "outputs": [],
   "source": [
    "starfruit_returns= starfruit_returns.ffill()"
   ]
  },
  {
   "cell_type": "code",
   "execution_count": 74,
   "id": "7682b2ae",
   "metadata": {
    "ExecuteTime": {
     "end_time": "2024-04-10T21:45:04.007904Z",
     "start_time": "2024-04-10T21:45:03.997192Z"
    }
   },
   "outputs": [],
   "source": [
    "starfruit_returns= starfruit_returns.dropna()"
   ]
  },
  {
   "cell_type": "code",
   "execution_count": 75,
   "id": "d96a4472",
   "metadata": {
    "ExecuteTime": {
     "end_time": "2024-04-10T21:45:04.436470Z",
     "start_time": "2024-04-10T21:45:04.423695Z"
    }
   },
   "outputs": [
    {
     "data": {
      "text/plain": [
       "timestamp                   74950.000000\n",
       "fair                         1825.934000\n",
       "returns_in_1_its               -0.000013\n",
       "returns_from_1_its_ago         -0.000018\n",
       "returns_in_2_its               -0.000029\n",
       "returns_from_2_its_ago         -0.000037\n",
       "returns_in_5_its               -0.000073\n",
       "returns_from_5_its_ago         -0.000092\n",
       "returns_in_10_its              -0.000157\n",
       "returns_from_10_its_ago        -0.000216\n",
       "returns_in_50_its              -0.001191\n",
       "returns_from_50_its_ago        -0.001548\n",
       "returns_in_100_its             -0.001650\n",
       "returns_from_100_its_ago       -0.004008\n",
       "returns_in_500_its             -0.008997\n",
       "returns_from_500_its_ago       -0.012653\n",
       "dtype: float64"
      ]
     },
     "execution_count": 75,
     "metadata": {},
     "output_type": "execute_result"
    }
   ],
   "source": [
    "starfruit_returns.mean()"
   ]
  },
  {
   "cell_type": "code",
   "execution_count": 76,
   "id": "437c43a1",
   "metadata": {
    "ExecuteTime": {
     "end_time": "2024-04-10T21:45:04.996399Z",
     "start_time": "2024-04-10T21:45:04.933473Z"
    }
   },
   "outputs": [
    {
     "name": "stderr",
     "output_type": "stream",
     "text": [
      "100%|██████████| 7/7 [00:00<00:00, 171.39it/s]"
     ]
    },
    {
     "name": "stdout",
     "output_type": "stream",
     "text": [
      "Iteration Count: 1\n",
      "Learned Equation: returns_in_1_its = -0.1218 * returns_from_1_its_ago\n",
      "Train R-squared: 0.0152\n",
      "Train MSE: 0.0000\n",
      "Test R-squared: 0.0305\n",
      "Test MSE: 0.0000\n",
      "\n",
      "Iteration Count: 2\n",
      "Learned Equation: returns_in_2_its = -0.0610 * returns_from_2_its_ago\n",
      "Train R-squared: 0.0040\n",
      "Train MSE: 0.0000\n",
      "Test R-squared: -0.0181\n",
      "Test MSE: 0.0000\n",
      "\n",
      "Iteration Count: 5\n",
      "Learned Equation: returns_in_5_its = -0.0033 * returns_from_5_its_ago\n",
      "Train R-squared: -0.0002\n",
      "Train MSE: 0.0000\n",
      "Test R-squared: -0.0179\n",
      "Test MSE: 0.0000\n",
      "\n",
      "Iteration Count: 10\n",
      "Learned Equation: returns_in_10_its = -0.0964 * returns_from_10_its_ago\n",
      "Train R-squared: 0.0042\n",
      "Train MSE: 0.0000\n",
      "Test R-squared: 0.0744\n",
      "Test MSE: 0.0000\n",
      "\n",
      "Iteration Count: 50\n",
      "Learned Equation: returns_in_50_its = -0.0197 * returns_from_50_its_ago\n",
      "Train R-squared: -0.0644\n",
      "Train MSE: 0.0000\n",
      "Test R-squared: 0.0058\n",
      "Test MSE: 0.0000\n",
      "\n",
      "Iteration Count: 100\n",
      "Learned Equation: returns_in_100_its = -0.0539 * returns_from_100_its_ago\n",
      "Train R-squared: -0.0586\n",
      "Train MSE: 0.0001\n",
      "Test R-squared: 0.0019\n",
      "Test MSE: 0.0000\n",
      "\n",
      "Iteration Count: 500\n",
      "Learned Equation: returns_in_500_its = 0.4938 * returns_from_500_its_ago\n",
      "Train R-squared: -8438230726852146980429334839296.0000\n",
      "Train MSE: 0.0000\n",
      "Test R-squared: -7271204696056490337657832865792.0000\n",
      "Test MSE: 0.0000\n",
      "\n"
     ]
    },
    {
     "name": "stderr",
     "output_type": "stream",
     "text": [
      "\n"
     ]
    }
   ],
   "source": [
    "from sklearn.model_selection import train_test_split\n",
    "from sklearn.linear_model import LinearRegression\n",
    "from sklearn.metrics import r2_score, mean_squared_error\n",
    "from tqdm import tqdm\n",
    "\n",
    "# Perform train-test split\n",
    "train_data, test_data = train_test_split(starfruit_returns, test_size=0.2, random_state=42)\n",
    "\n",
    "# Iterate over each iteration count\n",
    "for iterations in tqdm(iteration_counts):\n",
    "    # Prepare the feature and target columns\n",
    "    X_train = train_data[f'returns_from_{iterations}_its_ago'].values.reshape(-1, 1)\n",
    "    y_train = train_data[f'returns_in_{iterations}_its']\n",
    "    X_test = test_data[f'returns_from_{iterations}_its_ago'].values.reshape(-1, 1)\n",
    "    y_test = test_data[f'returns_in_{iterations}_its']\n",
    "\n",
    "    # Create and train the linear regression model\n",
    "    model = LinearRegression(fit_intercept=False)\n",
    "    model.fit(X_train, y_train)\n",
    "\n",
    "    # Make predictions on train and test data\n",
    "    train_predictions = model.predict(X_train)\n",
    "    test_predictions = model.predict(X_test)\n",
    "\n",
    "    # Calculate R-squared and MSE for train and test data\n",
    "    train_r2 = r2_score(y_train, train_predictions)\n",
    "    train_mse = mean_squared_error(y_train, train_predictions)\n",
    "    test_r2 = r2_score(y_test, test_predictions)\n",
    "    test_mse = mean_squared_error(y_test, test_predictions)\n",
    "\n",
    "    # Print the results\n",
    "    print(f\"Iteration Count: {iterations}\")\n",
    "    print(f\"Learned Equation: returns_in_{iterations}_its = {model.coef_[0]:.4f} * returns_from_{iterations}_its_ago\")\n",
    "    print(f\"Train R-squared: {train_r2:.4f}\")\n",
    "    print(f\"Train MSE: {train_mse:.4f}\")\n",
    "    print(f\"Test R-squared: {test_r2:.4f}\")\n",
    "    print(f\"Test MSE: {test_mse:.4f}\")\n",
    "    print()"
   ]
  },
  {
   "cell_type": "code",
   "execution_count": 40,
   "id": "a062eeee",
   "metadata": {
    "ExecuteTime": {
     "end_time": "2024-04-10T21:15:36.688890Z",
     "start_time": "2024-04-10T21:13:51.644762Z"
    }
   },
   "outputs": [
    {
     "name": "stdout",
     "output_type": "stream",
     "text": [
      "Collecting scikit-learn\n",
      "  Downloading scikit_learn-1.6.1-cp310-cp310-win_amd64.whl.metadata (15 kB)\n",
      "Requirement already satisfied: numpy>=1.19.5 in c:\\users\\luong\\desktop\\imc_prosperity\\.venv\\lib\\site-packages (from scikit-learn) (1.24.3)\n",
      "Collecting scipy>=1.6.0 (from scikit-learn)\n",
      "  Downloading scipy-1.15.2-cp310-cp310-win_amd64.whl.metadata (60 kB)\n",
      "Collecting joblib>=1.2.0 (from scikit-learn)\n",
      "  Downloading joblib-1.4.2-py3-none-any.whl.metadata (5.4 kB)\n",
      "Collecting threadpoolctl>=3.1.0 (from scikit-learn)\n",
      "  Downloading threadpoolctl-3.6.0-py3-none-any.whl.metadata (13 kB)\n",
      "Downloading scikit_learn-1.6.1-cp310-cp310-win_amd64.whl (11.1 MB)\n",
      "   ---------------------------------------- 0.0/11.1 MB ? eta -:--:--\n",
      "   -------- ------------------------------- 2.4/11.1 MB 12.2 MB/s eta 0:00:01\n",
      "   --------------------- ------------------ 6.0/11.1 MB 14.7 MB/s eta 0:00:01\n",
      "   -------------------------------- ------- 8.9/11.1 MB 14.9 MB/s eta 0:00:01\n",
      "   ---------------------------------------- 11.1/11.1 MB 14.2 MB/s eta 0:00:00\n",
      "Downloading joblib-1.4.2-py3-none-any.whl (301 kB)\n",
      "Downloading scipy-1.15.2-cp310-cp310-win_amd64.whl (41.2 MB)\n",
      "   ---------------------------------------- 0.0/41.2 MB ? eta -:--:--\n",
      "   -- ------------------------------------- 2.1/41.2 MB 10.7 MB/s eta 0:00:04\n",
      "   ----- ---------------------------------- 5.8/41.2 MB 13.6 MB/s eta 0:00:03\n",
      "   --------- ------------------------------ 9.7/41.2 MB 15.5 MB/s eta 0:00:03\n",
      "   ----------- ---------------------------- 11.5/41.2 MB 13.6 MB/s eta 0:00:03\n",
      "   ------------- -------------------------- 13.9/41.2 MB 13.4 MB/s eta 0:00:03\n",
      "   ---------------- ----------------------- 17.3/41.2 MB 14.0 MB/s eta 0:00:02\n",
      "   ------------------- -------------------- 19.9/41.2 MB 13.7 MB/s eta 0:00:02\n",
      "   --------------------- ------------------ 22.3/41.2 MB 13.4 MB/s eta 0:00:02\n",
      "   ------------------------ --------------- 24.9/41.2 MB 13.3 MB/s eta 0:00:02\n",
      "   -------------------------- ------------- 27.5/41.2 MB 13.3 MB/s eta 0:00:02\n",
      "   ----------------------------- ---------- 30.4/41.2 MB 13.4 MB/s eta 0:00:01\n",
      "   ------------------------------- -------- 32.5/41.2 MB 13.1 MB/s eta 0:00:01\n",
      "   --------------------------------- ------ 34.9/41.2 MB 13.0 MB/s eta 0:00:01\n",
      "   ----------------------------------- ---- 37.0/41.2 MB 12.6 MB/s eta 0:00:01\n",
      "   ------------------------------------- -- 38.3/41.2 MB 12.3 MB/s eta 0:00:01\n",
      "   -------------------------------------- - 40.1/41.2 MB 12.0 MB/s eta 0:00:01\n",
      "   ---------------------------------------  41.2/41.2 MB 11.8 MB/s eta 0:00:01\n",
      "   ---------------------------------------- 41.2/41.2 MB 11.5 MB/s eta 0:00:00\n",
      "Downloading threadpoolctl-3.6.0-py3-none-any.whl (18 kB)\n",
      "Installing collected packages: threadpoolctl, scipy, joblib, scikit-learn\n",
      "Successfully installed joblib-1.4.2 scikit-learn-1.6.1 scipy-1.15.2 threadpoolctl-3.6.0\n"
     ]
    }
   ],
   "source": [
    "!pip install scikit-learn"
   ]
  },
  {
   "cell_type": "code",
   "execution_count": 123,
   "id": "67d6c28c",
   "metadata": {
    "ExecuteTime": {
     "end_time": "2024-04-10T21:30:04.395007Z",
     "start_time": "2024-04-10T21:30:04.381592Z"
    }
   },
   "outputs": [
    {
     "data": {
      "text/plain": [
       "0.0002"
      ]
     },
     "execution_count": 123,
     "metadata": {},
     "output_type": "execute_result"
    }
   ],
   "source": [
    "1/5000"
   ]
  },
  {
   "cell_type": "code",
   "execution_count": 124,
   "id": "0ece5ba0",
   "metadata": {
    "ExecuteTime": {
     "end_time": "2024-04-10T21:30:13.756308Z",
     "start_time": "2024-04-10T21:30:13.750539Z"
    }
   },
   "outputs": [
    {
     "data": {
      "text/plain": [
       "-4.442e-05"
      ]
     },
     "execution_count": 124,
     "metadata": {},
     "output_type": "execute_result"
    }
   ],
   "source": [
    "-0.2221*1/5000"
   ]
  },
  {
   "cell_type": "code",
   "execution_count": 125,
   "id": "d7ec3b72",
   "metadata": {
    "ExecuteTime": {
     "end_time": "2024-04-10T21:31:46.780077Z",
     "start_time": "2024-04-10T21:31:46.769135Z"
    }
   },
   "outputs": [
    {
     "data": {
      "text/plain": [
       "-0.2221"
      ]
     },
     "execution_count": 125,
     "metadata": {},
     "output_type": "execute_result"
    }
   ],
   "source": [
    "_ * 5000"
   ]
  },
  {
   "cell_type": "code",
   "execution_count": null,
   "id": "4e1ee308",
   "metadata": {},
   "outputs": [],
   "source": []
  }
 ],
 "metadata": {
  "kernelspec": {
   "display_name": ".venv",
   "language": "python",
   "name": "python3"
  },
  "language_info": {
   "codemirror_mode": {
    "name": "ipython",
    "version": 3
   },
   "file_extension": ".py",
   "mimetype": "text/x-python",
   "name": "python",
   "nbconvert_exporter": "python",
   "pygments_lexer": "ipython3",
   "version": "3.10.10"
  },
  "toc": {
   "base_numbering": 1,
   "nav_menu": {},
   "number_sections": true,
   "sideBar": true,
   "skip_h1_title": false,
   "title_cell": "Table of Contents",
   "title_sidebar": "Contents",
   "toc_cell": false,
   "toc_position": {},
   "toc_section_display": true,
   "toc_window_display": false
  }
 },
 "nbformat": 4,
 "nbformat_minor": 5
}
